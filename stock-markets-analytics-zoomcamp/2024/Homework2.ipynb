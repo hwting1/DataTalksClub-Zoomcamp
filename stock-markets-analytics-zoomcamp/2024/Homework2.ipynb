{
 "cells": [
  {
   "cell_type": "markdown",
   "id": "3f11d04a8b2b42b2",
   "metadata": {},
   "source": [
    "# Module 2 Homework\n",
    "\n",
    "In this homework, we're going to combine data from various sources to process it in Pandas and generate additional fields.\n",
    "\n",
    "If not stated otherwise, please use the [Colab](https://github.com/DataTalksClub/stock-markets-analytics-zoomcamp/blob/main/02-dataframe-analysis/Module2_Colab_Working_with_the_data.ipynb) covered at the livestream to re-use the code snippets."
   ]
  },
  {
   "cell_type": "code",
   "execution_count": 1,
   "id": "initial_id",
   "metadata": {
    "ExecuteTime": {
     "end_time": "2024-05-08T03:08:41.390267Z",
     "start_time": "2024-05-08T03:08:40.850224Z"
    }
   },
   "outputs": [],
   "source": [
    "import numpy as np\n",
    "import pandas as pd\n",
    "import requests\n",
    "import time, io\n",
    "import talib\n",
    "import yfinance as yf\n",
    "from datetime import date, datetime, timedelta"
   ]
  },
  {
   "cell_type": "markdown",
   "id": "2e647d8a226caf1c",
   "metadata": {},
   "source": [
    "## Question 1: IPO Filings Web Scraping and Data Processing\n",
    "\n",
    "**What's the total sum ($m) of 2023 filings that happened on Fridays?**\n",
    "\n",
    "Re-use the [Code Snippet 1] example to get the data from web for this endpoint: https://stockanalysis.com/ipos/filings/\n",
    "Convert the 'Filing Date' to datetime(), 'Shares Offered' to float64 (if '-' is encountered, populate with NaNs).\n",
    "Define a new field 'Avg_price' based on the \"Price Range\", which equals to NaN if no price is specified, to the price (if only one number is provided), or to the average of 2 prices (if a range is given).\n",
    "You may be inspired by the function `extract_numbers()` in [Code Snippet 4], or you can write your own function to \"parse\" a string.\n",
    "Define a column \"Shares_offered_value\", which equals to \"Shares Offered\" * \"Avg_price\" (when both columns are defined; otherwise, it's NaN)\n",
    "\n",
    "Find the total sum in $m (millions of USD, closest INTEGER number) for all filings during 2023, which happened on Fridays (`Date.dt.dayofweek()==4`). You should see 32 records in total, 25 of it is not null.\n",
    "\n",
    "(additional: you can read about [S-1 IPO filing](https://www.dfinsolutions.com/knowledge-hub/thought-leadership/knowledge-resources/what-s-1-ipo-filing) to understand the context)"
   ]
  },
  {
   "cell_type": "code",
   "execution_count": 2,
   "id": "32968c51620c5e16",
   "metadata": {
    "ExecuteTime": {
     "end_time": "2024-05-08T03:08:42.511302Z",
     "start_time": "2024-05-08T03:08:41.391287Z"
    }
   },
   "outputs": [],
   "source": [
    "headers = {\n",
    "    'User-Agent': 'Mozilla/5.0 (Windows NT 10.0; Win64; x64) AppleWebKit/537.36 (KHTML, like Gecko) Chrome/58.0.3029.110 Safari/537.3',\n",
    "}\n",
    "\n",
    "url = \"https://stockanalysis.com/ipos/filings/\"\n",
    "response = requests.get(url, headers=headers)\n",
    "response = io.StringIO(response.text)\n",
    "\n",
    "ipo_dfs = pd.read_html(response)"
   ]
  },
  {
   "cell_type": "code",
   "execution_count": 3,
   "id": "8a0ab62c2f6f382d",
   "metadata": {
    "ExecuteTime": {
     "end_time": "2024-05-08T03:08:42.538928Z",
     "start_time": "2024-05-08T03:08:42.512143Z"
    }
   },
   "outputs": [
    {
     "name": "stdout",
     "output_type": "stream",
     "text": [
      "<class 'pandas.core.frame.DataFrame'>\n",
      "RangeIndex: 325 entries, 0 to 324\n",
      "Data columns (total 5 columns):\n",
      " #   Column          Non-Null Count  Dtype         \n",
      "---  ------          --------------  -----         \n",
      " 0   Filing Date     325 non-null    datetime64[ns]\n",
      " 1   Symbol          325 non-null    object        \n",
      " 2   Company Name    325 non-null    object        \n",
      " 3   Price Range     325 non-null    object        \n",
      " 4   Shares Offered  252 non-null    float64       \n",
      "dtypes: datetime64[ns](1), float64(1), object(3)\n",
      "memory usage: 12.8+ KB\n"
     ]
    }
   ],
   "source": [
    "ipos_df= ipo_dfs[0]\n",
    "ipos_df[\"Filing Date\"] = pd.to_datetime(ipos_df[\"Filing Date\"], format=\"mixed\")\n",
    "ipos_df.loc[ipos_df[\"Shares Offered\"] == \"-\", \"Shares Offered\"] = np.nan\n",
    "ipos_df[\"Shares Offered\"] = ipos_df[\"Shares Offered\"].astype(\"float\")\n",
    "ipos_df.info()"
   ]
  },
  {
   "cell_type": "code",
   "execution_count": 4,
   "id": "8aa665a96bc0e0c0",
   "metadata": {
    "ExecuteTime": {
     "end_time": "2024-05-08T03:08:42.550711Z",
     "start_time": "2024-05-08T03:08:42.539972Z"
    }
   },
   "outputs": [
    {
     "data": {
      "text/html": [
       "<div>\n",
       "<style scoped>\n",
       "    .dataframe tbody tr th:only-of-type {\n",
       "        vertical-align: middle;\n",
       "    }\n",
       "\n",
       "    .dataframe tbody tr th {\n",
       "        vertical-align: top;\n",
       "    }\n",
       "\n",
       "    .dataframe thead th {\n",
       "        text-align: right;\n",
       "    }\n",
       "</style>\n",
       "<table border=\"1\" class=\"dataframe\">\n",
       "  <thead>\n",
       "    <tr style=\"text-align: right;\">\n",
       "      <th></th>\n",
       "      <th>Filing Date</th>\n",
       "      <th>Symbol</th>\n",
       "      <th>Company Name</th>\n",
       "      <th>Price Range</th>\n",
       "      <th>Shares Offered</th>\n",
       "      <th>weekday</th>\n",
       "    </tr>\n",
       "  </thead>\n",
       "  <tbody>\n",
       "    <tr>\n",
       "      <th>50</th>\n",
       "      <td>2023-12-29</td>\n",
       "      <td>LEC</td>\n",
       "      <td>Lafayette Energy Corp</td>\n",
       "      <td>$3.50 - $4.50</td>\n",
       "      <td>1200000.0</td>\n",
       "      <td>4</td>\n",
       "    </tr>\n",
       "    <tr>\n",
       "      <th>51</th>\n",
       "      <td>2023-12-29</td>\n",
       "      <td>EPSM</td>\n",
       "      <td>Epsium Enterprise Limited</td>\n",
       "      <td>-</td>\n",
       "      <td>NaN</td>\n",
       "      <td>4</td>\n",
       "    </tr>\n",
       "    <tr>\n",
       "      <th>52</th>\n",
       "      <td>2023-12-28</td>\n",
       "      <td>ONDR</td>\n",
       "      <td>Sushi Ginza Onodera, Inc.</td>\n",
       "      <td>$7.00 - $8.00</td>\n",
       "      <td>1066667.0</td>\n",
       "      <td>3</td>\n",
       "    </tr>\n",
       "    <tr>\n",
       "      <th>53</th>\n",
       "      <td>2023-12-27</td>\n",
       "      <td>JDZG</td>\n",
       "      <td>Jiade Limited</td>\n",
       "      <td>$4.00 - $5.00</td>\n",
       "      <td>2200000.0</td>\n",
       "      <td>2</td>\n",
       "    </tr>\n",
       "    <tr>\n",
       "      <th>54</th>\n",
       "      <td>2023-12-22</td>\n",
       "      <td>LZMH</td>\n",
       "      <td>LZ Technology Holdings Limited</td>\n",
       "      <td>-</td>\n",
       "      <td>NaN</td>\n",
       "      <td>4</td>\n",
       "    </tr>\n",
       "    <tr>\n",
       "      <th>...</th>\n",
       "      <td>...</td>\n",
       "      <td>...</td>\n",
       "      <td>...</td>\n",
       "      <td>...</td>\n",
       "      <td>...</td>\n",
       "      <td>...</td>\n",
       "    </tr>\n",
       "    <tr>\n",
       "      <th>162</th>\n",
       "      <td>2023-01-31</td>\n",
       "      <td>FBGL</td>\n",
       "      <td>FBS Global Limited</td>\n",
       "      <td>$4.00 - $5.00</td>\n",
       "      <td>1875000.0</td>\n",
       "      <td>1</td>\n",
       "    </tr>\n",
       "    <tr>\n",
       "      <th>163</th>\n",
       "      <td>2023-01-24</td>\n",
       "      <td>THNK</td>\n",
       "      <td>T1V, Inc.</td>\n",
       "      <td>$4.00 - $6.00</td>\n",
       "      <td>3300000.0</td>\n",
       "      <td>1</td>\n",
       "    </tr>\n",
       "    <tr>\n",
       "      <th>164</th>\n",
       "      <td>2023-01-23</td>\n",
       "      <td>RPET</td>\n",
       "      <td>New Ruipeng Pet Group Inc.</td>\n",
       "      <td>-</td>\n",
       "      <td>NaN</td>\n",
       "      <td>0</td>\n",
       "    </tr>\n",
       "    <tr>\n",
       "      <th>165</th>\n",
       "      <td>2023-01-13</td>\n",
       "      <td>RVGO</td>\n",
       "      <td>RVeloCITY, Inc.</td>\n",
       "      <td>$4.00 - $5.00</td>\n",
       "      <td>3750000.0</td>\n",
       "      <td>4</td>\n",
       "    </tr>\n",
       "    <tr>\n",
       "      <th>166</th>\n",
       "      <td>2023-01-10</td>\n",
       "      <td>FDAN</td>\n",
       "      <td>FD Technology Inc.</td>\n",
       "      <td>$4.00 - $6.00</td>\n",
       "      <td>3500000.0</td>\n",
       "      <td>1</td>\n",
       "    </tr>\n",
       "  </tbody>\n",
       "</table>\n",
       "<p>117 rows × 6 columns</p>\n",
       "</div>"
      ],
      "text/plain": [
       "    Filing Date Symbol                    Company Name    Price Range  \\\n",
       "50   2023-12-29    LEC           Lafayette Energy Corp  $3.50 - $4.50   \n",
       "51   2023-12-29   EPSM       Epsium Enterprise Limited              -   \n",
       "52   2023-12-28   ONDR       Sushi Ginza Onodera, Inc.  $7.00 - $8.00   \n",
       "53   2023-12-27   JDZG                   Jiade Limited  $4.00 - $5.00   \n",
       "54   2023-12-22   LZMH  LZ Technology Holdings Limited              -   \n",
       "..          ...    ...                             ...            ...   \n",
       "162  2023-01-31   FBGL              FBS Global Limited  $4.00 - $5.00   \n",
       "163  2023-01-24   THNK                       T1V, Inc.  $4.00 - $6.00   \n",
       "164  2023-01-23   RPET      New Ruipeng Pet Group Inc.              -   \n",
       "165  2023-01-13   RVGO                 RVeloCITY, Inc.  $4.00 - $5.00   \n",
       "166  2023-01-10   FDAN              FD Technology Inc.  $4.00 - $6.00   \n",
       "\n",
       "     Shares Offered  weekday  \n",
       "50        1200000.0        4  \n",
       "51              NaN        4  \n",
       "52        1066667.0        3  \n",
       "53        2200000.0        2  \n",
       "54              NaN        4  \n",
       "..              ...      ...  \n",
       "162       1875000.0        1  \n",
       "163       3300000.0        1  \n",
       "164             NaN        0  \n",
       "165       3750000.0        4  \n",
       "166       3500000.0        1  \n",
       "\n",
       "[117 rows x 6 columns]"
      ]
     },
     "execution_count": 4,
     "metadata": {},
     "output_type": "execute_result"
    }
   ],
   "source": [
    "ipos_2023 = ipos_df[ipos_df[\"Filing Date\"].dt.year == 2023].copy()\n",
    "ipos_2023[\"weekday\"] = ipos_2023[\"Filing Date\"].dt.weekday\n",
    "ipos_2023"
   ]
  },
  {
   "cell_type": "code",
   "execution_count": 5,
   "id": "dae11c8348a59121",
   "metadata": {
    "ExecuteTime": {
     "end_time": "2024-05-08T03:08:42.569866Z",
     "start_time": "2024-05-08T03:08:42.552322Z"
    }
   },
   "outputs": [
    {
     "data": {
      "text/html": [
       "<div>\n",
       "<style scoped>\n",
       "    .dataframe tbody tr th:only-of-type {\n",
       "        vertical-align: middle;\n",
       "    }\n",
       "\n",
       "    .dataframe tbody tr th {\n",
       "        vertical-align: top;\n",
       "    }\n",
       "\n",
       "    .dataframe thead th {\n",
       "        text-align: right;\n",
       "    }\n",
       "</style>\n",
       "<table border=\"1\" class=\"dataframe\">\n",
       "  <thead>\n",
       "    <tr style=\"text-align: right;\">\n",
       "      <th></th>\n",
       "      <th>Filing Date</th>\n",
       "      <th>Symbol</th>\n",
       "      <th>Company Name</th>\n",
       "      <th>Price Range</th>\n",
       "      <th>Shares Offered</th>\n",
       "      <th>weekday</th>\n",
       "    </tr>\n",
       "  </thead>\n",
       "  <tbody>\n",
       "    <tr>\n",
       "      <th>50</th>\n",
       "      <td>2023-12-29</td>\n",
       "      <td>LEC</td>\n",
       "      <td>Lafayette Energy Corp</td>\n",
       "      <td>$3.50 - $4.50</td>\n",
       "      <td>1200000.0</td>\n",
       "      <td>4</td>\n",
       "    </tr>\n",
       "    <tr>\n",
       "      <th>51</th>\n",
       "      <td>2023-12-29</td>\n",
       "      <td>EPSM</td>\n",
       "      <td>Epsium Enterprise Limited</td>\n",
       "      <td>-</td>\n",
       "      <td>NaN</td>\n",
       "      <td>4</td>\n",
       "    </tr>\n",
       "    <tr>\n",
       "      <th>54</th>\n",
       "      <td>2023-12-22</td>\n",
       "      <td>LZMH</td>\n",
       "      <td>LZ Technology Holdings Limited</td>\n",
       "      <td>-</td>\n",
       "      <td>NaN</td>\n",
       "      <td>4</td>\n",
       "    </tr>\n",
       "    <tr>\n",
       "      <th>55</th>\n",
       "      <td>2023-12-22</td>\n",
       "      <td>CHLW</td>\n",
       "      <td>Chun Hui Le Wan International Holding Group Ltd</td>\n",
       "      <td>-</td>\n",
       "      <td>NaN</td>\n",
       "      <td>4</td>\n",
       "    </tr>\n",
       "    <tr>\n",
       "      <th>60</th>\n",
       "      <td>2023-12-15</td>\n",
       "      <td>GIT</td>\n",
       "      <td>Going International Holding Company Limited</td>\n",
       "      <td>-</td>\n",
       "      <td>NaN</td>\n",
       "      <td>4</td>\n",
       "    </tr>\n",
       "    <tr>\n",
       "      <th>62</th>\n",
       "      <td>2023-12-08</td>\n",
       "      <td>ENGS</td>\n",
       "      <td>Energys Group Limited</td>\n",
       "      <td>$4.00 - $6.00</td>\n",
       "      <td>2000000.0</td>\n",
       "      <td>4</td>\n",
       "    </tr>\n",
       "    <tr>\n",
       "      <th>63</th>\n",
       "      <td>2023-12-08</td>\n",
       "      <td>LNKS</td>\n",
       "      <td>Linkers Industries Limited</td>\n",
       "      <td>$4.00 - $6.00</td>\n",
       "      <td>2200000.0</td>\n",
       "      <td>4</td>\n",
       "    </tr>\n",
       "    <tr>\n",
       "      <th>82</th>\n",
       "      <td>2023-10-27</td>\n",
       "      <td>RAY</td>\n",
       "      <td>Raytech Holding Limited</td>\n",
       "      <td>$4.00 - $5.00</td>\n",
       "      <td>1500000.0</td>\n",
       "      <td>4</td>\n",
       "    </tr>\n",
       "    <tr>\n",
       "      <th>89</th>\n",
       "      <td>2023-10-13</td>\n",
       "      <td>ORIS</td>\n",
       "      <td>Oriental Rise Holdings Limited</td>\n",
       "      <td>$4.00</td>\n",
       "      <td>2000000.0</td>\n",
       "      <td>4</td>\n",
       "    </tr>\n",
       "    <tr>\n",
       "      <th>92</th>\n",
       "      <td>2023-10-06</td>\n",
       "      <td>QMMM</td>\n",
       "      <td>QMMM Holdings Limited</td>\n",
       "      <td>$4.00</td>\n",
       "      <td>2125000.0</td>\n",
       "      <td>4</td>\n",
       "    </tr>\n",
       "    <tr>\n",
       "      <th>96</th>\n",
       "      <td>2023-09-29</td>\n",
       "      <td>KAPA</td>\n",
       "      <td>Kairos Pharma, Ltd.</td>\n",
       "      <td>$4.00</td>\n",
       "      <td>1550000.0</td>\n",
       "      <td>4</td>\n",
       "    </tr>\n",
       "    <tr>\n",
       "      <th>97</th>\n",
       "      <td>2023-09-29</td>\n",
       "      <td>VAPA</td>\n",
       "      <td>Valens Pay Global Limited</td>\n",
       "      <td>$5.00 - $6.00</td>\n",
       "      <td>1000000.0</td>\n",
       "      <td>4</td>\n",
       "    </tr>\n",
       "    <tr>\n",
       "      <th>103</th>\n",
       "      <td>2023-09-15</td>\n",
       "      <td>ACSB</td>\n",
       "      <td>Acesis Holdings Corporation</td>\n",
       "      <td>$4.00 - $6.00</td>\n",
       "      <td>1300000.0</td>\n",
       "      <td>4</td>\n",
       "    </tr>\n",
       "    <tr>\n",
       "      <th>109</th>\n",
       "      <td>2023-08-11</td>\n",
       "      <td>ZXTY</td>\n",
       "      <td>Zhongxing Holding Group Ltd</td>\n",
       "      <td>-</td>\n",
       "      <td>NaN</td>\n",
       "      <td>4</td>\n",
       "    </tr>\n",
       "    <tr>\n",
       "      <th>113</th>\n",
       "      <td>2023-08-04</td>\n",
       "      <td>JZL</td>\n",
       "      <td>Jizhilong Holding Group Ltd.</td>\n",
       "      <td>-</td>\n",
       "      <td>NaN</td>\n",
       "      <td>4</td>\n",
       "    </tr>\n",
       "    <tr>\n",
       "      <th>121</th>\n",
       "      <td>2023-07-07</td>\n",
       "      <td>AZI</td>\n",
       "      <td>Autozi Internet Technology (Global) Ltd.</td>\n",
       "      <td>$4.00 - $5.00</td>\n",
       "      <td>1250000.0</td>\n",
       "      <td>4</td>\n",
       "    </tr>\n",
       "    <tr>\n",
       "      <th>124</th>\n",
       "      <td>2023-06-30</td>\n",
       "      <td>SUBL</td>\n",
       "      <td>BioLingus (Cayman) Limited</td>\n",
       "      <td>$20.00</td>\n",
       "      <td>360000.0</td>\n",
       "      <td>4</td>\n",
       "    </tr>\n",
       "    <tr>\n",
       "      <th>125</th>\n",
       "      <td>2023-06-30</td>\n",
       "      <td>RLND</td>\n",
       "      <td>The RoyaLand Company Ltd.</td>\n",
       "      <td>$5.00 - $6.00</td>\n",
       "      <td>1250000.0</td>\n",
       "      <td>4</td>\n",
       "    </tr>\n",
       "    <tr>\n",
       "      <th>126</th>\n",
       "      <td>2023-06-23</td>\n",
       "      <td>MSW</td>\n",
       "      <td>Ming Shing Group Holdings Limited</td>\n",
       "      <td>$5.00 - $8.00</td>\n",
       "      <td>1500000.0</td>\n",
       "      <td>4</td>\n",
       "    </tr>\n",
       "    <tr>\n",
       "      <th>129</th>\n",
       "      <td>2023-06-09</td>\n",
       "      <td>MDRN</td>\n",
       "      <td>Modern Mining Technology Corp.</td>\n",
       "      <td>$4.50 - $5.50</td>\n",
       "      <td>2000000.0</td>\n",
       "      <td>4</td>\n",
       "    </tr>\n",
       "    <tr>\n",
       "      <th>134</th>\n",
       "      <td>2023-04-28</td>\n",
       "      <td>MJID</td>\n",
       "      <td>Majestic Ideal Holdings Ltd</td>\n",
       "      <td>$4.00 - $5.00</td>\n",
       "      <td>2500000.0</td>\n",
       "      <td>4</td>\n",
       "    </tr>\n",
       "    <tr>\n",
       "      <th>137</th>\n",
       "      <td>2023-04-21</td>\n",
       "      <td>XJET</td>\n",
       "      <td>XJet Ltd.</td>\n",
       "      <td>$4.00</td>\n",
       "      <td>1600000.0</td>\n",
       "      <td>4</td>\n",
       "    </tr>\n",
       "    <tr>\n",
       "      <th>138</th>\n",
       "      <td>2023-04-21</td>\n",
       "      <td>JPO</td>\n",
       "      <td>JP Outfitters, Inc.</td>\n",
       "      <td>$4.00</td>\n",
       "      <td>2400000.0</td>\n",
       "      <td>4</td>\n",
       "    </tr>\n",
       "    <tr>\n",
       "      <th>139</th>\n",
       "      <td>2023-03-31</td>\n",
       "      <td>SUNH</td>\n",
       "      <td>Xuhang Holdings Limited</td>\n",
       "      <td>$4.00 - $5.00</td>\n",
       "      <td>2750000.0</td>\n",
       "      <td>4</td>\n",
       "    </tr>\n",
       "    <tr>\n",
       "      <th>140</th>\n",
       "      <td>2023-03-31</td>\n",
       "      <td>OSTX</td>\n",
       "      <td>OS Therapies Incorporated</td>\n",
       "      <td>$5.00</td>\n",
       "      <td>2000000.0</td>\n",
       "      <td>4</td>\n",
       "    </tr>\n",
       "    <tr>\n",
       "      <th>141</th>\n",
       "      <td>2023-03-31</td>\n",
       "      <td>GFCX</td>\n",
       "      <td>GoodFaith Technology Inc.</td>\n",
       "      <td>$4.00 - $6.00</td>\n",
       "      <td>3000000.0</td>\n",
       "      <td>4</td>\n",
       "    </tr>\n",
       "    <tr>\n",
       "      <th>143</th>\n",
       "      <td>2023-03-24</td>\n",
       "      <td>USEE</td>\n",
       "      <td>USEE Electronic Commerce Ltd</td>\n",
       "      <td>-</td>\n",
       "      <td>NaN</td>\n",
       "      <td>4</td>\n",
       "    </tr>\n",
       "    <tr>\n",
       "      <th>149</th>\n",
       "      <td>2023-02-24</td>\n",
       "      <td>NTV</td>\n",
       "      <td>NeoTV Group Limited</td>\n",
       "      <td>$6.00 - $6.50</td>\n",
       "      <td>6800000.0</td>\n",
       "      <td>4</td>\n",
       "    </tr>\n",
       "    <tr>\n",
       "      <th>150</th>\n",
       "      <td>2023-02-24</td>\n",
       "      <td>BSME</td>\n",
       "      <td>MED EIBY Holding Co., Limited</td>\n",
       "      <td>$4.00 - $6.00</td>\n",
       "      <td>4000000.0</td>\n",
       "      <td>4</td>\n",
       "    </tr>\n",
       "    <tr>\n",
       "      <th>156</th>\n",
       "      <td>2023-02-10</td>\n",
       "      <td>WETO</td>\n",
       "      <td>Webus International Limited</td>\n",
       "      <td>$4.00 - $6.00</td>\n",
       "      <td>4000000.0</td>\n",
       "      <td>4</td>\n",
       "    </tr>\n",
       "    <tr>\n",
       "      <th>157</th>\n",
       "      <td>2023-02-10</td>\n",
       "      <td>HXHX</td>\n",
       "      <td>Haoxin Holdings Limited</td>\n",
       "      <td>$4.00 - $6.00</td>\n",
       "      <td>3000000.0</td>\n",
       "      <td>4</td>\n",
       "    </tr>\n",
       "    <tr>\n",
       "      <th>165</th>\n",
       "      <td>2023-01-13</td>\n",
       "      <td>RVGO</td>\n",
       "      <td>RVeloCITY, Inc.</td>\n",
       "      <td>$4.00 - $5.00</td>\n",
       "      <td>3750000.0</td>\n",
       "      <td>4</td>\n",
       "    </tr>\n",
       "  </tbody>\n",
       "</table>\n",
       "</div>"
      ],
      "text/plain": [
       "    Filing Date Symbol                                     Company Name  \\\n",
       "50   2023-12-29    LEC                            Lafayette Energy Corp   \n",
       "51   2023-12-29   EPSM                        Epsium Enterprise Limited   \n",
       "54   2023-12-22   LZMH                   LZ Technology Holdings Limited   \n",
       "55   2023-12-22   CHLW  Chun Hui Le Wan International Holding Group Ltd   \n",
       "60   2023-12-15    GIT      Going International Holding Company Limited   \n",
       "62   2023-12-08   ENGS                            Energys Group Limited   \n",
       "63   2023-12-08   LNKS                       Linkers Industries Limited   \n",
       "82   2023-10-27    RAY                          Raytech Holding Limited   \n",
       "89   2023-10-13   ORIS                   Oriental Rise Holdings Limited   \n",
       "92   2023-10-06   QMMM                            QMMM Holdings Limited   \n",
       "96   2023-09-29   KAPA                              Kairos Pharma, Ltd.   \n",
       "97   2023-09-29   VAPA                        Valens Pay Global Limited   \n",
       "103  2023-09-15   ACSB                      Acesis Holdings Corporation   \n",
       "109  2023-08-11   ZXTY                      Zhongxing Holding Group Ltd   \n",
       "113  2023-08-04    JZL                     Jizhilong Holding Group Ltd.   \n",
       "121  2023-07-07    AZI         Autozi Internet Technology (Global) Ltd.   \n",
       "124  2023-06-30   SUBL                       BioLingus (Cayman) Limited   \n",
       "125  2023-06-30   RLND                        The RoyaLand Company Ltd.   \n",
       "126  2023-06-23    MSW                Ming Shing Group Holdings Limited   \n",
       "129  2023-06-09   MDRN                   Modern Mining Technology Corp.   \n",
       "134  2023-04-28   MJID                      Majestic Ideal Holdings Ltd   \n",
       "137  2023-04-21   XJET                                        XJet Ltd.   \n",
       "138  2023-04-21    JPO                              JP Outfitters, Inc.   \n",
       "139  2023-03-31   SUNH                          Xuhang Holdings Limited   \n",
       "140  2023-03-31   OSTX                        OS Therapies Incorporated   \n",
       "141  2023-03-31   GFCX                        GoodFaith Technology Inc.   \n",
       "143  2023-03-24   USEE                     USEE Electronic Commerce Ltd   \n",
       "149  2023-02-24    NTV                              NeoTV Group Limited   \n",
       "150  2023-02-24   BSME                    MED EIBY Holding Co., Limited   \n",
       "156  2023-02-10   WETO                      Webus International Limited   \n",
       "157  2023-02-10   HXHX                          Haoxin Holdings Limited   \n",
       "165  2023-01-13   RVGO                                  RVeloCITY, Inc.   \n",
       "\n",
       "       Price Range  Shares Offered  weekday  \n",
       "50   $3.50 - $4.50       1200000.0        4  \n",
       "51               -             NaN        4  \n",
       "54               -             NaN        4  \n",
       "55               -             NaN        4  \n",
       "60               -             NaN        4  \n",
       "62   $4.00 - $6.00       2000000.0        4  \n",
       "63   $4.00 - $6.00       2200000.0        4  \n",
       "82   $4.00 - $5.00       1500000.0        4  \n",
       "89           $4.00       2000000.0        4  \n",
       "92           $4.00       2125000.0        4  \n",
       "96           $4.00       1550000.0        4  \n",
       "97   $5.00 - $6.00       1000000.0        4  \n",
       "103  $4.00 - $6.00       1300000.0        4  \n",
       "109              -             NaN        4  \n",
       "113              -             NaN        4  \n",
       "121  $4.00 - $5.00       1250000.0        4  \n",
       "124         $20.00        360000.0        4  \n",
       "125  $5.00 - $6.00       1250000.0        4  \n",
       "126  $5.00 - $8.00       1500000.0        4  \n",
       "129  $4.50 - $5.50       2000000.0        4  \n",
       "134  $4.00 - $5.00       2500000.0        4  \n",
       "137          $4.00       1600000.0        4  \n",
       "138          $4.00       2400000.0        4  \n",
       "139  $4.00 - $5.00       2750000.0        4  \n",
       "140          $5.00       2000000.0        4  \n",
       "141  $4.00 - $6.00       3000000.0        4  \n",
       "143              -             NaN        4  \n",
       "149  $6.00 - $6.50       6800000.0        4  \n",
       "150  $4.00 - $6.00       4000000.0        4  \n",
       "156  $4.00 - $6.00       4000000.0        4  \n",
       "157  $4.00 - $6.00       3000000.0        4  \n",
       "165  $4.00 - $5.00       3750000.0        4  "
      ]
     },
     "execution_count": 5,
     "metadata": {},
     "output_type": "execute_result"
    }
   ],
   "source": [
    "ipos_2023_friday = ipos_2023[ipos_2023[\"weekday\"] == 4].copy()\n",
    "ipos_2023_friday"
   ]
  },
  {
   "cell_type": "code",
   "execution_count": 6,
   "id": "802b8392b305274d",
   "metadata": {
    "ExecuteTime": {
     "end_time": "2024-05-08T03:08:42.593944Z",
     "start_time": "2024-05-08T03:08:42.570888Z"
    }
   },
   "outputs": [
    {
     "data": {
      "text/html": [
       "<div>\n",
       "<style scoped>\n",
       "    .dataframe tbody tr th:only-of-type {\n",
       "        vertical-align: middle;\n",
       "    }\n",
       "\n",
       "    .dataframe tbody tr th {\n",
       "        vertical-align: top;\n",
       "    }\n",
       "\n",
       "    .dataframe thead th {\n",
       "        text-align: right;\n",
       "    }\n",
       "</style>\n",
       "<table border=\"1\" class=\"dataframe\">\n",
       "  <thead>\n",
       "    <tr style=\"text-align: right;\">\n",
       "      <th></th>\n",
       "      <th>Filing Date</th>\n",
       "      <th>Symbol</th>\n",
       "      <th>Company Name</th>\n",
       "      <th>Price Range</th>\n",
       "      <th>Shares Offered</th>\n",
       "      <th>weekday</th>\n",
       "      <th>Avg_price</th>\n",
       "      <th>Shares_offered_value</th>\n",
       "    </tr>\n",
       "  </thead>\n",
       "  <tbody>\n",
       "    <tr>\n",
       "      <th>50</th>\n",
       "      <td>2023-12-29</td>\n",
       "      <td>LEC</td>\n",
       "      <td>Lafayette Energy Corp</td>\n",
       "      <td>$3.50 - $4.50</td>\n",
       "      <td>1200000.0</td>\n",
       "      <td>4</td>\n",
       "      <td>4.00</td>\n",
       "      <td>4800000.0</td>\n",
       "    </tr>\n",
       "    <tr>\n",
       "      <th>51</th>\n",
       "      <td>2023-12-29</td>\n",
       "      <td>EPSM</td>\n",
       "      <td>Epsium Enterprise Limited</td>\n",
       "      <td>-</td>\n",
       "      <td>NaN</td>\n",
       "      <td>4</td>\n",
       "      <td>NaN</td>\n",
       "      <td>NaN</td>\n",
       "    </tr>\n",
       "    <tr>\n",
       "      <th>54</th>\n",
       "      <td>2023-12-22</td>\n",
       "      <td>LZMH</td>\n",
       "      <td>LZ Technology Holdings Limited</td>\n",
       "      <td>-</td>\n",
       "      <td>NaN</td>\n",
       "      <td>4</td>\n",
       "      <td>NaN</td>\n",
       "      <td>NaN</td>\n",
       "    </tr>\n",
       "    <tr>\n",
       "      <th>55</th>\n",
       "      <td>2023-12-22</td>\n",
       "      <td>CHLW</td>\n",
       "      <td>Chun Hui Le Wan International Holding Group Ltd</td>\n",
       "      <td>-</td>\n",
       "      <td>NaN</td>\n",
       "      <td>4</td>\n",
       "      <td>NaN</td>\n",
       "      <td>NaN</td>\n",
       "    </tr>\n",
       "    <tr>\n",
       "      <th>60</th>\n",
       "      <td>2023-12-15</td>\n",
       "      <td>GIT</td>\n",
       "      <td>Going International Holding Company Limited</td>\n",
       "      <td>-</td>\n",
       "      <td>NaN</td>\n",
       "      <td>4</td>\n",
       "      <td>NaN</td>\n",
       "      <td>NaN</td>\n",
       "    </tr>\n",
       "    <tr>\n",
       "      <th>62</th>\n",
       "      <td>2023-12-08</td>\n",
       "      <td>ENGS</td>\n",
       "      <td>Energys Group Limited</td>\n",
       "      <td>$4.00 - $6.00</td>\n",
       "      <td>2000000.0</td>\n",
       "      <td>4</td>\n",
       "      <td>5.00</td>\n",
       "      <td>10000000.0</td>\n",
       "    </tr>\n",
       "    <tr>\n",
       "      <th>63</th>\n",
       "      <td>2023-12-08</td>\n",
       "      <td>LNKS</td>\n",
       "      <td>Linkers Industries Limited</td>\n",
       "      <td>$4.00 - $6.00</td>\n",
       "      <td>2200000.0</td>\n",
       "      <td>4</td>\n",
       "      <td>5.00</td>\n",
       "      <td>11000000.0</td>\n",
       "    </tr>\n",
       "    <tr>\n",
       "      <th>82</th>\n",
       "      <td>2023-10-27</td>\n",
       "      <td>RAY</td>\n",
       "      <td>Raytech Holding Limited</td>\n",
       "      <td>$4.00 - $5.00</td>\n",
       "      <td>1500000.0</td>\n",
       "      <td>4</td>\n",
       "      <td>4.50</td>\n",
       "      <td>6750000.0</td>\n",
       "    </tr>\n",
       "    <tr>\n",
       "      <th>89</th>\n",
       "      <td>2023-10-13</td>\n",
       "      <td>ORIS</td>\n",
       "      <td>Oriental Rise Holdings Limited</td>\n",
       "      <td>$4.00</td>\n",
       "      <td>2000000.0</td>\n",
       "      <td>4</td>\n",
       "      <td>4.00</td>\n",
       "      <td>8000000.0</td>\n",
       "    </tr>\n",
       "    <tr>\n",
       "      <th>92</th>\n",
       "      <td>2023-10-06</td>\n",
       "      <td>QMMM</td>\n",
       "      <td>QMMM Holdings Limited</td>\n",
       "      <td>$4.00</td>\n",
       "      <td>2125000.0</td>\n",
       "      <td>4</td>\n",
       "      <td>4.00</td>\n",
       "      <td>8500000.0</td>\n",
       "    </tr>\n",
       "    <tr>\n",
       "      <th>96</th>\n",
       "      <td>2023-09-29</td>\n",
       "      <td>KAPA</td>\n",
       "      <td>Kairos Pharma, Ltd.</td>\n",
       "      <td>$4.00</td>\n",
       "      <td>1550000.0</td>\n",
       "      <td>4</td>\n",
       "      <td>4.00</td>\n",
       "      <td>6200000.0</td>\n",
       "    </tr>\n",
       "    <tr>\n",
       "      <th>97</th>\n",
       "      <td>2023-09-29</td>\n",
       "      <td>VAPA</td>\n",
       "      <td>Valens Pay Global Limited</td>\n",
       "      <td>$5.00 - $6.00</td>\n",
       "      <td>1000000.0</td>\n",
       "      <td>4</td>\n",
       "      <td>5.50</td>\n",
       "      <td>5500000.0</td>\n",
       "    </tr>\n",
       "    <tr>\n",
       "      <th>103</th>\n",
       "      <td>2023-09-15</td>\n",
       "      <td>ACSB</td>\n",
       "      <td>Acesis Holdings Corporation</td>\n",
       "      <td>$4.00 - $6.00</td>\n",
       "      <td>1300000.0</td>\n",
       "      <td>4</td>\n",
       "      <td>5.00</td>\n",
       "      <td>6500000.0</td>\n",
       "    </tr>\n",
       "    <tr>\n",
       "      <th>109</th>\n",
       "      <td>2023-08-11</td>\n",
       "      <td>ZXTY</td>\n",
       "      <td>Zhongxing Holding Group Ltd</td>\n",
       "      <td>-</td>\n",
       "      <td>NaN</td>\n",
       "      <td>4</td>\n",
       "      <td>NaN</td>\n",
       "      <td>NaN</td>\n",
       "    </tr>\n",
       "    <tr>\n",
       "      <th>113</th>\n",
       "      <td>2023-08-04</td>\n",
       "      <td>JZL</td>\n",
       "      <td>Jizhilong Holding Group Ltd.</td>\n",
       "      <td>-</td>\n",
       "      <td>NaN</td>\n",
       "      <td>4</td>\n",
       "      <td>NaN</td>\n",
       "      <td>NaN</td>\n",
       "    </tr>\n",
       "    <tr>\n",
       "      <th>121</th>\n",
       "      <td>2023-07-07</td>\n",
       "      <td>AZI</td>\n",
       "      <td>Autozi Internet Technology (Global) Ltd.</td>\n",
       "      <td>$4.00 - $5.00</td>\n",
       "      <td>1250000.0</td>\n",
       "      <td>4</td>\n",
       "      <td>4.50</td>\n",
       "      <td>5625000.0</td>\n",
       "    </tr>\n",
       "    <tr>\n",
       "      <th>124</th>\n",
       "      <td>2023-06-30</td>\n",
       "      <td>SUBL</td>\n",
       "      <td>BioLingus (Cayman) Limited</td>\n",
       "      <td>$20.00</td>\n",
       "      <td>360000.0</td>\n",
       "      <td>4</td>\n",
       "      <td>20.00</td>\n",
       "      <td>7200000.0</td>\n",
       "    </tr>\n",
       "    <tr>\n",
       "      <th>125</th>\n",
       "      <td>2023-06-30</td>\n",
       "      <td>RLND</td>\n",
       "      <td>The RoyaLand Company Ltd.</td>\n",
       "      <td>$5.00 - $6.00</td>\n",
       "      <td>1250000.0</td>\n",
       "      <td>4</td>\n",
       "      <td>5.50</td>\n",
       "      <td>6875000.0</td>\n",
       "    </tr>\n",
       "    <tr>\n",
       "      <th>126</th>\n",
       "      <td>2023-06-23</td>\n",
       "      <td>MSW</td>\n",
       "      <td>Ming Shing Group Holdings Limited</td>\n",
       "      <td>$5.00 - $8.00</td>\n",
       "      <td>1500000.0</td>\n",
       "      <td>4</td>\n",
       "      <td>6.50</td>\n",
       "      <td>9750000.0</td>\n",
       "    </tr>\n",
       "    <tr>\n",
       "      <th>129</th>\n",
       "      <td>2023-06-09</td>\n",
       "      <td>MDRN</td>\n",
       "      <td>Modern Mining Technology Corp.</td>\n",
       "      <td>$4.50 - $5.50</td>\n",
       "      <td>2000000.0</td>\n",
       "      <td>4</td>\n",
       "      <td>5.00</td>\n",
       "      <td>10000000.0</td>\n",
       "    </tr>\n",
       "    <tr>\n",
       "      <th>134</th>\n",
       "      <td>2023-04-28</td>\n",
       "      <td>MJID</td>\n",
       "      <td>Majestic Ideal Holdings Ltd</td>\n",
       "      <td>$4.00 - $5.00</td>\n",
       "      <td>2500000.0</td>\n",
       "      <td>4</td>\n",
       "      <td>4.50</td>\n",
       "      <td>11250000.0</td>\n",
       "    </tr>\n",
       "    <tr>\n",
       "      <th>137</th>\n",
       "      <td>2023-04-21</td>\n",
       "      <td>XJET</td>\n",
       "      <td>XJet Ltd.</td>\n",
       "      <td>$4.00</td>\n",
       "      <td>1600000.0</td>\n",
       "      <td>4</td>\n",
       "      <td>4.00</td>\n",
       "      <td>6400000.0</td>\n",
       "    </tr>\n",
       "    <tr>\n",
       "      <th>138</th>\n",
       "      <td>2023-04-21</td>\n",
       "      <td>JPO</td>\n",
       "      <td>JP Outfitters, Inc.</td>\n",
       "      <td>$4.00</td>\n",
       "      <td>2400000.0</td>\n",
       "      <td>4</td>\n",
       "      <td>4.00</td>\n",
       "      <td>9600000.0</td>\n",
       "    </tr>\n",
       "    <tr>\n",
       "      <th>139</th>\n",
       "      <td>2023-03-31</td>\n",
       "      <td>SUNH</td>\n",
       "      <td>Xuhang Holdings Limited</td>\n",
       "      <td>$4.00 - $5.00</td>\n",
       "      <td>2750000.0</td>\n",
       "      <td>4</td>\n",
       "      <td>4.50</td>\n",
       "      <td>12375000.0</td>\n",
       "    </tr>\n",
       "    <tr>\n",
       "      <th>140</th>\n",
       "      <td>2023-03-31</td>\n",
       "      <td>OSTX</td>\n",
       "      <td>OS Therapies Incorporated</td>\n",
       "      <td>$5.00</td>\n",
       "      <td>2000000.0</td>\n",
       "      <td>4</td>\n",
       "      <td>5.00</td>\n",
       "      <td>10000000.0</td>\n",
       "    </tr>\n",
       "    <tr>\n",
       "      <th>141</th>\n",
       "      <td>2023-03-31</td>\n",
       "      <td>GFCX</td>\n",
       "      <td>GoodFaith Technology Inc.</td>\n",
       "      <td>$4.00 - $6.00</td>\n",
       "      <td>3000000.0</td>\n",
       "      <td>4</td>\n",
       "      <td>5.00</td>\n",
       "      <td>15000000.0</td>\n",
       "    </tr>\n",
       "    <tr>\n",
       "      <th>143</th>\n",
       "      <td>2023-03-24</td>\n",
       "      <td>USEE</td>\n",
       "      <td>USEE Electronic Commerce Ltd</td>\n",
       "      <td>-</td>\n",
       "      <td>NaN</td>\n",
       "      <td>4</td>\n",
       "      <td>NaN</td>\n",
       "      <td>NaN</td>\n",
       "    </tr>\n",
       "    <tr>\n",
       "      <th>149</th>\n",
       "      <td>2023-02-24</td>\n",
       "      <td>NTV</td>\n",
       "      <td>NeoTV Group Limited</td>\n",
       "      <td>$6.00 - $6.50</td>\n",
       "      <td>6800000.0</td>\n",
       "      <td>4</td>\n",
       "      <td>6.25</td>\n",
       "      <td>42500000.0</td>\n",
       "    </tr>\n",
       "    <tr>\n",
       "      <th>150</th>\n",
       "      <td>2023-02-24</td>\n",
       "      <td>BSME</td>\n",
       "      <td>MED EIBY Holding Co., Limited</td>\n",
       "      <td>$4.00 - $6.00</td>\n",
       "      <td>4000000.0</td>\n",
       "      <td>4</td>\n",
       "      <td>5.00</td>\n",
       "      <td>20000000.0</td>\n",
       "    </tr>\n",
       "    <tr>\n",
       "      <th>156</th>\n",
       "      <td>2023-02-10</td>\n",
       "      <td>WETO</td>\n",
       "      <td>Webus International Limited</td>\n",
       "      <td>$4.00 - $6.00</td>\n",
       "      <td>4000000.0</td>\n",
       "      <td>4</td>\n",
       "      <td>5.00</td>\n",
       "      <td>20000000.0</td>\n",
       "    </tr>\n",
       "    <tr>\n",
       "      <th>157</th>\n",
       "      <td>2023-02-10</td>\n",
       "      <td>HXHX</td>\n",
       "      <td>Haoxin Holdings Limited</td>\n",
       "      <td>$4.00 - $6.00</td>\n",
       "      <td>3000000.0</td>\n",
       "      <td>4</td>\n",
       "      <td>5.00</td>\n",
       "      <td>15000000.0</td>\n",
       "    </tr>\n",
       "    <tr>\n",
       "      <th>165</th>\n",
       "      <td>2023-01-13</td>\n",
       "      <td>RVGO</td>\n",
       "      <td>RVeloCITY, Inc.</td>\n",
       "      <td>$4.00 - $5.00</td>\n",
       "      <td>3750000.0</td>\n",
       "      <td>4</td>\n",
       "      <td>4.50</td>\n",
       "      <td>16875000.0</td>\n",
       "    </tr>\n",
       "  </tbody>\n",
       "</table>\n",
       "</div>"
      ],
      "text/plain": [
       "    Filing Date Symbol                                     Company Name  \\\n",
       "50   2023-12-29    LEC                            Lafayette Energy Corp   \n",
       "51   2023-12-29   EPSM                        Epsium Enterprise Limited   \n",
       "54   2023-12-22   LZMH                   LZ Technology Holdings Limited   \n",
       "55   2023-12-22   CHLW  Chun Hui Le Wan International Holding Group Ltd   \n",
       "60   2023-12-15    GIT      Going International Holding Company Limited   \n",
       "62   2023-12-08   ENGS                            Energys Group Limited   \n",
       "63   2023-12-08   LNKS                       Linkers Industries Limited   \n",
       "82   2023-10-27    RAY                          Raytech Holding Limited   \n",
       "89   2023-10-13   ORIS                   Oriental Rise Holdings Limited   \n",
       "92   2023-10-06   QMMM                            QMMM Holdings Limited   \n",
       "96   2023-09-29   KAPA                              Kairos Pharma, Ltd.   \n",
       "97   2023-09-29   VAPA                        Valens Pay Global Limited   \n",
       "103  2023-09-15   ACSB                      Acesis Holdings Corporation   \n",
       "109  2023-08-11   ZXTY                      Zhongxing Holding Group Ltd   \n",
       "113  2023-08-04    JZL                     Jizhilong Holding Group Ltd.   \n",
       "121  2023-07-07    AZI         Autozi Internet Technology (Global) Ltd.   \n",
       "124  2023-06-30   SUBL                       BioLingus (Cayman) Limited   \n",
       "125  2023-06-30   RLND                        The RoyaLand Company Ltd.   \n",
       "126  2023-06-23    MSW                Ming Shing Group Holdings Limited   \n",
       "129  2023-06-09   MDRN                   Modern Mining Technology Corp.   \n",
       "134  2023-04-28   MJID                      Majestic Ideal Holdings Ltd   \n",
       "137  2023-04-21   XJET                                        XJet Ltd.   \n",
       "138  2023-04-21    JPO                              JP Outfitters, Inc.   \n",
       "139  2023-03-31   SUNH                          Xuhang Holdings Limited   \n",
       "140  2023-03-31   OSTX                        OS Therapies Incorporated   \n",
       "141  2023-03-31   GFCX                        GoodFaith Technology Inc.   \n",
       "143  2023-03-24   USEE                     USEE Electronic Commerce Ltd   \n",
       "149  2023-02-24    NTV                              NeoTV Group Limited   \n",
       "150  2023-02-24   BSME                    MED EIBY Holding Co., Limited   \n",
       "156  2023-02-10   WETO                      Webus International Limited   \n",
       "157  2023-02-10   HXHX                          Haoxin Holdings Limited   \n",
       "165  2023-01-13   RVGO                                  RVeloCITY, Inc.   \n",
       "\n",
       "       Price Range  Shares Offered  weekday  Avg_price  Shares_offered_value  \n",
       "50   $3.50 - $4.50       1200000.0        4       4.00             4800000.0  \n",
       "51               -             NaN        4        NaN                   NaN  \n",
       "54               -             NaN        4        NaN                   NaN  \n",
       "55               -             NaN        4        NaN                   NaN  \n",
       "60               -             NaN        4        NaN                   NaN  \n",
       "62   $4.00 - $6.00       2000000.0        4       5.00            10000000.0  \n",
       "63   $4.00 - $6.00       2200000.0        4       5.00            11000000.0  \n",
       "82   $4.00 - $5.00       1500000.0        4       4.50             6750000.0  \n",
       "89           $4.00       2000000.0        4       4.00             8000000.0  \n",
       "92           $4.00       2125000.0        4       4.00             8500000.0  \n",
       "96           $4.00       1550000.0        4       4.00             6200000.0  \n",
       "97   $5.00 - $6.00       1000000.0        4       5.50             5500000.0  \n",
       "103  $4.00 - $6.00       1300000.0        4       5.00             6500000.0  \n",
       "109              -             NaN        4        NaN                   NaN  \n",
       "113              -             NaN        4        NaN                   NaN  \n",
       "121  $4.00 - $5.00       1250000.0        4       4.50             5625000.0  \n",
       "124         $20.00        360000.0        4      20.00             7200000.0  \n",
       "125  $5.00 - $6.00       1250000.0        4       5.50             6875000.0  \n",
       "126  $5.00 - $8.00       1500000.0        4       6.50             9750000.0  \n",
       "129  $4.50 - $5.50       2000000.0        4       5.00            10000000.0  \n",
       "134  $4.00 - $5.00       2500000.0        4       4.50            11250000.0  \n",
       "137          $4.00       1600000.0        4       4.00             6400000.0  \n",
       "138          $4.00       2400000.0        4       4.00             9600000.0  \n",
       "139  $4.00 - $5.00       2750000.0        4       4.50            12375000.0  \n",
       "140          $5.00       2000000.0        4       5.00            10000000.0  \n",
       "141  $4.00 - $6.00       3000000.0        4       5.00            15000000.0  \n",
       "143              -             NaN        4        NaN                   NaN  \n",
       "149  $6.00 - $6.50       6800000.0        4       6.25            42500000.0  \n",
       "150  $4.00 - $6.00       4000000.0        4       5.00            20000000.0  \n",
       "156  $4.00 - $6.00       4000000.0        4       5.00            20000000.0  \n",
       "157  $4.00 - $6.00       3000000.0        4       5.00            15000000.0  \n",
       "165  $4.00 - $5.00       3750000.0        4       4.50            16875000.0  "
      ]
     },
     "execution_count": 6,
     "metadata": {},
     "output_type": "execute_result"
    }
   ],
   "source": [
    "def calulate_average(row):\n",
    "    if row == \"-\":\n",
    "        return np.nan\n",
    "    \n",
    "    if \"-\" in row:\n",
    "        price = row.replace(\"$\", \"\").replace(\" \", \"\").split(\"-\")\n",
    "        price = [float(p) for p in price]\n",
    "        return np.mean(price)\n",
    "    \n",
    "    else:\n",
    "        return float(row.replace(\"$\", \"\"))\n",
    "    \n",
    "ipos_2023_friday[\"Avg_price\"] = ipos_2023_friday[\"Price Range\"].apply(calulate_average)\n",
    "ipos_2023_friday[\"Shares_offered_value\"] = ipos_2023_friday[\"Avg_price\"] * ipos_2023_friday[\"Shares Offered\"]\n",
    "ipos_2023_friday"
   ]
  },
  {
   "cell_type": "code",
   "execution_count": 7,
   "id": "6283de05439426c9",
   "metadata": {
    "ExecuteTime": {
     "end_time": "2024-05-08T03:08:42.605496Z",
     "start_time": "2024-05-08T03:08:42.595397Z"
    }
   },
   "outputs": [
    {
     "name": "stdout",
     "output_type": "stream",
     "text": [
      "The total sum ($m) of 2023 filings that happenned of Fridays is 286\n"
     ]
    }
   ],
   "source": [
    "print(f\"The total sum ($m) of 2023 filings that happenned of Fridays is\\\n",
    " {round(ipos_2023_friday['Shares_offered_value'].sum() / 1e6)}\")"
   ]
  },
  {
   "cell_type": "markdown",
   "id": "84c97d5614e3bb28",
   "metadata": {},
   "source": [
    "## Question 2:  IPOs \"Fixed days hold\" strategy\n",
    "\n",
    "\n",
    "**Find the optimal number of days X (between 1 and 30), where 75% quantile growth is the highest?**\n",
    "\n",
    "\n",
    "Reuse [Code Snippet 1] to retrieve the list of IPOs from 2023 and 2024 (from URLs: https://stockanalysis.com/ipos/2023/ and https://stockanalysis.com/ipos/2024/). \n",
    "Get all OHLCV daily prices for all stocks with an \"IPO date\" before March 1, 2024 (\"< 2024-03-01\") - 184 tickers (without 'RYZB'). Please remove 'RYZB', as it is no longer available on Yahoo Finance. \n",
    "\n",
    "Sometimes you may need to adjust the symbol name (e.g., 'IBAC' on stockanalysis.com -> 'IBACU' on Yahoo Finance) to locate OHLCV prices for all stocks. Also, you can see the ticker changes using this [link](https://stockanalysis.com/actions/changes/).\n",
    "Some of the tickers (like 'DYCQ' and 'LEGT') were on the market less than 30 days (11 and 21 days, respectively). Let's leave them in the dataset; it just means that you couldn't hold them for more days than they were listed.\n",
    "\n",
    "Let's assume you managed to buy a new stock (listed on IPO) on the first day at the [Adj Close] price]. Your strategy is to hold for exactly X full days (where X is between 1 and 30) and sell at the \"Adj. Close\" price in X days (e.g., if X=1, you sell on the next day).\n",
    "Find X, when the 75% quantile growth (among 185 investments) is the highest. \n",
    "\n",
    "HINTs:\n",
    "* You can generate 30 additional columns: growth_future_1d ... growth_future_30d, join that with the table of min_dates (first day when each stock has data on Yahoo Finance), and perform vector operations on the resulting dataset.\n",
    "* You can use the `DataFrame.describe()` function to get mean, min, max, 25-50-75% quantiles.\n",
    "\n",
    "\n",
    "Additional: \n",
    "* You can also ensure that the mean and 50th percentile (median) investment returns are negative for most X values, implying a wager for a \"lucky\" investor who might be in the top 25%.\n",
    "* What's your recommendation: Do you suggest pursuing this strategy for an optimal X?"
   ]
  },
  {
   "cell_type": "code",
   "execution_count": 8,
   "id": "c66f8335df533d02",
   "metadata": {
    "ExecuteTime": {
     "end_time": "2024-05-08T03:08:44.439493Z",
     "start_time": "2024-05-08T03:08:42.606409Z"
    }
   },
   "outputs": [],
   "source": [
    "headers = {\n",
    "    'User-Agent': 'Mozilla/5.0 (Windows NT 10.0; Win64; x64) AppleWebKit/537.36 (KHTML, like Gecko) Chrome/58.0.3029.110 Safari/537.3',\n",
    "}\n",
    "\n",
    "url = \"https://stockanalysis.com/ipos/2023/\"\n",
    "response = requests.get(url, headers=headers)\n",
    "response = io.StringIO(response.text)\n",
    "\n",
    "ipo_dfs = pd.read_html(response)\n",
    "ipos_2023 = ipo_dfs[0]\n",
    "\n",
    "url = \"https://stockanalysis.com/ipos/2024/\"\n",
    "response = requests.get(url, headers=headers)\n",
    "response = io.StringIO(response.text)\n",
    "\n",
    "ipo_dfs = pd.read_html(response)\n",
    "ipos_2024 = ipo_dfs[0]"
   ]
  },
  {
   "cell_type": "code",
   "execution_count": 9,
   "id": "81f6f9fd7ffc32d",
   "metadata": {
    "ExecuteTime": {
     "end_time": "2024-05-08T03:08:44.474380Z",
     "start_time": "2024-05-08T03:08:44.440460Z"
    }
   },
   "outputs": [
    {
     "data": {
      "text/html": [
       "<div>\n",
       "<style scoped>\n",
       "    .dataframe tbody tr th:only-of-type {\n",
       "        vertical-align: middle;\n",
       "    }\n",
       "\n",
       "    .dataframe tbody tr th {\n",
       "        vertical-align: top;\n",
       "    }\n",
       "\n",
       "    .dataframe thead th {\n",
       "        text-align: right;\n",
       "    }\n",
       "</style>\n",
       "<table border=\"1\" class=\"dataframe\">\n",
       "  <thead>\n",
       "    <tr style=\"text-align: right;\">\n",
       "      <th></th>\n",
       "      <th>IPO Date</th>\n",
       "      <th>Symbol</th>\n",
       "      <th>Company Name</th>\n",
       "      <th>IPO Price</th>\n",
       "      <th>Current</th>\n",
       "      <th>Return</th>\n",
       "    </tr>\n",
       "  </thead>\n",
       "  <tbody>\n",
       "    <tr>\n",
       "      <th>33</th>\n",
       "      <td>2024-02-27</td>\n",
       "      <td>SMXT</td>\n",
       "      <td>SolarMax Technology, Inc.</td>\n",
       "      <td>4.00</td>\n",
       "      <td>10.34</td>\n",
       "      <td>1.5850</td>\n",
       "    </tr>\n",
       "    <tr>\n",
       "      <th>34</th>\n",
       "      <td>2024-02-22</td>\n",
       "      <td>VHAI</td>\n",
       "      <td>Vocodia Holdings Corp</td>\n",
       "      <td>4.25</td>\n",
       "      <td>0.13</td>\n",
       "      <td>-0.9686</td>\n",
       "    </tr>\n",
       "    <tr>\n",
       "      <th>35</th>\n",
       "      <td>2024-02-21</td>\n",
       "      <td>DYCQ</td>\n",
       "      <td>DT Cloud Acquisition Corporation</td>\n",
       "      <td>10.00</td>\n",
       "      <td>10.16</td>\n",
       "      <td>0.0160</td>\n",
       "    </tr>\n",
       "    <tr>\n",
       "      <th>36</th>\n",
       "      <td>2024-02-16</td>\n",
       "      <td>CHRO</td>\n",
       "      <td>Chromocell Therapeutics Corp</td>\n",
       "      <td>6.00</td>\n",
       "      <td>1.84</td>\n",
       "      <td>-0.6933</td>\n",
       "    </tr>\n",
       "    <tr>\n",
       "      <th>37</th>\n",
       "      <td>2024-02-14</td>\n",
       "      <td>UMAC</td>\n",
       "      <td>Unusual Machines, Inc.</td>\n",
       "      <td>4.00</td>\n",
       "      <td>1.07</td>\n",
       "      <td>-0.7325</td>\n",
       "    </tr>\n",
       "    <tr>\n",
       "      <th>...</th>\n",
       "      <td>...</td>\n",
       "      <td>...</td>\n",
       "      <td>...</td>\n",
       "      <td>...</td>\n",
       "      <td>...</td>\n",
       "      <td>...</td>\n",
       "    </tr>\n",
       "    <tr>\n",
       "      <th>213</th>\n",
       "      <td>2023-01-25</td>\n",
       "      <td>QSG</td>\n",
       "      <td>QuantaSing Group Ltd</td>\n",
       "      <td>12.50</td>\n",
       "      <td>3.19</td>\n",
       "      <td>-0.7448</td>\n",
       "    </tr>\n",
       "    <tr>\n",
       "      <th>214</th>\n",
       "      <td>2023-01-20</td>\n",
       "      <td>CVKD</td>\n",
       "      <td>Cadrenal Therapeutics, Inc.</td>\n",
       "      <td>5.00</td>\n",
       "      <td>0.48</td>\n",
       "      <td>-0.9040</td>\n",
       "    </tr>\n",
       "    <tr>\n",
       "      <th>215</th>\n",
       "      <td>2023-01-13</td>\n",
       "      <td>SKWD</td>\n",
       "      <td>Skyward Specialty Insurance Group, Inc.</td>\n",
       "      <td>15.00</td>\n",
       "      <td>37.61</td>\n",
       "      <td>1.5073</td>\n",
       "    </tr>\n",
       "    <tr>\n",
       "      <th>216</th>\n",
       "      <td>2023-01-13</td>\n",
       "      <td>ISRL</td>\n",
       "      <td>Israel Acquisitions Corp</td>\n",
       "      <td>10.00</td>\n",
       "      <td>10.93</td>\n",
       "      <td>0.0930</td>\n",
       "    </tr>\n",
       "    <tr>\n",
       "      <th>217</th>\n",
       "      <td>2023-01-13</td>\n",
       "      <td>MGOL</td>\n",
       "      <td>MGO Global Inc.</td>\n",
       "      <td>5.00</td>\n",
       "      <td>0.22</td>\n",
       "      <td>-0.9550</td>\n",
       "    </tr>\n",
       "  </tbody>\n",
       "</table>\n",
       "<p>185 rows × 6 columns</p>\n",
       "</div>"
      ],
      "text/plain": [
       "      IPO Date Symbol                             Company Name  IPO Price  \\\n",
       "33  2024-02-27   SMXT                SolarMax Technology, Inc.       4.00   \n",
       "34  2024-02-22   VHAI                    Vocodia Holdings Corp       4.25   \n",
       "35  2024-02-21   DYCQ         DT Cloud Acquisition Corporation      10.00   \n",
       "36  2024-02-16   CHRO             Chromocell Therapeutics Corp       6.00   \n",
       "37  2024-02-14   UMAC                   Unusual Machines, Inc.       4.00   \n",
       "..         ...    ...                                      ...        ...   \n",
       "213 2023-01-25    QSG                     QuantaSing Group Ltd      12.50   \n",
       "214 2023-01-20   CVKD              Cadrenal Therapeutics, Inc.       5.00   \n",
       "215 2023-01-13   SKWD  Skyward Specialty Insurance Group, Inc.      15.00   \n",
       "216 2023-01-13   ISRL                 Israel Acquisitions Corp      10.00   \n",
       "217 2023-01-13   MGOL                          MGO Global Inc.       5.00   \n",
       "\n",
       "     Current  Return  \n",
       "33     10.34  1.5850  \n",
       "34      0.13 -0.9686  \n",
       "35     10.16  0.0160  \n",
       "36      1.84 -0.6933  \n",
       "37      1.07 -0.7325  \n",
       "..       ...     ...  \n",
       "213     3.19 -0.7448  \n",
       "214     0.48 -0.9040  \n",
       "215    37.61  1.5073  \n",
       "216    10.93  0.0930  \n",
       "217     0.22 -0.9550  \n",
       "\n",
       "[185 rows x 6 columns]"
      ]
     },
     "execution_count": 9,
     "metadata": {},
     "output_type": "execute_result"
    }
   ],
   "source": [
    "stacked_ipos_df = pd.concat([ipos_2024, ipos_2023], ignore_index=True)\n",
    "stacked_ipos_df['IPO Date'] = pd.to_datetime(stacked_ipos_df['IPO Date'], format=\"mixed\")\n",
    "# it has some missing values --> use defensive errors='coerce' (if don't have time to crack into the data errors)\n",
    "#     : pd.to_numeric() function call, which will convert problematic values to NaN.\n",
    "#     otherwise you'll get a ValueError: Unable to parse string \"-\" at position 9\n",
    "stacked_ipos_df['IPO Price'] = pd.to_numeric(stacked_ipos_df['IPO Price'].str.replace('$', ''), errors='coerce')\n",
    "# not sure why, but need to call it again to transform 'object' to 'float64'\n",
    "stacked_ipos_df['IPO Price'] = pd.to_numeric(stacked_ipos_df['IPO Price'])\n",
    "# Convert \"Current\" column\n",
    "stacked_ipos_df['Current'] = pd.to_numeric(stacked_ipos_df['Current'].str.replace('$', ''), errors='coerce')\n",
    "# Convert 'Return' to numeric format (percentage)\n",
    "stacked_ipos_df['Return'] = pd.to_numeric(stacked_ipos_df['Return'].str.replace('%', ''), errors='coerce') / 100\n",
    "stacked_ipos_df = stacked_ipos_df.loc[stacked_ipos_df[\"IPO Date\"] < \"2024-03-01\"]\n",
    "stacked_ipos_df"
   ]
  },
  {
   "cell_type": "code",
   "execution_count": 10,
   "id": "71246b265a0504d",
   "metadata": {
    "ExecuteTime": {
     "end_time": "2024-05-08T03:08:44.486861Z",
     "start_time": "2024-05-08T03:08:44.475200Z"
    }
   },
   "outputs": [
    {
     "data": {
      "text/plain": [
       "184"
      ]
     },
     "execution_count": 10,
     "metadata": {},
     "output_type": "execute_result"
    }
   ],
   "source": [
    "tickers = list(stacked_ipos_df[\"Symbol\"].unique())\n",
    "tickers.remove(\"RYZB\")\n",
    "tickers.remove(\"PTHR\")\n",
    "tickers.append(\"HOVR\")\n",
    "start_date = date(2023, 1, 1)\n",
    "end_date = date(2024, 2, 29)\n",
    "len(tickers)"
   ]
  },
  {
   "cell_type": "code",
   "execution_count": 11,
   "id": "cdeb8d649406de26",
   "metadata": {
    "ExecuteTime": {
     "end_time": "2024-05-08T03:12:21.891645Z",
     "start_time": "2024-05-08T03:08:44.487704Z"
    }
   },
   "outputs": [
    {
     "name": "stdout",
     "output_type": "stream",
     "text": [
      "0 SMXT\n"
     ]
    },
    {
     "name": "stderr",
     "output_type": "stream",
     "text": [
      "[*********************100%%**********************]  1 of 1 completed\n",
      "[*********************100%%**********************]  1 of 1 completed"
     ]
    },
    {
     "name": "stdout",
     "output_type": "stream",
     "text": [
      "1 VHAI\n"
     ]
    },
    {
     "name": "stderr",
     "output_type": "stream",
     "text": [
      "\n",
      "[*********************100%%**********************]  1 of 1 completed"
     ]
    },
    {
     "name": "stdout",
     "output_type": "stream",
     "text": [
      "2 DYCQ\n"
     ]
    },
    {
     "name": "stderr",
     "output_type": "stream",
     "text": [
      "\n",
      "[*********************100%%**********************]  1 of 1 completed"
     ]
    },
    {
     "name": "stdout",
     "output_type": "stream",
     "text": [
      "3 CHRO\n"
     ]
    },
    {
     "name": "stderr",
     "output_type": "stream",
     "text": [
      "\n"
     ]
    },
    {
     "name": "stdout",
     "output_type": "stream",
     "text": [
      "4 UMAC\n"
     ]
    },
    {
     "name": "stderr",
     "output_type": "stream",
     "text": [
      "[*********************100%%**********************]  1 of 1 completed\n",
      "[*********************100%%**********************]  1 of 1 completed"
     ]
    },
    {
     "name": "stdout",
     "output_type": "stream",
     "text": [
      "5 TBBB\n"
     ]
    },
    {
     "name": "stderr",
     "output_type": "stream",
     "text": [
      "\n",
      "[*********************100%%**********************]  1 of 1 completed"
     ]
    },
    {
     "name": "stdout",
     "output_type": "stream",
     "text": [
      "6 MGX\n"
     ]
    },
    {
     "name": "stderr",
     "output_type": "stream",
     "text": [
      "\n",
      "[*********************100%%**********************]  1 of 1 completed"
     ]
    },
    {
     "name": "stdout",
     "output_type": "stream",
     "text": [
      "7 HLXB\n"
     ]
    },
    {
     "name": "stderr",
     "output_type": "stream",
     "text": [
      "\n",
      "[*********************100%%**********************]  1 of 1 completed"
     ]
    },
    {
     "name": "stdout",
     "output_type": "stream",
     "text": [
      "8 TELO\n"
     ]
    },
    {
     "name": "stderr",
     "output_type": "stream",
     "text": [
      "\n",
      "[*********************100%%**********************]  1 of 1 completed"
     ]
    },
    {
     "name": "stdout",
     "output_type": "stream",
     "text": [
      "9 KYTX\n"
     ]
    },
    {
     "name": "stderr",
     "output_type": "stream",
     "text": [
      "\n",
      "[*********************100%%**********************]  1 of 1 completed"
     ]
    },
    {
     "name": "stdout",
     "output_type": "stream",
     "text": [
      "10 PMNT\n"
     ]
    },
    {
     "name": "stderr",
     "output_type": "stream",
     "text": [
      "\n",
      "[*********************100%%**********************]  1 of 1 completed"
     ]
    },
    {
     "name": "stdout",
     "output_type": "stream",
     "text": [
      "11 AHR\n"
     ]
    },
    {
     "name": "stderr",
     "output_type": "stream",
     "text": [
      "\n",
      "[*********************100%%**********************]  1 of 1 completed"
     ]
    },
    {
     "name": "stdout",
     "output_type": "stream",
     "text": [
      "12 LEGT\n"
     ]
    },
    {
     "name": "stderr",
     "output_type": "stream",
     "text": [
      "\n",
      "[*********************100%%**********************]  1 of 1 completed"
     ]
    },
    {
     "name": "stdout",
     "output_type": "stream",
     "text": [
      "13 ANRO\n"
     ]
    },
    {
     "name": "stderr",
     "output_type": "stream",
     "text": [
      "\n",
      "[*********************100%%**********************]  1 of 1 completed"
     ]
    },
    {
     "name": "stdout",
     "output_type": "stream",
     "text": [
      "14 GUTS\n"
     ]
    },
    {
     "name": "stderr",
     "output_type": "stream",
     "text": [
      "\n",
      "[*********************100%%**********************]  1 of 1 completed"
     ]
    },
    {
     "name": "stdout",
     "output_type": "stream",
     "text": [
      "15 AS\n"
     ]
    },
    {
     "name": "stderr",
     "output_type": "stream",
     "text": [
      "\n",
      "[*********************100%%**********************]  1 of 1 completed"
     ]
    },
    {
     "name": "stdout",
     "output_type": "stream",
     "text": [
      "16 FBLG\n"
     ]
    },
    {
     "name": "stderr",
     "output_type": "stream",
     "text": [
      "\n",
      "[*********************100%%**********************]  1 of 1 completed"
     ]
    },
    {
     "name": "stdout",
     "output_type": "stream",
     "text": [
      "17 BTSG\n"
     ]
    },
    {
     "name": "stderr",
     "output_type": "stream",
     "text": [
      "\n",
      "[*********************100%%**********************]  1 of 1 completed"
     ]
    },
    {
     "name": "stdout",
     "output_type": "stream",
     "text": [
      "18 AVBP\n"
     ]
    },
    {
     "name": "stderr",
     "output_type": "stream",
     "text": [
      "\n",
      "[*********************100%%**********************]  1 of 1 completed"
     ]
    },
    {
     "name": "stdout",
     "output_type": "stream",
     "text": [
      "19 HAO\n"
     ]
    },
    {
     "name": "stderr",
     "output_type": "stream",
     "text": [
      "\n",
      "[*********************100%%**********************]  1 of 1 completed"
     ]
    },
    {
     "name": "stdout",
     "output_type": "stream",
     "text": [
      "20 CGON\n"
     ]
    },
    {
     "name": "stderr",
     "output_type": "stream",
     "text": [
      "\n",
      "[*********************100%%**********************]  1 of 1 completed"
     ]
    },
    {
     "name": "stdout",
     "output_type": "stream",
     "text": [
      "21 YIBO\n"
     ]
    },
    {
     "name": "stderr",
     "output_type": "stream",
     "text": [
      "\n"
     ]
    },
    {
     "name": "stdout",
     "output_type": "stream",
     "text": [
      "22 SUGP\n"
     ]
    },
    {
     "name": "stderr",
     "output_type": "stream",
     "text": [
      "[*********************100%%**********************]  1 of 1 completed\n",
      "[*********************100%%**********************]  1 of 1 completed"
     ]
    },
    {
     "name": "stdout",
     "output_type": "stream",
     "text": [
      "23 JL\n"
     ]
    },
    {
     "name": "stderr",
     "output_type": "stream",
     "text": [
      "\n",
      "[*********************100%%**********************]  1 of 1 completed"
     ]
    },
    {
     "name": "stdout",
     "output_type": "stream",
     "text": [
      "24 KSPI\n"
     ]
    },
    {
     "name": "stderr",
     "output_type": "stream",
     "text": [
      "\n",
      "[*********************100%%**********************]  1 of 1 completed"
     ]
    },
    {
     "name": "stdout",
     "output_type": "stream",
     "text": [
      "25 JVSA\n"
     ]
    },
    {
     "name": "stderr",
     "output_type": "stream",
     "text": [
      "\n",
      "[*********************100%%**********************]  1 of 1 completed"
     ]
    },
    {
     "name": "stdout",
     "output_type": "stream",
     "text": [
      "26 PSBD\n"
     ]
    },
    {
     "name": "stderr",
     "output_type": "stream",
     "text": [
      "\n",
      "[*********************100%%**********************]  1 of 1 completed"
     ]
    },
    {
     "name": "stdout",
     "output_type": "stream",
     "text": [
      "27 CCTG\n"
     ]
    },
    {
     "name": "stderr",
     "output_type": "stream",
     "text": [
      "\n",
      "[*********************100%%**********************]  1 of 1 completed"
     ]
    },
    {
     "name": "stdout",
     "output_type": "stream",
     "text": [
      "28 SYNX\n"
     ]
    },
    {
     "name": "stderr",
     "output_type": "stream",
     "text": [
      "\n",
      "[*********************100%%**********************]  1 of 1 completed"
     ]
    },
    {
     "name": "stdout",
     "output_type": "stream",
     "text": [
      "29 SDHC\n"
     ]
    },
    {
     "name": "stderr",
     "output_type": "stream",
     "text": [
      "\n",
      "[*********************100%%**********************]  1 of 1 completed"
     ]
    },
    {
     "name": "stdout",
     "output_type": "stream",
     "text": [
      "30 ROMA\n"
     ]
    },
    {
     "name": "stderr",
     "output_type": "stream",
     "text": [
      "\n",
      "[*********************100%%**********************]  1 of 1 completed"
     ]
    },
    {
     "name": "stdout",
     "output_type": "stream",
     "text": [
      "31 IROH\n"
     ]
    },
    {
     "name": "stderr",
     "output_type": "stream",
     "text": [
      "\n",
      "[*********************100%%**********************]  1 of 1 completed"
     ]
    },
    {
     "name": "stdout",
     "output_type": "stream",
     "text": [
      "32 LGCB\n"
     ]
    },
    {
     "name": "stderr",
     "output_type": "stream",
     "text": [
      "\n",
      "[*********************100%%**********************]  1 of 1 completed"
     ]
    },
    {
     "name": "stdout",
     "output_type": "stream",
     "text": [
      "33 ZKH\n"
     ]
    },
    {
     "name": "stderr",
     "output_type": "stream",
     "text": [
      "\n",
      "[*********************100%%**********************]  1 of 1 completed"
     ]
    },
    {
     "name": "stdout",
     "output_type": "stream",
     "text": [
      "34 BAYA\n"
     ]
    },
    {
     "name": "stderr",
     "output_type": "stream",
     "text": [
      "\n",
      "[*********************100%%**********************]  1 of 1 completed"
     ]
    },
    {
     "name": "stdout",
     "output_type": "stream",
     "text": [
      "35 INHD\n"
     ]
    },
    {
     "name": "stderr",
     "output_type": "stream",
     "text": [
      "\n",
      "[*********************100%%**********************]  1 of 1 completed"
     ]
    },
    {
     "name": "stdout",
     "output_type": "stream",
     "text": [
      "36 AFJK\n"
     ]
    },
    {
     "name": "stderr",
     "output_type": "stream",
     "text": [
      "\n",
      "[*********************100%%**********************]  1 of 1 completed"
     ]
    },
    {
     "name": "stdout",
     "output_type": "stream",
     "text": [
      "37 GSIW\n"
     ]
    },
    {
     "name": "stderr",
     "output_type": "stream",
     "text": [
      "\n",
      "[*********************100%%**********************]  1 of 1 completed"
     ]
    },
    {
     "name": "stdout",
     "output_type": "stream",
     "text": [
      "38 FEBO\n"
     ]
    },
    {
     "name": "stderr",
     "output_type": "stream",
     "text": [
      "\n",
      "[*********************100%%**********************]  1 of 1 completed"
     ]
    },
    {
     "name": "stdout",
     "output_type": "stream",
     "text": [
      "39 CLBR\n"
     ]
    },
    {
     "name": "stderr",
     "output_type": "stream",
     "text": [
      "\n",
      "[*********************100%%**********************]  1 of 1 completed"
     ]
    },
    {
     "name": "stdout",
     "output_type": "stream",
     "text": [
      "40 ELAB\n"
     ]
    },
    {
     "name": "stderr",
     "output_type": "stream",
     "text": [
      "\n",
      "[*********************100%%**********************]  1 of 1 completed"
     ]
    },
    {
     "name": "stdout",
     "output_type": "stream",
     "text": [
      "41 RR\n"
     ]
    },
    {
     "name": "stderr",
     "output_type": "stream",
     "text": [
      "\n",
      "[*********************100%%**********************]  1 of 1 completed"
     ]
    },
    {
     "name": "stdout",
     "output_type": "stream",
     "text": [
      "42 DDC\n"
     ]
    },
    {
     "name": "stderr",
     "output_type": "stream",
     "text": [
      "\n",
      "[*********************100%%**********************]  1 of 1 completed"
     ]
    },
    {
     "name": "stdout",
     "output_type": "stream",
     "text": [
      "43 SHIM\n"
     ]
    },
    {
     "name": "stderr",
     "output_type": "stream",
     "text": [
      "\n",
      "[*********************100%%**********************]  1 of 1 completed"
     ]
    },
    {
     "name": "stdout",
     "output_type": "stream",
     "text": [
      "44 GLAC\n"
     ]
    },
    {
     "name": "stderr",
     "output_type": "stream",
     "text": [
      "\n",
      "[*********************100%%**********************]  1 of 1 completed"
     ]
    },
    {
     "name": "stdout",
     "output_type": "stream",
     "text": [
      "45 SGN\n"
     ]
    },
    {
     "name": "stderr",
     "output_type": "stream",
     "text": [
      "\n",
      "[*********************100%%**********************]  1 of 1 completed"
     ]
    },
    {
     "name": "stdout",
     "output_type": "stream",
     "text": [
      "46 HG\n"
     ]
    },
    {
     "name": "stderr",
     "output_type": "stream",
     "text": [
      "\n"
     ]
    },
    {
     "name": "stdout",
     "output_type": "stream",
     "text": [
      "47 CRGX\n"
     ]
    },
    {
     "name": "stderr",
     "output_type": "stream",
     "text": [
      "[*********************100%%**********************]  1 of 1 completed\n"
     ]
    },
    {
     "name": "stdout",
     "output_type": "stream",
     "text": [
      "48 ANSC\n"
     ]
    },
    {
     "name": "stderr",
     "output_type": "stream",
     "text": [
      "[*********************100%%**********************]  1 of 1 completed\n",
      "[*********************100%%**********************]  1 of 1 completed"
     ]
    },
    {
     "name": "stdout",
     "output_type": "stream",
     "text": [
      "49 AITR\n"
     ]
    },
    {
     "name": "stderr",
     "output_type": "stream",
     "text": [
      "\n",
      "[*********************100%%**********************]  1 of 1 completed"
     ]
    },
    {
     "name": "stdout",
     "output_type": "stream",
     "text": [
      "50 GVH\n"
     ]
    },
    {
     "name": "stderr",
     "output_type": "stream",
     "text": [
      "\n"
     ]
    },
    {
     "name": "stdout",
     "output_type": "stream",
     "text": [
      "51 LXEO\n"
     ]
    },
    {
     "name": "stderr",
     "output_type": "stream",
     "text": [
      "[*********************100%%**********************]  1 of 1 completed\n",
      "[*********************100%%**********************]  1 of 1 completed"
     ]
    },
    {
     "name": "stdout",
     "output_type": "stream",
     "text": [
      "52 PAPL\n"
     ]
    },
    {
     "name": "stderr",
     "output_type": "stream",
     "text": [
      "\n",
      "[*********************100%%**********************]  1 of 1 completed"
     ]
    },
    {
     "name": "stdout",
     "output_type": "stream",
     "text": [
      "53 ATGL\n"
     ]
    },
    {
     "name": "stderr",
     "output_type": "stream",
     "text": [
      "\n",
      "[*********************100%%**********************]  1 of 1 completed"
     ]
    },
    {
     "name": "stdout",
     "output_type": "stream",
     "text": [
      "54 MNR\n"
     ]
    },
    {
     "name": "stderr",
     "output_type": "stream",
     "text": [
      "\n",
      "[*********************100%%**********************]  1 of 1 completed"
     ]
    },
    {
     "name": "stdout",
     "output_type": "stream",
     "text": [
      "55 WBUY\n"
     ]
    },
    {
     "name": "stderr",
     "output_type": "stream",
     "text": [
      "\n",
      "[*********************100%%**********************]  1 of 1 completed"
     ]
    },
    {
     "name": "stdout",
     "output_type": "stream",
     "text": [
      "56 NCL\n"
     ]
    },
    {
     "name": "stderr",
     "output_type": "stream",
     "text": [
      "\n",
      "[*********************100%%**********************]  1 of 1 completed"
     ]
    },
    {
     "name": "stdout",
     "output_type": "stream",
     "text": [
      "57 BIRK\n"
     ]
    },
    {
     "name": "stderr",
     "output_type": "stream",
     "text": [
      "\n",
      "[*********************100%%**********************]  1 of 1 completed"
     ]
    },
    {
     "name": "stdout",
     "output_type": "stream",
     "text": [
      "58 GMM\n"
     ]
    },
    {
     "name": "stderr",
     "output_type": "stream",
     "text": [
      "\n",
      "[*********************100%%**********************]  1 of 1 completed"
     ]
    },
    {
     "name": "stdout",
     "output_type": "stream",
     "text": [
      "59 PMEC\n"
     ]
    },
    {
     "name": "stderr",
     "output_type": "stream",
     "text": [
      "\n"
     ]
    },
    {
     "name": "stdout",
     "output_type": "stream",
     "text": [
      "60 LRHC\n"
     ]
    },
    {
     "name": "stderr",
     "output_type": "stream",
     "text": [
      "[*********************100%%**********************]  1 of 1 completed\n"
     ]
    },
    {
     "name": "stdout",
     "output_type": "stream",
     "text": [
      "61 GPAK\n"
     ]
    },
    {
     "name": "stderr",
     "output_type": "stream",
     "text": [
      "[*********************100%%**********************]  1 of 1 completed\n",
      "[*********************100%%**********************]  1 of 1 completed"
     ]
    },
    {
     "name": "stdout",
     "output_type": "stream",
     "text": [
      "62 SPKL\n"
     ]
    },
    {
     "name": "stderr",
     "output_type": "stream",
     "text": [
      "\n",
      "[*********************100%%**********************]  1 of 1 completed"
     ]
    },
    {
     "name": "stdout",
     "output_type": "stream",
     "text": [
      "63 QETA\n"
     ]
    },
    {
     "name": "stderr",
     "output_type": "stream",
     "text": [
      "\n",
      "[*********************100%%**********************]  1 of 1 completed"
     ]
    },
    {
     "name": "stdout",
     "output_type": "stream",
     "text": [
      "64 MSS\n"
     ]
    },
    {
     "name": "stderr",
     "output_type": "stream",
     "text": [
      "\n"
     ]
    },
    {
     "name": "stdout",
     "output_type": "stream",
     "text": [
      "65 ANL\n"
     ]
    },
    {
     "name": "stderr",
     "output_type": "stream",
     "text": [
      "[*********************100%%**********************]  1 of 1 completed\n",
      "[*********************100%%**********************]  1 of 1 completed"
     ]
    },
    {
     "name": "stdout",
     "output_type": "stream",
     "text": [
      "66 SYRA\n"
     ]
    },
    {
     "name": "stderr",
     "output_type": "stream",
     "text": [
      "\n",
      "[*********************100%%**********************]  1 of 1 completed"
     ]
    },
    {
     "name": "stdout",
     "output_type": "stream",
     "text": [
      "67 VSME\n"
     ]
    },
    {
     "name": "stderr",
     "output_type": "stream",
     "text": [
      "\n",
      "[*********************100%%**********************]  1 of 1 completed"
     ]
    },
    {
     "name": "stdout",
     "output_type": "stream",
     "text": [
      "68 LRE\n"
     ]
    },
    {
     "name": "stderr",
     "output_type": "stream",
     "text": [
      "\n",
      "[*********************100%%**********************]  1 of 1 completed"
     ]
    },
    {
     "name": "stdout",
     "output_type": "stream",
     "text": [
      "69 TURB\n"
     ]
    },
    {
     "name": "stderr",
     "output_type": "stream",
     "text": [
      "\n",
      "[*********************100%%**********************]  1 of 1 completed"
     ]
    },
    {
     "name": "stdout",
     "output_type": "stream",
     "text": [
      "70 MDBH\n"
     ]
    },
    {
     "name": "stderr",
     "output_type": "stream",
     "text": [
      "\n",
      "[*********************100%%**********************]  1 of 1 completed"
     ]
    },
    {
     "name": "stdout",
     "output_type": "stream",
     "text": [
      "71 KVYO\n"
     ]
    },
    {
     "name": "stderr",
     "output_type": "stream",
     "text": [
      "\n",
      "[*********************100%%**********************]  1 of 1 completed"
     ]
    },
    {
     "name": "stdout",
     "output_type": "stream",
     "text": [
      "72 CART\n"
     ]
    },
    {
     "name": "stderr",
     "output_type": "stream",
     "text": [
      "\n",
      "[*********************100%%**********************]  1 of 1 completed"
     ]
    },
    {
     "name": "stdout",
     "output_type": "stream",
     "text": [
      "73 DTCK\n"
     ]
    },
    {
     "name": "stderr",
     "output_type": "stream",
     "text": [
      "\n",
      "[*********************100%%**********************]  1 of 1 completed"
     ]
    },
    {
     "name": "stdout",
     "output_type": "stream",
     "text": [
      "74 NMRA\n"
     ]
    },
    {
     "name": "stderr",
     "output_type": "stream",
     "text": [
      "\n",
      "[*********************100%%**********************]  1 of 1 completed"
     ]
    },
    {
     "name": "stdout",
     "output_type": "stream",
     "text": [
      "75 ARM\n"
     ]
    },
    {
     "name": "stderr",
     "output_type": "stream",
     "text": [
      "\n",
      "[*********************100%%**********************]  1 of 1 completed"
     ]
    },
    {
     "name": "stdout",
     "output_type": "stream",
     "text": [
      "76 SPPL\n"
     ]
    },
    {
     "name": "stderr",
     "output_type": "stream",
     "text": [
      "\n",
      "[*********************100%%**********************]  1 of 1 completed"
     ]
    },
    {
     "name": "stdout",
     "output_type": "stream",
     "text": [
      "77 NWGL\n"
     ]
    },
    {
     "name": "stderr",
     "output_type": "stream",
     "text": [
      "\n",
      "[*********************100%%**********************]  1 of 1 completed"
     ]
    },
    {
     "name": "stdout",
     "output_type": "stream",
     "text": [
      "78 SWIN\n"
     ]
    },
    {
     "name": "stderr",
     "output_type": "stream",
     "text": [
      "\n",
      "[*********************100%%**********************]  1 of 1 completed"
     ]
    },
    {
     "name": "stdout",
     "output_type": "stream",
     "text": [
      "79 IVP\n"
     ]
    },
    {
     "name": "stderr",
     "output_type": "stream",
     "text": [
      "\n"
     ]
    },
    {
     "name": "stdout",
     "output_type": "stream",
     "text": [
      "80 NNAG\n"
     ]
    },
    {
     "name": "stderr",
     "output_type": "stream",
     "text": [
      "[*********************100%%**********************]  1 of 1 completed\n",
      "[*********************100%%**********************]  1 of 1 completed"
     ]
    },
    {
     "name": "stdout",
     "output_type": "stream",
     "text": [
      "81 SRM\n"
     ]
    },
    {
     "name": "stderr",
     "output_type": "stream",
     "text": [
      "\n",
      "[*********************100%%**********************]  1 of 1 completed"
     ]
    },
    {
     "name": "stdout",
     "output_type": "stream",
     "text": [
      "82 SPGC\n"
     ]
    },
    {
     "name": "stderr",
     "output_type": "stream",
     "text": [
      "\n"
     ]
    },
    {
     "name": "stdout",
     "output_type": "stream",
     "text": [
      "83 LQR\n"
     ]
    },
    {
     "name": "stderr",
     "output_type": "stream",
     "text": [
      "[*********************100%%**********************]  1 of 1 completed\n"
     ]
    },
    {
     "name": "stdout",
     "output_type": "stream",
     "text": [
      "84 NRXS\n"
     ]
    },
    {
     "name": "stderr",
     "output_type": "stream",
     "text": [
      "[*********************100%%**********************]  1 of 1 completed\n",
      "[*********************100%%**********************]  1 of 1 completed"
     ]
    },
    {
     "name": "stdout",
     "output_type": "stream",
     "text": [
      "85 FTEL\n"
     ]
    },
    {
     "name": "stderr",
     "output_type": "stream",
     "text": [
      "\n",
      "[*********************100%%**********************]  1 of 1 completed"
     ]
    },
    {
     "name": "stdout",
     "output_type": "stream",
     "text": [
      "86 MIRA\n"
     ]
    },
    {
     "name": "stderr",
     "output_type": "stream",
     "text": [
      "\n",
      "[*********************100%%**********************]  1 of 1 completed"
     ]
    },
    {
     "name": "stdout",
     "output_type": "stream",
     "text": [
      "87 PXDT\n"
     ]
    },
    {
     "name": "stderr",
     "output_type": "stream",
     "text": [
      "\n",
      "[*********************100%%**********************]  1 of 1 completed"
     ]
    },
    {
     "name": "stdout",
     "output_type": "stream",
     "text": [
      "88 HRYU\n"
     ]
    },
    {
     "name": "stderr",
     "output_type": "stream",
     "text": [
      "\n",
      "[*********************100%%**********************]  1 of 1 completed"
     ]
    },
    {
     "name": "stdout",
     "output_type": "stream",
     "text": [
      "89 CTNT\n"
     ]
    },
    {
     "name": "stderr",
     "output_type": "stream",
     "text": [
      "\n",
      "[*********************100%%**********************]  1 of 1 completed"
     ]
    },
    {
     "name": "stdout",
     "output_type": "stream",
     "text": [
      "90 SRFM\n"
     ]
    },
    {
     "name": "stderr",
     "output_type": "stream",
     "text": [
      "\n",
      "[*********************100%%**********************]  1 of 1 completed"
     ]
    },
    {
     "name": "stdout",
     "output_type": "stream",
     "text": [
      "91 PRZO\n"
     ]
    },
    {
     "name": "stderr",
     "output_type": "stream",
     "text": [
      "\n",
      "[*********************100%%**********************]  1 of 1 completed"
     ]
    },
    {
     "name": "stdout",
     "output_type": "stream",
     "text": [
      "92 HYAC\n"
     ]
    },
    {
     "name": "stderr",
     "output_type": "stream",
     "text": [
      "\n",
      "[*********************100%%**********************]  1 of 1 completed"
     ]
    },
    {
     "name": "stdout",
     "output_type": "stream",
     "text": [
      "93 KVAC\n"
     ]
    },
    {
     "name": "stderr",
     "output_type": "stream",
     "text": [
      "\n",
      "[*********************100%%**********************]  1 of 1 completed"
     ]
    },
    {
     "name": "stdout",
     "output_type": "stream",
     "text": [
      "94 JNVR\n"
     ]
    },
    {
     "name": "stderr",
     "output_type": "stream",
     "text": [
      "\n",
      "[*********************100%%**********************]  1 of 1 completed"
     ]
    },
    {
     "name": "stdout",
     "output_type": "stream",
     "text": [
      "95 ELWS\n"
     ]
    },
    {
     "name": "stderr",
     "output_type": "stream",
     "text": [
      "\n",
      "[*********************100%%**********************]  1 of 1 completed"
     ]
    },
    {
     "name": "stdout",
     "output_type": "stream",
     "text": [
      "96 WRNT\n"
     ]
    },
    {
     "name": "stderr",
     "output_type": "stream",
     "text": [
      "\n",
      "[*********************100%%**********************]  1 of 1 completed"
     ]
    },
    {
     "name": "stdout",
     "output_type": "stream",
     "text": [
      "97 TSBX\n"
     ]
    },
    {
     "name": "stderr",
     "output_type": "stream",
     "text": [
      "\n",
      "[*********************100%%**********************]  1 of 1 completed"
     ]
    },
    {
     "name": "stdout",
     "output_type": "stream",
     "text": [
      "98 ODD\n"
     ]
    },
    {
     "name": "stderr",
     "output_type": "stream",
     "text": [
      "\n",
      "[*********************100%%**********************]  1 of 1 completed"
     ]
    },
    {
     "name": "stdout",
     "output_type": "stream",
     "text": [
      "99 APGE\n"
     ]
    },
    {
     "name": "stderr",
     "output_type": "stream",
     "text": [
      "\n",
      "[*********************100%%**********************]  1 of 1 completed"
     ]
    },
    {
     "name": "stdout",
     "output_type": "stream",
     "text": [
      "100 NETD\n"
     ]
    },
    {
     "name": "stderr",
     "output_type": "stream",
     "text": [
      "\n",
      "[*********************100%%**********************]  1 of 1 completed"
     ]
    },
    {
     "name": "stdout",
     "output_type": "stream",
     "text": [
      "101 SGMT\n"
     ]
    },
    {
     "name": "stderr",
     "output_type": "stream",
     "text": [
      "\n",
      "[*********************100%%**********************]  1 of 1 completed"
     ]
    },
    {
     "name": "stdout",
     "output_type": "stream",
     "text": [
      "102 BOWN\n"
     ]
    },
    {
     "name": "stderr",
     "output_type": "stream",
     "text": [
      "\n",
      "[*********************100%%**********************]  1 of 1 completed"
     ]
    },
    {
     "name": "stdout",
     "output_type": "stream",
     "text": [
      "103 SXTP\n"
     ]
    },
    {
     "name": "stderr",
     "output_type": "stream",
     "text": [
      "\n",
      "[*********************100%%**********************]  1 of 1 completed"
     ]
    },
    {
     "name": "stdout",
     "output_type": "stream",
     "text": [
      "104 PWM\n"
     ]
    },
    {
     "name": "stderr",
     "output_type": "stream",
     "text": [
      "\n",
      "[*********************100%%**********************]  1 of 1 completed"
     ]
    },
    {
     "name": "stdout",
     "output_type": "stream",
     "text": [
      "105 VTMX\n"
     ]
    },
    {
     "name": "stderr",
     "output_type": "stream",
     "text": [
      "\n",
      "[*********************100%%**********************]  1 of 1 completed"
     ]
    },
    {
     "name": "stdout",
     "output_type": "stream",
     "text": [
      "106 INTS\n"
     ]
    },
    {
     "name": "stderr",
     "output_type": "stream",
     "text": [
      "\n",
      "[*********************100%%**********************]  1 of 1 completed"
     ]
    },
    {
     "name": "stdout",
     "output_type": "stream",
     "text": [
      "107 SVV\n"
     ]
    },
    {
     "name": "stderr",
     "output_type": "stream",
     "text": [
      "\n"
     ]
    },
    {
     "name": "stdout",
     "output_type": "stream",
     "text": [
      "108 KGS\n"
     ]
    },
    {
     "name": "stderr",
     "output_type": "stream",
     "text": [
      "[*********************100%%**********************]  1 of 1 completed\n",
      "[*********************100%%**********************]  1 of 1 completed"
     ]
    },
    {
     "name": "stdout",
     "output_type": "stream",
     "text": [
      "109 FIHL\n"
     ]
    },
    {
     "name": "stderr",
     "output_type": "stream",
     "text": [
      "\n",
      "[*********************100%%**********************]  1 of 1 completed"
     ]
    },
    {
     "name": "stdout",
     "output_type": "stream",
     "text": [
      "110 GENK\n"
     ]
    },
    {
     "name": "stderr",
     "output_type": "stream",
     "text": [
      "\n",
      "[*********************100%%**********************]  1 of 1 completed"
     ]
    },
    {
     "name": "stdout",
     "output_type": "stream",
     "text": [
      "111 BUJA\n"
     ]
    },
    {
     "name": "stderr",
     "output_type": "stream",
     "text": [
      "\n",
      "[*********************100%%**********************]  1 of 1 completed"
     ]
    },
    {
     "name": "stdout",
     "output_type": "stream",
     "text": [
      "112 BOF\n"
     ]
    },
    {
     "name": "stderr",
     "output_type": "stream",
     "text": [
      "\n",
      "[*********************100%%**********************]  1 of 1 completed"
     ]
    },
    {
     "name": "stdout",
     "output_type": "stream",
     "text": [
      "113 AZTR\n"
     ]
    },
    {
     "name": "stderr",
     "output_type": "stream",
     "text": [
      "\n",
      "[*********************100%%**********************]  1 of 1 completed"
     ]
    },
    {
     "name": "stdout",
     "output_type": "stream",
     "text": [
      "114 CAVA\n"
     ]
    },
    {
     "name": "stderr",
     "output_type": "stream",
     "text": [
      "\n",
      "[*********************100%%**********************]  1 of 1 completed"
     ]
    },
    {
     "name": "stdout",
     "output_type": "stream",
     "text": [
      "115 ESHA\n"
     ]
    },
    {
     "name": "stderr",
     "output_type": "stream",
     "text": [
      "\n"
     ]
    },
    {
     "name": "stdout",
     "output_type": "stream",
     "text": [
      "116 ATMU\n"
     ]
    },
    {
     "name": "stderr",
     "output_type": "stream",
     "text": [
      "[*********************100%%**********************]  1 of 1 completed\n"
     ]
    },
    {
     "name": "stdout",
     "output_type": "stream",
     "text": [
      "117 ATS\n"
     ]
    },
    {
     "name": "stderr",
     "output_type": "stream",
     "text": [
      "[*********************100%%**********************]  1 of 1 completed\n",
      "[*********************100%%**********************]  1 of 1 completed"
     ]
    },
    {
     "name": "stdout",
     "output_type": "stream",
     "text": [
      "118 IPXX\n"
     ]
    },
    {
     "name": "stderr",
     "output_type": "stream",
     "text": [
      "\n",
      "[*********************100%%**********************]  1 of 1 completed"
     ]
    },
    {
     "name": "stdout",
     "output_type": "stream",
     "text": [
      "119 CWD\n"
     ]
    },
    {
     "name": "stderr",
     "output_type": "stream",
     "text": [
      "\n",
      "[*********************100%%**********************]  1 of 1 completed"
     ]
    },
    {
     "name": "stdout",
     "output_type": "stream",
     "text": [
      "120 SGE\n"
     ]
    },
    {
     "name": "stderr",
     "output_type": "stream",
     "text": [
      "\n",
      "[*********************100%%**********************]  1 of 1 completed"
     ]
    },
    {
     "name": "stdout",
     "output_type": "stream",
     "text": [
      "121 SLRN\n"
     ]
    },
    {
     "name": "stderr",
     "output_type": "stream",
     "text": [
      "\n",
      "[*********************100%%**********************]  1 of 1 completed"
     ]
    },
    {
     "name": "stdout",
     "output_type": "stream",
     "text": [
      "122 ALCY\n"
     ]
    },
    {
     "name": "stderr",
     "output_type": "stream",
     "text": [
      "\n",
      "[*********************100%%**********************]  1 of 1 completed"
     ]
    },
    {
     "name": "stdout",
     "output_type": "stream",
     "text": [
      "123 KVUE\n"
     ]
    },
    {
     "name": "stderr",
     "output_type": "stream",
     "text": [
      "\n",
      "[*********************100%%**********************]  1 of 1 completed"
     ]
    },
    {
     "name": "stdout",
     "output_type": "stream",
     "text": [
      "124 GODN\n"
     ]
    },
    {
     "name": "stderr",
     "output_type": "stream",
     "text": [
      "\n",
      "[*********************100%%**********************]  1 of 1 completed"
     ]
    },
    {
     "name": "stdout",
     "output_type": "stream",
     "text": [
      "125 TRNR\n"
     ]
    },
    {
     "name": "stderr",
     "output_type": "stream",
     "text": [
      "\n",
      "[*********************100%%**********************]  1 of 1 completed"
     ]
    },
    {
     "name": "stdout",
     "output_type": "stream",
     "text": [
      "126 AACT\n"
     ]
    },
    {
     "name": "stderr",
     "output_type": "stream",
     "text": [
      "\n",
      "[*********************100%%**********************]  1 of 1 completed"
     ]
    },
    {
     "name": "stdout",
     "output_type": "stream",
     "text": [
      "127 JYD\n"
     ]
    },
    {
     "name": "stderr",
     "output_type": "stream",
     "text": [
      "\n",
      "[*********************100%%**********************]  1 of 1 completed"
     ]
    },
    {
     "name": "stdout",
     "output_type": "stream",
     "text": [
      "128 USGO\n"
     ]
    },
    {
     "name": "stderr",
     "output_type": "stream",
     "text": [
      "\n",
      "[*********************100%%**********************]  1 of 1 completed"
     ]
    },
    {
     "name": "stdout",
     "output_type": "stream",
     "text": [
      "129 UCAR\n"
     ]
    },
    {
     "name": "stderr",
     "output_type": "stream",
     "text": [
      "\n",
      "[*********************100%%**********************]  1 of 1 completed"
     ]
    },
    {
     "name": "stdout",
     "output_type": "stream",
     "text": [
      "130 WLGS\n"
     ]
    },
    {
     "name": "stderr",
     "output_type": "stream",
     "text": [
      "\n",
      "[*********************100%%**********************]  1 of 1 completed"
     ]
    },
    {
     "name": "stdout",
     "output_type": "stream",
     "text": [
      "131 TPET\n"
     ]
    },
    {
     "name": "stderr",
     "output_type": "stream",
     "text": [
      "\n",
      "[*********************100%%**********************]  1 of 1 completed"
     ]
    },
    {
     "name": "stdout",
     "output_type": "stream",
     "text": [
      "132 TCJH\n"
     ]
    },
    {
     "name": "stderr",
     "output_type": "stream",
     "text": [
      "\n",
      "[*********************100%%**********************]  1 of 1 completed"
     ]
    },
    {
     "name": "stdout",
     "output_type": "stream",
     "text": [
      "133 GDTC\n"
     ]
    },
    {
     "name": "stderr",
     "output_type": "stream",
     "text": [
      "\n",
      "[*********************100%%**********************]  1 of 1 completed"
     ]
    },
    {
     "name": "stdout",
     "output_type": "stream",
     "text": [
      "134 VCIG\n"
     ]
    },
    {
     "name": "stderr",
     "output_type": "stream",
     "text": [
      "\n",
      "[*********************100%%**********************]  1 of 1 completed"
     ]
    },
    {
     "name": "stdout",
     "output_type": "stream",
     "text": [
      "135 GDHG\n"
     ]
    },
    {
     "name": "stderr",
     "output_type": "stream",
     "text": [
      "\n",
      "[*********************100%%**********************]  1 of 1 completed"
     ]
    },
    {
     "name": "stdout",
     "output_type": "stream",
     "text": [
      "136 ARBB\n"
     ]
    },
    {
     "name": "stderr",
     "output_type": "stream",
     "text": [
      "\n",
      "[*********************100%%**********************]  1 of 1 completed"
     ]
    },
    {
     "name": "stdout",
     "output_type": "stream",
     "text": [
      "137 ISPR\n"
     ]
    },
    {
     "name": "stderr",
     "output_type": "stream",
     "text": [
      "\n"
     ]
    },
    {
     "name": "stdout",
     "output_type": "stream",
     "text": [
      "138 MGIH\n"
     ]
    },
    {
     "name": "stderr",
     "output_type": "stream",
     "text": [
      "[*********************100%%**********************]  1 of 1 completed\n",
      "[*********************100%%**********************]  1 of 1 completed"
     ]
    },
    {
     "name": "stdout",
     "output_type": "stream",
     "text": [
      "139 MWG\n"
     ]
    },
    {
     "name": "stderr",
     "output_type": "stream",
     "text": [
      "\n",
      "[*********************100%%**********************]  1 of 1 completed"
     ]
    },
    {
     "name": "stdout",
     "output_type": "stream",
     "text": [
      "140 HSHP\n"
     ]
    },
    {
     "name": "stderr",
     "output_type": "stream",
     "text": [
      "\n",
      "[*********************100%%**********************]  1 of 1 completed"
     ]
    },
    {
     "name": "stdout",
     "output_type": "stream",
     "text": [
      "141 SFWL\n"
     ]
    },
    {
     "name": "stderr",
     "output_type": "stream",
     "text": [
      "\n",
      "[*********************100%%**********************]  1 of 1 completed"
     ]
    },
    {
     "name": "stdout",
     "output_type": "stream",
     "text": [
      "142 SYT\n"
     ]
    },
    {
     "name": "stderr",
     "output_type": "stream",
     "text": [
      "\n",
      "[*********************100%%**********************]  1 of 1 completed"
     ]
    },
    {
     "name": "stdout",
     "output_type": "stream",
     "text": [
      "143 HKIT\n"
     ]
    },
    {
     "name": "stderr",
     "output_type": "stream",
     "text": [
      "\n",
      "[*********************100%%**********************]  1 of 1 completed"
     ]
    },
    {
     "name": "stdout",
     "output_type": "stream",
     "text": [
      "144 CHSN\n"
     ]
    },
    {
     "name": "stderr",
     "output_type": "stream",
     "text": [
      "\n",
      "[*********************100%%**********************]  1 of 1 completed"
     ]
    },
    {
     "name": "stdout",
     "output_type": "stream",
     "text": [
      "145 TBMC\n"
     ]
    },
    {
     "name": "stderr",
     "output_type": "stream",
     "text": [
      "\n",
      "[*********************100%%**********************]  1 of 1 completed"
     ]
    },
    {
     "name": "stdout",
     "output_type": "stream",
     "text": [
      "146 HLP\n"
     ]
    },
    {
     "name": "stderr",
     "output_type": "stream",
     "text": [
      "\n",
      "[*********************100%%**********************]  1 of 1 completed"
     ]
    },
    {
     "name": "stdout",
     "output_type": "stream",
     "text": [
      "147 ZJYL\n"
     ]
    },
    {
     "name": "stderr",
     "output_type": "stream",
     "text": [
      "\n",
      "[*********************100%%**********************]  1 of 1 completed"
     ]
    },
    {
     "name": "stdout",
     "output_type": "stream",
     "text": [
      "148 TMTC\n"
     ]
    },
    {
     "name": "stderr",
     "output_type": "stream",
     "text": [
      "\n",
      "[*********************100%%**********************]  1 of 1 completed"
     ]
    },
    {
     "name": "stdout",
     "output_type": "stream",
     "text": [
      "149 YGFGF\n"
     ]
    },
    {
     "name": "stderr",
     "output_type": "stream",
     "text": [
      "\n"
     ]
    },
    {
     "name": "stdout",
     "output_type": "stream",
     "text": [
      "150 OAKU\n"
     ]
    },
    {
     "name": "stderr",
     "output_type": "stream",
     "text": [
      "[*********************100%%**********************]  1 of 1 completed\n",
      "[*********************100%%**********************]  1 of 1 completed"
     ]
    },
    {
     "name": "stdout",
     "output_type": "stream",
     "text": [
      "151 BANL\n"
     ]
    },
    {
     "name": "stderr",
     "output_type": "stream",
     "text": [
      "\n",
      "[*********************100%%**********************]  1 of 1 completed"
     ]
    },
    {
     "name": "stdout",
     "output_type": "stream",
     "text": [
      "152 OMH\n"
     ]
    },
    {
     "name": "stderr",
     "output_type": "stream",
     "text": [
      "\n",
      "[*********************100%%**********************]  1 of 1 completed"
     ]
    },
    {
     "name": "stdout",
     "output_type": "stream",
     "text": [
      "153 MGRX\n"
     ]
    },
    {
     "name": "stderr",
     "output_type": "stream",
     "text": [
      "\n",
      "[*********************100%%**********************]  1 of 1 completed"
     ]
    },
    {
     "name": "stdout",
     "output_type": "stream",
     "text": [
      "154 FORL\n"
     ]
    },
    {
     "name": "stderr",
     "output_type": "stream",
     "text": [
      "\n",
      "[*********************100%%**********************]  1 of 1 completed"
     ]
    },
    {
     "name": "stdout",
     "output_type": "stream",
     "text": [
      "155 ICG\n"
     ]
    },
    {
     "name": "stderr",
     "output_type": "stream",
     "text": [
      "\n",
      "[*********************100%%**********************]  1 of 1 completed"
     ]
    },
    {
     "name": "stdout",
     "output_type": "stream",
     "text": [
      "156 IZM\n"
     ]
    },
    {
     "name": "stderr",
     "output_type": "stream",
     "text": [
      "\n",
      "[*********************100%%**********************]  1 of 1 completed"
     ]
    },
    {
     "name": "stdout",
     "output_type": "stream",
     "text": [
      "157 AESI\n"
     ]
    },
    {
     "name": "stderr",
     "output_type": "stream",
     "text": [
      "\n",
      "[*********************100%%**********************]  1 of 1 completed"
     ]
    },
    {
     "name": "stdout",
     "output_type": "stream",
     "text": [
      "158 AIXI\n"
     ]
    },
    {
     "name": "stderr",
     "output_type": "stream",
     "text": [
      "\n",
      "[*********************100%%**********************]  1 of 1 completed"
     ]
    },
    {
     "name": "stdout",
     "output_type": "stream",
     "text": [
      "159 SBXC\n"
     ]
    },
    {
     "name": "stderr",
     "output_type": "stream",
     "text": [
      "\n",
      "[*********************100%%**********************]  1 of 1 completed"
     ]
    },
    {
     "name": "stdout",
     "output_type": "stream",
     "text": [
      "160 BMR\n"
     ]
    },
    {
     "name": "stderr",
     "output_type": "stream",
     "text": [
      "\n",
      "[*********************100%%**********************]  1 of 1 completed"
     ]
    },
    {
     "name": "stdout",
     "output_type": "stream",
     "text": [
      "161 DIST\n"
     ]
    },
    {
     "name": "stderr",
     "output_type": "stream",
     "text": [
      "\n",
      "[*********************100%%**********************]  1 of 1 completed"
     ]
    },
    {
     "name": "stdout",
     "output_type": "stream",
     "text": [
      "162 GXAI\n"
     ]
    },
    {
     "name": "stderr",
     "output_type": "stream",
     "text": [
      "\n",
      "[*********************100%%**********************]  1 of 1 completed"
     ]
    },
    {
     "name": "stdout",
     "output_type": "stream",
     "text": [
      "163 MARX\n"
     ]
    },
    {
     "name": "stderr",
     "output_type": "stream",
     "text": [
      "\n",
      "[*********************100%%**********************]  1 of 1 completed"
     ]
    },
    {
     "name": "stdout",
     "output_type": "stream",
     "text": [
      "164 BFRG\n"
     ]
    },
    {
     "name": "stderr",
     "output_type": "stream",
     "text": [
      "\n",
      "[*********************100%%**********************]  1 of 1 completed"
     ]
    },
    {
     "name": "stdout",
     "output_type": "stream",
     "text": [
      "165 ENLT\n"
     ]
    },
    {
     "name": "stderr",
     "output_type": "stream",
     "text": [
      "\n",
      "[*********************100%%**********************]  1 of 1 completed"
     ]
    },
    {
     "name": "stdout",
     "output_type": "stream",
     "text": [
      "166 MLYS\n"
     ]
    },
    {
     "name": "stderr",
     "output_type": "stream",
     "text": [
      "\n",
      "[*********************100%%**********************]  1 of 1 completed"
     ]
    },
    {
     "name": "stdout",
     "output_type": "stream",
     "text": [
      "167 BLAC\n"
     ]
    },
    {
     "name": "stderr",
     "output_type": "stream",
     "text": [
      "\n",
      "[*********************100%%**********************]  1 of 1 completed"
     ]
    },
    {
     "name": "stdout",
     "output_type": "stream",
     "text": [
      "168 NXT\n"
     ]
    },
    {
     "name": "stderr",
     "output_type": "stream",
     "text": [
      "\n",
      "[*********************100%%**********************]  1 of 1 completed"
     ]
    },
    {
     "name": "stdout",
     "output_type": "stream",
     "text": [
      "169 HSAI\n"
     ]
    },
    {
     "name": "stderr",
     "output_type": "stream",
     "text": [
      "\n",
      "[*********************100%%**********************]  1 of 1 completed"
     ]
    },
    {
     "name": "stdout",
     "output_type": "stream",
     "text": [
      "170 LSDI\n"
     ]
    },
    {
     "name": "stderr",
     "output_type": "stream",
     "text": [
      "\n",
      "[*********************100%%**********************]  1 of 1 completed"
     ]
    },
    {
     "name": "stdout",
     "output_type": "stream",
     "text": [
      "171 LICN\n"
     ]
    },
    {
     "name": "stderr",
     "output_type": "stream",
     "text": [
      "\n",
      "[*********************100%%**********************]  1 of 1 completed"
     ]
    },
    {
     "name": "stdout",
     "output_type": "stream",
     "text": [
      "172 GPCR\n"
     ]
    },
    {
     "name": "stderr",
     "output_type": "stream",
     "text": [
      "\n"
     ]
    },
    {
     "name": "stdout",
     "output_type": "stream",
     "text": [
      "173 ASST\n"
     ]
    },
    {
     "name": "stderr",
     "output_type": "stream",
     "text": [
      "[*********************100%%**********************]  1 of 1 completed\n",
      "[*********************100%%**********************]  1 of 1 completed"
     ]
    },
    {
     "name": "stdout",
     "output_type": "stream",
     "text": [
      "174 CETU\n"
     ]
    },
    {
     "name": "stderr",
     "output_type": "stream",
     "text": [
      "\n",
      "[*********************100%%**********************]  1 of 1 completed"
     ]
    },
    {
     "name": "stdout",
     "output_type": "stream",
     "text": [
      "175 TXO\n"
     ]
    },
    {
     "name": "stderr",
     "output_type": "stream",
     "text": [
      "\n",
      "[*********************100%%**********************]  1 of 1 completed"
     ]
    },
    {
     "name": "stdout",
     "output_type": "stream",
     "text": [
      "176 BREA\n"
     ]
    },
    {
     "name": "stderr",
     "output_type": "stream",
     "text": [
      "\n",
      "[*********************100%%**********************]  1 of 1 completed"
     ]
    },
    {
     "name": "stdout",
     "output_type": "stream",
     "text": [
      "177 GNLX\n"
     ]
    },
    {
     "name": "stderr",
     "output_type": "stream",
     "text": [
      "\n",
      "[*********************100%%**********************]  1 of 1 completed"
     ]
    },
    {
     "name": "stdout",
     "output_type": "stream",
     "text": [
      "178 QSG\n"
     ]
    },
    {
     "name": "stderr",
     "output_type": "stream",
     "text": [
      "\n",
      "[*********************100%%**********************]  1 of 1 completed"
     ]
    },
    {
     "name": "stdout",
     "output_type": "stream",
     "text": [
      "179 CVKD\n"
     ]
    },
    {
     "name": "stderr",
     "output_type": "stream",
     "text": [
      "\n",
      "[*********************100%%**********************]  1 of 1 completed"
     ]
    },
    {
     "name": "stdout",
     "output_type": "stream",
     "text": [
      "180 SKWD\n"
     ]
    },
    {
     "name": "stderr",
     "output_type": "stream",
     "text": [
      "\n",
      "[*********************100%%**********************]  1 of 1 completed"
     ]
    },
    {
     "name": "stdout",
     "output_type": "stream",
     "text": [
      "181 ISRL\n"
     ]
    },
    {
     "name": "stderr",
     "output_type": "stream",
     "text": [
      "\n",
      "[*********************100%%**********************]  1 of 1 completed"
     ]
    },
    {
     "name": "stdout",
     "output_type": "stream",
     "text": [
      "182 MGOL\n"
     ]
    },
    {
     "name": "stderr",
     "output_type": "stream",
     "text": [
      "\n",
      "[*********************100%%**********************]  1 of 1 completed"
     ]
    },
    {
     "name": "stdout",
     "output_type": "stream",
     "text": [
      "183 HOVR\n"
     ]
    },
    {
     "name": "stderr",
     "output_type": "stream",
     "text": [
      "\n"
     ]
    }
   ],
   "source": [
    "def download_dataset(tickers, start_date, end_date, max_days=30):\n",
    "    stocks_df = pd.DataFrame()\n",
    "\n",
    "    for i, ticker in enumerate(tickers):\n",
    "        print(i,ticker)\n",
    "\n",
    "        # Work with stock prices\n",
    "        temp_df = pd.DataFrame(index=range(1))\n",
    "        historyPrices = yf.download(tickers = ticker,\n",
    "                                    period=\"max\",\n",
    "                                    interval = \"1d\")\n",
    "\n",
    "        # generate features for historical prices, and what we want to predict\n",
    "        historyPrices = historyPrices[(historyPrices.index.date >= start_date) & (historyPrices.index.date <= end_date)]\n",
    "        for day in range(1, max_days+1):\n",
    "            if day < len(historyPrices):\n",
    "                temp_df[f\"growth_{day}d\"] = historyPrices.iloc[day][\"Adj Close\"] / historyPrices.iloc[0][\"Adj Close\"] - 1\n",
    "            else:\n",
    "                temp_df[f\"growth_{day}d\"] = np.nan\n",
    "\n",
    "\n",
    "        temp_df[\"ticker\"] = ticker\n",
    "        \n",
    "        time.sleep(1)\n",
    "\n",
    "        if stocks_df.empty:\n",
    "            stocks_df = temp_df\n",
    "        else:\n",
    "            stocks_df = pd.concat([stocks_df, temp_df], ignore_index=True)\n",
    "\n",
    "    return stocks_df\n",
    "\n",
    "growth_df = download_dataset(tickers, start_date, end_date, max_days=30)"
   ]
  },
  {
   "cell_type": "code",
   "execution_count": 12,
   "id": "6afe889754afadba",
   "metadata": {
    "ExecuteTime": {
     "end_time": "2024-05-08T03:12:21.934730Z",
     "start_time": "2024-05-08T03:12:21.893105Z"
    }
   },
   "outputs": [
    {
     "data": {
      "text/html": [
       "<div>\n",
       "<style scoped>\n",
       "    .dataframe tbody tr th:only-of-type {\n",
       "        vertical-align: middle;\n",
       "    }\n",
       "\n",
       "    .dataframe tbody tr th {\n",
       "        vertical-align: top;\n",
       "    }\n",
       "\n",
       "    .dataframe thead th {\n",
       "        text-align: right;\n",
       "    }\n",
       "</style>\n",
       "<table border=\"1\" class=\"dataframe\">\n",
       "  <thead>\n",
       "    <tr style=\"text-align: right;\">\n",
       "      <th></th>\n",
       "      <th>growth_1d</th>\n",
       "      <th>growth_2d</th>\n",
       "      <th>growth_3d</th>\n",
       "      <th>growth_4d</th>\n",
       "      <th>growth_5d</th>\n",
       "      <th>growth_6d</th>\n",
       "      <th>growth_7d</th>\n",
       "      <th>growth_8d</th>\n",
       "      <th>growth_9d</th>\n",
       "      <th>growth_10d</th>\n",
       "      <th>...</th>\n",
       "      <th>growth_21d</th>\n",
       "      <th>growth_22d</th>\n",
       "      <th>growth_23d</th>\n",
       "      <th>growth_24d</th>\n",
       "      <th>growth_25d</th>\n",
       "      <th>growth_26d</th>\n",
       "      <th>growth_27d</th>\n",
       "      <th>growth_28d</th>\n",
       "      <th>growth_29d</th>\n",
       "      <th>growth_30d</th>\n",
       "    </tr>\n",
       "  </thead>\n",
       "  <tbody>\n",
       "    <tr>\n",
       "      <th>count</th>\n",
       "      <td>181.000000</td>\n",
       "      <td>181.000000</td>\n",
       "      <td>180.000000</td>\n",
       "      <td>179.000000</td>\n",
       "      <td>179.000000</td>\n",
       "      <td>179.000000</td>\n",
       "      <td>179.000000</td>\n",
       "      <td>179.000000</td>\n",
       "      <td>177.000000</td>\n",
       "      <td>177.000000</td>\n",
       "      <td>...</td>\n",
       "      <td>165.000000</td>\n",
       "      <td>165.000000</td>\n",
       "      <td>165.000000</td>\n",
       "      <td>162.000000</td>\n",
       "      <td>160.000000</td>\n",
       "      <td>158.000000</td>\n",
       "      <td>157.000000</td>\n",
       "      <td>157.000000</td>\n",
       "      <td>156.000000</td>\n",
       "      <td>154.000000</td>\n",
       "    </tr>\n",
       "    <tr>\n",
       "      <th>mean</th>\n",
       "      <td>-0.053573</td>\n",
       "      <td>-0.061657</td>\n",
       "      <td>-0.067399</td>\n",
       "      <td>-0.077484</td>\n",
       "      <td>-0.085402</td>\n",
       "      <td>-0.092660</td>\n",
       "      <td>-0.103517</td>\n",
       "      <td>-0.104260</td>\n",
       "      <td>-0.102986</td>\n",
       "      <td>-0.105960</td>\n",
       "      <td>...</td>\n",
       "      <td>-0.081706</td>\n",
       "      <td>-0.090219</td>\n",
       "      <td>-0.090567</td>\n",
       "      <td>-0.093193</td>\n",
       "      <td>-0.105073</td>\n",
       "      <td>-0.098904</td>\n",
       "      <td>-0.064416</td>\n",
       "      <td>-0.058906</td>\n",
       "      <td>-0.059838</td>\n",
       "      <td>-0.058124</td>\n",
       "    </tr>\n",
       "    <tr>\n",
       "      <th>std</th>\n",
       "      <td>0.172888</td>\n",
       "      <td>0.206940</td>\n",
       "      <td>0.248641</td>\n",
       "      <td>0.265380</td>\n",
       "      <td>0.296595</td>\n",
       "      <td>0.311695</td>\n",
       "      <td>0.301164</td>\n",
       "      <td>0.323844</td>\n",
       "      <td>0.357175</td>\n",
       "      <td>0.370200</td>\n",
       "      <td>...</td>\n",
       "      <td>0.532256</td>\n",
       "      <td>0.489866</td>\n",
       "      <td>0.496217</td>\n",
       "      <td>0.504580</td>\n",
       "      <td>0.500826</td>\n",
       "      <td>0.547035</td>\n",
       "      <td>0.835076</td>\n",
       "      <td>0.836287</td>\n",
       "      <td>0.835842</td>\n",
       "      <td>0.829488</td>\n",
       "    </tr>\n",
       "    <tr>\n",
       "      <th>min</th>\n",
       "      <td>-0.846431</td>\n",
       "      <td>-0.891267</td>\n",
       "      <td>-0.913359</td>\n",
       "      <td>-0.905743</td>\n",
       "      <td>-0.918882</td>\n",
       "      <td>-0.912323</td>\n",
       "      <td>-0.914739</td>\n",
       "      <td>-0.909877</td>\n",
       "      <td>-0.904384</td>\n",
       "      <td>-0.903003</td>\n",
       "      <td>...</td>\n",
       "      <td>-0.951674</td>\n",
       "      <td>-0.951674</td>\n",
       "      <td>-0.950639</td>\n",
       "      <td>-0.951674</td>\n",
       "      <td>-0.951674</td>\n",
       "      <td>-0.954781</td>\n",
       "      <td>-0.955471</td>\n",
       "      <td>-0.953055</td>\n",
       "      <td>-0.957197</td>\n",
       "      <td>-0.959613</td>\n",
       "    </tr>\n",
       "    <tr>\n",
       "      <th>25%</th>\n",
       "      <td>-0.095890</td>\n",
       "      <td>-0.122449</td>\n",
       "      <td>-0.144643</td>\n",
       "      <td>-0.161301</td>\n",
       "      <td>-0.214694</td>\n",
       "      <td>-0.236429</td>\n",
       "      <td>-0.214208</td>\n",
       "      <td>-0.251714</td>\n",
       "      <td>-0.271429</td>\n",
       "      <td>-0.290155</td>\n",
       "      <td>...</td>\n",
       "      <td>-0.383817</td>\n",
       "      <td>-0.387967</td>\n",
       "      <td>-0.383817</td>\n",
       "      <td>-0.366905</td>\n",
       "      <td>-0.397670</td>\n",
       "      <td>-0.396992</td>\n",
       "      <td>-0.398020</td>\n",
       "      <td>-0.376238</td>\n",
       "      <td>-0.389279</td>\n",
       "      <td>-0.376471</td>\n",
       "    </tr>\n",
       "    <tr>\n",
       "      <th>50%</th>\n",
       "      <td>0.000000</td>\n",
       "      <td>0.000000</td>\n",
       "      <td>-0.002177</td>\n",
       "      <td>-0.004801</td>\n",
       "      <td>-0.003974</td>\n",
       "      <td>-0.029260</td>\n",
       "      <td>-0.023861</td>\n",
       "      <td>-0.019061</td>\n",
       "      <td>-0.017448</td>\n",
       "      <td>-0.022609</td>\n",
       "      <td>...</td>\n",
       "      <td>-0.022222</td>\n",
       "      <td>-0.011080</td>\n",
       "      <td>-0.015491</td>\n",
       "      <td>-0.020072</td>\n",
       "      <td>-0.030481</td>\n",
       "      <td>-0.017977</td>\n",
       "      <td>-0.025862</td>\n",
       "      <td>-0.025559</td>\n",
       "      <td>-0.025562</td>\n",
       "      <td>-0.008263</td>\n",
       "    </tr>\n",
       "    <tr>\n",
       "      <th>75%</th>\n",
       "      <td>0.016667</td>\n",
       "      <td>0.021407</td>\n",
       "      <td>0.011263</td>\n",
       "      <td>0.011435</td>\n",
       "      <td>0.010500</td>\n",
       "      <td>0.008474</td>\n",
       "      <td>0.006903</td>\n",
       "      <td>0.008991</td>\n",
       "      <td>0.011896</td>\n",
       "      <td>0.016327</td>\n",
       "      <td>...</td>\n",
       "      <td>0.013712</td>\n",
       "      <td>0.024089</td>\n",
       "      <td>0.026189</td>\n",
       "      <td>0.026564</td>\n",
       "      <td>0.021410</td>\n",
       "      <td>0.027515</td>\n",
       "      <td>0.034483</td>\n",
       "      <td>0.038591</td>\n",
       "      <td>0.025717</td>\n",
       "      <td>0.023718</td>\n",
       "    </tr>\n",
       "    <tr>\n",
       "      <th>max</th>\n",
       "      <td>0.362069</td>\n",
       "      <td>0.464015</td>\n",
       "      <td>1.380000</td>\n",
       "      <td>1.083710</td>\n",
       "      <td>1.262443</td>\n",
       "      <td>1.529870</td>\n",
       "      <td>1.173913</td>\n",
       "      <td>1.359740</td>\n",
       "      <td>1.751948</td>\n",
       "      <td>2.176087</td>\n",
       "      <td>...</td>\n",
       "      <td>3.500000</td>\n",
       "      <td>2.871041</td>\n",
       "      <td>2.846154</td>\n",
       "      <td>2.803394</td>\n",
       "      <td>2.427273</td>\n",
       "      <td>3.817886</td>\n",
       "      <td>8.056122</td>\n",
       "      <td>8.081632</td>\n",
       "      <td>8.265306</td>\n",
       "      <td>8.372449</td>\n",
       "    </tr>\n",
       "  </tbody>\n",
       "</table>\n",
       "<p>8 rows × 30 columns</p>\n",
       "</div>"
      ],
      "text/plain": [
       "        growth_1d   growth_2d   growth_3d   growth_4d   growth_5d   growth_6d  \\\n",
       "count  181.000000  181.000000  180.000000  179.000000  179.000000  179.000000   \n",
       "mean    -0.053573   -0.061657   -0.067399   -0.077484   -0.085402   -0.092660   \n",
       "std      0.172888    0.206940    0.248641    0.265380    0.296595    0.311695   \n",
       "min     -0.846431   -0.891267   -0.913359   -0.905743   -0.918882   -0.912323   \n",
       "25%     -0.095890   -0.122449   -0.144643   -0.161301   -0.214694   -0.236429   \n",
       "50%      0.000000    0.000000   -0.002177   -0.004801   -0.003974   -0.029260   \n",
       "75%      0.016667    0.021407    0.011263    0.011435    0.010500    0.008474   \n",
       "max      0.362069    0.464015    1.380000    1.083710    1.262443    1.529870   \n",
       "\n",
       "        growth_7d   growth_8d   growth_9d  growth_10d  ...  growth_21d  \\\n",
       "count  179.000000  179.000000  177.000000  177.000000  ...  165.000000   \n",
       "mean    -0.103517   -0.104260   -0.102986   -0.105960  ...   -0.081706   \n",
       "std      0.301164    0.323844    0.357175    0.370200  ...    0.532256   \n",
       "min     -0.914739   -0.909877   -0.904384   -0.903003  ...   -0.951674   \n",
       "25%     -0.214208   -0.251714   -0.271429   -0.290155  ...   -0.383817   \n",
       "50%     -0.023861   -0.019061   -0.017448   -0.022609  ...   -0.022222   \n",
       "75%      0.006903    0.008991    0.011896    0.016327  ...    0.013712   \n",
       "max      1.173913    1.359740    1.751948    2.176087  ...    3.500000   \n",
       "\n",
       "       growth_22d  growth_23d  growth_24d  growth_25d  growth_26d  growth_27d  \\\n",
       "count  165.000000  165.000000  162.000000  160.000000  158.000000  157.000000   \n",
       "mean    -0.090219   -0.090567   -0.093193   -0.105073   -0.098904   -0.064416   \n",
       "std      0.489866    0.496217    0.504580    0.500826    0.547035    0.835076   \n",
       "min     -0.951674   -0.950639   -0.951674   -0.951674   -0.954781   -0.955471   \n",
       "25%     -0.387967   -0.383817   -0.366905   -0.397670   -0.396992   -0.398020   \n",
       "50%     -0.011080   -0.015491   -0.020072   -0.030481   -0.017977   -0.025862   \n",
       "75%      0.024089    0.026189    0.026564    0.021410    0.027515    0.034483   \n",
       "max      2.871041    2.846154    2.803394    2.427273    3.817886    8.056122   \n",
       "\n",
       "       growth_28d  growth_29d  growth_30d  \n",
       "count  157.000000  156.000000  154.000000  \n",
       "mean    -0.058906   -0.059838   -0.058124  \n",
       "std      0.836287    0.835842    0.829488  \n",
       "min     -0.953055   -0.957197   -0.959613  \n",
       "25%     -0.376238   -0.389279   -0.376471  \n",
       "50%     -0.025559   -0.025562   -0.008263  \n",
       "75%      0.038591    0.025717    0.023718  \n",
       "max      8.081632    8.265306    8.372449  \n",
       "\n",
       "[8 rows x 30 columns]"
      ]
     },
     "execution_count": 12,
     "metadata": {},
     "output_type": "execute_result"
    }
   ],
   "source": [
    "growth_df.describe()"
   ]
  },
  {
   "cell_type": "code",
   "execution_count": 13,
   "id": "3ceed506e62c48c",
   "metadata": {
    "ExecuteTime": {
     "end_time": "2024-05-08T03:12:21.975103Z",
     "start_time": "2024-05-08T03:12:21.935632Z"
    }
   },
   "outputs": [
    {
     "name": "stdout",
     "output_type": "stream",
     "text": [
      "The optimal number of days for the highest 75% quantile growth is 28\n"
     ]
    }
   ],
   "source": [
    "optimal = growth_df.describe().T[\"75%\"].argmax() + 1\n",
    "print(f\"The optimal number of days for the highest 75% quantile growth is {optimal}\")"
   ]
  },
  {
   "cell_type": "markdown",
   "id": "1e1df44d24c2a94a",
   "metadata": {},
   "source": [
    "## Question 3: Is Growth Concentrated in the Largest Stocks?\n",
    "\n",
    "**Get the share of days (percentage as int) when Large Stocks outperform (growth_7d - growth over 7 periods back) the Largest stocks?**\n",
    "\n",
    "\n",
    "Reuse [Code Snippet 5] to obtain OHLCV stats for 33 stocks \n",
    "for 10 full years of data (2014-01-01 to 2023-12-31). You'll need to download slightly more data (7 periods before 2014-01-01 to calculate the growth_7d for the first 6 days correctly):\n",
    "\n",
    "`US_STOCKS = ['MSFT', 'AAPL', 'GOOG', 'NVDA', 'AMZN', 'META', 'BRK-B', 'LLY', 'AVGO','V', 'JPM']`\n",
    "\n",
    "`EU_STOCKS = ['NVO','MC.PA', 'ASML', 'RMS.PA', 'OR.PA', 'SAP', 'ACN', 'TTE', 'SIE.DE','IDEXY','CDI.PA']`\n",
    "\n",
    "`INDIA_STOCKS = ['RELIANCE.NS','TCS.NS','HDB','BHARTIARTL.NS','IBN','SBIN.NS','LICI.NS','INFY','ITC.NS','HINDUNILVR.NS','LT.NS']`\n",
    "\n",
    "`LARGEST_STOCKS = US_STOCKS + EU_STOCKS + INDIA_STOCKS`\n",
    "<br/>\n",
    "\n",
    "Now let's add the top 12-22 stocks (as of end-April 2024):\n",
    "<br/>\n",
    "\n",
    "`NEW_US = ['TSLA','WMT','XOM','UNH','MA','PG','JNJ','MRK','HD','COST','ORCL']`\n",
    "\n",
    "`NEW_EU = ['PRX.AS','CDI.PA','AIR.PA','SU.PA','ETN','SNY','BUD','DTE.DE','ALV.DE','MDT','AI.PA','EL.PA']`\n",
    "\n",
    "`NEW_INDIA = ['BAJFINANCE.NS','MARUTI.NS','HCLTECH.NS','TATAMOTORS.NS','SUNPHARMA.NS','ONGC.NS','ADANIENT.NS','ADANIENT.NS','NTPC.NS','KOTAKBANK.NS','TITAN.NS']`\n",
    "\n",
    "`LARGE_STOCKS = NEW_EU + NEW_US + NEW_INDIA`\n",
    "\n",
    "You should be able to obtain stats for 33 LARGEST STOCKS and 32 LARGE STOCKS (from the actual stats on Yahoo Finance)\n",
    "\n",
    "Calculate  `growth_7d` for every stock and every day.\n",
    "Get the average daily `growth_7d` for the LARGEST_STOCKS group vs. the LARGE_STOCKS group.\n",
    "\n",
    "For example, for the first of data you should have:\n",
    "| Date   |      ticker_category      |  growth_7d |\n",
    "|----------|:-------------:|------:|\n",
    "| 2014-01-01 |  LARGE | 1.011684 |\n",
    "| 2014-01-01 |   LARGEST   |   1.011797 |\n",
    "\n",
    "On that day, the LARGEST group was growing faster than LARGE one (new stocks).\n",
    "\n",
    "Calculate the number of days when the LARGE GROUP (new smaller stocks) outperforms the LARGEST GROUP, divide it by the total number of trading days (which should be 2595 days), and convert it to a percentage (closest INTEGER value). For example, if you find that 1700 out of 2595 days meet this condition, it means that 1700/2595 = 0.655, or approximately 66% of days, the LARGE stocks were growing faster than the LARGEST ones. This suggests that you should consider extending your dataset with more stocks to seek higher growth.\n",
    "\n",
    "HINT: you can use pandas.pivot_table() to \"flatten\" the table (LARGE and LARGEST growth_7d as columns)"
   ]
  },
  {
   "cell_type": "code",
   "execution_count": 14,
   "id": "6805b632c7b478c1",
   "metadata": {
    "ExecuteTime": {
     "end_time": "2024-05-08T03:12:21.980628Z",
     "start_time": "2024-05-08T03:12:21.977006Z"
    }
   },
   "outputs": [],
   "source": [
    "US_STOCKS = ['MSFT', 'AAPL', 'GOOG', 'NVDA', 'AMZN', 'META', 'BRK-B', 'LLY', 'AVGO','V', 'JPM']\n",
    "\n",
    "EU_STOCKS = ['NVO','MC.PA', 'ASML', 'RMS.PA', 'OR.PA', 'SAP', 'ACN', 'TTE', 'SIE.DE','IDEXY','CDI.PA']\n",
    "\n",
    "INDIA_STOCKS = ['RELIANCE.NS','TCS.NS','HDB','BHARTIARTL.NS','IBN','SBIN.NS','LICI.NS','INFY','ITC.NS','HINDUNILVR.NS','LT.NS']\n",
    "\n",
    "LARGEST_STOCKS = US_STOCKS + EU_STOCKS + INDIA_STOCKS\n",
    "\n",
    "NEW_US = ['TSLA','WMT','XOM','UNH','MA','PG','JNJ','MRK','HD','COST','ORCL']\n",
    "\n",
    "NEW_EU = ['PRX.AS','CDI.PA','AIR.PA','SU.PA','ETN','SNY','BUD','DTE.DE','ALV.DE','MDT','AI.PA','EL.PA']\n",
    "\n",
    "NEW_INDIA = ['BAJFINANCE.NS','MARUTI.NS','HCLTECH.NS','TATAMOTORS.NS','SUNPHARMA.NS','ONGC.NS','ADANIENT.NS','ADANIENT.NS','NTPC.NS','KOTAKBANK.NS','TITAN.NS']\n",
    "\n",
    "LARGE_STOCKS = NEW_EU + NEW_US + NEW_INDIA\n",
    "\n",
    "start_date = date(2014, 1, 1) \n",
    "end_date = date(2023, 12, 31)"
   ]
  },
  {
   "cell_type": "code",
   "execution_count": 15,
   "id": "9d34bd32ccf20012",
   "metadata": {
    "ExecuteTime": {
     "end_time": "2024-05-08T03:13:53.265278Z",
     "start_time": "2024-05-08T03:12:21.981629Z"
    }
   },
   "outputs": [
    {
     "name": "stdout",
     "output_type": "stream",
     "text": [
      "0 MSFT\n"
     ]
    },
    {
     "name": "stderr",
     "output_type": "stream",
     "text": [
      "[*********************100%%**********************]  1 of 1 completed\n"
     ]
    },
    {
     "name": "stdout",
     "output_type": "stream",
     "text": [
      "1 AAPL\n"
     ]
    },
    {
     "name": "stderr",
     "output_type": "stream",
     "text": [
      "[*********************100%%**********************]  1 of 1 completed\n"
     ]
    },
    {
     "name": "stdout",
     "output_type": "stream",
     "text": [
      "2 GOOG\n"
     ]
    },
    {
     "name": "stderr",
     "output_type": "stream",
     "text": [
      "[*********************100%%**********************]  1 of 1 completed\n"
     ]
    },
    {
     "name": "stdout",
     "output_type": "stream",
     "text": [
      "3 NVDA\n"
     ]
    },
    {
     "name": "stderr",
     "output_type": "stream",
     "text": [
      "[*********************100%%**********************]  1 of 1 completed\n"
     ]
    },
    {
     "name": "stdout",
     "output_type": "stream",
     "text": [
      "4 AMZN\n"
     ]
    },
    {
     "name": "stderr",
     "output_type": "stream",
     "text": [
      "[*********************100%%**********************]  1 of 1 completed\n"
     ]
    },
    {
     "name": "stdout",
     "output_type": "stream",
     "text": [
      "5 META\n"
     ]
    },
    {
     "name": "stderr",
     "output_type": "stream",
     "text": [
      "[*********************100%%**********************]  1 of 1 completed\n"
     ]
    },
    {
     "name": "stdout",
     "output_type": "stream",
     "text": [
      "6 BRK-B\n"
     ]
    },
    {
     "name": "stderr",
     "output_type": "stream",
     "text": [
      "[*********************100%%**********************]  1 of 1 completed\n"
     ]
    },
    {
     "name": "stdout",
     "output_type": "stream",
     "text": [
      "7 LLY\n"
     ]
    },
    {
     "name": "stderr",
     "output_type": "stream",
     "text": [
      "[*********************100%%**********************]  1 of 1 completed\n"
     ]
    },
    {
     "name": "stdout",
     "output_type": "stream",
     "text": [
      "8 AVGO\n"
     ]
    },
    {
     "name": "stderr",
     "output_type": "stream",
     "text": [
      "[*********************100%%**********************]  1 of 1 completed\n"
     ]
    },
    {
     "name": "stdout",
     "output_type": "stream",
     "text": [
      "9 V\n"
     ]
    },
    {
     "name": "stderr",
     "output_type": "stream",
     "text": [
      "[*********************100%%**********************]  1 of 1 completed\n"
     ]
    },
    {
     "name": "stdout",
     "output_type": "stream",
     "text": [
      "10 JPM\n"
     ]
    },
    {
     "name": "stderr",
     "output_type": "stream",
     "text": [
      "[*********************100%%**********************]  1 of 1 completed\n"
     ]
    },
    {
     "name": "stdout",
     "output_type": "stream",
     "text": [
      "11 NVO\n"
     ]
    },
    {
     "name": "stderr",
     "output_type": "stream",
     "text": [
      "[*********************100%%**********************]  1 of 1 completed\n"
     ]
    },
    {
     "name": "stdout",
     "output_type": "stream",
     "text": [
      "12 MC.PA\n"
     ]
    },
    {
     "name": "stderr",
     "output_type": "stream",
     "text": [
      "[*********************100%%**********************]  1 of 1 completed\n"
     ]
    },
    {
     "name": "stdout",
     "output_type": "stream",
     "text": [
      "13 ASML\n"
     ]
    },
    {
     "name": "stderr",
     "output_type": "stream",
     "text": [
      "[*********************100%%**********************]  1 of 1 completed\n"
     ]
    },
    {
     "name": "stdout",
     "output_type": "stream",
     "text": [
      "14 RMS.PA\n"
     ]
    },
    {
     "name": "stderr",
     "output_type": "stream",
     "text": [
      "[*********************100%%**********************]  1 of 1 completed\n"
     ]
    },
    {
     "name": "stdout",
     "output_type": "stream",
     "text": [
      "15 OR.PA\n"
     ]
    },
    {
     "name": "stderr",
     "output_type": "stream",
     "text": [
      "[*********************100%%**********************]  1 of 1 completed\n"
     ]
    },
    {
     "name": "stdout",
     "output_type": "stream",
     "text": [
      "16 SAP\n"
     ]
    },
    {
     "name": "stderr",
     "output_type": "stream",
     "text": [
      "[*********************100%%**********************]  1 of 1 completed\n"
     ]
    },
    {
     "name": "stdout",
     "output_type": "stream",
     "text": [
      "17 ACN\n"
     ]
    },
    {
     "name": "stderr",
     "output_type": "stream",
     "text": [
      "[*********************100%%**********************]  1 of 1 completed\n"
     ]
    },
    {
     "name": "stdout",
     "output_type": "stream",
     "text": [
      "18 TTE\n"
     ]
    },
    {
     "name": "stderr",
     "output_type": "stream",
     "text": [
      "[*********************100%%**********************]  1 of 1 completed\n"
     ]
    },
    {
     "name": "stdout",
     "output_type": "stream",
     "text": [
      "19 SIE.DE\n"
     ]
    },
    {
     "name": "stderr",
     "output_type": "stream",
     "text": [
      "[*********************100%%**********************]  1 of 1 completed\n"
     ]
    },
    {
     "name": "stdout",
     "output_type": "stream",
     "text": [
      "20 IDEXY\n"
     ]
    },
    {
     "name": "stderr",
     "output_type": "stream",
     "text": [
      "[*********************100%%**********************]  1 of 1 completed\n"
     ]
    },
    {
     "name": "stdout",
     "output_type": "stream",
     "text": [
      "21 CDI.PA\n"
     ]
    },
    {
     "name": "stderr",
     "output_type": "stream",
     "text": [
      "[*********************100%%**********************]  1 of 1 completed\n"
     ]
    },
    {
     "name": "stdout",
     "output_type": "stream",
     "text": [
      "22 RELIANCE.NS\n"
     ]
    },
    {
     "name": "stderr",
     "output_type": "stream",
     "text": [
      "[*********************100%%**********************]  1 of 1 completed\n"
     ]
    },
    {
     "name": "stdout",
     "output_type": "stream",
     "text": [
      "23 TCS.NS\n"
     ]
    },
    {
     "name": "stderr",
     "output_type": "stream",
     "text": [
      "[*********************100%%**********************]  1 of 1 completed\n"
     ]
    },
    {
     "name": "stdout",
     "output_type": "stream",
     "text": [
      "24 HDB\n"
     ]
    },
    {
     "name": "stderr",
     "output_type": "stream",
     "text": [
      "[*********************100%%**********************]  1 of 1 completed\n"
     ]
    },
    {
     "name": "stdout",
     "output_type": "stream",
     "text": [
      "25 BHARTIARTL.NS\n"
     ]
    },
    {
     "name": "stderr",
     "output_type": "stream",
     "text": [
      "[*********************100%%**********************]  1 of 1 completed\n"
     ]
    },
    {
     "name": "stdout",
     "output_type": "stream",
     "text": [
      "26 IBN\n"
     ]
    },
    {
     "name": "stderr",
     "output_type": "stream",
     "text": [
      "[*********************100%%**********************]  1 of 1 completed\n"
     ]
    },
    {
     "name": "stdout",
     "output_type": "stream",
     "text": [
      "27 SBIN.NS\n"
     ]
    },
    {
     "name": "stderr",
     "output_type": "stream",
     "text": [
      "[*********************100%%**********************]  1 of 1 completed\n",
      "[*********************100%%**********************]  1 of 1 completed"
     ]
    },
    {
     "name": "stdout",
     "output_type": "stream",
     "text": [
      "28 LICI.NS\n"
     ]
    },
    {
     "name": "stderr",
     "output_type": "stream",
     "text": [
      "\n"
     ]
    },
    {
     "name": "stdout",
     "output_type": "stream",
     "text": [
      "29 INFY\n"
     ]
    },
    {
     "name": "stderr",
     "output_type": "stream",
     "text": [
      "[*********************100%%**********************]  1 of 1 completed\n"
     ]
    },
    {
     "name": "stdout",
     "output_type": "stream",
     "text": [
      "30 ITC.NS\n"
     ]
    },
    {
     "name": "stderr",
     "output_type": "stream",
     "text": [
      "[*********************100%%**********************]  1 of 1 completed\n"
     ]
    },
    {
     "name": "stdout",
     "output_type": "stream",
     "text": [
      "31 HINDUNILVR.NS\n"
     ]
    },
    {
     "name": "stderr",
     "output_type": "stream",
     "text": [
      "[*********************100%%**********************]  1 of 1 completed\n"
     ]
    },
    {
     "name": "stdout",
     "output_type": "stream",
     "text": [
      "32 LT.NS\n"
     ]
    },
    {
     "name": "stderr",
     "output_type": "stream",
     "text": [
      "[*********************100%%**********************]  1 of 1 completed\n"
     ]
    },
    {
     "name": "stdout",
     "output_type": "stream",
     "text": [
      "0 PRX.AS\n"
     ]
    },
    {
     "name": "stderr",
     "output_type": "stream",
     "text": [
      "[*********************100%%**********************]  1 of 1 completed\n",
      "[*********************100%%**********************]  1 of 1 completed"
     ]
    },
    {
     "name": "stdout",
     "output_type": "stream",
     "text": [
      "1 CDI.PA\n"
     ]
    },
    {
     "name": "stderr",
     "output_type": "stream",
     "text": [
      "\n"
     ]
    },
    {
     "name": "stdout",
     "output_type": "stream",
     "text": [
      "2 AIR.PA\n"
     ]
    },
    {
     "name": "stderr",
     "output_type": "stream",
     "text": [
      "[*********************100%%**********************]  1 of 1 completed\n"
     ]
    },
    {
     "name": "stdout",
     "output_type": "stream",
     "text": [
      "3 SU.PA\n"
     ]
    },
    {
     "name": "stderr",
     "output_type": "stream",
     "text": [
      "[*********************100%%**********************]  1 of 1 completed\n"
     ]
    },
    {
     "name": "stdout",
     "output_type": "stream",
     "text": [
      "4 ETN\n"
     ]
    },
    {
     "name": "stderr",
     "output_type": "stream",
     "text": [
      "[*********************100%%**********************]  1 of 1 completed\n"
     ]
    },
    {
     "name": "stdout",
     "output_type": "stream",
     "text": [
      "5 SNY\n"
     ]
    },
    {
     "name": "stderr",
     "output_type": "stream",
     "text": [
      "[*********************100%%**********************]  1 of 1 completed\n"
     ]
    },
    {
     "name": "stdout",
     "output_type": "stream",
     "text": [
      "6 BUD\n"
     ]
    },
    {
     "name": "stderr",
     "output_type": "stream",
     "text": [
      "[*********************100%%**********************]  1 of 1 completed\n"
     ]
    },
    {
     "name": "stdout",
     "output_type": "stream",
     "text": [
      "7 DTE.DE\n"
     ]
    },
    {
     "name": "stderr",
     "output_type": "stream",
     "text": [
      "[*********************100%%**********************]  1 of 1 completed\n"
     ]
    },
    {
     "name": "stdout",
     "output_type": "stream",
     "text": [
      "8 ALV.DE\n"
     ]
    },
    {
     "name": "stderr",
     "output_type": "stream",
     "text": [
      "[*********************100%%**********************]  1 of 1 completed\n"
     ]
    },
    {
     "name": "stdout",
     "output_type": "stream",
     "text": [
      "9 MDT\n"
     ]
    },
    {
     "name": "stderr",
     "output_type": "stream",
     "text": [
      "[*********************100%%**********************]  1 of 1 completed\n"
     ]
    },
    {
     "name": "stdout",
     "output_type": "stream",
     "text": [
      "10 AI.PA\n"
     ]
    },
    {
     "name": "stderr",
     "output_type": "stream",
     "text": [
      "[*********************100%%**********************]  1 of 1 completed\n"
     ]
    },
    {
     "name": "stdout",
     "output_type": "stream",
     "text": [
      "11 EL.PA\n"
     ]
    },
    {
     "name": "stderr",
     "output_type": "stream",
     "text": [
      "[*********************100%%**********************]  1 of 1 completed\n"
     ]
    },
    {
     "name": "stdout",
     "output_type": "stream",
     "text": [
      "12 TSLA\n"
     ]
    },
    {
     "name": "stderr",
     "output_type": "stream",
     "text": [
      "[*********************100%%**********************]  1 of 1 completed\n"
     ]
    },
    {
     "name": "stdout",
     "output_type": "stream",
     "text": [
      "13 WMT\n"
     ]
    },
    {
     "name": "stderr",
     "output_type": "stream",
     "text": [
      "[*********************100%%**********************]  1 of 1 completed\n"
     ]
    },
    {
     "name": "stdout",
     "output_type": "stream",
     "text": [
      "14 XOM\n"
     ]
    },
    {
     "name": "stderr",
     "output_type": "stream",
     "text": [
      "[*********************100%%**********************]  1 of 1 completed\n"
     ]
    },
    {
     "name": "stdout",
     "output_type": "stream",
     "text": [
      "15 UNH\n"
     ]
    },
    {
     "name": "stderr",
     "output_type": "stream",
     "text": [
      "[*********************100%%**********************]  1 of 1 completed\n"
     ]
    },
    {
     "name": "stdout",
     "output_type": "stream",
     "text": [
      "16 MA\n"
     ]
    },
    {
     "name": "stderr",
     "output_type": "stream",
     "text": [
      "[*********************100%%**********************]  1 of 1 completed\n"
     ]
    },
    {
     "name": "stdout",
     "output_type": "stream",
     "text": [
      "17 PG\n"
     ]
    },
    {
     "name": "stderr",
     "output_type": "stream",
     "text": [
      "[*********************100%%**********************]  1 of 1 completed\n"
     ]
    },
    {
     "name": "stdout",
     "output_type": "stream",
     "text": [
      "18 JNJ\n"
     ]
    },
    {
     "name": "stderr",
     "output_type": "stream",
     "text": [
      "[*********************100%%**********************]  1 of 1 completed\n"
     ]
    },
    {
     "name": "stdout",
     "output_type": "stream",
     "text": [
      "19 MRK\n"
     ]
    },
    {
     "name": "stderr",
     "output_type": "stream",
     "text": [
      "[*********************100%%**********************]  1 of 1 completed\n"
     ]
    },
    {
     "name": "stdout",
     "output_type": "stream",
     "text": [
      "20 HD\n"
     ]
    },
    {
     "name": "stderr",
     "output_type": "stream",
     "text": [
      "[*********************100%%**********************]  1 of 1 completed\n"
     ]
    },
    {
     "name": "stdout",
     "output_type": "stream",
     "text": [
      "21 COST\n"
     ]
    },
    {
     "name": "stderr",
     "output_type": "stream",
     "text": [
      "[*********************100%%**********************]  1 of 1 completed\n"
     ]
    },
    {
     "name": "stdout",
     "output_type": "stream",
     "text": [
      "22 ORCL\n"
     ]
    },
    {
     "name": "stderr",
     "output_type": "stream",
     "text": [
      "[*********************100%%**********************]  1 of 1 completed\n"
     ]
    },
    {
     "name": "stdout",
     "output_type": "stream",
     "text": [
      "23 BAJFINANCE.NS\n"
     ]
    },
    {
     "name": "stderr",
     "output_type": "stream",
     "text": [
      "[*********************100%%**********************]  1 of 1 completed\n"
     ]
    },
    {
     "name": "stdout",
     "output_type": "stream",
     "text": [
      "24 MARUTI.NS\n"
     ]
    },
    {
     "name": "stderr",
     "output_type": "stream",
     "text": [
      "[*********************100%%**********************]  1 of 1 completed\n"
     ]
    },
    {
     "name": "stdout",
     "output_type": "stream",
     "text": [
      "25 HCLTECH.NS\n"
     ]
    },
    {
     "name": "stderr",
     "output_type": "stream",
     "text": [
      "[*********************100%%**********************]  1 of 1 completed\n"
     ]
    },
    {
     "name": "stdout",
     "output_type": "stream",
     "text": [
      "26 TATAMOTORS.NS\n"
     ]
    },
    {
     "name": "stderr",
     "output_type": "stream",
     "text": [
      "[*********************100%%**********************]  1 of 1 completed\n"
     ]
    },
    {
     "name": "stdout",
     "output_type": "stream",
     "text": [
      "27 SUNPHARMA.NS\n"
     ]
    },
    {
     "name": "stderr",
     "output_type": "stream",
     "text": [
      "[*********************100%%**********************]  1 of 1 completed\n"
     ]
    },
    {
     "name": "stdout",
     "output_type": "stream",
     "text": [
      "28 ONGC.NS\n"
     ]
    },
    {
     "name": "stderr",
     "output_type": "stream",
     "text": [
      "[*********************100%%**********************]  1 of 1 completed\n"
     ]
    },
    {
     "name": "stdout",
     "output_type": "stream",
     "text": [
      "29 ADANIENT.NS\n"
     ]
    },
    {
     "name": "stderr",
     "output_type": "stream",
     "text": [
      "[*********************100%%**********************]  1 of 1 completed\n",
      "[*********************100%%**********************]  1 of 1 completed"
     ]
    },
    {
     "name": "stdout",
     "output_type": "stream",
     "text": [
      "30 ADANIENT.NS\n"
     ]
    },
    {
     "name": "stderr",
     "output_type": "stream",
     "text": [
      "\n"
     ]
    },
    {
     "name": "stdout",
     "output_type": "stream",
     "text": [
      "31 NTPC.NS\n"
     ]
    },
    {
     "name": "stderr",
     "output_type": "stream",
     "text": [
      "[*********************100%%**********************]  1 of 1 completed\n"
     ]
    },
    {
     "name": "stdout",
     "output_type": "stream",
     "text": [
      "32 KOTAKBANK.NS\n"
     ]
    },
    {
     "name": "stderr",
     "output_type": "stream",
     "text": [
      "[*********************100%%**********************]  1 of 1 completed\n"
     ]
    },
    {
     "name": "stdout",
     "output_type": "stream",
     "text": [
      "33 TITAN.NS\n"
     ]
    },
    {
     "name": "stderr",
     "output_type": "stream",
     "text": [
      "[*********************100%%**********************]  1 of 1 completed\n"
     ]
    }
   ],
   "source": [
    "def download_dataset(tickers, start_date, end_date, group_name):\n",
    "    stocks_df = pd.DataFrame()\n",
    "\n",
    "    for i, ticker in enumerate(tickers):\n",
    "        print(i,ticker)\n",
    "\n",
    "        # Work with stock prices\n",
    "        historyPrices = yf.download(tickers = ticker,\n",
    "                                    start = start_date - timedelta(days=14),\n",
    "                                    end = end_date)\n",
    "    \n",
    "        # generate features for historical prices, and what we want to predict\n",
    "        historyPrices['Ticker'] = ticker\n",
    "        historyPrices['Year']= historyPrices.index.year\n",
    "        historyPrices['Month'] = historyPrices.index.month\n",
    "        historyPrices['Weekday'] = historyPrices.index.weekday\n",
    "        historyPrices['Date'] = pd.to_datetime(historyPrices.index.date)\n",
    "        historyPrices[\"ticker_category\"] = group_name\n",
    "    \n",
    "        historyPrices['growth_7d'] = historyPrices['Adj Close'].pct_change(7) + 1\n",
    "        historyPrices = historyPrices[historyPrices[\"Date\"] >= pd.to_datetime(start_date)]\n",
    "    \n",
    "        # sleep 1 sec between downloads - not to overload the API server\n",
    "        time.sleep(1)\n",
    "    \n",
    "        if stocks_df.empty:\n",
    "            stocks_df = historyPrices\n",
    "        else:\n",
    "            stocks_df = pd.concat([stocks_df, historyPrices], ignore_index=True)\n",
    "            \n",
    "    return stocks_df\n",
    "\n",
    "largest_df = download_dataset(LARGEST_STOCKS, start_date, end_date, \"LARGEST\")\n",
    "large_df = download_dataset(LARGE_STOCKS, start_date, end_date, \"LARGE\")"
   ]
  },
  {
   "cell_type": "code",
   "execution_count": 16,
   "id": "f91de9eca129cd1",
   "metadata": {
    "ExecuteTime": {
     "end_time": "2024-05-08T03:13:53.278905Z",
     "start_time": "2024-05-08T03:13:53.266531Z"
    }
   },
   "outputs": [
    {
     "data": {
      "text/html": [
       "<div>\n",
       "<style scoped>\n",
       "    .dataframe tbody tr th:only-of-type {\n",
       "        vertical-align: middle;\n",
       "    }\n",
       "\n",
       "    .dataframe tbody tr th {\n",
       "        vertical-align: top;\n",
       "    }\n",
       "\n",
       "    .dataframe thead th {\n",
       "        text-align: right;\n",
       "    }\n",
       "</style>\n",
       "<table border=\"1\" class=\"dataframe\">\n",
       "  <thead>\n",
       "    <tr style=\"text-align: right;\">\n",
       "      <th></th>\n",
       "      <th>Open</th>\n",
       "      <th>High</th>\n",
       "      <th>Low</th>\n",
       "      <th>Close</th>\n",
       "      <th>Adj Close</th>\n",
       "      <th>Volume</th>\n",
       "      <th>Ticker</th>\n",
       "      <th>Year</th>\n",
       "      <th>Month</th>\n",
       "      <th>Weekday</th>\n",
       "      <th>Date</th>\n",
       "      <th>ticker_category</th>\n",
       "      <th>growth_7d</th>\n",
       "    </tr>\n",
       "  </thead>\n",
       "  <tbody>\n",
       "    <tr>\n",
       "      <th>0</th>\n",
       "      <td>37.349998</td>\n",
       "      <td>37.400002</td>\n",
       "      <td>37.099998</td>\n",
       "      <td>37.160000</td>\n",
       "      <td>31.233053</td>\n",
       "      <td>30632200</td>\n",
       "      <td>MSFT</td>\n",
       "      <td>2014</td>\n",
       "      <td>1</td>\n",
       "      <td>3</td>\n",
       "      <td>2014-01-02</td>\n",
       "      <td>LARGEST</td>\n",
       "      <td>1.009782</td>\n",
       "    </tr>\n",
       "    <tr>\n",
       "      <th>1</th>\n",
       "      <td>37.200001</td>\n",
       "      <td>37.220001</td>\n",
       "      <td>36.599998</td>\n",
       "      <td>36.910000</td>\n",
       "      <td>31.022926</td>\n",
       "      <td>31134800</td>\n",
       "      <td>MSFT</td>\n",
       "      <td>2014</td>\n",
       "      <td>1</td>\n",
       "      <td>4</td>\n",
       "      <td>2014-01-03</td>\n",
       "      <td>LARGEST</td>\n",
       "      <td>1.007919</td>\n",
       "    </tr>\n",
       "    <tr>\n",
       "      <th>2</th>\n",
       "      <td>36.849998</td>\n",
       "      <td>36.889999</td>\n",
       "      <td>36.110001</td>\n",
       "      <td>36.130001</td>\n",
       "      <td>30.367344</td>\n",
       "      <td>43603700</td>\n",
       "      <td>MSFT</td>\n",
       "      <td>2014</td>\n",
       "      <td>1</td>\n",
       "      <td>0</td>\n",
       "      <td>2014-01-06</td>\n",
       "      <td>LARGEST</td>\n",
       "      <td>0.974380</td>\n",
       "    </tr>\n",
       "    <tr>\n",
       "      <th>3</th>\n",
       "      <td>36.330002</td>\n",
       "      <td>36.490002</td>\n",
       "      <td>36.209999</td>\n",
       "      <td>36.410000</td>\n",
       "      <td>30.602688</td>\n",
       "      <td>35802800</td>\n",
       "      <td>MSFT</td>\n",
       "      <td>2014</td>\n",
       "      <td>1</td>\n",
       "      <td>1</td>\n",
       "      <td>2014-01-07</td>\n",
       "      <td>LARGEST</td>\n",
       "      <td>0.972490</td>\n",
       "    </tr>\n",
       "    <tr>\n",
       "      <th>4</th>\n",
       "      <td>36.000000</td>\n",
       "      <td>36.139999</td>\n",
       "      <td>35.580002</td>\n",
       "      <td>35.759998</td>\n",
       "      <td>30.056356</td>\n",
       "      <td>59971700</td>\n",
       "      <td>MSFT</td>\n",
       "      <td>2014</td>\n",
       "      <td>1</td>\n",
       "      <td>2</td>\n",
       "      <td>2014-01-08</td>\n",
       "      <td>LARGEST</td>\n",
       "      <td>0.958970</td>\n",
       "    </tr>\n",
       "    <tr>\n",
       "      <th>...</th>\n",
       "      <td>...</td>\n",
       "      <td>...</td>\n",
       "      <td>...</td>\n",
       "      <td>...</td>\n",
       "      <td>...</td>\n",
       "      <td>...</td>\n",
       "      <td>...</td>\n",
       "      <td>...</td>\n",
       "      <td>...</td>\n",
       "      <td>...</td>\n",
       "      <td>...</td>\n",
       "      <td>...</td>\n",
       "      <td>...</td>\n",
       "    </tr>\n",
       "    <tr>\n",
       "      <th>164602</th>\n",
       "      <td>3580.000000</td>\n",
       "      <td>3638.449951</td>\n",
       "      <td>3560.550049</td>\n",
       "      <td>3627.350098</td>\n",
       "      <td>3627.350098</td>\n",
       "      <td>777099</td>\n",
       "      <td>TITAN.NS</td>\n",
       "      <td>2023</td>\n",
       "      <td>12</td>\n",
       "      <td>4</td>\n",
       "      <td>2023-12-22</td>\n",
       "      <td>LARGE</td>\n",
       "      <td>1.006940</td>\n",
       "    </tr>\n",
       "    <tr>\n",
       "      <th>164603</th>\n",
       "      <td>3635.000000</td>\n",
       "      <td>3665.000000</td>\n",
       "      <td>3623.449951</td>\n",
       "      <td>3656.699951</td>\n",
       "      <td>3656.699951</td>\n",
       "      <td>526101</td>\n",
       "      <td>TITAN.NS</td>\n",
       "      <td>2023</td>\n",
       "      <td>12</td>\n",
       "      <td>1</td>\n",
       "      <td>2023-12-26</td>\n",
       "      <td>LARGE</td>\n",
       "      <td>1.018182</td>\n",
       "    </tr>\n",
       "    <tr>\n",
       "      <th>164604</th>\n",
       "      <td>3668.000000</td>\n",
       "      <td>3695.000000</td>\n",
       "      <td>3645.000000</td>\n",
       "      <td>3689.250000</td>\n",
       "      <td>3689.250000</td>\n",
       "      <td>666625</td>\n",
       "      <td>TITAN.NS</td>\n",
       "      <td>2023</td>\n",
       "      <td>12</td>\n",
       "      <td>2</td>\n",
       "      <td>2023-12-27</td>\n",
       "      <td>LARGE</td>\n",
       "      <td>1.024635</td>\n",
       "    </tr>\n",
       "    <tr>\n",
       "      <th>164605</th>\n",
       "      <td>3699.899902</td>\n",
       "      <td>3737.000000</td>\n",
       "      <td>3680.699951</td>\n",
       "      <td>3715.100098</td>\n",
       "      <td>3715.100098</td>\n",
       "      <td>1033648</td>\n",
       "      <td>TITAN.NS</td>\n",
       "      <td>2023</td>\n",
       "      <td>12</td>\n",
       "      <td>3</td>\n",
       "      <td>2023-12-28</td>\n",
       "      <td>LARGE</td>\n",
       "      <td>1.026384</td>\n",
       "    </tr>\n",
       "    <tr>\n",
       "      <th>164606</th>\n",
       "      <td>3715.100098</td>\n",
       "      <td>3715.100098</td>\n",
       "      <td>3660.250000</td>\n",
       "      <td>3675.449951</td>\n",
       "      <td>3675.449951</td>\n",
       "      <td>709614</td>\n",
       "      <td>TITAN.NS</td>\n",
       "      <td>2023</td>\n",
       "      <td>12</td>\n",
       "      <td>4</td>\n",
       "      <td>2023-12-29</td>\n",
       "      <td>LARGE</td>\n",
       "      <td>1.018003</td>\n",
       "    </tr>\n",
       "  </tbody>\n",
       "</table>\n",
       "<p>164607 rows × 13 columns</p>\n",
       "</div>"
      ],
      "text/plain": [
       "               Open         High          Low        Close    Adj Close  \\\n",
       "0         37.349998    37.400002    37.099998    37.160000    31.233053   \n",
       "1         37.200001    37.220001    36.599998    36.910000    31.022926   \n",
       "2         36.849998    36.889999    36.110001    36.130001    30.367344   \n",
       "3         36.330002    36.490002    36.209999    36.410000    30.602688   \n",
       "4         36.000000    36.139999    35.580002    35.759998    30.056356   \n",
       "...             ...          ...          ...          ...          ...   \n",
       "164602  3580.000000  3638.449951  3560.550049  3627.350098  3627.350098   \n",
       "164603  3635.000000  3665.000000  3623.449951  3656.699951  3656.699951   \n",
       "164604  3668.000000  3695.000000  3645.000000  3689.250000  3689.250000   \n",
       "164605  3699.899902  3737.000000  3680.699951  3715.100098  3715.100098   \n",
       "164606  3715.100098  3715.100098  3660.250000  3675.449951  3675.449951   \n",
       "\n",
       "          Volume    Ticker  Year  Month  Weekday       Date ticker_category  \\\n",
       "0       30632200      MSFT  2014      1        3 2014-01-02         LARGEST   \n",
       "1       31134800      MSFT  2014      1        4 2014-01-03         LARGEST   \n",
       "2       43603700      MSFT  2014      1        0 2014-01-06         LARGEST   \n",
       "3       35802800      MSFT  2014      1        1 2014-01-07         LARGEST   \n",
       "4       59971700      MSFT  2014      1        2 2014-01-08         LARGEST   \n",
       "...          ...       ...   ...    ...      ...        ...             ...   \n",
       "164602    777099  TITAN.NS  2023     12        4 2023-12-22           LARGE   \n",
       "164603    526101  TITAN.NS  2023     12        1 2023-12-26           LARGE   \n",
       "164604    666625  TITAN.NS  2023     12        2 2023-12-27           LARGE   \n",
       "164605   1033648  TITAN.NS  2023     12        3 2023-12-28           LARGE   \n",
       "164606    709614  TITAN.NS  2023     12        4 2023-12-29           LARGE   \n",
       "\n",
       "        growth_7d  \n",
       "0        1.009782  \n",
       "1        1.007919  \n",
       "2        0.974380  \n",
       "3        0.972490  \n",
       "4        0.958970  \n",
       "...           ...  \n",
       "164602   1.006940  \n",
       "164603   1.018182  \n",
       "164604   1.024635  \n",
       "164605   1.026384  \n",
       "164606   1.018003  \n",
       "\n",
       "[164607 rows x 13 columns]"
      ]
     },
     "execution_count": 16,
     "metadata": {},
     "output_type": "execute_result"
    }
   ],
   "source": [
    "merge_df = pd.concat([largest_df, large_df], ignore_index=True)\n",
    "merge_df"
   ]
  },
  {
   "cell_type": "code",
   "execution_count": 17,
   "id": "8423421439db154e",
   "metadata": {
    "ExecuteTime": {
     "end_time": "2024-05-08T03:13:53.316389Z",
     "start_time": "2024-05-08T03:13:53.279950Z"
    }
   },
   "outputs": [
    {
     "name": "stdout",
     "output_type": "stream",
     "text": [
      "The share of days when Large Stocks outperform (growth_7d - growth over 7 periods back) the Largest stocks is 47%\n"
     ]
    }
   ],
   "source": [
    "largest_mean = merge_df[merge_df[\"ticker_category\"] == \"LARGEST\"].groupby(by=\"Date\")[\"growth_7d\"].mean()\n",
    "large_mean = merge_df[merge_df[\"ticker_category\"] == \"LARGE\"].groupby(by=\"Date\")[\"growth_7d\"].mean()\n",
    "outperform_ratio = (large_mean > largest_mean).mean()\n",
    "print(f\"The share of days when Large Stocks outperform (growth_7d - growth over 7 periods back) the Largest stocks is {round(outperform_ratio * 100)}%\")"
   ]
  },
  {
   "cell_type": "markdown",
   "id": "6c464b56b939109a",
   "metadata": {},
   "source": [
    "## Question 4: Trying Another Technical Indicators strategy\n",
    "\n",
    "**What's the total gross profit (in THOUSANDS of $) you'll get from trading on CCI (no fees assumption)?**\n",
    "\n",
    "\n",
    "First, run the entire Colab to obtain the full DataFrame of data (after [Code Snippet 9]), and truncate it to the last full 10 years of data (2014-01-01 to 2023-12-31).\n",
    "If you encounter any difficulties running the Colab - you can download it using this [link](https://drive.google.com/file/d/1m3Qisfs2XfWk6Sw_Uk5kHLWqwQ0q8SKb/view?usp=sharing).\n",
    "\n",
    "Let's assume you've learned about the awesome **CCI indicator** ([Commodity Channel Index](https://www.investopedia.com/terms/c/commoditychannelindex.asp)), and decided to use only it for your operations.\n",
    "\n",
    "You defined the \"defensive\" value of a high threshould of 200, and you trade only on Fridays (`Date.dt.dayofweek()==4`).\n",
    "\n",
    "That is, every time you see that CCI is >200 for any stock (out of those 33), you'll invest $1000 (each record when CCI>200) at Adj.Close price and hold it for 1 week (5 trading days) in order to sell at the Adj. Close price.\n",
    "\n",
    "What's the expected gross profit (no fees) that you get in THOUSANDS $ (closest integer value) over many operations in 10 years?\n",
    "One operation calculations: if you invested $1000 and received $1010 in 5 days - you add $10 to gross profit, if you received $980 - add -$20 to gross profit.\n",
    "You need to sum these results over all trades (460 times in 10 years).\n",
    "\n",
    "Additional:\n",
    "  * Add an approximate fees calculation over the 460 trades from this calculator https://www.degiro.ie/fees/calculator (Product:\"Shares, USA and Canada;\" Amount per transaction: \"1000 EUR\"; Transactions per year: \"460\")\n",
    "  * are you still profitable on those trades?"
   ]
  },
  {
   "cell_type": "code",
   "execution_count": 18,
   "id": "96e9183fd164a08",
   "metadata": {
    "ExecuteTime": {
     "end_time": "2024-05-08T03:13:53.320892Z",
     "start_time": "2024-05-08T03:13:53.317584Z"
    }
   },
   "outputs": [],
   "source": [
    "# https://companiesmarketcap.com/usa/largest-companies-in-the-usa-by-market-cap/\n",
    "US_STOCKS = ['MSFT', 'AAPL', 'GOOG', 'NVDA', 'AMZN', 'META', 'BRK-B', 'LLY', 'AVGO','V', 'JPM']\n",
    "\n",
    "# You're required to add EU_STOCKS and INDIA_STOCS\n",
    "# https://companiesmarketcap.com/european-union/largest-companies-in-the-eu-by-market-cap/\n",
    "EU_STOCKS = ['NVO','MC.PA', 'ASML', 'RMS.PA', 'OR.PA', 'SAP', 'ACN', 'TTE', 'SIE.DE','IDEXY','CDI.PA']\n",
    "\n",
    "# https://companiesmarketcap.com/india/largest-companies-in-india-by-market-cap/\n",
    "INDIA_STOCKS = ['RELIANCE.NS','TCS.NS','HDB','BHARTIARTL.NS','IBN','SBIN.NS','LICI.NS','INFY','ITC.NS','HINDUNILVR.NS','LT.NS']\n",
    "\n",
    "ALL_TICKERS = US_STOCKS  + EU_STOCKS + INDIA_STOCKS\n",
    "\n",
    "start_date = date(2014, 1, 1)\n",
    "end_date = date(2023, 12, 31)"
   ]
  },
  {
   "cell_type": "code",
   "execution_count": 19,
   "id": "6829ab614fb0990c",
   "metadata": {
    "ExecuteTime": {
     "end_time": "2024-05-08T03:14:38.004497Z",
     "start_time": "2024-05-08T03:13:53.321638Z"
    }
   },
   "outputs": [
    {
     "name": "stdout",
     "output_type": "stream",
     "text": [
      "0 MSFT\n"
     ]
    },
    {
     "name": "stderr",
     "output_type": "stream",
     "text": [
      "[*********************100%%**********************]  1 of 1 completed\n"
     ]
    },
    {
     "name": "stdout",
     "output_type": "stream",
     "text": [
      "1 AAPL\n"
     ]
    },
    {
     "name": "stderr",
     "output_type": "stream",
     "text": [
      "[*********************100%%**********************]  1 of 1 completed\n"
     ]
    },
    {
     "name": "stdout",
     "output_type": "stream",
     "text": [
      "2 GOOG\n"
     ]
    },
    {
     "name": "stderr",
     "output_type": "stream",
     "text": [
      "[*********************100%%**********************]  1 of 1 completed\n"
     ]
    },
    {
     "name": "stdout",
     "output_type": "stream",
     "text": [
      "3 NVDA\n"
     ]
    },
    {
     "name": "stderr",
     "output_type": "stream",
     "text": [
      "[*********************100%%**********************]  1 of 1 completed\n"
     ]
    },
    {
     "name": "stdout",
     "output_type": "stream",
     "text": [
      "4 AMZN\n"
     ]
    },
    {
     "name": "stderr",
     "output_type": "stream",
     "text": [
      "[*********************100%%**********************]  1 of 1 completed\n"
     ]
    },
    {
     "name": "stdout",
     "output_type": "stream",
     "text": [
      "5 META\n"
     ]
    },
    {
     "name": "stderr",
     "output_type": "stream",
     "text": [
      "[*********************100%%**********************]  1 of 1 completed\n"
     ]
    },
    {
     "name": "stdout",
     "output_type": "stream",
     "text": [
      "6 BRK-B\n"
     ]
    },
    {
     "name": "stderr",
     "output_type": "stream",
     "text": [
      "[*********************100%%**********************]  1 of 1 completed\n"
     ]
    },
    {
     "name": "stdout",
     "output_type": "stream",
     "text": [
      "7 LLY\n"
     ]
    },
    {
     "name": "stderr",
     "output_type": "stream",
     "text": [
      "[*********************100%%**********************]  1 of 1 completed\n"
     ]
    },
    {
     "name": "stdout",
     "output_type": "stream",
     "text": [
      "8 AVGO\n"
     ]
    },
    {
     "name": "stderr",
     "output_type": "stream",
     "text": [
      "[*********************100%%**********************]  1 of 1 completed\n"
     ]
    },
    {
     "name": "stdout",
     "output_type": "stream",
     "text": [
      "9 V\n"
     ]
    },
    {
     "name": "stderr",
     "output_type": "stream",
     "text": [
      "[*********************100%%**********************]  1 of 1 completed\n"
     ]
    },
    {
     "name": "stdout",
     "output_type": "stream",
     "text": [
      "10 JPM\n"
     ]
    },
    {
     "name": "stderr",
     "output_type": "stream",
     "text": [
      "[*********************100%%**********************]  1 of 1 completed\n"
     ]
    },
    {
     "name": "stdout",
     "output_type": "stream",
     "text": [
      "11 NVO\n"
     ]
    },
    {
     "name": "stderr",
     "output_type": "stream",
     "text": [
      "[*********************100%%**********************]  1 of 1 completed\n"
     ]
    },
    {
     "name": "stdout",
     "output_type": "stream",
     "text": [
      "12 MC.PA\n"
     ]
    },
    {
     "name": "stderr",
     "output_type": "stream",
     "text": [
      "[*********************100%%**********************]  1 of 1 completed\n"
     ]
    },
    {
     "name": "stdout",
     "output_type": "stream",
     "text": [
      "13 ASML\n"
     ]
    },
    {
     "name": "stderr",
     "output_type": "stream",
     "text": [
      "[*********************100%%**********************]  1 of 1 completed\n"
     ]
    },
    {
     "name": "stdout",
     "output_type": "stream",
     "text": [
      "14 RMS.PA\n"
     ]
    },
    {
     "name": "stderr",
     "output_type": "stream",
     "text": [
      "[*********************100%%**********************]  1 of 1 completed\n"
     ]
    },
    {
     "name": "stdout",
     "output_type": "stream",
     "text": [
      "15 OR.PA\n"
     ]
    },
    {
     "name": "stderr",
     "output_type": "stream",
     "text": [
      "[*********************100%%**********************]  1 of 1 completed\n"
     ]
    },
    {
     "name": "stdout",
     "output_type": "stream",
     "text": [
      "16 SAP\n"
     ]
    },
    {
     "name": "stderr",
     "output_type": "stream",
     "text": [
      "[*********************100%%**********************]  1 of 1 completed\n"
     ]
    },
    {
     "name": "stdout",
     "output_type": "stream",
     "text": [
      "17 ACN\n"
     ]
    },
    {
     "name": "stderr",
     "output_type": "stream",
     "text": [
      "[*********************100%%**********************]  1 of 1 completed\n"
     ]
    },
    {
     "name": "stdout",
     "output_type": "stream",
     "text": [
      "18 TTE\n"
     ]
    },
    {
     "name": "stderr",
     "output_type": "stream",
     "text": [
      "[*********************100%%**********************]  1 of 1 completed\n"
     ]
    },
    {
     "name": "stdout",
     "output_type": "stream",
     "text": [
      "19 SIE.DE\n"
     ]
    },
    {
     "name": "stderr",
     "output_type": "stream",
     "text": [
      "[*********************100%%**********************]  1 of 1 completed\n"
     ]
    },
    {
     "name": "stdout",
     "output_type": "stream",
     "text": [
      "20 IDEXY\n"
     ]
    },
    {
     "name": "stderr",
     "output_type": "stream",
     "text": [
      "[*********************100%%**********************]  1 of 1 completed\n"
     ]
    },
    {
     "name": "stdout",
     "output_type": "stream",
     "text": [
      "21 CDI.PA\n"
     ]
    },
    {
     "name": "stderr",
     "output_type": "stream",
     "text": [
      "[*********************100%%**********************]  1 of 1 completed\n"
     ]
    },
    {
     "name": "stdout",
     "output_type": "stream",
     "text": [
      "22 RELIANCE.NS\n"
     ]
    },
    {
     "name": "stderr",
     "output_type": "stream",
     "text": [
      "[*********************100%%**********************]  1 of 1 completed\n"
     ]
    },
    {
     "name": "stdout",
     "output_type": "stream",
     "text": [
      "23 TCS.NS\n"
     ]
    },
    {
     "name": "stderr",
     "output_type": "stream",
     "text": [
      "[*********************100%%**********************]  1 of 1 completed\n"
     ]
    },
    {
     "name": "stdout",
     "output_type": "stream",
     "text": [
      "24 HDB\n"
     ]
    },
    {
     "name": "stderr",
     "output_type": "stream",
     "text": [
      "[*********************100%%**********************]  1 of 1 completed\n"
     ]
    },
    {
     "name": "stdout",
     "output_type": "stream",
     "text": [
      "25 BHARTIARTL.NS\n"
     ]
    },
    {
     "name": "stderr",
     "output_type": "stream",
     "text": [
      "[*********************100%%**********************]  1 of 1 completed\n"
     ]
    },
    {
     "name": "stdout",
     "output_type": "stream",
     "text": [
      "26 IBN\n"
     ]
    },
    {
     "name": "stderr",
     "output_type": "stream",
     "text": [
      "[*********************100%%**********************]  1 of 1 completed\n"
     ]
    },
    {
     "name": "stdout",
     "output_type": "stream",
     "text": [
      "27 SBIN.NS\n"
     ]
    },
    {
     "name": "stderr",
     "output_type": "stream",
     "text": [
      "[*********************100%%**********************]  1 of 1 completed\n",
      "[*********************100%%**********************]  1 of 1 completed"
     ]
    },
    {
     "name": "stdout",
     "output_type": "stream",
     "text": [
      "28 LICI.NS\n"
     ]
    },
    {
     "name": "stderr",
     "output_type": "stream",
     "text": [
      "\n"
     ]
    },
    {
     "name": "stdout",
     "output_type": "stream",
     "text": [
      "29 INFY\n"
     ]
    },
    {
     "name": "stderr",
     "output_type": "stream",
     "text": [
      "[*********************100%%**********************]  1 of 1 completed\n"
     ]
    },
    {
     "name": "stdout",
     "output_type": "stream",
     "text": [
      "30 ITC.NS\n"
     ]
    },
    {
     "name": "stderr",
     "output_type": "stream",
     "text": [
      "[*********************100%%**********************]  1 of 1 completed\n"
     ]
    },
    {
     "name": "stdout",
     "output_type": "stream",
     "text": [
      "31 HINDUNILVR.NS\n"
     ]
    },
    {
     "name": "stderr",
     "output_type": "stream",
     "text": [
      "[*********************100%%**********************]  1 of 1 completed\n"
     ]
    },
    {
     "name": "stdout",
     "output_type": "stream",
     "text": [
      "32 LT.NS\n"
     ]
    },
    {
     "name": "stderr",
     "output_type": "stream",
     "text": [
      "[*********************100%%**********************]  1 of 1 completed\n"
     ]
    }
   ],
   "source": [
    "def download_dataset(tickers, start_date, end_date):\n",
    "    stocks_df = pd.DataFrame()\n",
    "\n",
    "    for i, ticker in enumerate(tickers):\n",
    "        print(i,ticker)\n",
    "\n",
    "        # Work with stock prices\n",
    "        historyPrices = yf.download(tickers = ticker,\n",
    "                                    start = start_date - timedelta(days=28),\n",
    "                                    end = end_date + timedelta(days=28))\n",
    "\n",
    "        # generate features for historical prices, and what we want to predict\n",
    "        historyPrices['Ticker'] = ticker\n",
    "        historyPrices['Year']= historyPrices.index.year\n",
    "        historyPrices['Month'] = historyPrices.index.month\n",
    "        historyPrices['Weekday'] = historyPrices.index.weekday\n",
    "        historyPrices['Date'] = pd.to_datetime(historyPrices.index.date)\n",
    "\n",
    "        historyPrices[\"CCI\"] = talib.CCI(historyPrices[\"High\"].values, historyPrices[\"Low\"].values, historyPrices[\"Close\"].values, timeperiod=14)\n",
    "\n",
    "        # sleep 1 sec between downloads - not to overload the API server\n",
    "        time.sleep(1)\n",
    "\n",
    "        if stocks_df.empty:\n",
    "            stocks_df = historyPrices\n",
    "        else:\n",
    "            stocks_df = pd.concat([stocks_df, historyPrices], ignore_index=True)\n",
    "\n",
    "    return stocks_df\n",
    "\n",
    "df = download_dataset(ALL_TICKERS, start_date, end_date)"
   ]
  },
  {
   "cell_type": "code",
   "execution_count": 20,
   "id": "287ae946e5f746e5",
   "metadata": {
    "ExecuteTime": {
     "end_time": "2024-05-08T03:14:38.043605Z",
     "start_time": "2024-05-08T03:14:38.006640Z"
    }
   },
   "outputs": [
    {
     "data": {
      "text/html": [
       "<div>\n",
       "<style scoped>\n",
       "    .dataframe tbody tr th:only-of-type {\n",
       "        vertical-align: middle;\n",
       "    }\n",
       "\n",
       "    .dataframe tbody tr th {\n",
       "        vertical-align: top;\n",
       "    }\n",
       "\n",
       "    .dataframe thead th {\n",
       "        text-align: right;\n",
       "    }\n",
       "</style>\n",
       "<table border=\"1\" class=\"dataframe\">\n",
       "  <thead>\n",
       "    <tr style=\"text-align: right;\">\n",
       "      <th></th>\n",
       "      <th>Open</th>\n",
       "      <th>High</th>\n",
       "      <th>Low</th>\n",
       "      <th>Close</th>\n",
       "      <th>Adj Close</th>\n",
       "      <th>Volume</th>\n",
       "      <th>Ticker</th>\n",
       "      <th>Year</th>\n",
       "      <th>Month</th>\n",
       "      <th>Weekday</th>\n",
       "      <th>Date</th>\n",
       "      <th>CCI</th>\n",
       "      <th>growth_future_5d</th>\n",
       "    </tr>\n",
       "  </thead>\n",
       "  <tbody>\n",
       "    <tr>\n",
       "      <th>19</th>\n",
       "      <td>37.349998</td>\n",
       "      <td>37.400002</td>\n",
       "      <td>37.099998</td>\n",
       "      <td>37.160000</td>\n",
       "      <td>31.233053</td>\n",
       "      <td>30632200</td>\n",
       "      <td>MSFT</td>\n",
       "      <td>2014</td>\n",
       "      <td>1</td>\n",
       "      <td>3</td>\n",
       "      <td>2014-01-02</td>\n",
       "      <td>57.700615</td>\n",
       "      <td>-0.043864</td>\n",
       "    </tr>\n",
       "    <tr>\n",
       "      <th>20</th>\n",
       "      <td>37.200001</td>\n",
       "      <td>37.220001</td>\n",
       "      <td>36.599998</td>\n",
       "      <td>36.910000</td>\n",
       "      <td>31.022938</td>\n",
       "      <td>31134800</td>\n",
       "      <td>MSFT</td>\n",
       "      <td>2014</td>\n",
       "      <td>1</td>\n",
       "      <td>4</td>\n",
       "      <td>2014-01-03</td>\n",
       "      <td>1.373763</td>\n",
       "      <td>-0.023571</td>\n",
       "    </tr>\n",
       "    <tr>\n",
       "      <th>21</th>\n",
       "      <td>36.849998</td>\n",
       "      <td>36.889999</td>\n",
       "      <td>36.110001</td>\n",
       "      <td>36.130001</td>\n",
       "      <td>30.367348</td>\n",
       "      <td>43603700</td>\n",
       "      <td>MSFT</td>\n",
       "      <td>2014</td>\n",
       "      <td>1</td>\n",
       "      <td>0</td>\n",
       "      <td>2014-01-06</td>\n",
       "      <td>-96.631259</td>\n",
       "      <td>-0.031830</td>\n",
       "    </tr>\n",
       "    <tr>\n",
       "      <th>22</th>\n",
       "      <td>36.330002</td>\n",
       "      <td>36.490002</td>\n",
       "      <td>36.209999</td>\n",
       "      <td>36.410000</td>\n",
       "      <td>30.602688</td>\n",
       "      <td>35802800</td>\n",
       "      <td>MSFT</td>\n",
       "      <td>2014</td>\n",
       "      <td>1</td>\n",
       "      <td>1</td>\n",
       "      <td>2014-01-07</td>\n",
       "      <td>-83.904297</td>\n",
       "      <td>-0.017303</td>\n",
       "    </tr>\n",
       "    <tr>\n",
       "      <th>23</th>\n",
       "      <td>36.000000</td>\n",
       "      <td>36.139999</td>\n",
       "      <td>35.580002</td>\n",
       "      <td>35.759998</td>\n",
       "      <td>30.056358</td>\n",
       "      <td>59971700</td>\n",
       "      <td>MSFT</td>\n",
       "      <td>2014</td>\n",
       "      <td>1</td>\n",
       "      <td>2</td>\n",
       "      <td>2014-01-08</td>\n",
       "      <td>-147.855135</td>\n",
       "      <td>0.027964</td>\n",
       "    </tr>\n",
       "    <tr>\n",
       "      <th>...</th>\n",
       "      <td>...</td>\n",
       "      <td>...</td>\n",
       "      <td>...</td>\n",
       "      <td>...</td>\n",
       "      <td>...</td>\n",
       "      <td>...</td>\n",
       "      <td>...</td>\n",
       "      <td>...</td>\n",
       "      <td>...</td>\n",
       "      <td>...</td>\n",
       "      <td>...</td>\n",
       "      <td>...</td>\n",
       "      <td>...</td>\n",
       "    </tr>\n",
       "    <tr>\n",
       "      <th>81939</th>\n",
       "      <td>3424.000000</td>\n",
       "      <td>3496.000000</td>\n",
       "      <td>3408.600098</td>\n",
       "      <td>3477.949951</td>\n",
       "      <td>3477.949951</td>\n",
       "      <td>1681707</td>\n",
       "      <td>LT.NS</td>\n",
       "      <td>2023</td>\n",
       "      <td>12</td>\n",
       "      <td>4</td>\n",
       "      <td>2023-12-22</td>\n",
       "      <td>70.767162</td>\n",
       "      <td>0.013657</td>\n",
       "    </tr>\n",
       "    <tr>\n",
       "      <th>81940</th>\n",
       "      <td>3477.949951</td>\n",
       "      <td>3508.350098</td>\n",
       "      <td>3477.949951</td>\n",
       "      <td>3490.050049</td>\n",
       "      <td>3490.050049</td>\n",
       "      <td>1072263</td>\n",
       "      <td>LT.NS</td>\n",
       "      <td>2023</td>\n",
       "      <td>12</td>\n",
       "      <td>1</td>\n",
       "      <td>2023-12-26</td>\n",
       "      <td>99.598220</td>\n",
       "      <td>-0.014885</td>\n",
       "    </tr>\n",
       "    <tr>\n",
       "      <th>81941</th>\n",
       "      <td>3510.000000</td>\n",
       "      <td>3549.000000</td>\n",
       "      <td>3504.149902</td>\n",
       "      <td>3544.000000</td>\n",
       "      <td>3544.000000</td>\n",
       "      <td>1389266</td>\n",
       "      <td>LT.NS</td>\n",
       "      <td>2023</td>\n",
       "      <td>12</td>\n",
       "      <td>2</td>\n",
       "      <td>2023-12-27</td>\n",
       "      <td>130.401152</td>\n",
       "      <td>-0.029247</td>\n",
       "    </tr>\n",
       "    <tr>\n",
       "      <th>81942</th>\n",
       "      <td>3545.000000</td>\n",
       "      <td>3559.949951</td>\n",
       "      <td>3500.500000</td>\n",
       "      <td>3518.050049</td>\n",
       "      <td>3518.050049</td>\n",
       "      <td>3371121</td>\n",
       "      <td>LT.NS</td>\n",
       "      <td>2023</td>\n",
       "      <td>12</td>\n",
       "      <td>3</td>\n",
       "      <td>2023-12-28</td>\n",
       "      <td>106.774509</td>\n",
       "      <td>-0.016870</td>\n",
       "    </tr>\n",
       "    <tr>\n",
       "      <th>81943</th>\n",
       "      <td>3531.000000</td>\n",
       "      <td>3540.000000</td>\n",
       "      <td>3495.000000</td>\n",
       "      <td>3526.000000</td>\n",
       "      <td>3526.000000</td>\n",
       "      <td>968577</td>\n",
       "      <td>LT.NS</td>\n",
       "      <td>2023</td>\n",
       "      <td>12</td>\n",
       "      <td>4</td>\n",
       "      <td>2023-12-29</td>\n",
       "      <td>87.014290</td>\n",
       "      <td>-0.001163</td>\n",
       "    </tr>\n",
       "  </tbody>\n",
       "</table>\n",
       "<p>80762 rows × 13 columns</p>\n",
       "</div>"
      ],
      "text/plain": [
       "              Open         High          Low        Close    Adj Close  \\\n",
       "19       37.349998    37.400002    37.099998    37.160000    31.233053   \n",
       "20       37.200001    37.220001    36.599998    36.910000    31.022938   \n",
       "21       36.849998    36.889999    36.110001    36.130001    30.367348   \n",
       "22       36.330002    36.490002    36.209999    36.410000    30.602688   \n",
       "23       36.000000    36.139999    35.580002    35.759998    30.056358   \n",
       "...            ...          ...          ...          ...          ...   \n",
       "81939  3424.000000  3496.000000  3408.600098  3477.949951  3477.949951   \n",
       "81940  3477.949951  3508.350098  3477.949951  3490.050049  3490.050049   \n",
       "81941  3510.000000  3549.000000  3504.149902  3544.000000  3544.000000   \n",
       "81942  3545.000000  3559.949951  3500.500000  3518.050049  3518.050049   \n",
       "81943  3531.000000  3540.000000  3495.000000  3526.000000  3526.000000   \n",
       "\n",
       "         Volume Ticker  Year  Month  Weekday       Date         CCI  \\\n",
       "19     30632200   MSFT  2014      1        3 2014-01-02   57.700615   \n",
       "20     31134800   MSFT  2014      1        4 2014-01-03    1.373763   \n",
       "21     43603700   MSFT  2014      1        0 2014-01-06  -96.631259   \n",
       "22     35802800   MSFT  2014      1        1 2014-01-07  -83.904297   \n",
       "23     59971700   MSFT  2014      1        2 2014-01-08 -147.855135   \n",
       "...         ...    ...   ...    ...      ...        ...         ...   \n",
       "81939   1681707  LT.NS  2023     12        4 2023-12-22   70.767162   \n",
       "81940   1072263  LT.NS  2023     12        1 2023-12-26   99.598220   \n",
       "81941   1389266  LT.NS  2023     12        2 2023-12-27  130.401152   \n",
       "81942   3371121  LT.NS  2023     12        3 2023-12-28  106.774509   \n",
       "81943    968577  LT.NS  2023     12        4 2023-12-29   87.014290   \n",
       "\n",
       "       growth_future_5d  \n",
       "19            -0.043864  \n",
       "20            -0.023571  \n",
       "21            -0.031830  \n",
       "22            -0.017303  \n",
       "23             0.027964  \n",
       "...                 ...  \n",
       "81939          0.013657  \n",
       "81940         -0.014885  \n",
       "81941         -0.029247  \n",
       "81942         -0.016870  \n",
       "81943         -0.001163  \n",
       "\n",
       "[80762 rows x 13 columns]"
      ]
     },
     "execution_count": 20,
     "metadata": {},
     "output_type": "execute_result"
    }
   ],
   "source": [
    "df[\"growth_future_5d\"] = df.groupby(\"Ticker\")[\"Adj Close\"].pct_change(5).shift(-5)\n",
    "# df[\"future_price_5d\"] = df.groupby(\"Ticker\")[\"Adj Close_x\"].shift(-5)\n",
    "# df[\"growth_future_5d\"] = df[\"future_price_5d\"] / df[\"Adj Close_x\"] - 1\n",
    "df = df.loc[(df[\"Date\"] >= \"2014-01-01\") & (df[\"Date\"] <= \"2023-12-31\")]\n",
    "df"
   ]
  },
  {
   "cell_type": "code",
   "execution_count": 21,
   "id": "8f90ebe457bb5965",
   "metadata": {
    "ExecuteTime": {
     "end_time": "2024-05-08T03:14:38.049192Z",
     "start_time": "2024-05-08T03:14:38.044621Z"
    }
   },
   "outputs": [
    {
     "name": "stdout",
     "output_type": "stream",
     "text": [
      "The total gross profit (in THOUSANDS of $) I'll get from trading on CCI (no fees assumption) is 1\n"
     ]
    }
   ],
   "source": [
    "trades = df[(df[\"CCI\"] > 200) & (df[\"Weekday\"] == 4)]\n",
    "print(f\"The total gross profit (in THOUSANDS of $) I'll get from trading on CCI (no fees assumption) is {round(trades['growth_future_5d'].sum())}\")"
   ]
  },
  {
   "cell_type": "markdown",
   "id": "46fa138b0e77ec22",
   "metadata": {},
   "source": [
    "## [EXPLORATORY] Question 5: Finding Your Strategy for IPOs\n",
    "\n",
    "You've seen in the first questions that the median and average investments are negative in IPOs, and you can't blindly invest in all deals.\n",
    "\n",
    "How would you correct/refine the approach? Briefly describe the steps and the data you'll try to get (it should be generally feasible to do it from public sources - no access to internal data of companies)?\n",
    "\n",
    "E.g. (some ideas) Do you want to focus on the specific vertical? Do you want to build a smart comparison vs. existing stocks on the market? Or you just will want to get some features (which features?) like total number of people in a company to find a segment of \"successful\" IPOs?\n"
   ]
  },
  {
   "cell_type": "markdown",
   "id": "74b7ee47a023ab67",
   "metadata": {},
   "source": [
    "## Submitting the solutions\n",
    "\n",
    "Form for submitting: https://courses.datatalks.club/sma-zoomcamp-2024/homework/hw02"
   ]
  }
 ],
 "metadata": {
  "kernelspec": {
   "display_name": "Python 3 (ipykernel)",
   "language": "python",
   "name": "python3"
  },
  "language_info": {
   "codemirror_mode": {
    "name": "ipython",
    "version": 3
   },
   "file_extension": ".py",
   "mimetype": "text/x-python",
   "name": "python",
   "nbconvert_exporter": "python",
   "pygments_lexer": "ipython3",
   "version": "3.11.9"
  }
 },
 "nbformat": 4,
 "nbformat_minor": 5
}
