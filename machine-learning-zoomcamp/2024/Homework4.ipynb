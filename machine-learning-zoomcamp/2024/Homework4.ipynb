{
 "cells": [
  {
   "metadata": {},
   "cell_type": "markdown",
   "source": [
    "# Homework\n",
    "\n",
    "> Note: sometimes your answer doesn't match one of \n",
    "> the options exactly. That's fine. \n",
    "> Select the option that's closest to your solution."
   ],
   "id": "8db7757a97975491"
  },
  {
   "metadata": {},
   "cell_type": "markdown",
   "source": [
    "In this homework, we will use the Bank Marketing dataset. Download it from [here](https://archive.ics.uci.edu/static/public/222/bank+marketing.zip).\n",
    "\n",
    "You can do it with `wget`:\n",
    "\n",
    "```bash\n",
    "wget https://archive.ics.uci.edu/static/public/222/bank+marketing.zip\n",
    "unzip bank+marketing.zip \n",
    "unzip bank.zip\n",
    "```\n",
    "\n",
    "We need `bank-full.csv`.\n",
    "\n",
    "In this dataset the target variable is `y` variable - has the client subscribed a term deposit or not. "
   ],
   "id": "aefb3c0446aa0a9b"
  },
  {
   "metadata": {},
   "cell_type": "markdown",
   "source": [
    "## Dataset preparation\n",
    "\n",
    "For the rest of the homework, you'll need to use only these columns:\n",
    "\n",
    "* `'age'`,\n",
    "* `'job'`,\n",
    "* `'marital'`,\n",
    "* `'education'`,\n",
    "* `'balance'`,\n",
    "* `'housing'`,\n",
    "* `'contact'`,\n",
    "* `'day'`,\n",
    "* `'month'`,\n",
    "* `'duration'`,\n",
    "* `'campaign'`,\n",
    "* `'pdays'`,\n",
    "* `'previous'`,\n",
    "* `'poutcome'`,\n",
    "* `'y'`\n",
    "\n",
    "Split the data into 3 parts: train/validation/test with 60%/20%/20% distribution. Use `train_test_split` function for that with `random_state=1`"
   ],
   "id": "ef1b66a7a401f817"
  },
  {
   "metadata": {
    "collapsed": true,
    "ExecuteTime": {
     "end_time": "2024-10-19T13:44:54.784567Z",
     "start_time": "2024-10-19T13:44:54.627421Z"
    }
   },
   "cell_type": "code",
   "source": [
    "import numpy as np\n",
    "import pandas as pd\n",
    "import matplotlib.pyplot as plt\n",
    "import seaborn as sns\n",
    "from sklearn.feature_extraction import DictVectorizer\n",
    "from sklearn.model_selection import train_test_split, KFold\n",
    "from sklearn.linear_model import LogisticRegression\n",
    "from sklearn.metrics import roc_auc_score, precision_score, recall_score, f1_score"
   ],
   "id": "initial_id",
   "outputs": [],
   "execution_count": 1
  },
  {
   "metadata": {
    "ExecuteTime": {
     "end_time": "2024-10-19T13:44:54.865548Z",
     "start_time": "2024-10-19T13:44:54.794941Z"
    }
   },
   "cell_type": "code",
   "source": [
    "df = pd.read_csv(\"bank-full.csv\", sep=\";\")\n",
    "features = [\"age\", \"job\", \"marital\", \"education\", \"balance\", \"housing\", \"contact\",\n",
    "            \"day\", \"month\", \"duration\", \"campaign\", \"pdays\", \"previous\", \"poutcome\"]\n",
    "target = \"y\"\n",
    "df = df[features + [target]]\n",
    "df[\"y\"] = df[\"y\"].replace({\"yes\": 1, \"no\": 0}).astype(int)\n",
    "\n",
    "numeric = []\n",
    "categorical = []\n",
    "for f in features:\n",
    "    if df.dtypes[f] == \"object\":\n",
    "        categorical.append(f)\n",
    "    else:\n",
    "        numeric.append(f)"
   ],
   "id": "ed61edbedf297dc8",
   "outputs": [
    {
     "name": "stderr",
     "output_type": "stream",
     "text": [
      "/tmp/ipykernel_12487/905633868.py:6: FutureWarning: Downcasting behavior in `replace` is deprecated and will be removed in a future version. To retain the old behavior, explicitly call `result.infer_objects(copy=False)`. To opt-in to the future behavior, set `pd.set_option('future.no_silent_downcasting', True)`\n",
      "  df[\"y\"] = df[\"y\"].replace({\"yes\": 1, \"no\": 0}).astype(int)\n"
     ]
    }
   ],
   "execution_count": 2
  },
  {
   "metadata": {
    "ExecuteTime": {
     "end_time": "2024-10-19T13:44:55.150071Z",
     "start_time": "2024-10-19T13:44:55.133654Z"
    }
   },
   "cell_type": "code",
   "source": [
    "df_full_train, df_test = train_test_split(df, test_size=0.2, random_state=1)\n",
    "df_train, df_val = train_test_split(df_full_train, test_size=0.25, random_state=1)\n",
    "y_train = df_train[target]\n",
    "y_val = df_val[target]\n",
    "y_test = df_test[target]"
   ],
   "id": "69d6f629f7a58728",
   "outputs": [],
   "execution_count": 3
  },
  {
   "metadata": {},
   "cell_type": "markdown",
   "source": [
    "## Question 1: ROC AUC feature importance\n",
    "\n",
    "ROC AUC could also be used to evaluate feature importance of numerical variables. \n",
    "\n",
    "Let's do that\n",
    "\n",
    "* For each numerical variable, use it as score (aka prediction) and compute the AUC with the `y` variable as ground truth.\n",
    "* Use the training dataset for that\n",
    "\n",
    "\n",
    "If your AUC is < 0.5, invert this variable by putting \"-\" in front\n",
    "\n",
    "(e.g. `-df_train['engine_hp']`)\n",
    "\n",
    "AUC can go below 0.5 if the variable is negatively correlated with the target variable. You can change the direction of the correlation by negating this variable - then negative correlation becomes positive.\n",
    "\n",
    "Which numerical variable (among the following 4) has the highest AUC?"
   ],
   "id": "1a926f03f996aeca"
  },
  {
   "metadata": {
    "ExecuteTime": {
     "end_time": "2024-10-19T13:44:55.234681Z",
     "start_time": "2024-10-19T13:44:55.179441Z"
    }
   },
   "cell_type": "code",
   "source": [
    "auc_scores = []\n",
    "for f in numeric:\n",
    "    auc = roc_auc_score(y_train, df_train[f])\n",
    "    if auc < 0.5:\n",
    "        auc = roc_auc_score(y_train, -df_train[f])\n",
    "    auc_scores.append(auc)\n",
    "\n",
    "print(f\"{numeric[np.argmax(auc_scores)]} has the highest AUC\")"
   ],
   "id": "41b2a72cf1be1f1e",
   "outputs": [
    {
     "name": "stdout",
     "output_type": "stream",
     "text": [
      "duration has the highest AUC\n"
     ]
    }
   ],
   "execution_count": 4
  },
  {
   "metadata": {},
   "cell_type": "markdown",
   "source": [
    "## Question 2: Training the model\n",
    "\n",
    "Apply one-hot-encoding using `DictVectorizer` and train the logistic regression with these parameters:\n",
    "\n",
    "```python\n",
    "LogisticRegression(solver='liblinear', C=1.0, max_iter=1000)\n",
    "```\n",
    "\n",
    "What's the AUC of this model on the validation dataset? (round to 3 digits)"
   ],
   "id": "e93154a14c394fc1"
  },
  {
   "metadata": {
    "ExecuteTime": {
     "end_time": "2024-10-19T13:44:55.698793Z",
     "start_time": "2024-10-19T13:44:55.255263Z"
    }
   },
   "cell_type": "code",
   "source": [
    "train_dict = df_train[features].to_dict(orient='records')\n",
    "val_dict = df_val[features].to_dict(orient='records')\n",
    "dv = DictVectorizer(sparse=False)\n",
    "X_train = dv.fit_transform(train_dict)\n",
    "X_val = dv.transform(val_dict)\n",
    "\n",
    "clf = LogisticRegression(solver='liblinear', C=1.0, max_iter=1000)\n",
    "clf.fit(X_train, y_train)\n",
    "auc = roc_auc_score(y_val, clf.predict(X_val))\n",
    "\n",
    "print(f\"AUC of this model on the validation dataset is {round(auc, 2)}\")"
   ],
   "id": "3300f9b79bb17bae",
   "outputs": [
    {
     "name": "stdout",
     "output_type": "stream",
     "text": [
      "AUC of this model on the validation dataset is 0.66\n"
     ]
    }
   ],
   "execution_count": 5
  },
  {
   "metadata": {},
   "cell_type": "markdown",
   "source": [
    "## Question 3: Precision and Recall\n",
    "\n",
    "Now let's compute precision and recall for our model.\n",
    "\n",
    "* Evaluate the model on all thresholds from 0.0 to 1.0 with step 0.01\n",
    "* For each threshold, compute precision and recall\n",
    "* Plot them\n",
    "\n",
    "At which threshold precision and recall curves intersect?"
   ],
   "id": "37c691e07ca2af1"
  },
  {
   "metadata": {
    "ExecuteTime": {
     "end_time": "2024-10-19T13:44:56.364275Z",
     "start_time": "2024-10-19T13:44:55.743577Z"
    }
   },
   "cell_type": "code",
   "source": [
    "thresholds = np.linspace(0.0, 1.0, 101)\n",
    "y_prob = clf.predict_proba(X_val)[:, 1]\n",
    "precision_scores = []\n",
    "recall_scores = []\n",
    "\n",
    "for threshold in thresholds:\n",
    "    y_pred = np.where(y_prob > threshold, 1, 0)\n",
    "    precision = precision_score(y_val, y_pred, zero_division=np.nan)\n",
    "    recall = recall_score(y_val, y_pred)\n",
    "    precision_scores.append(precision)\n",
    "    recall_scores.append(recall)\n",
    "\n",
    "precision_scores = np.array(precision_scores)\n",
    "recall_scores = np.array(recall_scores)\n",
    "sns.lineplot(x=thresholds, y=precision_scores, label=\"Precision\")\n",
    "sns.lineplot(x=thresholds, y=recall_scores, label=\"Recall\")\n",
    "plt.xlabel(\"Threshold\")\n",
    "plt.ylabel(\"Score\")\n",
    "plt.title(\"Precision and Recall vs Threshold\")\n",
    "plt.legend()\n",
    "plt.show()\n",
    "intersect = thresholds[np.argmin(np.abs(precision_scores[:-1] - recall_scores[:-1]))]\n",
    "print(f\"Precision and recall curves intersect at threshold={intersect}\")"
   ],
   "id": "738353f1c1cf1fa2",
   "outputs": [
    {
     "data": {
      "text/plain": [
       "<Figure size 640x480 with 1 Axes>"
      ],
      "image/png": "[encoded data removed]"
     },
     "metadata": {},
     "output_type": "display_data"
    },
    {
     "name": "stdout",
     "output_type": "stream",
     "text": [
      "Precision and recall curves intersect at threshold=0.26\n"
     ]
    }
   ],
   "execution_count": 6
  },
  {
   "metadata": {},
   "cell_type": "markdown",
   "source": [
    "## Question 4: F1 score\n",
    "\n",
    "Precision and recall are conflicting - when one grows, the other goes down. That's why they are often combined into the F1 score - a metrics that takes into account both\n",
    "\n",
    "This is the formula for computing F1:\n",
    "\n",
    "$$F_1 = 2 \\cdot \\cfrac{P \\cdot R}{P + R}$$\n",
    "\n",
    "Where $P$ is precision and $R$ is recall.\n",
    "\n",
    "Let's compute F1 for all thresholds from 0.0 to 1.0 with increment 0.01\n",
    "\n",
    "At which threshold F1 is maximal?"
   ],
   "id": "7dab424772e9be4f"
  },
  {
   "metadata": {
    "ExecuteTime": {
     "end_time": "2024-10-19T13:44:56.632024Z",
     "start_time": "2024-10-19T13:44:56.376130Z"
    }
   },
   "cell_type": "code",
   "source": [
    "thresholds = np.linspace(0.0, 1.0, 101)\n",
    "y_prob = clf.predict_proba(X_val)[:, 1]\n",
    "f1_scores = []\n",
    "\n",
    "for threshold in thresholds:\n",
    "    y_pred = np.where(y_prob > threshold, 1, 0)\n",
    "    f1 = f1_score(y_val, y_pred)\n",
    "    f1_scores.append(f1)\n",
    "    \n",
    "print(f\"F1 is maximal at threshold={thresholds[np.argmax(f1_scores)]}\")"
   ],
   "id": "618bd2b1403aff1d",
   "outputs": [
    {
     "name": "stdout",
     "output_type": "stream",
     "text": [
      "F1 is maximal at threshold=0.22\n"
     ]
    }
   ],
   "execution_count": 7
  },
  {
   "metadata": {},
   "cell_type": "markdown",
   "source": [
    "## Question 5: 5-Fold CV\n",
    "\n",
    "\n",
    "Use the `KFold` class from Scikit-Learn to evaluate our model on 5 different folds:\n",
    "\n",
    "```\n",
    "KFold(n_splits=5, shuffle=True, random_state=1)\n",
    "```\n",
    "\n",
    "* Iterate over different folds of `df_full_train`\n",
    "* Split the data into train and validation\n",
    "* Train the model on train with these parameters: `LogisticRegression(solver='liblinear', C=1.0, max_iter=1000)`\n",
    "* Use AUC to evaluate the model on validation\n",
    "\n",
    "How large is standard deviation of the scores across different folds?"
   ],
   "id": "ecf8513c68aa9dc3"
  },
  {
   "metadata": {
    "ExecuteTime": {
     "end_time": "2024-10-19T13:44:59.761884Z",
     "start_time": "2024-10-19T13:44:56.652443Z"
    }
   },
   "cell_type": "code",
   "source": [
    "kf = KFold(n_splits=5, shuffle=True, random_state=1)\n",
    "X = df[features]\n",
    "y = df[target]\n",
    "auc_scores = []\n",
    "\n",
    "for train_idx, val_idx in kf.split(X):\n",
    "    X_train, X_val = X.iloc[train_idx].to_dict(orient=\"records\"), X.iloc[val_idx].to_dict(orient=\"records\")\n",
    "    y_train, y_val = y.iloc[train_idx], y.iloc[val_idx]\n",
    "    dv = DictVectorizer(sparse=False)\n",
    "    X_train = dv.fit_transform(X_train)\n",
    "    X_val = dv.transform(X_val)\n",
    "    clf = LogisticRegression(solver='liblinear', C=1.0, max_iter=1000)\n",
    "    clf.fit(X_train, y_train)\n",
    "    y_pred = clf.predict(X_val)\n",
    "    auc = roc_auc_score(y_val, y_pred)\n",
    "    auc_scores.append(auc)\n",
    "\n",
    "print(f\"Standard deviation of the scores across different folds is {np.std(auc_scores):.5f}\")"
   ],
   "id": "5b63fd81e607cbc1",
   "outputs": [
    {
     "name": "stdout",
     "output_type": "stream",
     "text": [
      "Standard deviation of the scores across different folds is 0.00522\n"
     ]
    }
   ],
   "execution_count": 8
  },
  {
   "metadata": {},
   "cell_type": "markdown",
   "source": [
    "## Question 6: Hyperparameter Tuning\n",
    "\n",
    "Now let's use 5-Fold cross-validation to find the best parameter `C`\n",
    "\n",
    "* Iterate over the following `C` values: `[0.000001, 0.001, 1]`\n",
    "* Initialize `KFold` with the same parameters as previously\n",
    "* Use these parameters for the model: `LogisticRegression(solver='liblinear', C=C, max_iter=1000)`\n",
    "* Compute the mean score as well as the std (round the mean and std to 3 decimal digits)\n",
    "\n",
    "Which `C` leads to the best mean score?\n",
    "\n",
    "If you have ties, select the score with the lowest std. If you still have ties, select the smallest `C`."
   ],
   "id": "dede6d9f9923bab8"
  },
  {
   "metadata": {
    "ExecuteTime": {
     "end_time": "2024-10-19T13:45:07.540832Z",
     "start_time": "2024-10-19T13:44:59.804388Z"
    }
   },
   "cell_type": "code",
   "source": [
    "alphas = [0.000001, 0.001, 1]\n",
    "kf = KFold(n_splits=5, shuffle=True, random_state=1)\n",
    "X = df[features]\n",
    "y = df[target]\n",
    "auc_scores = [[] for _ in range(len(alphas))]\n",
    "\n",
    "for i, C in enumerate(alphas):\n",
    "    for train_idx, val_idx in kf.split(X):\n",
    "        X_train, X_val = X.iloc[train_idx].to_dict(orient=\"records\"), X.iloc[val_idx].to_dict(orient=\"records\")\n",
    "        y_train, y_val = y.iloc[train_idx], y.iloc[val_idx]\n",
    "        dv = DictVectorizer(sparse=False)\n",
    "        X_train = dv.fit_transform(X_train)\n",
    "        X_val = dv.transform(X_val)\n",
    "        clf = LogisticRegression(solver='liblinear', C=C, max_iter=1000)\n",
    "        clf.fit(X_train, y_train)\n",
    "        y_pred = clf.predict(X_val)\n",
    "        auc = roc_auc_score(y_val, y_pred)\n",
    "        auc_scores[i].append(auc)\n",
    "        \n",
    "avg_auc = np.mean(auc_scores, axis=1)        \n",
    "print(f\"C={alphas[np.argmax(avg_auc)]} leads to the best mean score\")"
   ],
   "id": "4fcd87ed8f90d0a8",
   "outputs": [
    {
     "name": "stdout",
     "output_type": "stream",
     "text": [
      "C=1 leads to the best mean score\n"
     ]
    }
   ],
   "execution_count": 9
  },
  {
   "metadata": {},
   "cell_type": "markdown",
   "source": [
    "## Submit the results\n",
    "\n",
    "* Submit your results here: https://courses.datatalks.club/ml-zoomcamp-2024/homework/hw04\n",
    "* If your answer doesn't match options exactly, select the closest one"
   ],
   "id": "ebe6b223b76f2058"
  }
 ],
 "metadata": {
  "kernelspec": {
   "display_name": "Python 3",
   "language": "python",
   "name": "python3"
  },
  "language_info": {
   "codemirror_mode": {
    "name": "ipython",
    "version": 2
   },
   "file_extension": ".py",
   "mimetype": "text/x-python",
   "name": "python",
   "nbconvert_exporter": "python",
   "pygments_lexer": "ipython2",
   "version": "2.7.6"
  }
 },
 "nbformat": 4,
 "nbformat_minor": 5
}
