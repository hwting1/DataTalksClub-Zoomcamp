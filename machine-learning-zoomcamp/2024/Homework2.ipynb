{
 "cells": [
  {
   "metadata": {},
   "cell_type": "markdown",
   "source": [
    "# Homework\n",
    "\n",
    "> Note: sometimes your answer doesn't match one of \n",
    "> the options exactly. That's fine. \n",
    "> Select the option that's closest to your solution."
   ],
   "id": "f3b4cd4d16113649"
  },
  {
   "metadata": {},
   "cell_type": "markdown",
   "source": [
    "## Dataset\n",
    "\n",
    "In this homework, we will use the Laptops price dataset from [Kaggle](https://www.kaggle.com/datasets/juanmerinobermejo/laptops-price-dataset).\n",
    "\n",
    "Here's a wget-able [link](https://raw.githubusercontent.com/alexeygrigorev/datasets/master/laptops.csv):\n",
    "\n",
    "```bash\n",
    "wget https://raw.githubusercontent.com/alexeygrigorev/datasets/master/laptops.csv\n",
    "```\n",
    "\n",
    "The goal of this homework is to create a regression model for predicting the prices (column `'Final Price'`).\n"
   ],
   "id": "40c0531ae21dc63c"
  },
  {
   "metadata": {},
   "cell_type": "markdown",
   "source": [
    "## Preparing the dataset \n",
    "\n",
    "First, we'll normalize the names of the columns:\n",
    "\n",
    "```python\n",
    "df.columns = df.columns.str.lower().str.replace(' ', '_')\n",
    "```\n",
    "\n",
    "Now, instead of `'Final Price'`, we have `'final_price'`.\n",
    "\n",
    "Next, use only the following columns:\n",
    "\n",
    "* `'ram'`,\n",
    "* `'storage'`,\n",
    "* `'screen'`,\n",
    "* `'final_price'`"
   ],
   "id": "9115fd417fe87689"
  },
  {
   "metadata": {
    "ExecuteTime": {
     "end_time": "2024-10-07T06:43:37.708420Z",
     "start_time": "2024-10-07T06:43:37.705993Z"
    }
   },
   "cell_type": "code",
   "source": [
    "import numpy as np\n",
    "import pandas as pd\n",
    "import matplotlib.pyplot as plt\n",
    "import seaborn as sns"
   ],
   "id": "b72e35d1fab9df33",
   "outputs": [],
   "execution_count": 1
  },
  {
   "metadata": {
    "ExecuteTime": {
     "end_time": "2024-10-07T06:43:37.738852Z",
     "start_time": "2024-10-07T06:43:37.715037Z"
    }
   },
   "cell_type": "code",
   "source": [
    "df = pd.read_csv(\"laptops.csv\")\n",
    "df.columns = df.columns.str.lower().str.replace(' ', '_')\n",
    "features = [\"ram\", \"storage\", \"screen\"]\n",
    "target = \"final_price\"\n",
    "df = df[features + [target]]"
   ],
   "id": "30a339bad2e61d7a",
   "outputs": [],
   "execution_count": 2
  },
  {
   "metadata": {},
   "cell_type": "markdown",
   "source": [
    "## EDA\n",
    "\n",
    "* Look at the `final_price` variable. Does it have a long tail? "
   ],
   "id": "51c69cf9ea8a1999"
  },
  {
   "metadata": {
    "ExecuteTime": {
     "end_time": "2024-10-07T06:43:38.180034Z",
     "start_time": "2024-10-07T06:43:38.045442Z"
    }
   },
   "cell_type": "code",
   "source": [
    "sns.histplot(data=df, x=\"final_price\")\n",
    "plt.show()"
   ],
   "id": "40a577410cb5e9a4",
   "outputs": [
    {
     "data": {
      "text/plain": [
       "<Figure size 640x480 with 1 Axes>"
      ],
      "image/png": "[encoded data removed]"
     },
     "metadata": {},
     "output_type": "display_data"
    }
   ],
   "execution_count": 3
  },
  {
   "metadata": {},
   "cell_type": "markdown",
   "source": [
    "## Question 1\n",
    "\n",
    "There's one column with missing values. What is it?"
   ],
   "id": "80f5dcfda463ad62"
  },
  {
   "metadata": {
    "ExecuteTime": {
     "end_time": "2024-10-07T06:43:38.193797Z",
     "start_time": "2024-10-07T06:43:38.190755Z"
    }
   },
   "cell_type": "code",
   "source": "print(f\"The column with missing values is {df.columns[df.isnull().sum() > 0][0]}\")",
   "id": "7d7ea5a67fc47d27",
   "outputs": [
    {
     "name": "stdout",
     "output_type": "stream",
     "text": [
      "The column with missing values is screen\n"
     ]
    }
   ],
   "execution_count": 4
  },
  {
   "metadata": {},
   "cell_type": "markdown",
   "source": [
    "### Question 2\n",
    "\n",
    "What's the median (50% percentile) for variable `'ram'`?"
   ],
   "id": "a59b42c4ed071387"
  },
  {
   "metadata": {
    "ExecuteTime": {
     "end_time": "2024-10-07T06:43:38.244868Z",
     "start_time": "2024-10-07T06:43:38.242290Z"
    }
   },
   "cell_type": "code",
   "source": "print(f\"The median (50% percentile) for variable 'ram' is {df['ram'].median()}\")",
   "id": "613571ca8fdf561d",
   "outputs": [
    {
     "name": "stdout",
     "output_type": "stream",
     "text": [
      "The median (50% percentile) for variable 'ram' is 16.0\n"
     ]
    }
   ],
   "execution_count": 5
  },
  {
   "metadata": {},
   "cell_type": "markdown",
   "source": [
    "## Prepare and split the dataset\n",
    "\n",
    "* Shuffle the dataset (the filtered one you created above), use seed `42`.\n",
    "* Split your data in train/val/test sets, with 60%/20%/20% distribution.\n",
    "\n",
    "Use the same code as in the lectures"
   ],
   "id": "a057fb19bde5f105"
  },
  {
   "metadata": {
    "ExecuteTime": {
     "end_time": "2024-10-07T06:43:38.304735Z",
     "start_time": "2024-10-07T06:43:38.300292Z"
    }
   },
   "cell_type": "code",
   "source": [
    "n = len(df)\n",
    "idx = np.arange(n)\n",
    "np.random.seed(42)\n",
    "np.random.shuffle(idx)\n",
    "n_val = int(n * 0.2)\n",
    "n_test = int(n * 0.2)\n",
    "n_train = n - n_val - n_test\n",
    "\n",
    "df_train = df.iloc[idx[:n_train]]\n",
    "df_val = df.iloc[idx[n_train:n_train+n_val]]\n",
    "df_test = df.iloc[idx[n_train+n_val:]]"
   ],
   "id": "f7e11d3cc8808a9d",
   "outputs": [],
   "execution_count": 6
  },
  {
   "metadata": {},
   "cell_type": "markdown",
   "source": [
    "## Question 3\n",
    "\n",
    "* We need to deal with missing values for the column from Q1.\n",
    "* We have two options: fill it with 0 or with the mean of this variable.\n",
    "* Try both options. For each, train a linear regression model without regularization using the code from the lessons.\n",
    "* For computing the mean, use the training only!\n",
    "* Use the validation dataset to evaluate the models and compare the RMSE of each option.\n",
    "* Round the RMSE scores to 2 decimal digits using `round(score, 2)`\n",
    "* Which option gives better RMSE?"
   ],
   "id": "3a43796534d8eae3"
  },
  {
   "metadata": {
    "ExecuteTime": {
     "end_time": "2024-10-07T06:43:38.350344Z",
     "start_time": "2024-10-07T06:43:38.347317Z"
    }
   },
   "cell_type": "code",
   "source": [
    "def train_linear_regression(X, y):\n",
    "    ones = np.ones(X.shape[0])\n",
    "    X = np.column_stack([ones, X])\n",
    "\n",
    "    XTX = X.T.dot(X)\n",
    "    XTX_inv = np.linalg.inv(XTX)\n",
    "    w_full = XTX_inv.dot(X.T).dot(y)\n",
    "    \n",
    "    return w_full[0], w_full[1:]\n",
    "\n",
    "def root_mean_squared_error(y_true, y_pred):\n",
    "    return np.sqrt(np.mean((y_true - y_pred) ** 2))"
   ],
   "id": "a6b29fc95bc63571",
   "outputs": [],
   "execution_count": 7
  },
  {
   "metadata": {
    "ExecuteTime": {
     "end_time": "2024-10-07T06:43:38.403919Z",
     "start_time": "2024-10-07T06:43:38.396092Z"
    }
   },
   "cell_type": "code",
   "source": [
    "y_train = df_train[target]\n",
    "y_val = df_val[target]\n",
    "X_train1 = df_train[features].copy()\n",
    "X_train1[\"screen\"] = X_train1[\"screen\"].fillna(0)\n",
    "X_train2 = df_train[features].copy()\n",
    "X_train2[\"screen\"] = X_train2[\"screen\"].fillna(X_train2[\"screen\"].mean())\n",
    "X_val1 = df_val[features].copy()\n",
    "X_val1[\"screen\"] = X_val1[\"screen\"].fillna(0)\n",
    "X_val2 = df_val[features].copy()\n",
    "X_val2[\"screen\"] = X_val2[\"screen\"].fillna(X_train2[\"screen\"].mean())\n",
    "\n",
    "w0_1, w_1 = train_linear_regression(X_train1, y_train)\n",
    "y_pred_1 = w0_1 + X_val1 @ w_1\n",
    "score1 = round(root_mean_squared_error(y_val, y_pred_1), 2)\n",
    "w0_2, w_2 = train_linear_regression(X_train2, y_train)\n",
    "y_pred_2 = w0_2 + X_val2 @ w_2\n",
    "score2 = round(root_mean_squared_error(y_val, y_pred_2), 2)\n",
    "\n",
    "if score1 < score2:\n",
    "    print(\"Fill missing value with 0 is better.\")\n",
    "elif score1 > score2:\n",
    "    print(\"Fill missing value with mean is better.\")\n",
    "else:\n",
    "    print(\"Both are equally good\")"
   ],
   "id": "3ac6eb3ad7b41e99",
   "outputs": [
    {
     "name": "stdout",
     "output_type": "stream",
     "text": [
      "Fill missing value with 0 is better.\n"
     ]
    }
   ],
   "execution_count": 8
  },
  {
   "metadata": {},
   "cell_type": "markdown",
   "source": [
    "## Question 4\n",
    "\n",
    "* Now let's train a regularized linear regression.\n",
    "* For this question, fill the NAs with 0. \n",
    "* Try different values of `r` from this list: `[0, 0.01, 0.1, 1, 5, 10, 100]`.\n",
    "* Use RMSE to evaluate the model on the validation dataset.\n",
    "* Round the RMSE scores to 2 decimal digits.\n",
    "* Which `r` gives the best RMSE?\n",
    "\n",
    "If there are multiple options, select the smallest `r`."
   ],
   "id": "4ed51fc7de2cbffe"
  },
  {
   "metadata": {
    "ExecuteTime": {
     "end_time": "2024-10-07T06:43:38.451976Z",
     "start_time": "2024-10-07T06:43:38.449284Z"
    }
   },
   "cell_type": "code",
   "source": [
    "def train_linear_regression_reg(X, y, r):\n",
    "    ones = np.ones(X.shape[0])\n",
    "    X = np.column_stack([ones, X])\n",
    "\n",
    "    XTX = X.T.dot(X)\n",
    "    XTX = XTX + r * np.eye(XTX.shape[0])\n",
    "\n",
    "    XTX_inv = np.linalg.inv(XTX)\n",
    "    w_full = XTX_inv.dot(X.T).dot(y)\n",
    "\n",
    "    return w_full[0], w_full[1:]"
   ],
   "id": "426c1854032b1de8",
   "outputs": [],
   "execution_count": 9
  },
  {
   "metadata": {
    "ExecuteTime": {
     "end_time": "2024-10-07T06:43:38.505646Z",
     "start_time": "2024-10-07T06:43:38.498127Z"
    }
   },
   "cell_type": "code",
   "source": [
    "y_train = df_train[target]\n",
    "y_val = df_val[target]\n",
    "X_train = df_train[features].copy()\n",
    "X_train[\"screen\"] = X_train[\"screen\"].fillna(0)\n",
    "X_val = df_val[features].copy()\n",
    "X_val[\"screen\"] = X_val[\"screen\"].fillna(0)\n",
    "\n",
    "alphas = [0, 0.01, 0.1, 1, 10, 100]\n",
    "scores = []\n",
    "for r in alphas:\n",
    "    w0, w = train_linear_regression_reg(X_train, y_train, r)\n",
    "    y_pred = w0 + X_val @ w\n",
    "    rmse = round(root_mean_squared_error(y_val, y_pred), 2)\n",
    "    scores.append(rmse)\n",
    "\n",
    "r = alphas[np.argmin(scores)]\n",
    "print(f\"{r=} gives the best RMSE\")"
   ],
   "id": "50aaa81f5506e08",
   "outputs": [
    {
     "name": "stdout",
     "output_type": "stream",
     "text": [
      "r=10 gives the best RMSE\n"
     ]
    }
   ],
   "execution_count": 10
  },
  {
   "metadata": {},
   "cell_type": "markdown",
   "source": [
    "## Question 5 \n",
    "\n",
    "* We used seed 42 for splitting the data. Let's find out how selecting the seed influences our score.\n",
    "* Try different seed values: `[0, 1, 2, 3, 4, 5, 6, 7, 8, 9]`.\n",
    "* For each seed, do the train/validation/test split with 60%/20%/20% distribution.\n",
    "* Fill the missing values with 0 and train a model without regularization.\n",
    "* For each seed, evaluate the model on the validation dataset and collect the RMSE scores. \n",
    "* What's the standard deviation of all the scores? To compute the standard deviation, use `np.std`.\n",
    "* Round the result to 3 decimal digits (`round(std, 3)`)\n",
    "\n",
    "What's the value of std?\n",
    "\n",
    "> Note: Standard deviation shows how different the values are.\n",
    "> If it's low, then all values are approximately the same.\n",
    "> If it's high, the values are different. \n",
    "> If standard deviation of scores is low, then our model is *stable*."
   ],
   "id": "ed0e1ca419c523da"
  },
  {
   "metadata": {
    "ExecuteTime": {
     "end_time": "2024-10-07T06:43:38.567131Z",
     "start_time": "2024-10-07T06:43:38.552068Z"
    }
   },
   "cell_type": "code",
   "source": [
    "seeds = np.arange(10)\n",
    "scores = []\n",
    "for seed in seeds:\n",
    "    idx = np.arange(n)\n",
    "    np.random.seed(seed)\n",
    "    np.random.shuffle(idx)\n",
    "    df_train = df.iloc[idx[:n_train]].copy().fillna(0)\n",
    "    df_val = df.iloc[idx[n_train:n_train+n_val]].copy().fillna(0)\n",
    "    X_train = df_train[features]\n",
    "    X_val = df_val[features]\n",
    "    y_train = df_train[target]\n",
    "    y_val = df_val[target]\n",
    "    w0, w = train_linear_regression(X_train, y_train)\n",
    "    y_pred = w0 + X_val @ w\n",
    "    rmse = root_mean_squared_error(y_val, y_pred)\n",
    "    scores.append(rmse)\n",
    "\n",
    "std = np.std(scores)\n",
    "print(f\"The value of std is {round(std, 3)}\")    "
   ],
   "id": "7118e06689a31ffa",
   "outputs": [
    {
     "name": "stdout",
     "output_type": "stream",
     "text": [
      "The value of std is 29.176\n"
     ]
    }
   ],
   "execution_count": 11
  },
  {
   "metadata": {},
   "cell_type": "markdown",
   "source": [
    "## Question 6\n",
    "\n",
    "* Split the dataset like previously, use seed 9.\n",
    "* Combine train and validation datasets.\n",
    "* Fill the missing values with 0 and train a model with `r=0.001`. \n",
    "* What's the RMSE on the test dataset?"
   ],
   "id": "caae01b985cbefb3"
  },
  {
   "metadata": {
    "ExecuteTime": {
     "end_time": "2024-10-07T06:43:38.609470Z",
     "start_time": "2024-10-07T06:43:38.603472Z"
    }
   },
   "cell_type": "code",
   "source": [
    "idx = np.arange(n)\n",
    "np.random.seed(9)\n",
    "np.random.shuffle(idx)\n",
    "df_train = df.iloc[idx[:-n_test]].copy().fillna(0)\n",
    "df_test = df.iloc[idx[-n_test:]].copy().fillna(0)\n",
    "X_train = df_train[features]\n",
    "X_test = df_test[features]\n",
    "y_train = df_train[target]\n",
    "y_test = df_test[target]\n",
    "\n",
    "w0, w = train_linear_regression_reg(X_train, y_train, r=0.001)\n",
    "y_pred = w0 + X_test @ w\n",
    "rmse = root_mean_squared_error(y_test, y_pred)\n",
    "print(f\"The RMSE on the test dataset is {round(rmse, 2)}\")"
   ],
   "id": "db65729a21266f49",
   "outputs": [
    {
     "name": "stdout",
     "output_type": "stream",
     "text": [
      "The RMSE on the test dataset is 608.61\n"
     ]
    }
   ],
   "execution_count": 12
  },
  {
   "metadata": {},
   "cell_type": "markdown",
   "source": [
    "## Submit the results\n",
    "\n",
    "* Submit your results here: https://courses.datatalks.club/ml-zoomcamp-2024/homework/hw02\n",
    "* If your answer doesn't match options exactly, select the closest one"
   ],
   "id": "38ccb28e007071f9"
  }
 ],
 "metadata": {
  "kernelspec": {
   "display_name": "Python 3",
   "language": "python",
   "name": "python3"
  },
  "language_info": {
   "codemirror_mode": {
    "name": "ipython",
    "version": 2
   },
   "file_extension": ".py",
   "mimetype": "text/x-python",
   "name": "python",
   "nbconvert_exporter": "python",
   "pygments_lexer": "ipython2",
   "version": "2.7.6"
  }
 },
 "nbformat": 4,
 "nbformat_minor": 5
}
