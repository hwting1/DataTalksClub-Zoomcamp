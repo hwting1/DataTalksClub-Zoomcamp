{
 "cells": [
  {
   "metadata": {},
   "cell_type": "markdown",
   "source": [
    "# Homework\n",
    "\n",
    "In this homework, we'll deploy the Bank Marketing model from the homework 5.\n",
    "We already have a docker image for this model - we'll use it for\n",
    "deploying the model to Kubernetes."
   ],
   "id": "4df40c43ccffbdce"
  },
  {
   "metadata": {},
   "cell_type": "markdown",
   "source": [
    "## Building the image\n",
    "\n",
    "Clone the course repo if you haven't:\n",
    "\n",
    "```\n",
    "git clone https://github.com/DataTalksClub/machine-learning-zoomcamp.git\n",
    "```\n",
    "\n",
    "Go to the `course-zoomcamp/cohorts/2024/05-deployment/homework` folder and\n",
    "execute the following:\n",
    "\n",
    "\n",
    "```bash\n",
    "docker build -t zoomcamp-model:3.11.5-hw10 .\n",
    "```\n",
    "\n",
    "> **Note:** If you have troubles building the image, you can\n",
    "> use the image we built and published to docker hub:\n",
    "> `docker pull svizor/zoomcamp-model:3.11.5-hw10`"
   ],
   "id": "40545afe6e68fb5b"
  },
  {
   "metadata": {
    "ExecuteTime": {
     "end_time": "2024-12-14T13:19:54.857133Z",
     "start_time": "2024-12-14T13:19:48.357687Z"
    }
   },
   "cell_type": "code",
   "source": [
    "%%capture\n",
    "!docker build -t zoomcamp-model:3.11.5-hw10 ."
   ],
   "id": "ece90f491ba71599",
   "outputs": [],
   "execution_count": 1
  },
  {
   "metadata": {},
   "cell_type": "markdown",
   "source": [
    "## Question 1\n",
    "\n",
    "Run it to test that it's working locally:\n",
    "\n",
    "```bash\n",
    "docker run -it --rm -p 9696:9696 zoomcamp-model:3.11.5-hw10\n",
    "```\n",
    "\n",
    "And in another terminal, execute `q6_test.py` file:\n",
    "\n",
    "```bash\n",
    "python q6_test.py\n",
    "```\n",
    "\n",
    "You should see this:\n",
    "\n",
    "```python\n",
    "{'has_subscribed': True, 'has_subscribed_probability': <value>}\n",
    "```\n",
    "\n",
    "Here `<value>` is the probability of getting a subscription. You need to choose the right one."
   ],
   "id": "fecc8ef615a58771"
  },
  {
   "metadata": {
    "ExecuteTime": {
     "end_time": "2024-12-14T13:19:55.468962Z",
     "start_time": "2024-12-14T13:19:54.861092Z"
    }
   },
   "cell_type": "code",
   "source": [
    "%%capture\n",
    "!docker run -it --rm -d -p 9696:9696 zoomcamp-model:3.11.5-hw10"
   ],
   "id": "afdb124f4721537f",
   "outputs": [],
   "execution_count": 2
  },
  {
   "metadata": {
    "ExecuteTime": {
     "end_time": "2024-12-14T13:20:08.031759Z",
     "start_time": "2024-12-14T13:20:07.681130Z"
    }
   },
   "cell_type": "code",
   "source": "!python q6_test.py",
   "id": "30092a8e902c2d39",
   "outputs": [
    {
     "name": "stdout",
     "output_type": "stream",
     "text": [
      "{'has_subscribed': True, 'has_subscribed_probability': 0.756743795240796}\r\n"
     ]
    }
   ],
   "execution_count": 3
  },
  {
   "metadata": {},
   "cell_type": "markdown",
   "source": "Now you can stop the container running in Docker.",
   "id": "66ce9a9ddf5a39b5"
  },
  {
   "metadata": {},
   "cell_type": "markdown",
   "source": [
    "## Installing `kubectl` and `kind`\n",
    "\n",
    "You need to install:\n",
    "\n",
    "* `kubectl` - https://kubernetes.io/docs/tasks/tools/ (you might already have it - check before installing)\n",
    "* `kind` - https://kind.sigs.k8s.io/docs/user/quick-start/"
   ],
   "id": "d349a7202a80f3f9"
  },
  {
   "metadata": {},
   "cell_type": "markdown",
   "source": [
    "## Question 2\n",
    "\n",
    "What's the version of `kind` that you have?\n",
    "\n",
    "Use `kind --version` to find out."
   ],
   "id": "94d41c68c26b6c19"
  },
  {
   "metadata": {
    "ExecuteTime": {
     "end_time": "2024-12-14T13:20:13.790671Z",
     "start_time": "2024-12-14T13:20:13.526031Z"
    }
   },
   "cell_type": "code",
   "source": "!kind --version",
   "id": "3265efe3e67ee04f",
   "outputs": [
    {
     "name": "stdout",
     "output_type": "stream",
     "text": [
      "kind version 0.25.0\r\n"
     ]
    }
   ],
   "execution_count": 4
  },
  {
   "metadata": {},
   "cell_type": "markdown",
   "source": [
    "## Creating a cluster\n",
    "\n",
    "Now let's create a cluster with `kind`:\n",
    "\n",
    "```bash\n",
    "kind create cluster\n",
    "```\n",
    "\n",
    "And check with `kubectl` that it was successfully created:\n",
    "\n",
    "```bash\n",
    "kubectl cluster-info\n",
    "```"
   ],
   "id": "d6c8a4920d5ca5e2"
  },
  {
   "metadata": {
    "ExecuteTime": {
     "end_time": "2024-12-14T13:33:48.724902Z",
     "start_time": "2024-12-14T13:20:43.421181Z"
    }
   },
   "cell_type": "code",
   "source": [
    "%%capture\n",
    "!kind create cluster"
   ],
   "id": "ff276cb67d588115",
   "outputs": [],
   "execution_count": 5
  },
  {
   "metadata": {
    "ExecuteTime": {
     "end_time": "2024-12-14T13:33:55.015007Z",
     "start_time": "2024-12-14T13:33:54.707717Z"
    }
   },
   "cell_type": "code",
   "source": "!kubectl cluster-info",
   "id": "38cfe298b81b460f",
   "outputs": [
    {
     "name": "stdout",
     "output_type": "stream",
     "text": [
      "Kubernetes control plane is running at https://127.0.0.1:36477\r\n",
      "CoreDNS is running at https://127.0.0.1:36477/api/v1/namespaces/kube-system/services/kube-dns:dns/proxy\r\n",
      "\r\n",
      "To further debug and diagnose cluster problems, use 'kubectl cluster-info dump'.\r\n"
     ]
    }
   ],
   "execution_count": 6
  },
  {
   "metadata": {},
   "cell_type": "markdown",
   "source": [
    "## Question 3\n",
    "\n",
    "What's the smallest deployable computing unit that we can create and manage\n",
    "in Kubernetes (`kind` in our case)?"
   ],
   "id": "364fdf945b1369e6"
  },
  {
   "metadata": {},
   "cell_type": "markdown",
   "source": [
    "## Question 4\n",
    "\n",
    "Now let's test if everything works. Use `kubectl` to get the list of running services.\n",
    "\n",
    "What's the `Type` of the service that is already running there?"
   ],
   "id": "1a151aa225d2bdeb"
  },
  {
   "metadata": {
    "ExecuteTime": {
     "end_time": "2024-12-14T13:33:58.877261Z",
     "start_time": "2024-12-14T13:33:58.564510Z"
    }
   },
   "cell_type": "code",
   "source": "!kubectl get services",
   "id": "49f9444d1500a870",
   "outputs": [
    {
     "name": "stdout",
     "output_type": "stream",
     "text": [
      "NAME         TYPE        CLUSTER-IP   EXTERNAL-IP   PORT(S)   AGE\r\n",
      "kubernetes   ClusterIP   10.96.0.1    <none>        443/TCP   12s\r\n"
     ]
    }
   ],
   "execution_count": 7
  },
  {
   "metadata": {},
   "cell_type": "markdown",
   "source": [
    "## Question 5\n",
    "\n",
    "To be able to use the docker image we previously created (`zoomcamp-model:3.11.5-hw10`),\n",
    "we need to register it with `kind`.\n",
    "\n",
    "What's the command we need to run for that?"
   ],
   "id": "8e52989be2371b3"
  },
  {
   "metadata": {
    "ExecuteTime": {
     "end_time": "2024-12-14T13:34:09.035165Z",
     "start_time": "2024-12-14T13:34:00.864585Z"
    }
   },
   "cell_type": "code",
   "source": "!kind load docker-image zoomcamp-model:3.11.5-hw10",
   "id": "7791e3ff6c6a343a",
   "outputs": [
    {
     "name": "stdout",
     "output_type": "stream",
     "text": [
      "Image: \"zoomcamp-model:3.11.5-hw10\" with ID \"sha256:610235c9624c6a60c90eee7fb46c0960159eccecd6647efae408005c9de8aedc\" not yet present on node \"kind-control-plane\", loading...\r\n"
     ]
    }
   ],
   "execution_count": 8
  },
  {
   "metadata": {},
   "cell_type": "markdown",
   "source": [
    "## Question 6\n",
    "\n",
    "Now let's create a deployment config (e.g. `deployment.yaml`):\n",
    "\n",
    "```yaml\n",
    "apiVersion: apps/v1\n",
    "kind: Deployment\n",
    "metadata:\n",
    "  name: subscription\n",
    "spec:\n",
    "  selector:\n",
    "    matchLabels:\n",
    "      app: subscription\n",
    "  replicas: 1\n",
    "  template:\n",
    "    metadata:\n",
    "      labels:\n",
    "        app: subscription\n",
    "    spec:\n",
    "      containers:\n",
    "      - name: subscription\n",
    "        image: <Image>\n",
    "        resources:\n",
    "          requests:\n",
    "            memory: \"64Mi\"\n",
    "            cpu: \"100m\"\n",
    "          limits:\n",
    "            memory: <Memory>\n",
    "            cpu: <CPU>\n",
    "        ports:\n",
    "        - containerPort: <Port>\n",
    "```\n",
    "\n",
    "Replace `<Image>`, `<Memory>`, `<CPU>`, `<Port>` with the correct values.\n",
    "\n",
    "What is the value for `<Port>`?\n",
    "\n",
    "Apply this deployment using the appropriate command and get a list of running Pods.\n",
    "You can see one running Pod."
   ],
   "id": "22610262a227d53"
  },
  {
   "metadata": {
    "ExecuteTime": {
     "end_time": "2024-12-14T13:34:46.175734Z",
     "start_time": "2024-12-14T13:34:45.846884Z"
    }
   },
   "cell_type": "code",
   "source": "!kubectl apply -f deployment.yaml",
   "id": "37c768b42c145e91",
   "outputs": [
    {
     "name": "stdout",
     "output_type": "stream",
     "text": [
      "deployment.apps/subscription created\r\n"
     ]
    }
   ],
   "execution_count": 9
  },
  {
   "metadata": {
    "ExecuteTime": {
     "end_time": "2024-12-14T13:34:48.348496Z",
     "start_time": "2024-12-14T13:34:48.030270Z"
    }
   },
   "cell_type": "code",
   "source": "!kubectl get pods",
   "id": "a7c708aaff30b135",
   "outputs": [
    {
     "name": "stdout",
     "output_type": "stream",
     "text": [
      "NAME                            READY   STATUS    RESTARTS   AGE\r\n",
      "subscription-544b4f9664-hctbs   1/1     Running   0          2s\r\n"
     ]
    }
   ],
   "execution_count": 10
  },
  {
   "metadata": {},
   "cell_type": "markdown",
   "source": [
    "## Question 7\n",
    "\n",
    "Let's create a service for this deployment (`service.yaml`):\n",
    "\n",
    "```yaml\n",
    "apiVersion: v1\n",
    "kind: Service\n",
    "metadata:\n",
    "name: <Service name>\n",
    "spec:\n",
    "type: LoadBalancer\n",
    "selector:\n",
    "app: <???>\n",
    "ports:\n",
    "- port: 80\n",
    "targetPort: <PORT>\n",
    "```\n",
    "\n",
    "Fill it in. What do we need to write instead of `<???>`?\n",
    "\n",
    "Apply this config file."
   ],
   "id": "d1fa59fbde730ace"
  },
  {
   "metadata": {
    "ExecuteTime": {
     "end_time": "2024-12-14T13:34:53.862814Z",
     "start_time": "2024-12-14T13:34:53.506358Z"
    }
   },
   "cell_type": "code",
   "source": "!kubectl apply -f service.yaml",
   "id": "31f1366396f1630f",
   "outputs": [
    {
     "name": "stdout",
     "output_type": "stream",
     "text": [
      "service/subscription created\r\n"
     ]
    }
   ],
   "execution_count": 11
  },
  {
   "metadata": {
    "ExecuteTime": {
     "end_time": "2024-12-14T13:34:57.610767Z",
     "start_time": "2024-12-14T13:34:57.308772Z"
    }
   },
   "cell_type": "code",
   "source": "!kubectl get services",
   "id": "d41b1b1bdc3270f1",
   "outputs": [
    {
     "name": "stdout",
     "output_type": "stream",
     "text": [
      "NAME           TYPE           CLUSTER-IP      EXTERNAL-IP   PORT(S)        AGE\r\n",
      "kubernetes     ClusterIP      10.96.0.1       <none>        443/TCP        71s\r\n",
      "subscription   LoadBalancer   10.96.142.171   <pending>     80:30609/TCP   4s\r\n"
     ]
    }
   ],
   "execution_count": 12
  },
  {
   "metadata": {},
   "cell_type": "markdown",
   "source": [
    "## Testing the service\n",
    "\n",
    "We can test our service locally by forwarding the port 9696 on our computer\n",
    "to the port 80 on the service:\n",
    "\n",
    "```bash\n",
    "kubectl port-forward service/<Service name> 9696:80\n",
    "```\n",
    "\n",
    "Run `q6_test.py` (from the homework 5) once again to verify that everything is working.\n",
    "You should get the same result as in Question 1."
   ],
   "id": "f413b51eecb5fb89"
  },
  {
   "metadata": {},
   "cell_type": "markdown",
   "source": [
    "## Autoscaling\n",
    "\n",
    "Now we're going to use a [HorizontalPodAutoscaler](https://kubernetes.io/docs/tasks/run-application/horizontal-pod-autoscale-walkthrough/)\n",
    "(HPA for short) that automatically updates a workload resource (such as our deployment),\n",
    "with the aim of automatically scaling the workload to match demand.\n",
    "\n",
    "Use the following command to create the HPA:\n",
    "\n",
    "```bash\n",
    "kubectl autoscale deployment subscription --name subscription-hpa --cpu-percent=20 --min=1 --max=3\n",
    "```\n",
    "\n",
    "You can check the current status of the new HPA by running:\n",
    "\n",
    "```bash\n",
    "kubectl get hpa\n",
    "```\n",
    "\n",
    "The output should be similar to the next:\n",
    "\n",
    "```bash\n",
    "NAME               REFERENCE                 TARGETS   MINPODS   MAXPODS   REPLICAS   AGE\n",
    "subscription-hpa   Deployment/subscription   1%/20%    1         3         1          27s\n",
    "```\n",
    "\n",
    "`TARGET` column shows the average CPU consumption across all the Pods controlled by the corresponding deployment.\n",
    "Current CPU consumption is about 0% as there are no clients sending requests to the server.\n",
    ">\n",
    ">Note: In case the HPA instance doesn't run properly, try to install the latest Metrics Server release\n",
    "> from the `components.yaml` manifest:\n",
    "> ```bash\n",
    "> kubectl apply -f https://github.com/kubernetes-sigs/metrics-server/releases/latest/download/components.yaml\n",
    ">```"
   ],
   "id": "ed3312eca7eec7f8"
  },
  {
   "metadata": {},
   "cell_type": "markdown",
   "source": [
    "## Increase the load\n",
    "\n",
    "Let's see how the autoscaler reacts to increasing the load. To do this, we can slightly modify the existing\n",
    "`q6_test.py` script by putting the operator that sends the request to the subscription service into a loop.\n",
    "\n",
    "```python\n",
    "while True:\n",
    "    sleep(0.1)\n",
    "    response = requests.post(url, json=client).json()\n",
    "    print(response)\n",
    "```\n",
    "\n",
    "Now you can run this script."
   ],
   "id": "65b5abf8c2abf258"
  },
  {
   "metadata": {},
   "cell_type": "markdown",
   "source": [
    "## Question 8 (optional)\n",
    "\n",
    "Run `kubectl get hpa subscription-hpa --watch` command to monitor how the autoscaler performs.\n",
    "Within a minute or so, you should see the higher CPU load; and then - more replicas.\n",
    "What was the maximum amount of the replicas during this test?\n",
    "\n",
    "> Note: It may take a few minutes to stabilize the number of replicas. Since the amount of load is not controlled\n",
    "> in any way it may happen that the final number of replicas will differ from initial."
   ],
   "id": "d6b14f907da77332"
  },
  {
   "metadata": {},
   "cell_type": "markdown",
   "source": [
    "## Submit the results\n",
    "\n",
    "* Submit your results here: https://courses.datatalks.club/ml-zoomcamp-2024/homework/hw10\n",
    "* If your answer doesn't match options exactly, select the closest one"
   ],
   "id": "215813db7d6426fe"
  }
 ],
 "metadata": {
  "kernelspec": {
   "name": "python3",
   "language": "python",
   "display_name": "Python 3 (ipykernel)"
  }
 },
 "nbformat": 5,
 "nbformat_minor": 9
}
