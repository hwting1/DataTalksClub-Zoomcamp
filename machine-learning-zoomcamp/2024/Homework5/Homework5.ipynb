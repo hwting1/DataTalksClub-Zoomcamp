{
 "cells": [
  {
   "metadata": {},
   "cell_type": "markdown",
   "source": [
    "# Homework\n",
    "\n",
    "> Note: sometimes your answer doesn't match one of the options exactly. \n",
    "> That's fine. \n",
    "> Select the option that's closest to your solution.\n",
    "\n",
    "> Note: we recommend using python 3.11 in this homework."
   ],
   "id": "e4f27b1dd8093541"
  },
  {
   "metadata": {
    "collapsed": true,
    "ExecuteTime": {
     "end_time": "2024-10-21T11:57:51.120094Z",
     "start_time": "2024-10-21T11:57:51.078772Z"
    }
   },
   "cell_type": "code",
   "source": [
    "import pickle\n",
    "import requests"
   ],
   "id": "initial_id",
   "outputs": [],
   "execution_count": 1
  },
  {
   "metadata": {},
   "cell_type": "markdown",
   "source": [
    "## Question 1\n",
    "\n",
    "* Install Pipenv\n",
    "* What's the version of pipenv you installed?\n",
    "* Use `--version` to find out"
   ],
   "id": "cdf7fe3fa18f0e45"
  },
  {
   "metadata": {
    "ExecuteTime": {
     "end_time": "2024-10-21T11:57:51.735407Z",
     "start_time": "2024-10-21T11:57:51.126852Z"
    }
   },
   "cell_type": "code",
   "source": "!pipenv --version",
   "id": "514a1a1e82a3f7c9",
   "outputs": [
    {
     "name": "stdout",
     "output_type": "stream",
     "text": [
      "\u001B[1mpipenv\u001B[0m, version 2024.1.0\r\n"
     ]
    }
   ],
   "execution_count": 2
  },
  {
   "metadata": {},
   "cell_type": "markdown",
   "source": [
    "## Question 2\n",
    "\n",
    "* Use Pipenv to install Scikit-Learn version 1.5.2\n",
    "* What's the first hash for scikit-learn you get in Pipfile.lock?\n",
    "\n",
    "> **Note**: you should create an empty folder for homework\n",
    "and do it there. "
   ],
   "id": "2ef65baee8da3b84"
  },
  {
   "metadata": {},
   "cell_type": "markdown",
   "source": [
    "## Models\n",
    "\n",
    "We've prepared a dictionary vectorizer and a model.\n",
    "\n",
    "They were trained (roughly) using this code:\n",
    "\n",
    "```python\n",
    "features = ['job', 'duration', 'poutcome']\n",
    "dicts = df[features].to_dict(orient='records')\n",
    "\n",
    "dv = DictVectorizer(sparse=False)\n",
    "X = dv.fit_transform(dicts)\n",
    "\n",
    "model = LogisticRegression().fit(X, y)\n",
    "```\n",
    "\n",
    "> **Note**: You don't need to train the model. This code is just for your reference.\n",
    "\n",
    "And then saved with Pickle. Download them:\n",
    "\n",
    "* [DictVectorizer](https://github.com/DataTalksClub/machine-learning-zoomcamp/tree/master/cohorts/2024/05-deployment/homework/dv.bin?raw=true)\n",
    "* [LogisticRegression](https://github.com/DataTalksClub/machine-learning-zoomcamp/tree/master/cohorts/2024/05-deployment/homework/model1.bin?raw=true)\n",
    "\n",
    "With `wget`:\n",
    "\n",
    "```bash\n",
    "PREFIX=https://raw.githubusercontent.com/DataTalksClub/machine-learning-zoomcamp/master/cohorts/2024/05-deployment/homework\n",
    "wget $PREFIX/model1.bin\n",
    "wget $PREFIX/dv.bin\n",
    "```"
   ],
   "id": "c40f95d8fc31f7b9"
  },
  {
   "metadata": {},
   "cell_type": "markdown",
   "source": [
    "## Question 3\n",
    "\n",
    "Let's use these models!\n",
    "\n",
    "* Write a script for loading these models with pickle\n",
    "* Score this client:\n",
    "\n",
    "```json\n",
    "{\"job\": \"management\", \"duration\": 400, \"poutcome\": \"success\"}\n",
    "```\n",
    "\n",
    "What's the probability that this client will get a subscription? \n",
    "\n",
    "If you're getting errors when unpickling the files, check their checksum:\n",
    "\n",
    "```bash\n",
    "$ md5sum model1.bin dv.bin\n",
    "3d8bb28974e55edefa000fe38fd3ed12  model1.bin\n",
    "7d37616e00aa80f2152b8b0511fc2dff  dv.bin\n",
    "```"
   ],
   "id": "634a95f1b60842f7"
  },
  {
   "metadata": {
    "ExecuteTime": {
     "end_time": "2024-10-21T11:57:52.738253Z",
     "start_time": "2024-10-21T11:57:52.143838Z"
    }
   },
   "cell_type": "code",
   "source": [
    "dv_file = \"dv.bin\"\n",
    "model_file = \"model1.bin\"\n",
    "customer = {\"job\": \"management\", \"duration\": 400, \"poutcome\": \"success\"}\n",
    "\n",
    "with open(dv_file, 'rb') as f_in:\n",
    "    dv = pickle.load(f_in)\n",
    "\n",
    "with open(model_file, 'rb') as f_in:\n",
    "    model = pickle.load(f_in)\n",
    "\n",
    "customer_features = dv.transform([customer])\n",
    "prob = model.predict_proba(customer_features)[0, 1]\n",
    "print(f\"The probability that this client will get a subscription is {round(prob, 3)}\")"
   ],
   "id": "2ea6316c18b11dc0",
   "outputs": [
    {
     "name": "stdout",
     "output_type": "stream",
     "text": [
      "The probability that this client will get a subscription is 0.759\n"
     ]
    }
   ],
   "execution_count": 3
  },
  {
   "metadata": {},
   "cell_type": "markdown",
   "source": [
    "## Question 4\n",
    "\n",
    "Now let's serve this model as a web service\n",
    "\n",
    "* Install Flask and gunicorn (or waitress, if you're on Windows)\n",
    "* Write Flask code for serving the model\n",
    "* Now score this client using `requests`:\n",
    "\n",
    "```python\n",
    "url = \"YOUR_URL\"\n",
    "client = {\"job\": \"student\", \"duration\": 280, \"poutcome\": \"failure\"}\n",
    "requests.post(url, json=client).json()\n",
    "```\n",
    "\n",
    "What's the probability that this client will get a subscription?"
   ],
   "id": "50f36ccbeaf04f56"
  },
  {
   "metadata": {
    "ExecuteTime": {
     "end_time": "2024-10-21T11:57:53.961456Z",
     "start_time": "2024-10-21T11:57:53.954328Z"
    }
   },
   "cell_type": "code",
   "source": [
    "url = \"http://localhost:9696/\"\n",
    "client = {\"job\": \"student\", \"duration\": 280, \"poutcome\": \"failure\"}\n",
    "\n",
    "prob = requests.post(url, json=client).json()[\"subscription_probability\"]\n",
    "print(f\"The probability that this client will get a subscription is {round(prob, 3)}\")"
   ],
   "id": "8190fe80f712ca64",
   "outputs": [
    {
     "name": "stdout",
     "output_type": "stream",
     "text": [
      "The probability that this client will get a subscription is 0.335\n"
     ]
    }
   ],
   "execution_count": 4
  },
  {
   "metadata": {},
   "cell_type": "markdown",
   "source": [
    "## Docker\n",
    "\n",
    "Install [Docker](https://github.com/DataTalksClub/machine-learning-zoomcamp/blob/master/05-deployment/06-docker.md). \n",
    "We will use it for the next two questions.\n",
    "\n",
    "For these questions, we prepared a base image: `svizor/zoomcamp-model:3.11.5-slim`. \n",
    "You'll need to use it (see Question 5 for an example).\n",
    "\n",
    "This image is based on `python:3.11.5-slim` and has a logistic regression model \n",
    "(a different one) as well a dictionary vectorizer inside. \n",
    "\n",
    "This is how the Dockerfile for this image looks like:\n",
    "\n",
    "```docker \n",
    "FROM python:3.11.5-slim\n",
    "WORKDIR /app\n",
    "COPY [\"model2.bin\", \"dv.bin\", \"./\"]\n",
    "```\n",
    "\n",
    "We already built it and then pushed it to [`svizor/zoomcamp-model:3.11.5-slim`](https://hub.docker.com/r/svizor/zoomcamp-model).\n",
    "\n",
    "> **Note**: You don't need to build this docker image, it's just for your reference."
   ],
   "id": "80f1c8190b46b3f1"
  },
  {
   "metadata": {},
   "cell_type": "markdown",
   "source": [
    "## Question 5\n",
    "\n",
    "Download the base image `svizor/zoomcamp-model:3.11.5-slim`. You can easily make it by using [docker pull](https://docs.docker.com/engine/reference/commandline/pull/) command.\n",
    "\n",
    "So what's the size of this base image?\n",
    "\n",
    "* 45 MB\n",
    "* 130 MB\n",
    "* 245 MB\n",
    "* 330 MB\n",
    "\n",
    "You can get this information when running `docker images` - it'll be in the \"SIZE\" column."
   ],
   "id": "f1f1490f81e96cf9"
  },
  {
   "metadata": {
    "ExecuteTime": {
     "end_time": "2024-10-21T11:58:04.387362Z",
     "start_time": "2024-10-21T11:58:02.087341Z"
    }
   },
   "cell_type": "code",
   "source": [
    "%%capture\n",
    "!docker pull svizor/zoomcamp-model:3.11.5-slim"
   ],
   "id": "f0077477344eb8c",
   "outputs": [],
   "execution_count": 5
  },
  {
   "metadata": {
    "ExecuteTime": {
     "end_time": "2024-10-21T11:58:04.929753Z",
     "start_time": "2024-10-21T11:58:04.653825Z"
    }
   },
   "cell_type": "code",
   "source": "!docker images svizor/zoomcamp-model",
   "id": "79099116a904e9b9",
   "outputs": [
    {
     "name": "stdout",
     "output_type": "stream",
     "text": [
      "REPOSITORY              TAG           IMAGE ID       CREATED      SIZE\r\n",
      "svizor/zoomcamp-model   3.11.5-slim   975e7bdca086   2 days ago   130MB\r\n"
     ]
    }
   ],
   "execution_count": 6
  },
  {
   "metadata": {},
   "cell_type": "markdown",
   "source": [
    "## Dockerfile\n",
    "\n",
    "Now create your own Dockerfile based on the image we prepared.\n",
    "\n",
    "It should start like that:\n",
    "\n",
    "```docker\n",
    "FROM svizor/zoomcamp-model:3.11.5-slim\n",
    "# add your stuff here\n",
    "```\n",
    "\n",
    "Now complete it:\n",
    "\n",
    "* Install all the dependencies form the Pipenv file\n",
    "* Copy your Flask script\n",
    "* Run it with Gunicorn \n",
    "\n",
    "After that, you can build your docker image."
   ],
   "id": "be5481341bc6248f"
  },
  {
   "metadata": {},
   "cell_type": "markdown",
   "source": [
    "## Question 6\n",
    "\n",
    "Let's run your docker container!\n",
    "\n",
    "After running it, score this client once again:\n",
    "\n",
    "```python\n",
    "url = \"YOUR_URL\"\n",
    "client = {\"job\": \"management\", \"duration\": 400, \"poutcome\": \"success\"}\n",
    "requests.post(url, json=client).json()\n",
    "```\n",
    "\n",
    "What's the probability that this client will get a subscription now?"
   ],
   "id": "fe03ff9423bf59b4"
  },
  {
   "metadata": {},
   "cell_type": "markdown",
   "source": [
    "```bash\n",
    "docker build -t homework5 .\n",
    "docker run -it --rm -p 9696:9696 homework5\n",
    "```"
   ],
   "id": "d28c3fc9436433c9"
  },
  {
   "metadata": {
    "ExecuteTime": {
     "end_time": "2024-10-21T11:58:18.765569Z",
     "start_time": "2024-10-21T11:58:18.757229Z"
    }
   },
   "cell_type": "code",
   "source": [
    "url = \"http://localhost:9696/\"\n",
    "client = {\"job\": \"management\", \"duration\": 400, \"poutcome\": \"success\"}\n",
    "\n",
    "prob = requests.post(url, json=client).json()[\"subscription_probability\"]\n",
    "print(f\"The probability that this client will get a subscription is {round(prob, 3)}\")"
   ],
   "id": "86c7e2843bbcf863",
   "outputs": [
    {
     "name": "stdout",
     "output_type": "stream",
     "text": [
      "The probability that this client will get a subscription is 0.759\n"
     ]
    }
   ],
   "execution_count": 7
  },
  {
   "metadata": {},
   "cell_type": "markdown",
   "source": [
    "## Submit the results\n",
    "\n",
    "* Submit your results here: https://courses.datatalks.club/ml-zoomcamp-2024/homework/hw05\n",
    "* If your answer doesn't match options exactly, select the closest one"
   ],
   "id": "c3a88f75ad9a4d31"
  }
 ],
 "metadata": {
  "kernelspec": {
   "display_name": "Python 3",
   "language": "python",
   "name": "python3"
  },
  "language_info": {
   "codemirror_mode": {
    "name": "ipython",
    "version": 2
   },
   "file_extension": ".py",
   "mimetype": "text/x-python",
   "name": "python",
   "nbconvert_exporter": "python",
   "pygments_lexer": "ipython2",
   "version": "2.7.6"
  }
 },
 "nbformat": 4,
 "nbformat_minor": 5
}
