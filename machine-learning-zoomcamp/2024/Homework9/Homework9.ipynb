{
 "cells": [
  {
   "metadata": {},
   "cell_type": "markdown",
   "source": [
    "# Homework\n",
    "\n",
    "In this homework, we'll deploy the Straight vs Curly Hair Type model we trained in the\n",
    "[previous homework](../08-deep-learning/homework.md).\n",
    "\n",
    "Download the model from here:\n",
    "\n",
    "https://github.com/alexeygrigorev/large-datasets/releases/download/hairstyle/model_2024_hairstyle.keras"
   ],
   "id": "94b38d14abac8ab3"
  },
  {
   "metadata": {
    "ExecuteTime": {
     "end_time": "2024-12-06T14:34:17.332551Z",
     "start_time": "2024-12-06T14:34:17.330327Z"
    }
   },
   "cell_type": "code",
   "source": "# !wget https://github.com/alexeygrigorev/large-datasets/releases/download/hairstyle/model_2024_hairstyle.keras",
   "id": "c0ee4f2cd89bde34",
   "outputs": [],
   "execution_count": 1
  },
  {
   "metadata": {
    "collapsed": true,
    "ExecuteTime": {
     "end_time": "2024-12-06T14:34:18.638119Z",
     "start_time": "2024-12-06T14:34:17.374903Z"
    }
   },
   "cell_type": "code",
   "source": [
    "import os\n",
    "import numpy as np\n",
    "import tensorflow as tf\n",
    "from keras.saving import load_model\n",
    "from PIL import Image"
   ],
   "id": "initial_id",
   "outputs": [
    {
     "name": "stderr",
     "output_type": "stream",
     "text": [
      "2024-12-06 22:34:17.587328: E external/local_xla/xla/stream_executor/cuda/cuda_fft.cc:485] Unable to register cuFFT factory: Attempting to register factory for plugin cuFFT when one has already been registered\n",
      "2024-12-06 22:34:17.599638: E external/local_xla/xla/stream_executor/cuda/cuda_dnn.cc:8454] Unable to register cuDNN factory: Attempting to register factory for plugin cuDNN when one has already been registered\n",
      "2024-12-06 22:34:17.603026: E external/local_xla/xla/stream_executor/cuda/cuda_blas.cc:1452] Unable to register cuBLAS factory: Attempting to register factory for plugin cuBLAS when one has already been registered\n",
      "2024-12-06 22:34:17.612774: I tensorflow/core/platform/cpu_feature_guard.cc:210] This TensorFlow binary is optimized to use available CPU instructions in performance-critical operations.\n",
      "To enable the following instructions: AVX2 FMA, in other operations, rebuild TensorFlow with the appropriate compiler flags.\n",
      "2024-12-06 22:34:18.219723: W tensorflow/compiler/tf2tensorrt/utils/py_utils.cc:38] TF-TRT Warning: Could not find TensorRT\n"
     ]
    }
   ],
   "execution_count": 2
  },
  {
   "metadata": {},
   "cell_type": "markdown",
   "source": [
    "## Question 1\n",
    "\n",
    "Now convert this model from Keras to TF-Lite format.\n",
    "\n",
    "What's the size of the **converted** model?"
   ],
   "id": "2199f20809576d1a"
  },
  {
   "metadata": {
    "ExecuteTime": {
     "end_time": "2024-12-06T14:34:24.015732Z",
     "start_time": "2024-12-06T14:34:18.754545Z"
    }
   },
   "cell_type": "code",
   "source": [
    "keras_model = load_model(\"model_2024_hairstyle.keras\")\n",
    "converter = tf.lite.TFLiteConverter.from_keras_model(keras_model)\n",
    "tflite_model = converter.convert()\n",
    "with open(\"model_2024_hairstyle.tflite\", \"wb\") as f:\n",
    "    f.write(tflite_model)"
   ],
   "id": "6cf672217beb94ba",
   "outputs": [
    {
     "name": "stderr",
     "output_type": "stream",
     "text": [
      "WARNING: All log messages before absl::InitializeLog() is called are written to STDERR\n",
      "I0000 00:00:1733495660.890500  142665 cuda_executor.cc:1015] successful NUMA node read from SysFS had negative value (-1), but there must be at least one NUMA node, so returning NUMA node zero. See more at https://github.com/torvalds/linux/blob/v6.0/Documentation/ABI/testing/sysfs-bus-pci#L344-L355\n",
      "I0000 00:00:1733495660.924957  142665 cuda_executor.cc:1015] successful NUMA node read from SysFS had negative value (-1), but there must be at least one NUMA node, so returning NUMA node zero. See more at https://github.com/torvalds/linux/blob/v6.0/Documentation/ABI/testing/sysfs-bus-pci#L344-L355\n",
      "I0000 00:00:1733495660.926808  142665 cuda_executor.cc:1015] successful NUMA node read from SysFS had negative value (-1), but there must be at least one NUMA node, so returning NUMA node zero. See more at https://github.com/torvalds/linux/blob/v6.0/Documentation/ABI/testing/sysfs-bus-pci#L344-L355\n",
      "I0000 00:00:1733495660.929979  142665 cuda_executor.cc:1015] successful NUMA node read from SysFS had negative value (-1), but there must be at least one NUMA node, so returning NUMA node zero. See more at https://github.com/torvalds/linux/blob/v6.0/Documentation/ABI/testing/sysfs-bus-pci#L344-L355\n",
      "I0000 00:00:1733495660.931755  142665 cuda_executor.cc:1015] successful NUMA node read from SysFS had negative value (-1), but there must be at least one NUMA node, so returning NUMA node zero. See more at https://github.com/torvalds/linux/blob/v6.0/Documentation/ABI/testing/sysfs-bus-pci#L344-L355\n",
      "I0000 00:00:1733495660.933420  142665 cuda_executor.cc:1015] successful NUMA node read from SysFS had negative value (-1), but there must be at least one NUMA node, so returning NUMA node zero. See more at https://github.com/torvalds/linux/blob/v6.0/Documentation/ABI/testing/sysfs-bus-pci#L344-L355\n",
      "I0000 00:00:1733495661.057238  142665 cuda_executor.cc:1015] successful NUMA node read from SysFS had negative value (-1), but there must be at least one NUMA node, so returning NUMA node zero. See more at https://github.com/torvalds/linux/blob/v6.0/Documentation/ABI/testing/sysfs-bus-pci#L344-L355\n",
      "I0000 00:00:1733495661.059097  142665 cuda_executor.cc:1015] successful NUMA node read from SysFS had negative value (-1), but there must be at least one NUMA node, so returning NUMA node zero. See more at https://github.com/torvalds/linux/blob/v6.0/Documentation/ABI/testing/sysfs-bus-pci#L344-L355\n",
      "I0000 00:00:1733495661.060752  142665 cuda_executor.cc:1015] successful NUMA node read from SysFS had negative value (-1), but there must be at least one NUMA node, so returning NUMA node zero. See more at https://github.com/torvalds/linux/blob/v6.0/Documentation/ABI/testing/sysfs-bus-pci#L344-L355\n",
      "2024-12-06 22:34:21.062360: I tensorflow/core/common_runtime/gpu/gpu_device.cc:2021] Created device /job:localhost/replica:0/task:0/device:GPU:0 with 14275 MB memory:  -> device: 0, name: NVIDIA GeForce RTX 3080 Ti Laptop GPU, pci bus id: 0000:01:00.0, compute capability: 8.6\n"
     ]
    },
    {
     "name": "stdout",
     "output_type": "stream",
     "text": [
      "INFO:tensorflow:Assets written to: /tmp/tmp4o855bmy/assets\n"
     ]
    },
    {
     "name": "stderr",
     "output_type": "stream",
     "text": [
      "INFO:tensorflow:Assets written to: /tmp/tmp4o855bmy/assets\n"
     ]
    },
    {
     "name": "stdout",
     "output_type": "stream",
     "text": [
      "Saved artifact at '/tmp/tmp4o855bmy'. The following endpoints are available:\n",
      "\n",
      "* Endpoint 'serve'\n",
      "  args_0 (POSITIONAL_ONLY): TensorSpec(shape=(None, 200, 200, 3), dtype=tf.float32, name='input_layer')\n",
      "Output Type:\n",
      "  TensorSpec(shape=(None, 1), dtype=tf.float32, name=None)\n",
      "Captures:\n",
      "  126531106185536: TensorSpec(shape=(), dtype=tf.resource, name=None)\n",
      "  126531106190464: TensorSpec(shape=(), dtype=tf.resource, name=None)\n",
      "  126531106518848: TensorSpec(shape=(), dtype=tf.resource, name=None)\n",
      "  126531106515680: TensorSpec(shape=(), dtype=tf.resource, name=None)\n",
      "  126531106520256: TensorSpec(shape=(), dtype=tf.resource, name=None)\n",
      "  126531106506704: TensorSpec(shape=(), dtype=tf.resource, name=None)\n"
     ]
    },
    {
     "name": "stderr",
     "output_type": "stream",
     "text": [
      "WARNING: All log messages before absl::InitializeLog() is called are written to STDERR\n",
      "W0000 00:00:1733495662.542985  142665 tf_tfl_flatbuffer_helpers.cc:392] Ignored output_format.\n",
      "W0000 00:00:1733495662.543000  142665 tf_tfl_flatbuffer_helpers.cc:395] Ignored drop_control_dependency.\n",
      "2024-12-06 22:34:22.543333: I tensorflow/cc/saved_model/reader.cc:83] Reading SavedModel from: /tmp/tmp4o855bmy\n",
      "2024-12-06 22:34:22.543804: I tensorflow/cc/saved_model/reader.cc:52] Reading meta graph with tags { serve }\n",
      "2024-12-06 22:34:22.543814: I tensorflow/cc/saved_model/reader.cc:147] Reading SavedModel debug info (if present) from: /tmp/tmp4o855bmy\n",
      "2024-12-06 22:34:22.546594: I tensorflow/compiler/mlir/mlir_graph_optimization_pass.cc:388] MLIR V1 optimization pass is not enabled\n",
      "2024-12-06 22:34:22.547016: I tensorflow/cc/saved_model/loader.cc:236] Restoring SavedModel bundle.\n",
      "2024-12-06 22:34:22.611895: I tensorflow/cc/saved_model/loader.cc:220] Running initialization op on SavedModel bundle at path: /tmp/tmp4o855bmy\n",
      "2024-12-06 22:34:22.617136: I tensorflow/cc/saved_model/loader.cc:462] SavedModel load for tags { serve }; Status: success: OK. Took 73806 microseconds.\n",
      "2024-12-06 22:34:22.623174: I tensorflow/compiler/mlir/tensorflow/utils/dump_mlir_util.cc:268] disabling MLIR crash reproducer, set env var `MLIR_CRASH_REPRODUCER_DIRECTORY` to enable.\n"
     ]
    }
   ],
   "execution_count": 3
  },
  {
   "metadata": {
    "ExecuteTime": {
     "end_time": "2024-12-06T14:34:24.667903Z",
     "start_time": "2024-12-06T14:34:24.665475Z"
    }
   },
   "cell_type": "code",
   "source": [
    "size_in_mb = os.path.getsize(\"model_2024_hairstyle.tflite\") / (1024 * 1024)\n",
    "print(f\"Model size: {round(size_in_mb)} MB\")"
   ],
   "id": "805d84881258bd00",
   "outputs": [
    {
     "name": "stdout",
     "output_type": "stream",
     "text": [
      "Model size: 77 MB\n"
     ]
    }
   ],
   "execution_count": 4
  },
  {
   "metadata": {},
   "cell_type": "markdown",
   "source": [
    "## Question 2\n",
    "\n",
    "To be able to use this model, we need to know the index of the input and\n",
    "the index of the output.\n",
    "\n",
    "What's the output index for this model?"
   ],
   "id": "e75c678136905ad0"
  },
  {
   "metadata": {
    "ExecuteTime": {
     "end_time": "2024-12-06T14:34:25.366498Z",
     "start_time": "2024-12-06T14:34:25.320860Z"
    }
   },
   "cell_type": "code",
   "source": [
    "interpreter = tf.lite.Interpreter(model_path=\"model_2024_hairstyle.tflite\")\n",
    "interpreter.allocate_tensors()\n",
    "output_index = interpreter.get_output_details()[0]['index']\n",
    "print(f\"The output index for this model is {output_index}\")"
   ],
   "id": "87a7064e83ffa6cf",
   "outputs": [
    {
     "name": "stdout",
     "output_type": "stream",
     "text": [
      "The output index for this model is 13\n"
     ]
    },
    {
     "name": "stderr",
     "output_type": "stream",
     "text": [
      "INFO: Created TensorFlow Lite XNNPACK delegate for CPU.\n"
     ]
    }
   ],
   "execution_count": 5
  },
  {
   "metadata": {},
   "cell_type": "markdown",
   "source": [
    "## Preparing the image\n",
    "\n",
    "You'll need some code for downloading and resizing images. You can use\n",
    "this code:\n",
    "\n",
    "```python\n",
    "from io import BytesIO\n",
    "from urllib import request\n",
    "\n",
    "from PIL import Image\n",
    "\n",
    "def download_image(url):\n",
    "    with request.urlopen(url) as resp:\n",
    "        buffer = resp.read()\n",
    "    stream = BytesIO(buffer)\n",
    "    img = Image.open(stream)\n",
    "    return img\n",
    "\n",
    "\n",
    "def prepare_image(img, target_size):\n",
    "    if img.mode != 'RGB':\n",
    "        img = img.convert('RGB')\n",
    "    img = img.resize(target_size, Image.NEAREST)\n",
    "    return img\n",
    "```\n",
    "\n",
    "For that, you'll need to have `pillow` installed:\n",
    "\n",
    "```bash\n",
    "pip install pillow\n",
    "```\n",
    "\n",
    "Let's download and resize this image:\n",
    "\n",
    "https://habrastorage.org/webt/yf/_d/ok/yf_dokzqy3vcritme8ggnzqlvwa.jpeg\n",
    "\n",
    "Based on the previous homework, what should be the target size for the image?"
   ],
   "id": "8d90d1288eb55565"
  },
  {
   "metadata": {
    "ExecuteTime": {
     "end_time": "2024-12-06T14:34:26.032269Z",
     "start_time": "2024-12-06T14:34:26.029746Z"
    }
   },
   "cell_type": "code",
   "source": [
    "def prepare_image(img, target_size):\n",
    "    if img.mode != 'RGB':\n",
    "        img = img.convert('RGB')\n",
    "    img = img.resize(target_size, Image.NEAREST)\n",
    "    img = np.array(img, dtype=np.float32)\n",
    "    img = np.expand_dims(img, axis=0) / 255.0\n",
    "    return img"
   ],
   "id": "e8e7739cfbf0cc15",
   "outputs": [],
   "execution_count": 6
  },
  {
   "metadata": {},
   "cell_type": "markdown",
   "source": [
    "## Question 3\n",
    "\n",
    "Now we need to turn the image into numpy array and pre-process it.\n",
    "\n",
    "> Tip: Check the previous homework. What was the pre-processing\n",
    "> we did there?\n",
    "\n",
    "After the pre-processing, what's the value in the first pixel, the R channel?"
   ],
   "id": "486f1709504f3f6a"
  },
  {
   "metadata": {
    "ExecuteTime": {
     "end_time": "2024-12-06T14:34:26.700633Z",
     "start_time": "2024-12-06T14:34:26.687992Z"
    }
   },
   "cell_type": "code",
   "source": [
    "target_size = (200, 200)\n",
    "img = Image.open(\"img1.jpeg\")\n",
    "img = prepare_image(img, target_size)\n",
    "print(f\"The value in the first pixel, the R channel is {round(img[0,0,0,0], 2)}\")"
   ],
   "id": "b7eda6cd57de3c0e",
   "outputs": [
    {
     "name": "stdout",
     "output_type": "stream",
     "text": [
      "The value in the first pixel, the R channel is 0.23999999463558197\n"
     ]
    }
   ],
   "execution_count": 7
  },
  {
   "metadata": {},
   "cell_type": "markdown",
   "source": [
    "## Question 4\n",
    "\n",
    "Now let's apply this model to this image. What's the output of the model?"
   ],
   "id": "f08d9bef273efa15"
  },
  {
   "metadata": {
    "ExecuteTime": {
     "end_time": "2024-12-06T14:34:27.371269Z",
     "start_time": "2024-12-06T14:34:27.364885Z"
    }
   },
   "cell_type": "code",
   "source": [
    "input_index = interpreter.get_input_details()[0]['index']\n",
    "interpreter.set_tensor(input_index, img)\n",
    "interpreter.invoke()\n",
    "preds = interpreter.get_tensor(output_index)\n",
    "print(f\"The output of the model is {round(preds[0,0], 3)}\")"
   ],
   "id": "5e17b9e0573f8d59",
   "outputs": [
    {
     "name": "stdout",
     "output_type": "stream",
     "text": [
      "The output of the model is 0.8939999938011169\n"
     ]
    }
   ],
   "execution_count": 8
  },
  {
   "metadata": {},
   "cell_type": "markdown",
   "source": [
    "## Prepare the lambda code\n",
    "\n",
    "Now you need to copy all the code into a separate python file. You will\n",
    "need to use this file for the next two questions.\n",
    "\n",
    "Tip: you can test this file locally with `ipython` or Jupyter Notebook\n",
    "by importing the file and invoking the function from this file."
   ],
   "id": "69729dcaa3ee107"
  },
  {
   "metadata": {},
   "cell_type": "markdown",
   "source": [
    "## Docker\n",
    "\n",
    "For the next two questions, we'll use a Docker image that we already\n",
    "prepared. This is the Dockerfile that we used for creating the image:\n",
    "\n",
    "```docker\n",
    "FROM public.ecr.aws/lambda/python:3.10\n",
    "\n",
    "COPY model_2024_hairstyle_v2.tflite .\n",
    "\n",
    "RUN pip install numpy==1.23.1\n",
    "```\n",
    "\n",
    "Note that it uses Python 3.10. The latest models of TF Lite\n",
    "do not support Python 3.12 yet, so we need to use 3.10. Also,\n",
    "for this part, we will use TensorFlow 2.14.0. We have tested\n",
    "it, and the models created with 2.17 could be served with 2.14.0.\n",
    "\n",
    "For that image, we also needed to use an older version of numpy\n",
    "(1.23.1)\n",
    "\n",
    "The docker image is published to [`agrigorev/model-2024-hairstyle:v3`](https://hub.docker.com/r/agrigorev/model-2024-hairstyle/tags).\n",
    "\n",
    "A few notes:\n",
    "\n",
    "* The image already contains a model and it's not the same model\n",
    "  as the one we used for questions 1-4.\n",
    "* The wheel for this combination that you'll need to use in your Docker image is https://github.com/alexeygrigorev/tflite-aws-lambda/raw/main/tflite/tflite_runtime-2.14.0-cp310-cp310-linux_x86_64.whl"
   ],
   "id": "b2b1eeb4ab14f840"
  },
  {
   "metadata": {},
   "cell_type": "markdown",
   "source": [
    "## Question 5\n",
    "\n",
    "Download the base image `agrigorev/model-2024-hairstyle:v3`. You can do it with [`docker pull`](https://docs.docker.com/engine/reference/commandline/pull/).\n",
    "\n",
    "So what's the size of this base image?\n",
    "\n",
    "You can get this information when running `docker images` - it'll be in the \"SIZE\" column."
   ],
   "id": "da15145c41ce9353"
  },
  {
   "metadata": {
    "ExecuteTime": {
     "end_time": "2024-12-06T14:34:30.359273Z",
     "start_time": "2024-12-06T14:34:28.024121Z"
    }
   },
   "cell_type": "code",
   "source": [
    "%%capture\n",
    "!docker pull agrigorev/model-2024-hairstyle:v3"
   ],
   "id": "d6560971c277816",
   "outputs": [],
   "execution_count": 9
  },
  {
   "metadata": {
    "ExecuteTime": {
     "end_time": "2024-12-06T14:34:31.314006Z",
     "start_time": "2024-12-06T14:34:31.014033Z"
    }
   },
   "cell_type": "code",
   "source": "!docker images agrigorev/model-2024-hairstyle",
   "id": "8aa20a564ba0bc0c",
   "outputs": [
    {
     "name": "stdout",
     "output_type": "stream",
     "text": [
      "REPOSITORY                       TAG       IMAGE ID       CREATED      SIZE\r\n",
      "agrigorev/model-2024-hairstyle   v3        607850a2138e   2 days ago   782MB\r\n"
     ]
    }
   ],
   "execution_count": 10
  },
  {
   "metadata": {},
   "cell_type": "markdown",
   "source": [
    "## Question 6\n",
    "\n",
    "Now let's extend this docker image, install all the required libraries\n",
    "and add the code for lambda.\n",
    "\n",
    "You don't need to include the model in the image. It's already included.\n",
    "The name of the file with the model is `model_2024_hairstyle_v2.tflite` and it's\n",
    "in the current workdir in the image (see the Dockerfile above for the\n",
    "reference).\n",
    "The provided model requires the same preprocessing for images regarding target size and rescaling the value range than used in homework 8.\n",
    "\n",
    "Now run the container locally.\n",
    "\n",
    "Score this image: https://habrastorage.org/webt/yf/_d/ok/yf_dokzqy3vcritme8ggnzqlvwa.jpeg\n",
    "\n",
    "What's the output from the model?"
   ],
   "id": "a3ca08f41ebab143"
  },
  {
   "metadata": {
    "ExecuteTime": {
     "end_time": "2024-12-06T14:34:33.382312Z",
     "start_time": "2024-12-06T14:34:31.973902Z"
    }
   },
   "cell_type": "code",
   "source": [
    "%%capture\n",
    "!docker build -t hairstyle-lambda .\n",
    "!docker run --rm -d -p 8080:8080 hairstyle-lambda"
   ],
   "id": "36716efc3bb7d478",
   "outputs": [],
   "execution_count": 11
  },
  {
   "metadata": {
    "ExecuteTime": {
     "end_time": "2024-12-06T14:34:36.419485Z",
     "start_time": "2024-12-06T14:34:34.075227Z"
    }
   },
   "cell_type": "code",
   "source": "!python test.py",
   "id": "ddbeee0c5390f6c8",
   "outputs": [
    {
     "name": "stdout",
     "output_type": "stream",
     "text": [
      "The output from the model is 0.43\r\n"
     ]
    }
   ],
   "execution_count": 12
  },
  {
   "metadata": {},
   "cell_type": "markdown",
   "source": [
    "## Publishing it to AWS\n",
    "\n",
    "Now you can deploy your model to AWS!\n",
    "\n",
    "* Publish your image to ECR\n",
    "* Create a lambda function in AWS, use the ECR image\n",
    "* Give it more RAM and increase the timeout\n",
    "* Test it\n",
    "* Expose the lambda function using API Gateway\n",
    "\n",
    "This is optional and not graded."
   ],
   "id": "c7c1328732324220"
  },
  {
   "metadata": {},
   "cell_type": "markdown",
   "source": [
    "## Publishing to Docker hub\n",
    "\n",
    "Just for the reference, this is how we published our image to Docker hub:\n",
    "\n",
    "```bash\n",
    "docker build -t model-2024-hairstyle -f homework.dockerfile .\n",
    "docker tag model-2024-hairstyle:latest agrigorev/model-2024-hairstyle:v3\n",
    "docker push agrigorev/model-2024-hairstyle:v3\n",
    "```\n",
    "\n",
    "(You don't need to execute this code)"
   ],
   "id": "bd929e523a42c37f"
  },
  {
   "metadata": {},
   "cell_type": "markdown",
   "source": [
    "## Submit the results\n",
    "\n",
    "* Submit your results here: https://courses.datatalks.club/ml-zoomcamp-2024/homework/hw09\n",
    "* If your answer doesn't match options exactly, select the closest one"
   ],
   "id": "ebe6a10f8bcb844e"
  }
 ],
 "metadata": {
  "kernelspec": {
   "display_name": "Python 3",
   "language": "python",
   "name": "python3"
  },
  "language_info": {
   "codemirror_mode": {
    "name": "ipython",
    "version": 2
   },
   "file_extension": ".py",
   "mimetype": "text/x-python",
   "name": "python",
   "nbconvert_exporter": "python",
   "pygments_lexer": "ipython2",
   "version": "2.7.6"
  }
 },
 "nbformat": 4,
 "nbformat_minor": 5
}
