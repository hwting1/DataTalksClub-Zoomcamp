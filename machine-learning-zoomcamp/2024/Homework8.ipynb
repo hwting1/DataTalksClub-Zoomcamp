{
 "cells": [
  {
   "metadata": {},
   "cell_type": "markdown",
   "source": [
    "# Homework\n",
    "\n",
    "> **Note**: it's very likely that in this homework your answers won't match\n",
    "> the options exactly. That's okay and expected. Select the option that's\n",
    "> closest to your solution."
   ],
   "id": "6217287425e2fcf2"
  },
  {
   "metadata": {},
   "cell_type": "markdown",
   "source": [
    "## Dataset\n",
    "\n",
    "In this homework, we'll build a model for classifying various hair types.\n",
    "For this, we will use the Hair Type dataset that was obtained from\n",
    "[Kaggle](https://www.kaggle.com/datasets/kavyasreeb/hair-type-dataset)\n",
    "and slightly rebuilt.\n",
    "\n",
    "You can download the target dataset for this homework from\n",
    "[here](https://github.com/SVizor42/ML_Zoomcamp/releases/download/straight-curly-data/data.zip):\n",
    "\n",
    "```bash\n",
    "wget https://github.com/SVizor42/ML_Zoomcamp/releases/download/straight-curly-data/data.zip\n",
    "unzip data.zip\n",
    "```\n",
    "\n",
    "In the lectures we saw how to use a pre-trained neural network. In the homework, we'll train a much smaller model from scratch."
   ],
   "id": "266c10dff00e0ce3"
  },
  {
   "metadata": {
    "ExecuteTime": {
     "end_time": "2024-11-23T06:36:49.928692Z",
     "start_time": "2024-11-23T06:36:49.926392Z"
    }
   },
   "cell_type": "code",
   "source": [
    "# !wget https://github.com/SVizor42/ML_Zoomcamp/releases/download/straight-curly-data/data.zip\n",
    "# !unzip data.zip"
   ],
   "id": "2a90217c466a2f8b",
   "outputs": [],
   "execution_count": 1
  },
  {
   "metadata": {},
   "cell_type": "markdown",
   "source": [
    "## Data Preparation\n",
    "\n",
    "The dataset contains around 1000 images of hairs in the separate folders\n",
    "for training and test sets. "
   ],
   "id": "be68fcbfb09cb22b"
  },
  {
   "metadata": {},
   "cell_type": "markdown",
   "source": [
    "## Reproducibility\n",
    "\n",
    "Reproducibility in deep learning is a multifaceted challenge that requires attention \n",
    "to both software and hardware details. In some cases, we can't guarantee exactly \n",
    "the same results during the same experiment runs. Therefore, in this homework we suggest to:\n",
    "* install tensorflow version 2.17.1\n",
    "* set the seed generators by:\n",
    "\n",
    "```python\n",
    "import numpy as np\n",
    "import tensorflow as tf\n",
    "\n",
    "SEED = 42\n",
    "np.random.seed(SEED)\n",
    "tf.random.set_seed(SEED)\n",
    "```"
   ],
   "id": "edae1535ce555bf8"
  },
  {
   "metadata": {
    "ExecuteTime": {
     "end_time": "2024-11-23T13:15:22.149709Z",
     "start_time": "2024-11-23T13:15:18.921082Z"
    }
   },
   "cell_type": "code",
   "source": [
    "import numpy as np\n",
    "import tensorflow as tf\n",
    "from keras.layers import Conv2D, MaxPooling2D, Flatten, Dense\n",
    "from keras.models import Model\n",
    "from keras.optimizers import SGD\n",
    "from keras.preprocessing.image import ImageDataGenerator\n",
    "\n",
    "SEED = 42\n",
    "np.random.seed(SEED)\n",
    "tf.random.set_seed(SEED)"
   ],
   "id": "fe32476b0e18867d",
   "outputs": [
    {
     "name": "stderr",
     "output_type": "stream",
     "text": [
      "2024-11-23 21:15:19.389962: E external/local_xla/xla/stream_executor/cuda/cuda_dnn.cc:9261] Unable to register cuDNN factory: Attempting to register factory for plugin cuDNN when one has already been registered\n",
      "2024-11-23 21:15:19.390014: E external/local_xla/xla/stream_executor/cuda/cuda_fft.cc:607] Unable to register cuFFT factory: Attempting to register factory for plugin cuFFT when one has already been registered\n",
      "2024-11-23 21:15:19.405508: E external/local_xla/xla/stream_executor/cuda/cuda_blas.cc:1515] Unable to register cuBLAS factory: Attempting to register factory for plugin cuBLAS when one has already been registered\n",
      "2024-11-23 21:15:19.430808: I tensorflow/core/platform/cpu_feature_guard.cc:182] This TensorFlow binary is optimized to use available CPU instructions in performance-critical operations.\n",
      "To enable the following instructions: SSE4.1 SSE4.2 AVX AVX2 FMA, in other operations, rebuild TensorFlow with the appropriate compiler flags.\n"
     ]
    }
   ],
   "execution_count": 1
  },
  {
   "metadata": {},
   "cell_type": "markdown",
   "source": [
    "## Model\n",
    "\n",
    "For this homework we will use Convolutional Neural Network (CNN). Like in the lectures, we'll use Keras.\n",
    "\n",
    "You need to develop the model with following structure:\n",
    "\n",
    "* The shape for input should be `(200, 200, 3)`\n",
    "* Next, create a convolutional layer ([`Conv2D`](https://keras.io/api/layers/convolution_layers/convolution2d/)):\n",
    "* Use 32 filters\n",
    "* Kernel size should be `(3, 3)` (that's the size of the filter)\n",
    "                                      * Use `'relu'` as activation\n",
    "                                                        * Reduce the size of the feature map with max pooling ([`MaxPooling2D`](https://keras.io/api/layers/pooling_layers/max_pooling2d/))\n",
    "* Set the pooling size to `(2, 2)`\n",
    "                          * Turn the multi-dimensional result into vectors using a [`Flatten`](https://keras.io/api/layers/reshaping_layers/flatten/) layer\n",
    "                                                                                                                                                      * Next, add a `Dense` layer with 64 neurons and `'relu'` activation\n",
    "* Finally, create the `Dense` layer with 1 neuron - this will be the output\n",
    "* The output layer should have an activation - use the appropriate activation for the binary classification case\n",
    "\n",
    "As optimizer use [`SGD`](https://keras.io/api/optimizers/sgd/) with the following parameters:\n",
    "\n",
    "    * `SGD(lr=0.002, momentum=0.8)`\n",
    "\n",
    "For clarification about kernel size and max pooling, check [Office Hours](https://www.youtube.com/watch?v=1WRgdBTUaAc)."
   ],
   "id": "84e69d98e7446aa0"
  },
  {
   "metadata": {
    "ExecuteTime": {
     "end_time": "2024-11-23T13:15:22.762777Z",
     "start_time": "2024-11-23T13:15:22.165410Z"
    }
   },
   "cell_type": "code",
   "source": [
    "class TinyNet(Model):\n",
    "    \n",
    "    def __init__(self, height, width, channels):\n",
    "        super().__init__()\n",
    "        \n",
    "        self.conv = Conv2D(filters=32, kernel_size=(3, 3), activation='relu')\n",
    "        self.max_pool = MaxPooling2D(pool_size=(2, 2))\n",
    "        self.flatten = Flatten()\n",
    "        self.fc1 = Dense(64, activation='relu')\n",
    "        self.fc2 = Dense(1, activation='sigmoid')\n",
    "        self.build(input_shape=(None, height, width, channels))\n",
    "        \n",
    "    def call(self, inputs):\n",
    "        \n",
    "        x = self.conv(inputs)\n",
    "        x = self.max_pool(x)\n",
    "        x = self.flatten(x)\n",
    "        x = self.fc1(x)\n",
    "        out = self.fc2(x)\n",
    "        return out\n",
    "    \n",
    "model = TinyNet(200, 200, 3)\n",
    "optimizer = SGD(learning_rate=0.002, momentum=0.8)\n",
    "model.compile(optimizer=optimizer, loss='binary_crossentropy', metrics=[\"accuracy\"])"
   ],
   "id": "cb6a7767c48811b1",
   "outputs": [
    {
     "name": "stderr",
     "output_type": "stream",
     "text": [
      "2024-11-23 21:15:22.206662: I external/local_xla/xla/stream_executor/cuda/cuda_executor.cc:901] successful NUMA node read from SysFS had negative value (-1), but there must be at least one NUMA node, so returning NUMA node zero. See more at https://github.com/torvalds/linux/blob/v6.0/Documentation/ABI/testing/sysfs-bus-pci#L344-L355\n",
      "2024-11-23 21:15:22.246520: I external/local_xla/xla/stream_executor/cuda/cuda_executor.cc:901] successful NUMA node read from SysFS had negative value (-1), but there must be at least one NUMA node, so returning NUMA node zero. See more at https://github.com/torvalds/linux/blob/v6.0/Documentation/ABI/testing/sysfs-bus-pci#L344-L355\n",
      "2024-11-23 21:15:22.249712: I external/local_xla/xla/stream_executor/cuda/cuda_executor.cc:901] successful NUMA node read from SysFS had negative value (-1), but there must be at least one NUMA node, so returning NUMA node zero. See more at https://github.com/torvalds/linux/blob/v6.0/Documentation/ABI/testing/sysfs-bus-pci#L344-L355\n",
      "2024-11-23 21:15:22.253512: I external/local_xla/xla/stream_executor/cuda/cuda_executor.cc:901] successful NUMA node read from SysFS had negative value (-1), but there must be at least one NUMA node, so returning NUMA node zero. See more at https://github.com/torvalds/linux/blob/v6.0/Documentation/ABI/testing/sysfs-bus-pci#L344-L355\n",
      "2024-11-23 21:15:22.255288: I external/local_xla/xla/stream_executor/cuda/cuda_executor.cc:901] successful NUMA node read from SysFS had negative value (-1), but there must be at least one NUMA node, so returning NUMA node zero. See more at https://github.com/torvalds/linux/blob/v6.0/Documentation/ABI/testing/sysfs-bus-pci#L344-L355\n",
      "2024-11-23 21:15:22.257243: I external/local_xla/xla/stream_executor/cuda/cuda_executor.cc:901] successful NUMA node read from SysFS had negative value (-1), but there must be at least one NUMA node, so returning NUMA node zero. See more at https://github.com/torvalds/linux/blob/v6.0/Documentation/ABI/testing/sysfs-bus-pci#L344-L355\n",
      "2024-11-23 21:15:22.407302: I external/local_xla/xla/stream_executor/cuda/cuda_executor.cc:901] successful NUMA node read from SysFS had negative value (-1), but there must be at least one NUMA node, so returning NUMA node zero. See more at https://github.com/torvalds/linux/blob/v6.0/Documentation/ABI/testing/sysfs-bus-pci#L344-L355\n",
      "2024-11-23 21:15:22.410364: I external/local_xla/xla/stream_executor/cuda/cuda_executor.cc:901] successful NUMA node read from SysFS had negative value (-1), but there must be at least one NUMA node, so returning NUMA node zero. See more at https://github.com/torvalds/linux/blob/v6.0/Documentation/ABI/testing/sysfs-bus-pci#L344-L355\n",
      "2024-11-23 21:15:22.412187: I external/local_xla/xla/stream_executor/cuda/cuda_executor.cc:901] successful NUMA node read from SysFS had negative value (-1), but there must be at least one NUMA node, so returning NUMA node zero. See more at https://github.com/torvalds/linux/blob/v6.0/Documentation/ABI/testing/sysfs-bus-pci#L344-L355\n",
      "2024-11-23 21:15:22.414038: I tensorflow/core/common_runtime/gpu/gpu_device.cc:1929] Created device /job:localhost/replica:0/task:0/device:GPU:0 with 14275 MB memory:  -> device: 0, name: NVIDIA GeForce RTX 3080 Ti Laptop GPU, pci bus id: 0000:01:00.0, compute capability: 8.6\n"
     ]
    }
   ],
   "execution_count": 2
  },
  {
   "metadata": {},
   "cell_type": "markdown",
   "source": [
    "## Question 1\n",
    "\n",
    "Since we have a binary classification problem, what is the best loss function for us?\n",
    "\n",
    "> **Note:** since we specify an activation for the output layer, we don't need to set `from_logits=True`"
   ],
   "id": "e0cadb4bb82591c"
  },
  {
   "metadata": {},
   "cell_type": "markdown",
   "source": [
    "## Question 2\n",
    "\n",
    "What's the total number of parameters of the model? You can use the `summary` method for that. "
   ],
   "id": "9d6407cc3957acbc"
  },
  {
   "metadata": {
    "ExecuteTime": {
     "end_time": "2024-11-23T06:36:52.833781Z",
     "start_time": "2024-11-23T06:36:52.827135Z"
    }
   },
   "cell_type": "code",
   "source": "model.summary()",
   "id": "c9e87b63ec918393",
   "outputs": [
    {
     "name": "stdout",
     "output_type": "stream",
     "text": [
      "Model: \"tiny_net\"\n",
      "_________________________________________________________________\n",
      " Layer (type)                Output Shape              Param #   \n",
      "=================================================================\n",
      " conv2d (Conv2D)             multiple                  896       \n",
      "                                                                 \n",
      " max_pooling2d (MaxPooling2  multiple                  0         \n",
      " D)                                                              \n",
      "                                                                 \n",
      " flatten (Flatten)           multiple                  0         \n",
      "                                                                 \n",
      " dense (Dense)               multiple                  20072512  \n",
      "                                                                 \n",
      " dense_1 (Dense)             multiple                  65        \n",
      "                                                                 \n",
      "=================================================================\n",
      "Total params: 20073473 (76.57 MB)\n",
      "Trainable params: 20073473 (76.57 MB)\n",
      "Non-trainable params: 0 (0.00 Byte)\n",
      "_________________________________________________________________\n"
     ]
    }
   ],
   "execution_count": 4
  },
  {
   "metadata": {},
   "cell_type": "markdown",
   "source": [
    "## Generators and Training\n",
    "\n",
    "For the next two questions, use the following data generator for both train and test sets:\n",
    "\n",
    "```python\n",
    "ImageDataGenerator(rescale=1./255)\n",
    "```\n",
    "\n",
    "* We don't need to do any additional pre-processing for the images.\n",
    "* When reading the data from train/test directories, check the `class_mode` parameter. Which value should it be for a binary classification problem?\n",
    "* Use `batch_size=20`\n",
    "* Use `shuffle=True` for both training and test sets. \n",
    "\n",
    "For training use `.fit()` with the following params:\n",
    "\n",
    "```python\n",
    "model.fit(\n",
    "    train_generator,\n",
    "    epochs=10,\n",
    "    validation_data=test_generator\n",
    ")\n",
    "```"
   ],
   "id": "4f0a64ef2bca546f"
  },
  {
   "metadata": {
    "ExecuteTime": {
     "end_time": "2024-11-23T06:36:52.898274Z",
     "start_time": "2024-11-23T06:36:52.876348Z"
    }
   },
   "cell_type": "code",
   "source": [
    "image_gen = ImageDataGenerator(rescale=1./255)\n",
    "\n",
    "train_generator = image_gen.flow_from_directory(\n",
    "    \"./data/train\",\n",
    "    target_size=(200, 200),\n",
    "    batch_size=20,\n",
    "    class_mode=\"binary\",\n",
    "    shuffle=True\n",
    ")\n",
    "\n",
    "test_generator = image_gen.flow_from_directory(\n",
    "    \"./data/test\",\n",
    "    target_size=(200, 200),\n",
    "    batch_size=20,\n",
    "    class_mode=\"binary\",\n",
    "    shuffle=True\n",
    ")"
   ],
   "id": "805f7cf2daa4e17a",
   "outputs": [
    {
     "name": "stdout",
     "output_type": "stream",
     "text": [
      "Found 800 images belonging to 2 classes.\n",
      "Found 201 images belonging to 2 classes.\n"
     ]
    }
   ],
   "execution_count": 5
  },
  {
   "metadata": {
    "ExecuteTime": {
     "end_time": "2024-11-23T06:37:23.859766Z",
     "start_time": "2024-11-23T06:36:52.925559Z"
    }
   },
   "cell_type": "code",
   "source": [
    "history = model.fit(\n",
    "    train_generator,\n",
    "    epochs=10,\n",
    "    validation_data=test_generator\n",
    ")"
   ],
   "id": "ba069cbb5664995a",
   "outputs": [
    {
     "name": "stdout",
     "output_type": "stream",
     "text": [
      "Epoch 1/10\n"
     ]
    },
    {
     "name": "stderr",
     "output_type": "stream",
     "text": [
      "2024-11-23 14:36:53.460751: I external/local_xla/xla/stream_executor/cuda/cuda_dnn.cc:454] Loaded cuDNN version 8907\n",
      "2024-11-23 14:36:54.149926: I external/local_xla/xla/service/service.cc:168] XLA service 0x7f598c934d50 initialized for platform CUDA (this does not guarantee that XLA will be used). Devices:\n",
      "2024-11-23 14:36:54.149956: I external/local_xla/xla/service/service.cc:176]   StreamExecutor device (0): NVIDIA GeForce RTX 3080 Ti Laptop GPU, Compute Capability 8.6\n",
      "WARNING: All log messages before absl::InitializeLog() is called are written to STDERR\n",
      "I0000 00:00:1732343814.199916  103627 device_compiler.h:186] Compiled cluster using XLA!  This line is logged at most once for the lifetime of the process.\n"
     ]
    },
    {
     "name": "stdout",
     "output_type": "stream",
     "text": [
      "40/40 [==============================] - 5s 82ms/step - loss: 0.6923 - accuracy: 0.5638 - val_loss: 0.6402 - val_accuracy: 0.6517\n",
      "Epoch 2/10\n",
      "40/40 [==============================] - 3s 70ms/step - loss: 0.6173 - accuracy: 0.6438 - val_loss: 0.6207 - val_accuracy: 0.6418\n",
      "Epoch 3/10\n",
      "40/40 [==============================] - 3s 69ms/step - loss: 0.5931 - accuracy: 0.6725 - val_loss: 0.6219 - val_accuracy: 0.6219\n",
      "Epoch 4/10\n",
      "40/40 [==============================] - 3s 74ms/step - loss: 0.5682 - accuracy: 0.6900 - val_loss: 0.6200 - val_accuracy: 0.6318\n",
      "Epoch 5/10\n",
      "40/40 [==============================] - 3s 71ms/step - loss: 0.5516 - accuracy: 0.7200 - val_loss: 0.6047 - val_accuracy: 0.6468\n",
      "Epoch 6/10\n",
      "40/40 [==============================] - 3s 73ms/step - loss: 0.5421 - accuracy: 0.7188 - val_loss: 0.6446 - val_accuracy: 0.6119\n",
      "Epoch 7/10\n",
      "40/40 [==============================] - 3s 73ms/step - loss: 0.5112 - accuracy: 0.7400 - val_loss: 0.5978 - val_accuracy: 0.6567\n",
      "Epoch 8/10\n",
      "40/40 [==============================] - 3s 71ms/step - loss: 0.5153 - accuracy: 0.7425 - val_loss: 0.6179 - val_accuracy: 0.6716\n",
      "Epoch 9/10\n",
      "40/40 [==============================] - 3s 73ms/step - loss: 0.4956 - accuracy: 0.7613 - val_loss: 0.6450 - val_accuracy: 0.6667\n",
      "Epoch 10/10\n",
      "40/40 [==============================] - 3s 70ms/step - loss: 0.4577 - accuracy: 0.7738 - val_loss: 0.6352 - val_accuracy: 0.6468\n"
     ]
    }
   ],
   "execution_count": 6
  },
  {
   "metadata": {},
   "cell_type": "markdown",
   "source": [
    "## Question 3\n",
    "\n",
    "What is the median of training accuracy for all the epochs for this model?"
   ],
   "id": "479171a9d2e55796"
  },
  {
   "metadata": {
    "ExecuteTime": {
     "end_time": "2024-11-23T06:37:23.870437Z",
     "start_time": "2024-11-23T06:37:23.867711Z"
    }
   },
   "cell_type": "code",
   "source": "print(f\"The median of training accuracy for all the epochs for this model is {round(np.median(history.history['accuracy']), 2)}\")",
   "id": "c8e4cd1e7403ab3e",
   "outputs": [
    {
     "name": "stdout",
     "output_type": "stream",
     "text": [
      "The median of training accuracy for all the epochs for this model is 0.72\n"
     ]
    }
   ],
   "execution_count": 7
  },
  {
   "metadata": {},
   "cell_type": "markdown",
   "source": [
    "## Question 4\n",
    "\n",
    "What is the standard deviation of training loss for all the epochs for this model?"
   ],
   "id": "13fb53976935aa30"
  },
  {
   "metadata": {
    "ExecuteTime": {
     "end_time": "2024-11-23T06:37:23.921719Z",
     "start_time": "2024-11-23T06:37:23.919038Z"
    }
   },
   "cell_type": "code",
   "source": "print(f\"The standard deviation of training loss for all the epochs for this model is {round(np.std(history.history['loss']), 3)}\")",
   "id": "19b09522fae84a84",
   "outputs": [
    {
     "name": "stdout",
     "output_type": "stream",
     "text": [
      "The standard deviation of training loss for all the epochs for this model is 0.064\n"
     ]
    }
   ],
   "execution_count": 8
  },
  {
   "metadata": {},
   "cell_type": "markdown",
   "source": [
    "## Data Augmentation\n",
    "\n",
    "For the next two questions, we'll generate more data using data augmentations. \n",
    "\n",
    "Add the following augmentations to your training data generator:\n",
    "\n",
    "* `rotation_range=50,`\n",
    "* `width_shift_range=0.1,`\n",
    "* `height_shift_range=0.1,`\n",
    "* `zoom_range=0.1,`\n",
    "* `horizontal_flip=True,`\n",
    "* `fill_mode='nearest'`"
   ],
   "id": "f827002e74a4c8ba"
  },
  {
   "metadata": {
    "ExecuteTime": {
     "end_time": "2024-11-23T06:37:23.991235Z",
     "start_time": "2024-11-23T06:37:23.970108Z"
    }
   },
   "cell_type": "code",
   "source": [
    "image_gen = ImageDataGenerator(\n",
    "    rescale=1./255,\n",
    "    rotation_range=50,\n",
    "    width_shift_range=0.1,\n",
    "    height_shift_range=0.1,\n",
    "    zoom_range=0.1,\n",
    "    horizontal_flip=True,\n",
    "    fill_mode=\"nearest\"\n",
    ")\n",
    "\n",
    "train_generator = image_gen.flow_from_directory(\n",
    "    \"./data/train\",\n",
    "    target_size=(200, 200),\n",
    "    batch_size=20,\n",
    "    class_mode=\"binary\",\n",
    "    shuffle=True\n",
    ")\n",
    "\n",
    "test_generator = image_gen.flow_from_directory(\n",
    "    \"./data/test\",\n",
    "    target_size=(200, 200),\n",
    "    batch_size=20,\n",
    "    class_mode=\"binary\",\n",
    "    shuffle=True\n",
    ")"
   ],
   "id": "e48705d236c242a4",
   "outputs": [
    {
     "name": "stdout",
     "output_type": "stream",
     "text": [
      "Found 800 images belonging to 2 classes.\n",
      "Found 201 images belonging to 2 classes.\n"
     ]
    }
   ],
   "execution_count": 9
  },
  {
   "metadata": {},
   "cell_type": "markdown",
   "source": [
    "## Question 5 \n",
    "\n",
    "Let's train our model for 10 more epochs using the same code as previously.\n",
    "> **Note:** make sure you don't re-create the model - we want to continue training the model\n",
    "we already started training.\n",
    "\n",
    "What is the mean of test loss for all the epochs for the model trained with augmentations?"
   ],
   "id": "9c2a1a2b4531e47b"
  },
  {
   "metadata": {
    "ExecuteTime": {
     "end_time": "2024-11-23T06:38:30.438155Z",
     "start_time": "2024-11-23T06:37:24.077203Z"
    }
   },
   "cell_type": "code",
   "source": [
    "history = model.fit(\n",
    "    train_generator,\n",
    "    epochs=10,\n",
    "    validation_data=test_generator\n",
    ")"
   ],
   "id": "268399c32fbedc9a",
   "outputs": [
    {
     "name": "stdout",
     "output_type": "stream",
     "text": [
      "Epoch 1/10\n",
      "40/40 [==============================] - 7s 168ms/step - loss: 0.6485 - accuracy: 0.6612 - val_loss: 0.6271 - val_accuracy: 0.6766\n",
      "Epoch 2/10\n",
      "40/40 [==============================] - 7s 165ms/step - loss: 0.6198 - accuracy: 0.6650 - val_loss: 0.6172 - val_accuracy: 0.6716\n",
      "Epoch 3/10\n",
      "40/40 [==============================] - 7s 166ms/step - loss: 0.5861 - accuracy: 0.7038 - val_loss: 0.6014 - val_accuracy: 0.6716\n",
      "Epoch 4/10\n",
      "40/40 [==============================] - 6s 158ms/step - loss: 0.5946 - accuracy: 0.6775 - val_loss: 0.5972 - val_accuracy: 0.7065\n",
      "Epoch 5/10\n",
      "40/40 [==============================] - 7s 179ms/step - loss: 0.5853 - accuracy: 0.6913 - val_loss: 0.5965 - val_accuracy: 0.7065\n",
      "Epoch 6/10\n",
      "40/40 [==============================] - 6s 159ms/step - loss: 0.5644 - accuracy: 0.7063 - val_loss: 0.6199 - val_accuracy: 0.7015\n",
      "Epoch 7/10\n",
      "40/40 [==============================] - 7s 169ms/step - loss: 0.5724 - accuracy: 0.7163 - val_loss: 0.6137 - val_accuracy: 0.6816\n",
      "Epoch 8/10\n",
      "40/40 [==============================] - 7s 161ms/step - loss: 0.5757 - accuracy: 0.6988 - val_loss: 0.5842 - val_accuracy: 0.6866\n",
      "Epoch 9/10\n",
      "40/40 [==============================] - 7s 164ms/step - loss: 0.5564 - accuracy: 0.7138 - val_loss: 0.6222 - val_accuracy: 0.6418\n",
      "Epoch 10/10\n",
      "40/40 [==============================] - 6s 163ms/step - loss: 0.5777 - accuracy: 0.6862 - val_loss: 0.5706 - val_accuracy: 0.7065\n"
     ]
    }
   ],
   "execution_count": 10
  },
  {
   "metadata": {
    "ExecuteTime": {
     "end_time": "2024-11-23T06:38:30.445842Z",
     "start_time": "2024-11-23T06:38:30.443680Z"
    }
   },
   "cell_type": "code",
   "source": "print(f\"The mean of test loss for all the epochs for the model trained with augmentations is {round(np.mean(history.history['val_loss']), 2)}\")",
   "id": "adb7cdc53b496d95",
   "outputs": [
    {
     "name": "stdout",
     "output_type": "stream",
     "text": [
      "The mean of test loss for all the epochs for the model trained with augmentations is 0.6\n"
     ]
    }
   ],
   "execution_count": 11
  },
  {
   "metadata": {},
   "cell_type": "markdown",
   "source": [
    "## Question 6\n",
    "\n",
    "What's the average of test accuracy for the last 5 epochs (from 6 to 10) for the model trained with augmentations?"
   ],
   "id": "5dbdc2ef32b402b5"
  },
  {
   "metadata": {
    "ExecuteTime": {
     "end_time": "2024-11-23T06:38:30.549230Z",
     "start_time": "2024-11-23T06:38:30.546999Z"
    }
   },
   "cell_type": "code",
   "source": "print(f\"The average of test accuracy for the last 5 epochs for the model trained with augmentations is {round(np.mean(history.history['val_accuracy'][-5:]), 2)}\")",
   "id": "c63703f6809bf7f8",
   "outputs": [
    {
     "name": "stdout",
     "output_type": "stream",
     "text": [
      "The average of test accuracy for the last 5 epochs for the model trained with augmentations is 0.68\n"
     ]
    }
   ],
   "execution_count": 12
  },
  {
   "metadata": {},
   "cell_type": "markdown",
   "source": [
    "## Submit the results\n",
    "\n",
    "* Submit your results here: https://courses.datatalks.club/ml-zoomcamp-2024/homework/hw08\n",
    "* If your answer doesn't match options exactly, select the closest one"
   ],
   "id": "d02abdcc5d0d9dc8"
  }
 ],
 "metadata": {
  "kernelspec": {
   "display_name": "Python 3",
   "language": "python",
   "name": "python3"
  },
  "language_info": {
   "codemirror_mode": {
    "name": "ipython",
    "version": 2
   },
   "file_extension": ".py",
   "mimetype": "text/x-python",
   "name": "python",
   "nbconvert_exporter": "python",
   "pygments_lexer": "ipython2",
   "version": "2.7.6"
  }
 },
 "nbformat": 4,
 "nbformat_minor": 5
}
