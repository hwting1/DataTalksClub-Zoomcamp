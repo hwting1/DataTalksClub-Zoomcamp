{
 "cells": [
  {
   "metadata": {},
   "cell_type": "markdown",
   "source": [
    "# Homework\n",
    "\n",
    "> Note: sometimes your answer doesn't match one of \n",
    "> the options exactly. That's fine. \n",
    "> Select the option that's closest to your solution."
   ],
   "id": "cfeb4268289053a3"
  },
  {
   "metadata": {},
   "cell_type": "markdown",
   "source": [
    "## Dataset\n",
    "\n",
    "In this homework, we will use the Students Performance in 2024 JAMB dataset from [Kaggle](https://www.kaggle.com/datasets/idowuadamo/students-performance-in-2024-jamb).\n",
    "\n",
    "Here's a wget-able [link](https://github.com/alexeygrigorev/datasets/raw/refs/heads/master/jamb_exam_results.csv):\n",
    "\n",
    "```bash\n",
    "wget https://github.com/alexeygrigorev/datasets/raw/refs/heads/master/jamb_exam_results.csv\n",
    "```\n",
    "\n",
    "The goal of this homework is to create a regression model for predicting the performance of students on a standardized test (column `'JAMB_Score'`)."
   ],
   "id": "6686d4ab9b0c81f2"
  },
  {
   "metadata": {},
   "cell_type": "markdown",
   "source": [
    "## Preparing the dataset \n",
    "\n",
    "First, let's make the names lowercase:\n",
    "\n",
    "```python\n",
    "df.columns = df.columns.str.lower().str.replace(' ', '_')\n",
    "```\n",
    "\n",
    "Preparation:\n",
    "\n",
    "* Remove the `student_id` column.\n",
    "* Fill missing values with zeros.\n",
    "* Do train/validation/test split with 60%/20%/20% distribution. \n",
    "* Use the `train_test_split` function and set the `random_state` parameter to 1.\n",
    "* Use `DictVectorizer(sparse=True)` to turn the dataframes into matrices."
   ],
   "id": "692f034581739ce6"
  },
  {
   "metadata": {
    "ExecuteTime": {
     "end_time": "2024-11-02T07:15:47.996401Z",
     "start_time": "2024-11-02T07:15:47.267843Z"
    }
   },
   "cell_type": "code",
   "source": [
    "import numpy as np\n",
    "import pandas as pd\n",
    "from sklearn.feature_extraction import DictVectorizer\n",
    "from sklearn.model_selection import train_test_split\n",
    "from sklearn.tree import DecisionTreeRegressor\n",
    "from sklearn.ensemble import RandomForestRegressor\n",
    "from sklearn.metrics import root_mean_squared_error\n",
    "import xgboost as xgb"
   ],
   "id": "9f201a5413c8d34b",
   "outputs": [],
   "execution_count": 1
  },
  {
   "metadata": {
    "ExecuteTime": {
     "end_time": "2024-11-02T07:15:48.023158Z",
     "start_time": "2024-11-02T07:15:48.006106Z"
    }
   },
   "cell_type": "code",
   "source": [
    "df = pd.read_csv(\"jamb_exam_results.csv\")\n",
    "df.columns = df.columns.str.lower().str.replace(' ', '_')\n",
    "df.drop(\"student_id\", axis=1, inplace=True)\n",
    "df.fillna(0, inplace=True)"
   ],
   "id": "9c1101a024ce2d85",
   "outputs": [],
   "execution_count": 2
  },
  {
   "metadata": {
    "ExecuteTime": {
     "end_time": "2024-11-02T07:15:48.314943Z",
     "start_time": "2024-11-02T07:15:48.289909Z"
    }
   },
   "cell_type": "code",
   "source": [
    "df_full_train, df_test = train_test_split(df, test_size=0.2, random_state=1)\n",
    "df_train, df_val = train_test_split(df_full_train, test_size=0.25, random_state=1)\n",
    "target = \"jamb_score\"\n",
    "y_train = df_train[target]\n",
    "y_val = df_val[target]\n",
    "y_test = df_test[target]\n",
    "X_train = df_train.drop(target, axis=1).to_dict(orient='records')\n",
    "X_val = df_val.drop(target, axis=1).to_dict(orient='records')\n",
    "X_test = df_test.drop(target, axis=1).to_dict(orient='records')"
   ],
   "id": "c5d07ca2cc35d01",
   "outputs": [],
   "execution_count": 3
  },
  {
   "metadata": {
    "ExecuteTime": {
     "end_time": "2024-11-02T07:15:48.363920Z",
     "start_time": "2024-11-02T07:15:48.334158Z"
    }
   },
   "cell_type": "code",
   "source": [
    "dv = DictVectorizer(sparse=False)\n",
    "X_train = dv.fit_transform(X_train)\n",
    "X_val = dv.transform(X_val)\n",
    "X_test = dv.transform(X_test)\n",
    "features = dv.feature_names_"
   ],
   "id": "827048ed779dace",
   "outputs": [],
   "execution_count": 4
  },
  {
   "metadata": {},
   "cell_type": "markdown",
   "source": [
    "## Question 1\n",
    "\n",
    "Let's train a decision tree regressor to predict the `jamb_score` variable. \n",
    "\n",
    "* Train a model with `max_depth=1`.\n",
    "\n",
    "\n",
    "Which feature is used for splitting the data?\n"
   ],
   "id": "334daf33ada02725"
  },
  {
   "metadata": {
    "ExecuteTime": {
     "end_time": "2024-11-02T07:15:48.416384Z",
     "start_time": "2024-11-02T07:15:48.412284Z"
    }
   },
   "cell_type": "code",
   "source": [
    "reg = DecisionTreeRegressor(max_depth=1)\n",
    "reg = reg.fit(X_train, y_train)\n",
    "feature = features[reg.tree_.feature[0]]\n",
    "print(f\"{feature} is used for splitting the data\")"
   ],
   "id": "7720c7ffe523decc",
   "outputs": [
    {
     "name": "stdout",
     "output_type": "stream",
     "text": [
      "study_hours_per_week is used for splitting the data\n"
     ]
    }
   ],
   "execution_count": 5
  },
  {
   "metadata": {},
   "cell_type": "markdown",
   "source": [
    "## Question 2\n",
    "\n",
    "Train a random forest model with these parameters:\n",
    "\n",
    "* `n_estimators=10`\n",
    "* `random_state=1`\n",
    "* `n_jobs=-1` (optional - to make training faster)\n",
    "\n",
    "\n",
    "What's the RMSE of this model on validation?"
   ],
   "id": "4a8e410f389297b9"
  },
  {
   "metadata": {
    "ExecuteTime": {
     "end_time": "2024-11-02T07:15:48.522665Z",
     "start_time": "2024-11-02T07:15:48.466346Z"
    }
   },
   "cell_type": "code",
   "source": [
    "reg = RandomForestRegressor(n_estimators=10, random_state=1, n_jobs=-1)\n",
    "reg.fit(X_train, y_train)\n",
    "y_pred = reg.predict(X_val)\n",
    "rmse = root_mean_squared_error(y_val, y_pred)\n",
    "print(f\"The RMSE of this model on validation is {round(rmse, 2)}\")"
   ],
   "id": "9c5c4153f5019fc0",
   "outputs": [
    {
     "name": "stdout",
     "output_type": "stream",
     "text": [
      "The RMSE of this model on validation is 42.14\n"
     ]
    }
   ],
   "execution_count": 6
  },
  {
   "metadata": {},
   "cell_type": "markdown",
   "source": [
    "## Question 3\n",
    "\n",
    "Now let's experiment with the `n_estimators` parameter\n",
    "\n",
    "* Try different values of this parameter from 10 to 200 with step 10.\n",
    "* Set `random_state` to `1`.\n",
    "* Evaluate the model on the validation dataset.\n",
    "\n",
    "\n",
    "After which value of `n_estimators` does RMSE stop improving?\n",
    "Consider 3 decimal places for calculating the answer."
   ],
   "id": "e92bf5e0131d7de7"
  },
  {
   "metadata": {
    "ExecuteTime": {
     "end_time": "2024-11-02T07:15:52.033291Z",
     "start_time": "2024-11-02T07:15:48.542487Z"
    }
   },
   "cell_type": "code",
   "source": [
    "estimators = np.arange(10, 201, 10)\n",
    "errors = []\n",
    "for n_estimators in estimators:\n",
    "    reg = RandomForestRegressor(n_estimators=n_estimators, random_state=1, n_jobs=-1)\n",
    "    reg = reg.fit(X_train, y_train)\n",
    "    y_pred = reg.predict(X_val)\n",
    "    error = root_mean_squared_error(y_val, y_pred)\n",
    "    errors.append(error)\n",
    "\n",
    "errors = np.array(errors)\n",
    "difference = errors[1:] - errors[:-1]\n",
    "idx = np.where(difference > 0)[0][0]\n",
    "print(f\"After {estimators[idx]} estimators, RMSE stop improving\")"
   ],
   "id": "721afe91568b6aaf",
   "outputs": [
    {
     "name": "stdout",
     "output_type": "stream",
     "text": [
      "After 90 estimators, RMSE stop improving\n"
     ]
    }
   ],
   "execution_count": 7
  },
  {
   "metadata": {},
   "cell_type": "markdown",
   "source": [
    "## Question 4\n",
    "\n",
    "Let's select the best `max_depth`:\n",
    "\n",
    "* Try different values of `max_depth`: `[10, 15, 20, 25]`\n",
    "* For each of these values,\n",
    "  * try different values of `n_estimators` from 10 till 200 (with step 10)\n",
    "  * calculate the mean RMSE \n",
    "* Fix the random seed: `random_state=1`\n",
    "\n",
    "\n",
    "What's the best `max_depth`, using the mean RMSE?"
   ],
   "id": "74400eb6114d1a8"
  },
  {
   "metadata": {
    "ExecuteTime": {
     "end_time": "2024-11-02T07:16:06.016134Z",
     "start_time": "2024-11-02T07:15:52.072158Z"
    }
   },
   "cell_type": "code",
   "source": [
    "depths = [10, 15, 20, 25]\n",
    "mean_errors = []\n",
    "for max_depth in depths:\n",
    "    errors = []\n",
    "    for n_estimators in estimators:\n",
    "        reg = RandomForestRegressor(n_estimators=n_estimators, max_depth=max_depth, random_state=1, n_jobs=-1)\n",
    "        reg = reg.fit(X_train, y_train)\n",
    "        y_pred = reg.predict(X_val)\n",
    "        error = root_mean_squared_error(y_val, y_pred)\n",
    "        errors.append(error)\n",
    "    \n",
    "    mean_errors.append(np.mean(errors))\n",
    "\n",
    "print(f\"The best max_depth, based on the mean RMSE, is {depths[np.argmin(mean_errors)]}\")"
   ],
   "id": "24464f2a543fb2fe",
   "outputs": [
    {
     "name": "stdout",
     "output_type": "stream",
     "text": [
      "The best max_depth, based on the mean RMSE, is 10\n"
     ]
    }
   ],
   "execution_count": 8
  },
  {
   "metadata": {},
   "cell_type": "markdown",
   "source": [
    "## Question 5\n",
    "\n",
    "We can extract feature importance information from tree-based models. \n",
    "\n",
    "At each step of the decision tree learning algorithm, it finds the best split. \n",
    "When doing it, we can calculate \"gain\" - the reduction in impurity before and after the split. \n",
    "This gain is quite useful in understanding what are the important features for tree-based models.\n",
    "\n",
    "In Scikit-Learn, tree-based models contain this information in the\n",
    "[`feature_importances_`](https://scikit-learn.org/stable/modules/generated/sklearn.ensemble.RandomForestRegressor.html#sklearn.ensemble.RandomForestRegressor.feature_importances_)\n",
    "field. \n",
    "\n",
    "For this homework question, we'll find the most important feature:\n",
    "\n",
    "* Train the model with these parameters:\n",
    "  * `n_estimators=10`,\n",
    "  * `max_depth=20`,\n",
    "  * `random_state=1`,\n",
    "  * `n_jobs=-1` (optional)\n",
    "* Get the feature importance information from this model\n",
    "\n",
    "\n",
    "What's the most important feature (among these 4)? "
   ],
   "id": "5d4f5de463ecc680"
  },
  {
   "metadata": {
    "ExecuteTime": {
     "end_time": "2024-11-02T07:16:06.082358Z",
     "start_time": "2024-11-02T07:16:06.024103Z"
    }
   },
   "cell_type": "code",
   "source": [
    "reg = RandomForestRegressor(n_estimators=10, max_depth=20, random_state=1, n_jobs=-1)\n",
    "reg = reg.fit(X_train, y_train)\n",
    "print(f\"The most important feature is {features[np.argmax(reg.feature_importances_)]}\")"
   ],
   "id": "f5a8c712f9bd8365",
   "outputs": [
    {
     "name": "stdout",
     "output_type": "stream",
     "text": [
      "The most important feature is study_hours_per_week\n"
     ]
    }
   ],
   "execution_count": 9
  },
  {
   "metadata": {},
   "cell_type": "markdown",
   "source": [
    "## Question 6\n",
    "\n",
    "Now let's train an XGBoost model! For this question, we'll tune the `eta` parameter:\n",
    "\n",
    "* Install XGBoost\n",
    "* Create DMatrix for train and validation\n",
    "* Create a watchlist\n",
    "* Train a model with these parameters for 100 rounds:\n",
    "\n",
    "```\n",
    "xgb_params = {\n",
    "    'eta': 0.3, \n",
    "    'max_depth': 6,\n",
    "    'min_child_weight': 1,\n",
    "    \n",
    "    'objective': 'reg:squarederror',\n",
    "    'nthread': 8,\n",
    "    \n",
    "    'seed': 1,\n",
    "    'verbosity': 1,\n",
    "}\n",
    "```\n",
    "\n",
    "Now change `eta` from `0.3` to `0.1`.\n",
    "\n",
    "Which eta leads to the best RMSE score on the validation dataset?"
   ],
   "id": "ab4134c1df527aae"
  },
  {
   "metadata": {
    "ExecuteTime": {
     "end_time": "2024-11-02T07:16:06.974708Z",
     "start_time": "2024-11-02T07:16:06.102592Z"
    }
   },
   "cell_type": "code",
   "source": [
    "xgb_params = {\n",
    "    'max_depth': 6,\n",
    "    'min_child_weight': 1,\n",
    "    'objective': 'reg:squarederror',\n",
    "    'nthread': 8,\n",
    "    'seed': 1,\n",
    "    'verbosity': 1,\n",
    "    'device': 'cuda'\n",
    "}\n",
    "etas = [0.1, 0.3]\n",
    "errors = []\n",
    "dtrain = xgb.DMatrix(X_train, label=y_train, feature_names=features)\n",
    "dval = xgb.DMatrix(X_val, label=y_val, feature_names=features)\n",
    "watchlist = [(dtrain, 'train'), (dval, 'val')]\n",
    "\n",
    "for eta in etas:\n",
    "    xgb_params[\"eta\"] = eta\n",
    "    model = xgb.train(xgb_params, dtrain, num_boost_round=100,\n",
    "                      verbose_eval=5,\n",
    "                      evals=watchlist)\n",
    "    y_pred = model.predict(dval)\n",
    "    error = root_mean_squared_error(y_val, y_pred)\n",
    "    errors.append(error)"
   ],
   "id": "46f21f22335ceba7",
   "outputs": [
    {
     "name": "stdout",
     "output_type": "stream",
     "text": [
      "[0]\ttrain-rmse:45.50072\tval-rmse:46.99373\n",
      "[5]\ttrain-rmse:40.15460\tval-rmse:43.05644\n",
      "[10]\ttrain-rmse:37.11353\tval-rmse:41.55631\n",
      "[15]\ttrain-rmse:35.07766\tval-rmse:40.70892\n",
      "[20]\ttrain-rmse:33.57997\tval-rmse:40.37859\n",
      "[25]\ttrain-rmse:32.50134\tval-rmse:40.21661\n",
      "[30]\ttrain-rmse:31.47315\tval-rmse:40.20963\n",
      "[35]\ttrain-rmse:30.68870\tval-rmse:40.19360\n",
      "[40]\ttrain-rmse:29.89807\tval-rmse:40.15747\n",
      "[45]\ttrain-rmse:29.33094\tval-rmse:40.21096\n",
      "[50]\ttrain-rmse:28.58793\tval-rmse:40.28533\n",
      "[55]\ttrain-rmse:27.95277\tval-rmse:40.44296\n",
      "[60]\ttrain-rmse:27.26360\tval-rmse:40.55054\n",
      "[65]\ttrain-rmse:26.56706\tval-rmse:40.66625\n",
      "[70]\ttrain-rmse:26.05959\tval-rmse:40.73555\n",
      "[75]\ttrain-rmse:25.55747\tval-rmse:40.76267\n",
      "[80]\ttrain-rmse:25.13835\tval-rmse:40.82813\n",
      "[85]\ttrain-rmse:24.64140\tval-rmse:40.87915\n",
      "[90]\ttrain-rmse:23.93958\tval-rmse:40.89645\n",
      "[95]\ttrain-rmse:23.39469\tval-rmse:40.95651\n",
      "[99]\ttrain-rmse:23.14487\tval-rmse:41.04335\n",
      "[0]\ttrain-rmse:42.69552\tval-rmse:44.86028\n",
      "[5]\ttrain-rmse:34.43646\tval-rmse:40.87186\n",
      "[10]\ttrain-rmse:31.55119\tval-rmse:40.83684\n",
      "[15]\ttrain-rmse:29.08791\tval-rmse:41.37832\n",
      "[20]\ttrain-rmse:27.24424\tval-rmse:41.80313\n",
      "[25]\ttrain-rmse:25.52682\tval-rmse:42.16423\n",
      "[30]\ttrain-rmse:24.12906\tval-rmse:42.28557\n",
      "[35]\ttrain-rmse:22.40407\tval-rmse:42.54946\n",
      "[40]\ttrain-rmse:21.45994\tval-rmse:42.77917\n",
      "[45]\ttrain-rmse:20.39910\tval-rmse:42.92252\n",
      "[50]\ttrain-rmse:19.30407\tval-rmse:43.11630\n",
      "[55]\ttrain-rmse:18.42737\tval-rmse:43.38441\n",
      "[60]\ttrain-rmse:17.42414\tval-rmse:43.40830\n",
      "[65]\ttrain-rmse:16.59974\tval-rmse:43.52522\n",
      "[70]\ttrain-rmse:15.74173\tval-rmse:43.77894\n",
      "[75]\ttrain-rmse:14.87321\tval-rmse:43.91229\n",
      "[80]\ttrain-rmse:14.28350\tval-rmse:44.08528\n",
      "[85]\ttrain-rmse:13.64009\tval-rmse:44.22602\n",
      "[90]\ttrain-rmse:12.90222\tval-rmse:44.30365\n",
      "[95]\ttrain-rmse:12.05464\tval-rmse:44.31210\n",
      "[99]\ttrain-rmse:11.56417\tval-rmse:44.43210\n"
     ]
    }
   ],
   "execution_count": 10
  },
  {
   "metadata": {
    "ExecuteTime": {
     "end_time": "2024-11-02T07:16:06.995878Z",
     "start_time": "2024-11-02T07:16:06.993951Z"
    }
   },
   "cell_type": "code",
   "source": "print(f\"eta={etas[np.argmin(errors)]} leads to the best RMSE score on the validation dataset\")",
   "id": "1d0fd742e2a8610b",
   "outputs": [
    {
     "name": "stdout",
     "output_type": "stream",
     "text": [
      "eta=0.1 leads to the best RMSE score on the validation dataset\n"
     ]
    }
   ],
   "execution_count": 11
  },
  {
   "metadata": {},
   "cell_type": "markdown",
   "source": [
    "## Submit the results\n",
    "\n",
    "* Submit your results here: https://courses.datatalks.club/ml-zoomcamp-2024/homework/hw06\n",
    "* If your answer doesn't match options exactly, select the closest one"
   ],
   "id": "92382cd39db5ab1a"
  }
 ],
 "metadata": {
  "kernelspec": {
   "display_name": "Python 3",
   "language": "python",
   "name": "python3"
  },
  "language_info": {
   "codemirror_mode": {
    "name": "ipython",
    "version": 2
   },
   "file_extension": ".py",
   "mimetype": "text/x-python",
   "name": "python",
   "nbconvert_exporter": "python",
   "pygments_lexer": "ipython2",
   "version": "2.7.6"
  }
 },
 "nbformat": 4,
 "nbformat_minor": 5
}
