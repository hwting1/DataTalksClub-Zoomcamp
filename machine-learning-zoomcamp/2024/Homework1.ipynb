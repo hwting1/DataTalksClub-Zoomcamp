{
 "cells": [
  {
   "metadata": {},
   "cell_type": "markdown",
   "source": [
    "# Homework\n",
    "You need to install Python, NumPy, Pandas, Matplotlib and Seaborn."
   ],
   "id": "3f05b422e774d5b6"
  },
  {
   "metadata": {
    "ExecuteTime": {
     "end_time": "2024-09-16T13:30:58.801613Z",
     "start_time": "2024-09-16T13:30:58.553631Z"
    }
   },
   "cell_type": "code",
   "source": [
    "import numpy as np\n",
    "import pandas as pd"
   ],
   "id": "593b26e51588f159",
   "outputs": [],
   "execution_count": 1
  },
  {
   "metadata": {},
   "cell_type": "markdown",
   "source": [
    "### Q1. Pandas version\n",
    "\n",
    "What's the version of Pandas that you installed?\n",
    "\n",
    "You can get the version information using the `__version__` field:\n",
    "\n",
    "```python\n",
    "pd.__version__\n",
    "```"
   ],
   "id": "e4ac96bfed0c27f7"
  },
  {
   "metadata": {
    "ExecuteTime": {
     "end_time": "2024-09-16T13:30:58.811280Z",
     "start_time": "2024-09-16T13:30:58.808475Z"
    }
   },
   "cell_type": "code",
   "source": "print(f\"The version of Pandas that I installed is {pd.__version__}\")",
   "id": "8e32f74219262542",
   "outputs": [
    {
     "name": "stdout",
     "output_type": "stream",
     "text": [
      "The version of Pandas that I installed is 2.2.1\n"
     ]
    }
   ],
   "execution_count": 2
  },
  {
   "metadata": {},
   "cell_type": "markdown",
   "source": [
    "## Getting the data \n",
    "\n",
    "For this homework, we'll use the Laptops Price dataset. Download it from \n",
    "[here](https://raw.githubusercontent.com/alexeygrigorev/datasets/master/laptops.csv).\n",
    "\n",
    "You can do it with wget:\n",
    "\n",
    "```bash\n",
    "wget https://raw.githubusercontent.com/alexeygrigorev/datasets/master/laptops.csv\n",
    "```\n",
    "\n",
    "Or just open it with your browser and click \"Save as...\".\n",
    "\n",
    "Now read it with Pandas."
   ],
   "id": "fab09a4e7477e164"
  },
  {
   "metadata": {
    "ExecuteTime": {
     "end_time": "2024-09-16T13:30:59.015423Z",
     "start_time": "2024-09-16T13:30:58.999701Z"
    }
   },
   "cell_type": "code",
   "source": [
    "df = pd.read_csv(\"laptops.csv\")\n",
    "df.head()"
   ],
   "id": "774e6a26df9c6005",
   "outputs": [
    {
     "data": {
      "text/plain": [
       "                                              Laptop Status   Brand  \\\n",
       "0  ASUS ExpertBook B1 B1502CBA-EJ0436X Intel Core...    New    Asus   \n",
       "1  Alurin Go Start Intel Celeron N4020/8GB/256GB ...    New  Alurin   \n",
       "2  ASUS ExpertBook B1 B1502CBA-EJ0424X Intel Core...    New    Asus   \n",
       "3  MSI Katana GF66 12UC-082XES Intel Core i7-1270...    New     MSI   \n",
       "4  HP 15S-FQ5085NS Intel Core i5-1235U/16GB/512GB...    New      HP   \n",
       "\n",
       "        Model            CPU  RAM  Storage Storage type       GPU  Screen  \\\n",
       "0  ExpertBook  Intel Core i5    8      512          SSD       NaN    15.6   \n",
       "1          Go  Intel Celeron    8      256          SSD       NaN    15.6   \n",
       "2  ExpertBook  Intel Core i3    8      256          SSD       NaN    15.6   \n",
       "3      Katana  Intel Core i7   16     1000          SSD  RTX 3050    15.6   \n",
       "4         15S  Intel Core i5   16      512          SSD       NaN    15.6   \n",
       "\n",
       "  Touch  Final Price  \n",
       "0    No      1009.00  \n",
       "1    No       299.00  \n",
       "2    No       789.00  \n",
       "3    No      1199.00  \n",
       "4    No       669.01  "
      ],
      "text/html": [
       "<div>\n",
       "<style scoped>\n",
       "    .dataframe tbody tr th:only-of-type {\n",
       "        vertical-align: middle;\n",
       "    }\n",
       "\n",
       "    .dataframe tbody tr th {\n",
       "        vertical-align: top;\n",
       "    }\n",
       "\n",
       "    .dataframe thead th {\n",
       "        text-align: right;\n",
       "    }\n",
       "</style>\n",
       "<table border=\"1\" class=\"dataframe\">\n",
       "  <thead>\n",
       "    <tr style=\"text-align: right;\">\n",
       "      <th></th>\n",
       "      <th>Laptop</th>\n",
       "      <th>Status</th>\n",
       "      <th>Brand</th>\n",
       "      <th>Model</th>\n",
       "      <th>CPU</th>\n",
       "      <th>RAM</th>\n",
       "      <th>Storage</th>\n",
       "      <th>Storage type</th>\n",
       "      <th>GPU</th>\n",
       "      <th>Screen</th>\n",
       "      <th>Touch</th>\n",
       "      <th>Final Price</th>\n",
       "    </tr>\n",
       "  </thead>\n",
       "  <tbody>\n",
       "    <tr>\n",
       "      <th>0</th>\n",
       "      <td>ASUS ExpertBook B1 B1502CBA-EJ0436X Intel Core...</td>\n",
       "      <td>New</td>\n",
       "      <td>Asus</td>\n",
       "      <td>ExpertBook</td>\n",
       "      <td>Intel Core i5</td>\n",
       "      <td>8</td>\n",
       "      <td>512</td>\n",
       "      <td>SSD</td>\n",
       "      <td>NaN</td>\n",
       "      <td>15.6</td>\n",
       "      <td>No</td>\n",
       "      <td>1009.00</td>\n",
       "    </tr>\n",
       "    <tr>\n",
       "      <th>1</th>\n",
       "      <td>Alurin Go Start Intel Celeron N4020/8GB/256GB ...</td>\n",
       "      <td>New</td>\n",
       "      <td>Alurin</td>\n",
       "      <td>Go</td>\n",
       "      <td>Intel Celeron</td>\n",
       "      <td>8</td>\n",
       "      <td>256</td>\n",
       "      <td>SSD</td>\n",
       "      <td>NaN</td>\n",
       "      <td>15.6</td>\n",
       "      <td>No</td>\n",
       "      <td>299.00</td>\n",
       "    </tr>\n",
       "    <tr>\n",
       "      <th>2</th>\n",
       "      <td>ASUS ExpertBook B1 B1502CBA-EJ0424X Intel Core...</td>\n",
       "      <td>New</td>\n",
       "      <td>Asus</td>\n",
       "      <td>ExpertBook</td>\n",
       "      <td>Intel Core i3</td>\n",
       "      <td>8</td>\n",
       "      <td>256</td>\n",
       "      <td>SSD</td>\n",
       "      <td>NaN</td>\n",
       "      <td>15.6</td>\n",
       "      <td>No</td>\n",
       "      <td>789.00</td>\n",
       "    </tr>\n",
       "    <tr>\n",
       "      <th>3</th>\n",
       "      <td>MSI Katana GF66 12UC-082XES Intel Core i7-1270...</td>\n",
       "      <td>New</td>\n",
       "      <td>MSI</td>\n",
       "      <td>Katana</td>\n",
       "      <td>Intel Core i7</td>\n",
       "      <td>16</td>\n",
       "      <td>1000</td>\n",
       "      <td>SSD</td>\n",
       "      <td>RTX 3050</td>\n",
       "      <td>15.6</td>\n",
       "      <td>No</td>\n",
       "      <td>1199.00</td>\n",
       "    </tr>\n",
       "    <tr>\n",
       "      <th>4</th>\n",
       "      <td>HP 15S-FQ5085NS Intel Core i5-1235U/16GB/512GB...</td>\n",
       "      <td>New</td>\n",
       "      <td>HP</td>\n",
       "      <td>15S</td>\n",
       "      <td>Intel Core i5</td>\n",
       "      <td>16</td>\n",
       "      <td>512</td>\n",
       "      <td>SSD</td>\n",
       "      <td>NaN</td>\n",
       "      <td>15.6</td>\n",
       "      <td>No</td>\n",
       "      <td>669.01</td>\n",
       "    </tr>\n",
       "  </tbody>\n",
       "</table>\n",
       "</div>"
      ]
     },
     "execution_count": 3,
     "metadata": {},
     "output_type": "execute_result"
    }
   ],
   "execution_count": 3
  },
  {
   "metadata": {},
   "cell_type": "markdown",
   "source": [
    "## Q2. Records count\n",
    "\n",
    "How many records are in the dataset?"
   ],
   "id": "3b66e2572b0561ee"
  },
  {
   "metadata": {
    "ExecuteTime": {
     "end_time": "2024-09-16T13:30:59.173324Z",
     "start_time": "2024-09-16T13:30:59.170966Z"
    }
   },
   "cell_type": "code",
   "source": "print(f\"There are {df.shape[0]} records in the dataset\")",
   "id": "1a197841bef7dab4",
   "outputs": [
    {
     "name": "stdout",
     "output_type": "stream",
     "text": [
      "There are 2160 records in the dataset\n"
     ]
    }
   ],
   "execution_count": 4
  },
  {
   "metadata": {},
   "cell_type": "markdown",
   "source": [
    "## Q3. Laptop brands\n",
    "\n",
    "How many laptop brands are presented in the dataset?"
   ],
   "id": "5e65a4441a84dd1e"
  },
  {
   "metadata": {
    "ExecuteTime": {
     "end_time": "2024-09-16T13:30:59.213231Z",
     "start_time": "2024-09-16T13:30:59.211280Z"
    }
   },
   "cell_type": "code",
   "source": "print(f\"There are {df['Brand'].nunique()} laptop brands presented in the dataset\")",
   "id": "e599990ab8bcfad2",
   "outputs": [
    {
     "name": "stdout",
     "output_type": "stream",
     "text": [
      "There are 27 laptop brands presented in the dataset\n"
     ]
    }
   ],
   "execution_count": 5
  },
  {
   "metadata": {},
   "cell_type": "markdown",
   "source": [
    "## Q4. Missing values\n",
    "\n",
    "How many columns in the dataset have missing values?"
   ],
   "id": "1b1d1362f5fc79b9"
  },
  {
   "metadata": {
    "ExecuteTime": {
     "end_time": "2024-09-16T13:30:59.261582Z",
     "start_time": "2024-09-16T13:30:59.257636Z"
    }
   },
   "cell_type": "code",
   "source": "print(f\"There are {(df.isnull().sum() > 0).sum()} columns in the dataset that have missing values\")",
   "id": "75ad33afdcfb30c3",
   "outputs": [
    {
     "name": "stdout",
     "output_type": "stream",
     "text": [
      "There are 3 columns in the dataset that have missing values\n"
     ]
    }
   ],
   "execution_count": 6
  },
  {
   "metadata": {},
   "cell_type": "markdown",
   "source": [
    "## Q5. Maximum final price\n",
    "\n",
    "What's the maximum final price of Dell notebooks in the dataset?"
   ],
   "id": "b7ed6063fa8d4f96"
  },
  {
   "metadata": {
    "ExecuteTime": {
     "end_time": "2024-09-16T13:30:59.333787Z",
     "start_time": "2024-09-16T13:30:59.331512Z"
    }
   },
   "cell_type": "code",
   "source": "print(f\"The maximum final price of Dell notebooks in the dataset is {df[df['Brand'] == 'Dell']['Final Price'].max()}\")",
   "id": "c568d0be1b631bb9",
   "outputs": [
    {
     "name": "stdout",
     "output_type": "stream",
     "text": [
      "The maximum final price of Dell notebooks in the dataset is 3936.0\n"
     ]
    }
   ],
   "execution_count": 7
  },
  {
   "metadata": {},
   "cell_type": "markdown",
   "source": [
    "## Q6. Median value of Screen\n",
    "\n",
    "1. Find the median value of `Screen` column in the dataset.\n",
    "2. Next, calculate the most frequent value of the same `Screen` column.\n",
    "3. Use `fillna` method to fill the missing values in `Screen` column with the most frequent value from the previous step.\n",
    "4. Now, calculate the median value of `Screen` once again.\n",
    "\n",
    "Has it changed?\n",
    "\n",
    "> Hint: refer to existing `mode` and `median` functions to complete the task."
   ],
   "id": "ed8d20b19da8573a"
  },
  {
   "metadata": {
    "ExecuteTime": {
     "end_time": "2024-09-16T13:30:59.363847Z",
     "start_time": "2024-09-16T13:30:59.359790Z"
    }
   },
   "cell_type": "code",
   "source": [
    "before_median = df[\"Screen\"].median()\n",
    "df[\"Screen\"] = df[\"Screen\"].fillna(df[\"Screen\"].mode().iloc[0])\n",
    "after_median = df[\"Screen\"].median()\n",
    "if before_median != after_median:\n",
    "    print(\"Yes, it has changed\")\n",
    "else:\n",
    "    print(\"No, it has not changed\")"
   ],
   "id": "7f64d1c120b506aa",
   "outputs": [
    {
     "name": "stdout",
     "output_type": "stream",
     "text": [
      "No, it has not changed\n"
     ]
    }
   ],
   "execution_count": 8
  },
  {
   "metadata": {},
   "cell_type": "markdown",
   "source": [
    "## Q7. Sum of weights\n",
    "\n",
    "1. Select all the \"Innjoo\" laptops from the dataset.\n",
    "2. Select only columns `RAM`, `Storage`, `Screen`.\n",
    "3. Get the underlying NumPy array. Let's call it `X`.\n",
    "4. Compute matrix-matrix multiplication between the transpose of `X` and `X`. To get the transpose, use `X.T`. Let's call the result `XTX`.\n",
    "5. Compute the inverse of `XTX`.\n",
    "6. Create an array `y` with values `[1100, 1300, 800, 900, 1000, 1100]`.\n",
    "7. Multiply the inverse of `XTX` with the transpose of `X`, and then multiply the result by `y`. Call the result `w`.\n",
    "8. What's the sum of all the elements of the result?\n",
    "\n",
    "> **Note**: You just implemented linear regression. We'll talk about it in the next lesson."
   ],
   "id": "81693ba5bd9806c0"
  },
  {
   "metadata": {
    "ExecuteTime": {
     "end_time": "2024-09-16T13:30:59.472519Z",
     "start_time": "2024-09-16T13:30:59.467286Z"
    }
   },
   "cell_type": "code",
   "source": [
    "innjoo_df = df[df[\"Brand\"] == \"Innjoo\"]\n",
    "features = [\"RAM\", \"Storage\", \"Screen\"]\n",
    "X = innjoo_df[features].to_numpy()\n",
    "XTX = X.T @ X\n",
    "XTX_inv = np.linalg.inv(XTX)\n",
    "y = np.array([1100, 1300, 800, 900, 1000, 1100])\n",
    "w = XTX_inv @ X.T @ y\n",
    "print(f\"The sum of all the elements of the result is {round(np.sum(w), 2)}\")"
   ],
   "id": "8339f7b05a68039c",
   "outputs": [
    {
     "name": "stdout",
     "output_type": "stream",
     "text": [
      "The sum of all the elements of the result is 91.3\n"
     ]
    }
   ],
   "execution_count": 9
  },
  {
   "metadata": {},
   "cell_type": "markdown",
   "source": [
    "## Submit the results\n",
    "\n",
    "* Submit your results here: https://courses.datatalks.club/ml-zoomcamp-2024/homework/hw01\n",
    "* If your answer doesn't match options exactly, select the closest one"
   ],
   "id": "2034430ebc54ca63"
  }
 ],
 "metadata": {
  "kernelspec": {
   "display_name": "Python 3",
   "language": "python",
   "name": "python3"
  },
  "language_info": {
   "codemirror_mode": {
    "name": "ipython",
    "version": 2
   },
   "file_extension": ".py",
   "mimetype": "text/x-python",
   "name": "python",
   "nbconvert_exporter": "python",
   "pygments_lexer": "ipython2",
   "version": "2.7.6"
  }
 },
 "nbformat": 4,
 "nbformat_minor": 5
}
