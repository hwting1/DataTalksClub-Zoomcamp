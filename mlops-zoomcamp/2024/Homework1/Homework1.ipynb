{
 "cells": [
  {
   "cell_type": "markdown",
   "id": "55bdeb31-b3d4-4e2c-8994-9b40c1e484ea",
   "metadata": {},
   "source": [
    "# Homework\n",
    "\n",
    "The goal of this homework is to train a simple model for predicting the duration of a ride - similar to what we did in this module."
   ]
  },
  {
   "cell_type": "code",
   "execution_count": 1,
   "id": "initial_id",
   "metadata": {
    "ExecuteTime": {
     "end_time": "2024-05-20T08:24:03.264172Z",
     "start_time": "2024-05-20T08:24:02.568859Z"
    }
   },
   "outputs": [],
   "source": [
    "import numpy as np\n",
    "import pandas as pd\n",
    "from sklearn.feature_extraction import DictVectorizer\n",
    "from sklearn.linear_model import LinearRegression\n",
    "from sklearn.metrics import root_mean_squared_error"
   ]
  },
  {
   "cell_type": "markdown",
   "id": "13be5544ecfb8d5a",
   "metadata": {},
   "source": [
    "## Q1. Downloading the data\n",
    "\n",
    "We'll use [the same NYC taxi dataset](https://www1.nyc.gov/site/tlc/about/tlc-trip-record-data.page),\n",
    "but instead of \"**Green** Taxi Trip Records\", we'll use \"**Yellow** Taxi Trip Records\".\n",
    "\n",
    "Download the data for January and February 2023.\n",
    "\n",
    "Read the data for January. How many columns are there?"
   ]
  },
  {
   "cell_type": "code",
   "execution_count": 2,
   "id": "eb9b44d57fbb4fe8",
   "metadata": {
    "ExecuteTime": {
     "end_time": "2024-05-20T08:24:03.605812Z",
     "start_time": "2024-05-20T08:24:03.265526Z"
    }
   },
   "outputs": [
    {
     "name": "stdout",
     "output_type": "stream",
     "text": [
      "There are 19 columns\n"
     ]
    }
   ],
   "source": [
    "train = pd.read_parquet(\"yellow_tripdata_2023-01.parquet\")\n",
    "valid = pd.read_parquet(\"yellow_tripdata_2023-02.parquet\")\n",
    "print(f\"There are {train.shape[1]} columns\")"
   ]
  },
  {
   "cell_type": "markdown",
   "id": "6016071774d0b8ee",
   "metadata": {},
   "source": [
    "## Q2. Computing duration\n",
    "\n",
    "Now let's compute the `duration` variable. It should contain the duration of a ride in minutes. \n",
    "\n",
    "What's the standard deviation of the trips duration in January?"
   ]
  },
  {
   "cell_type": "code",
   "execution_count": 3,
   "id": "384759fbd8c81402",
   "metadata": {
    "ExecuteTime": {
     "end_time": "2024-05-20T08:24:03.700102Z",
     "start_time": "2024-05-20T08:24:03.606491Z"
    }
   },
   "outputs": [
    {
     "name": "stdout",
     "output_type": "stream",
     "text": [
      "The standard deviation of the trips duration in January is 42.594351241920904\n"
     ]
    }
   ],
   "source": [
    "train[\"duration\"] = (train['tpep_dropoff_datetime'] - train[\"tpep_pickup_datetime\"]).dt.total_seconds() / 60\n",
    "valid[\"duration\"] = (valid['tpep_dropoff_datetime'] - valid[\"tpep_pickup_datetime\"]).dt.total_seconds() / 60\n",
    "print(f\"The standard deviation of the trips duration in January is {train['duration'].std()}\")"
   ]
  },
  {
   "cell_type": "markdown",
   "id": "b4fbf48feff7a8a",
   "metadata": {},
   "source": [
    "## Q3. Dropping outliers\n",
    "\n",
    "Next, we need to check the distribution of the `duration` variable. There are some outliers. Let's remove them and keep only the records where the duration was between 1 and 60 minutes (inclusive).\n",
    "\n",
    "What fraction of the records left after you dropped the outliers?"
   ]
  },
  {
   "cell_type": "code",
   "execution_count": 4,
   "id": "95b7bd66af9b231c",
   "metadata": {
    "ExecuteTime": {
     "end_time": "2024-05-20T08:24:04.306805Z",
     "start_time": "2024-05-20T08:24:03.701106Z"
    }
   },
   "outputs": [
    {
     "name": "stdout",
     "output_type": "stream",
     "text": [
      "The fraction of records left after dropping the outliers is 98\n"
     ]
    }
   ],
   "source": [
    "fraction = ((train[\"duration\"] >=1) & (train[\"duration\"] <= 60)).mean()\n",
    "train = train[(train[\"duration\"] >=1) & (train[\"duration\"] <= 60)].copy()\n",
    "valid = valid[(valid[\"duration\"] >=1) & (valid[\"duration\"] <= 60)].copy()\n",
    "print(f\"The fraction of records left after dropping the outliers is {round(fraction * 100)}\")"
   ]
  },
  {
   "cell_type": "markdown",
   "id": "3cc92831a8fa1186",
   "metadata": {},
   "source": [
    "## Q4. One-hot encoding\n",
    "\n",
    "Let's apply one-hot encoding to the pickup and dropoff location IDs. We'll use only these two features for our model. \n",
    "\n",
    "* Turn the dataframe into a list of dictionaries (remember to re-cast the ids to strings - otherwise it will \n",
    "  label encode them)\n",
    "* Fit a dictionary vectorizer \n",
    "* Get a feature matrix from it\n",
    "\n",
    "What's the dimensionality of this matrix (number of columns)?"
   ]
  },
  {
   "cell_type": "code",
   "execution_count": 5,
   "id": "16df6c4954c0b1ea",
   "metadata": {
    "ExecuteTime": {
     "end_time": "2024-05-20T08:24:10.715580Z",
     "start_time": "2024-05-20T08:24:04.308005Z"
    }
   },
   "outputs": [
    {
     "name": "stdout",
     "output_type": "stream",
     "text": [
      "The dimensionality of this matrix (number of columns) is 515\n"
     ]
    }
   ],
   "source": [
    "CATEGORICAL = ['PULocationID', 'DOLocationID']\n",
    "train[CATEGORICAL] = train[CATEGORICAL].astype(str)\n",
    "train_dict = train[CATEGORICAL].to_dict(orient='records')\n",
    "dv = DictVectorizer()\n",
    "X_train = dv.fit_transform(train_dict)\n",
    "print(f\"The dimensionality of this matrix (number of columns) is {X_train.shape[1]}\")"
   ]
  },
  {
   "cell_type": "markdown",
   "id": "8141f5ed493335e8",
   "metadata": {},
   "source": [
    "## Q5. Training a model\n",
    "\n",
    "Now let's use the feature matrix from the previous step to train a model. \n",
    "\n",
    "* Train a plain linear regression model with default parameters, where duration is the response variable\n",
    "* Calculate the RMSE of the model on the training data\n",
    "\n",
    "What's the RMSE on train?"
   ]
  },
  {
   "cell_type": "code",
   "execution_count": 6,
   "id": "777dab9cfb171768",
   "metadata": {
    "ExecuteTime": {
     "end_time": "2024-05-20T08:24:50.283922Z",
     "start_time": "2024-05-20T08:24:10.716501Z"
    }
   },
   "outputs": [
    {
     "name": "stdout",
     "output_type": "stream",
     "text": [
      "RMSE on train is 7.65\n"
     ]
    }
   ],
   "source": [
    "target = \"duration\"\n",
    "y_train = train[target].values\n",
    "lr = LinearRegression()\n",
    "lr.fit(X_train, y_train)\n",
    "train_pred = lr.predict(X_train)\n",
    "train_rmse = root_mean_squared_error(y_train, train_pred)\n",
    "print(f\"RMSE on train is {round(train_rmse, 2)}\")"
   ]
  },
  {
   "cell_type": "markdown",
   "id": "9c61b49d13f6c964",
   "metadata": {},
   "source": [
    "## Q6. Evaluating the model\n",
    "\n",
    "Now let's apply this model to the validation dataset (February 2023). \n",
    "\n",
    "What's the RMSE on validation?"
   ]
  },
  {
   "cell_type": "code",
   "execution_count": 7,
   "id": "38d4cad881452b3c",
   "metadata": {
    "ExecuteTime": {
     "end_time": "2024-05-20T08:24:57.542771Z",
     "start_time": "2024-05-20T08:24:50.284826Z"
    }
   },
   "outputs": [
    {
     "name": "stdout",
     "output_type": "stream",
     "text": [
      "RMSE on validation is 7.81\n"
     ]
    }
   ],
   "source": [
    "valid[CATEGORICAL] = valid[CATEGORICAL].astype(str)\n",
    "valid_dict = valid[CATEGORICAL].to_dict(orient='records')\n",
    "X_valid = dv.transform(valid_dict)\n",
    "y_valid = valid[target].values\n",
    "valid_pred = lr.predict(X_valid)\n",
    "valid_rmse = root_mean_squared_error(y_valid, valid_pred)\n",
    "print(f\"RMSE on validation is {round(valid_rmse, 2)}\")"
   ]
  },
  {
   "cell_type": "markdown",
   "id": "f8925199-9d25-4505-862e-78576271aa1f",
   "metadata": {},
   "source": [
    "## Submit the results\n",
    "\n",
    "* Submit your results here: https://courses.datatalks.club/mlops-zoomcamp-2024/homework/hw1\n",
    "* If your answer doesn't match options exactly, select the closest one"
   ]
  }
 ],
 "metadata": {
  "kernelspec": {
   "display_name": "Python 3 (ipykernel)",
   "language": "python",
   "name": "python3"
  },
  "language_info": {
   "codemirror_mode": {
    "name": "ipython",
    "version": 3
   },
   "file_extension": ".py",
   "mimetype": "text/x-python",
   "name": "python",
   "nbconvert_exporter": "python",
   "pygments_lexer": "ipython3",
   "version": "3.11.9"
  }
 },
 "nbformat": 4,
 "nbformat_minor": 5
}
