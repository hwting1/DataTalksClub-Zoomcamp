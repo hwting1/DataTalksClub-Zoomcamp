{
 "cells": [
  {
   "cell_type": "code",
   "execution_count": 1,
   "id": "0ef880a0",
   "metadata": {
    "ExecuteTime": {
     "end_time": "2024-06-12T13:40:02.479437Z",
     "start_time": "2024-06-12T13:40:02.216634Z"
    }
   },
   "outputs": [],
   "source": [
    "import pickle\n",
    "import pandas as pd"
   ]
  },
  {
   "cell_type": "code",
   "execution_count": 2,
   "id": "7836ccfd",
   "metadata": {
    "ExecuteTime": {
     "end_time": "2024-06-12T13:40:02.762995Z",
     "start_time": "2024-06-12T13:40:02.480872Z"
    }
   },
   "outputs": [],
   "source": [
    "with open('model.bin', 'rb') as f_in:\n",
    "    dv, model = pickle.load(f_in)"
   ]
  },
  {
   "cell_type": "code",
   "execution_count": 3,
   "id": "8d78c5947884256d",
   "metadata": {
    "ExecuteTime": {
     "end_time": "2024-06-12T13:40:02.766659Z",
     "start_time": "2024-06-12T13:40:02.763821Z"
    }
   },
   "outputs": [],
   "source": [
    "year = 2023\n",
    "month = 3\n",
    "output_file = f'yellow-{year:04d}-{month:02d}.parquet'\n",
    "categorical = ['PULocationID', 'DOLocationID']"
   ]
  },
  {
   "cell_type": "code",
   "execution_count": 4,
   "id": "41c08294",
   "metadata": {
    "ExecuteTime": {
     "end_time": "2024-06-12T13:40:02.786643Z",
     "start_time": "2024-06-12T13:40:02.767632Z"
    }
   },
   "outputs": [],
   "source": [
    "def read_data(filename):\n",
    "    df = pd.read_parquet(filename)\n",
    "    \n",
    "    df['duration'] = df.tpep_dropoff_datetime - df.tpep_pickup_datetime\n",
    "    df['duration'] = df.duration.dt.total_seconds() / 60\n",
    "\n",
    "    df = df[(df.duration >= 1) & (df.duration <= 60)].copy()\n",
    "\n",
    "    df[categorical] = df[categorical].fillna(-1).astype('int').astype('str')\n",
    "    \n",
    "    return df"
   ]
  },
  {
   "cell_type": "code",
   "execution_count": 5,
   "id": "4854399a",
   "metadata": {
    "ExecuteTime": {
     "end_time": "2024-06-12T13:40:16.106034Z",
     "start_time": "2024-06-12T13:40:02.790187Z"
    }
   },
   "outputs": [],
   "source": [
    "df = read_data(f'https://d37ci6vzurychx.cloudfront.net/trip-data/yellow_tripdata_{year:04d}-{month:02d}.parquet')"
   ]
  },
  {
   "cell_type": "code",
   "execution_count": 6,
   "id": "669fda0a",
   "metadata": {
    "ExecuteTime": {
     "end_time": "2024-06-12T13:40:22.308527Z",
     "start_time": "2024-06-12T13:40:16.107406Z"
    }
   },
   "outputs": [
    {
     "name": "stdout",
     "output_type": "stream",
     "text": [
      "The standard deviation of the predicted duration for this dataset is 6.2474897941993985\n"
     ]
    }
   ],
   "source": [
    "dicts = df[categorical].to_dict(orient='records')\n",
    "X_val = dv.transform(dicts)\n",
    "y_pred = model.predict(X_val)\n",
    "print(f\"The standard deviation of the predicted duration for this dataset is {y_pred.std(ddof=1)}\")"
   ]
  },
  {
   "cell_type": "code",
   "execution_count": 7,
   "id": "fc8ec3eea019fb91",
   "metadata": {
    "ExecuteTime": {
     "end_time": "2024-06-12T13:40:23.169470Z",
     "start_time": "2024-06-12T13:40:22.319460Z"
    }
   },
   "outputs": [],
   "source": [
    "df['ride_id'] = f'{year:04d}/{month:02d}_' + df.index.astype('str')\n",
    "df['predicted_duration'] = y_pred\n",
    "df_results = df[['ride_id', 'predicted_duration']]\n",
    "df_results.to_parquet(\n",
    "    output_file,\n",
    "    engine='pyarrow',\n",
    "    compression=None,\n",
    "    index=False\n",
    ")"
   ]
  }
 ],
 "metadata": {
  "kernelspec": {
   "display_name": "Python 3 (ipykernel)",
   "language": "python",
   "name": "python3"
  },
  "language_info": {
   "codemirror_mode": {
    "name": "ipython",
    "version": 3
   },
   "file_extension": ".py",
   "mimetype": "text/x-python",
   "name": "python",
   "nbconvert_exporter": "python",
   "pygments_lexer": "ipython3",
   "version": "3.10.14"
  }
 },
 "nbformat": 4,
 "nbformat_minor": 5
}
