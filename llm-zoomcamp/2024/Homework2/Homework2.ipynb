{
 "cells": [
  {
   "metadata": {},
   "cell_type": "markdown",
   "source": [
    "# Homework: Open-Source LLMs\n",
    "\n",
    "In this homework, we'll experiment more with Ollama\n",
    "\n",
    "> It's possible that your answers won't match exactly. If it's the case, select the closest one."
   ],
   "id": "3a925a0cdaf5f9af"
  },
  {
   "metadata": {},
   "cell_type": "markdown",
   "source": [
    "## Q1. Running Ollama with Docker\n",
    "\n",
    "Let's run ollama with Docker. We will need to execute the \n",
    "same command as in the lectures:\n",
    "\n",
    "```bash\n",
    "docker run -it \\\n",
    "    --rm \\\n",
    "    -v ollama:/root/.ollama \\\n",
    "    -p 11434:11434 \\\n",
    "    --name ollama \\\n",
    "    ollama/ollama\n",
    "```\n",
    "\n",
    "What's the version of ollama client? \n",
    "\n",
    "To find out, enter the container and execute `ollama` with the `-v` flag."
   ],
   "id": "7eb71445ab050542"
  },
  {
   "metadata": {},
   "cell_type": "markdown",
   "source": [
    "## Q2. Downloading an LLM \n",
    "\n",
    "We will donwload a smaller LLM - gemma:2b. \n",
    "\n",
    "Again let's enter the container and pull the model:\n",
    "\n",
    "```bash\n",
    "ollama pull gemma:2b\n",
    "```\n",
    "\n",
    "In docker, it saved the results into `/root/.ollama`\n",
    "\n",
    "We're interested in the metadata about this model. You can find\n",
    "it in `models/manifests/registry.ollama.ai/library`\n",
    "\n",
    "What's the content of the file related to gemma?"
   ],
   "id": "f4a83ae0adda8c30"
  },
  {
   "metadata": {},
   "cell_type": "markdown",
   "source": [
    "## Q3. Running the LLM\n",
    "\n",
    "Test the following prompt: \"10 * 10\". What's the answer?"
   ],
   "id": "d50d8e0032396c0e"
  },
  {
   "metadata": {
    "ExecuteTime": {
     "end_time": "2024-06-29T14:59:30.076821Z",
     "start_time": "2024-06-29T14:59:29.744766Z"
    }
   },
   "cell_type": "code",
   "source": "from openai import OpenAI",
   "id": "initial_id",
   "outputs": [],
   "execution_count": 1
  },
  {
   "metadata": {
    "ExecuteTime": {
     "end_time": "2024-06-29T14:59:34.851852Z",
     "start_time": "2024-06-29T14:59:30.078146Z"
    }
   },
   "cell_type": "code",
   "source": [
    "def llm(prompt, temperature=None):\n",
    "    client = OpenAI(\n",
    "        base_url='http://localhost:11434/v1/',\n",
    "        api_key='ollama',\n",
    "    )\n",
    "    response = client.chat.completions.create(\n",
    "        model='gemma:2b',\n",
    "        messages=[{\"role\": \"user\", \"content\": prompt}],\n",
    "        temperature=temperature\n",
    "    )\n",
    "\n",
    "    return response, response.choices[0].message.content\n",
    "\n",
    "prompt = \"10 * 10\"\n",
    "_, answer = llm(prompt)\n",
    "print(f\"The response is: \\n{answer}\")"
   ],
   "id": "e7677b959dc6eade",
   "outputs": [
    {
     "name": "stdout",
     "output_type": "stream",
     "text": [
      "The response is: \n",
      "The user is requesting a calculation of 10 multiplied by 10.\n",
      "\n",
      "Sure, here is the calculation:\n",
      "\n",
      "10 * 10 = 100\n",
      "\n",
      "Therefore, the answer is 100.\n"
     ]
    }
   ],
   "execution_count": 2
  },
  {
   "metadata": {},
   "cell_type": "markdown",
   "source": [
    "## Q4. Donwloading the weights \n",
    "\n",
    "We don't want to pull the weights every time we run\n",
    "a docker container. Let's do it once and have them available\n",
    "every time we start a container.\n",
    "\n",
    "First, we will need to change how we run the container.\n",
    "\n",
    "Instead of mapping the `/root/.ollama` folder to a named volume,\n",
    "let's map it to a local directory:\n",
    "\n",
    "```bash\n",
    "mkdir ollama_files\n",
    "\n",
    "docker run -it \\\n",
    "    --rm \\\n",
    "    -v ./ollama_files:/root/.ollama \\\n",
    "    -p 11434:11434 \\\n",
    "    --name ollama \\\n",
    "    ollama/ollama\n",
    "```\n",
    "\n",
    "Now pull the model:\n",
    "\n",
    "```bash\n",
    "docker exec -it ollama ollama pull gemma:2b \n",
    "```\n",
    "\n",
    "What's the size of the `ollama_files/models` folder?\n",
    "\n",
    "Hint: on linux, you can use `du -h` for that."
   ],
   "id": "f28105a914963012"
  },
  {
   "metadata": {},
   "cell_type": "markdown",
   "source": [
    "## Q5. Adding the weights \n",
    "\n",
    "Let's now stop the container and add the weights \n",
    "to a new image\n",
    "\n",
    "For that, let's create a `Dockerfile`:\n",
    "\n",
    "```dockerfile\n",
    "FROM ollama/ollama\n",
    "\n",
    "COPY ...\n",
    "```\n",
    "\n",
    "What do you put after `COPY`?"
   ],
   "id": "542685ff09bedad5"
  },
  {
   "metadata": {},
   "cell_type": "markdown",
   "source": [
    "## Q6. Serving it \n",
    "\n",
    "Let's build it:\n",
    "\n",
    "```bash\n",
    "docker build -t ollama-gemma2b .\n",
    "```\n",
    "\n",
    "And run it:\n",
    "\n",
    "```bash\n",
    "docker run -it --rm -p 11434:11434 ollama-gemma2b\n",
    "```\n",
    "\n",
    "We can connect to it using the OpenAI client\n",
    "\n",
    "Let's test it with the following prompt:\n",
    "\n",
    "```python\n",
    "prompt = \"What's the formula for energy?\"\n",
    "```\n",
    "\n",
    "Also, to make results reproducible, set the `temperature` parameter to 0:\n",
    "\n",
    "```bash\n",
    "response = client.chat.completions.create(\n",
    "    #...\n",
    "    temperature=0.0\n",
    ")\n",
    "```\n",
    "\n",
    "How many completion tokens did you get in response?"
   ],
   "id": "eb34af0b73d90963"
  },
  {
   "metadata": {
    "ExecuteTime": {
     "end_time": "2024-06-29T15:02:23.598487Z",
     "start_time": "2024-06-29T15:02:09.109389Z"
    }
   },
   "cell_type": "code",
   "source": [
    "prompt = \"What's the formula for energy?\"\n",
    "temperature = 0.0\n",
    "response, _ = llm(prompt, temperature=temperature)\n",
    "tokens = response.usage.completion_tokens\n",
    "print(f\"I get {tokens} completion tokens in response\")"
   ],
   "id": "c3769f616a77d039",
   "outputs": [
    {
     "name": "stdout",
     "output_type": "stream",
     "text": [
      "I get 304 completion tokens in response\n"
     ]
    }
   ],
   "execution_count": 4
  },
  {
   "metadata": {},
   "cell_type": "markdown",
   "source": [
    "## Submit the results\n",
    "\n",
    "* Submit your results here: https://courses.datatalks.club/llm-zoomcamp-2024/homework/hw2\n",
    "* It's possible that your answers won't match exactly. If it's the case, select the closest one."
   ],
   "id": "bd84c9463b89f048"
  }
 ],
 "metadata": {
  "kernelspec": {
   "display_name": "Python 3",
   "language": "python",
   "name": "python3"
  },
  "language_info": {
   "codemirror_mode": {
    "name": "ipython",
    "version": 2
   },
   "file_extension": ".py",
   "mimetype": "text/x-python",
   "name": "python",
   "nbconvert_exporter": "python",
   "pygments_lexer": "ipython2",
   "version": "2.7.6"
  }
 },
 "nbformat": 4,
 "nbformat_minor": 5
}
