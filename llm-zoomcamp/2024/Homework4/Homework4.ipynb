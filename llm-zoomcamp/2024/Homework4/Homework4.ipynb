{
 "cells": [
  {
   "metadata": {},
   "cell_type": "markdown",
   "source": [
    "## Homework: Evaluation and Monitoring\n",
    "\n",
    "In this homework, we'll evaluate the quality of our RAG system.\n",
    "\n",
    "> It's possible that your answers won't match exactly. If it's the case, select the closest one."
   ],
   "id": "f4ea0cbe6dd0f5ef"
  },
  {
   "metadata": {
    "ExecuteTime": {
     "end_time": "2024-07-25T14:25:11.041126Z",
     "start_time": "2024-07-25T14:25:05.568955Z"
    }
   },
   "cell_type": "code",
   "source": [
    "import numpy as np\n",
    "import pandas as pd\n",
    "from sentence_transformers import SentenceTransformer\n",
    "from rouge import Rouge"
   ],
   "id": "initial_id",
   "outputs": [
    {
     "name": "stderr",
     "output_type": "stream",
     "text": [
      "/home/hwting/anaconda3/envs/rapids/lib/python3.11/site-packages/sentence_transformers/cross_encoder/CrossEncoder.py:11: TqdmExperimentalWarning: Using `tqdm.autonotebook.tqdm` in notebook mode. Use `tqdm.tqdm` instead to force console mode (e.g. in jupyter console)\n",
      "  from tqdm.autonotebook import tqdm, trange\n",
      "2024-07-25 22:25:08.187677: E external/local_xla/xla/stream_executor/cuda/cuda_dnn.cc:9261] Unable to register cuDNN factory: Attempting to register factory for plugin cuDNN when one has already been registered\n",
      "2024-07-25 22:25:08.187714: E external/local_xla/xla/stream_executor/cuda/cuda_fft.cc:607] Unable to register cuFFT factory: Attempting to register factory for plugin cuFFT when one has already been registered\n",
      "2024-07-25 22:25:08.188464: E external/local_xla/xla/stream_executor/cuda/cuda_blas.cc:1515] Unable to register cuBLAS factory: Attempting to register factory for plugin cuBLAS when one has already been registered\n",
      "2024-07-25 22:25:08.193410: I tensorflow/core/platform/cpu_feature_guard.cc:182] This TensorFlow binary is optimized to use available CPU instructions in performance-critical operations.\n",
      "To enable the following instructions: SSE4.1 SSE4.2 AVX AVX2 FMA, in other operations, rebuild TensorFlow with the appropriate compiler flags.\n"
     ]
    }
   ],
   "execution_count": 1
  },
  {
   "metadata": {},
   "cell_type": "markdown",
   "source": [
    "## Getting the data\n",
    "\n",
    "Let's start by getting the dataset. We will use the data we generated in the module.\n",
    "\n",
    "In particular, we'll evaluate the quality of our RAG system\n",
    "with [gpt-4o-mini](https://github.com/DataTalksClub/llm-zoomcamp/blob/main/04-monitoring/data/results-gpt4o-mini.csv)\n",
    "\n",
    "\n",
    "Read it:\n",
    "\n",
    "```python\n",
    "url = f'{github_url}?raw=1'\n",
    "df = pd.read_csv(url)\n",
    "```\n",
    "\n",
    "We will use only the first 300 documents:\n",
    "\n",
    "\n",
    "```python\n",
    "df = df.iloc[:300]\n",
    "```"
   ],
   "id": "141b3f968991aa79"
  },
  {
   "metadata": {
    "ExecuteTime": {
     "end_time": "2024-07-25T14:25:11.058408Z",
     "start_time": "2024-07-25T14:25:11.042106Z"
    }
   },
   "cell_type": "code",
   "source": [
    "df = pd.read_csv(\"results-gpt4o-mini.csv\")\n",
    "df = df.iloc[:300]"
   ],
   "id": "7c8e0bc6d4ddb5a3",
   "outputs": [],
   "execution_count": 2
  },
  {
   "metadata": {},
   "cell_type": "markdown",
   "source": [
    "## Q1. Getting the embeddings model\n",
    "\n",
    "Now, get the embeddings model `multi-qa-mpnet-base-dot-v1` from\n",
    "[the Sentence Transformer library](https://www.sbert.net/docs/sentence_transformer/pretrained_models.html#model-overview)\n",
    "\n",
    "> Note: this is not the same model as in HW3\n",
    "\n",
    "```bash\n",
    "from sentence_transformers import SentenceTransformer\n",
    "embedding_model = SentenceTransformer(model_name)\n",
    "```\n",
    "\n",
    "Create the embeddings for the first LLM answer:\n",
    "\n",
    "```python\n",
    "answer_llm = df.iloc[0].answer_llm\n",
    "```\n",
    "\n",
    "What's the first value of the resulting vector?"
   ],
   "id": "2a32e4d5330d483e"
  },
  {
   "metadata": {
    "ExecuteTime": {
     "end_time": "2024-07-25T14:25:14.926309Z",
     "start_time": "2024-07-25T14:25:11.059669Z"
    }
   },
   "cell_type": "code",
   "source": [
    "embedding_model = SentenceTransformer('multi-qa-mpnet-base-dot-v1', device=\"cuda\")\n",
    "answer_llm = df.iloc[0].answer_llm\n",
    "embedding_vector = embedding_model.encode(answer_llm)\n",
    "print(f\"The first value of the resulting vector is {embedding_vector[0]}\")"
   ],
   "id": "c255617cdf86796f",
   "outputs": [
    {
     "name": "stderr",
     "output_type": "stream",
     "text": [
      "/home/hwting/anaconda3/envs/rapids/lib/python3.11/site-packages/huggingface_hub/file_download.py:1132: FutureWarning: `resume_download` is deprecated and will be removed in version 1.0.0. Downloads always resume when possible. If you want to force a new download, use `force_download=True`.\n",
      "  warnings.warn(\n"
     ]
    },
    {
     "name": "stdout",
     "output_type": "stream",
     "text": [
      "The first value of the resulting vector is -0.4224467873573303\n"
     ]
    }
   ],
   "execution_count": 3
  },
  {
   "metadata": {},
   "cell_type": "markdown",
   "source": [
    "## Q2. Computing the dot product\n",
    "\n",
    "\n",
    "Now for each answer pair, let's create embeddings and compute dot product between them\n",
    "\n",
    "We will put the results (scores) into the `evaluations` list\n",
    "\n",
    "What's the 75% percentile of the score?"
   ],
   "id": "3239365a619e8732"
  },
  {
   "metadata": {
    "ExecuteTime": {
     "end_time": "2024-07-25T14:25:17.914081Z",
     "start_time": "2024-07-25T14:25:14.927927Z"
    }
   },
   "cell_type": "code",
   "source": [
    "answer_llm = df[\"answer_llm\"]\n",
    "answer_orig = df[\"answer_orig\"]\n",
    "embeddings1 = embedding_model.encode(answer_llm)\n",
    "embeddings2 = embedding_model.encode(answer_orig)\n",
    "dot_products = np.einsum('ij,ij->i', embeddings1, embeddings2)\n",
    "print(f\"The 75% percentile of the score is {np.percentile(dot_products, 75)}\")"
   ],
   "id": "7e42752b73950f5a",
   "outputs": [
    {
     "name": "stdout",
     "output_type": "stream",
     "text": [
      "The 75% percentile of the score is 31.674309253692627\n"
     ]
    }
   ],
   "execution_count": 4
  },
  {
   "metadata": {},
   "cell_type": "markdown",
   "source": [
    "## Q3. Computing the cosine\n",
    "\n",
    "From Q2, we can see that the results are not within the [0, 1] range. It's because the vectors coming from this model are not normalized.\n",
    "\n",
    "So we need to normalize them.\n",
    "\n",
    "To do it, we \n",
    "\n",
    "* Compute the norm of a vector\n",
    "* Divide each element by this norm\n",
    "\n",
    "So, for vector `v`, it'll be `v / ||v||`\n",
    "\n",
    "In numpy, this is how you do it:\n",
    "\n",
    "```python\n",
    "norm = np.sqrt((v * v).sum())\n",
    "v_norm = v / norm\n",
    "```\n",
    "\n",
    "Let's put it into a function and then compute dot product \n",
    "between normalized vectors. This will give us cosine similarity\n",
    "\n",
    "What's the 75% cosine in the scores?"
   ],
   "id": "18c44c72805bf933"
  },
  {
   "metadata": {
    "ExecuteTime": {
     "end_time": "2024-07-25T14:25:17.918972Z",
     "start_time": "2024-07-25T14:25:17.915275Z"
    }
   },
   "cell_type": "code",
   "source": [
    "embeddings1 = embeddings1 / np.linalg.norm(embeddings1, axis=1).reshape(-1, 1)\n",
    "embeddings2 = embeddings2 / np.linalg.norm(embeddings2, axis=1).reshape(-1, 1)\n",
    "dot_products = np.einsum('ij,ij->i', embeddings1, embeddings2)\n",
    "print(f\"The 75% cosine in the scores is {np.percentile(dot_products, 75)}\")"
   ],
   "id": "16036098cc16c7f0",
   "outputs": [
    {
     "name": "stdout",
     "output_type": "stream",
     "text": [
      "The 75% cosine in the scores is 0.8362348079681396\n"
     ]
    }
   ],
   "execution_count": 5
  },
  {
   "metadata": {},
   "cell_type": "markdown",
   "source": [
    "## Q4. Rouge\n",
    "\n",
    "Now we will explore an alternative metric - the ROUGE score.  \n",
    "\n",
    "This is a set of metrics that compares two answers based on the overlap of n-grams, word sequences, and word pairs.\n",
    "\n",
    "It can give a more nuanced view of text similarity than just cosine similarity alone.\n",
    "\n",
    "We don't need to implement it ourselves, there's a python package for it:\n",
    "\n",
    "```bash\n",
    "pip install rouge\n",
    "```\n",
    "\n",
    "(The latest version at the moment of writing is `1.0.1`)\n",
    "\n",
    "Let's compute the ROUGE score between the answers at the index 10 of our dataframe (`doc_id=5170565b`)\n",
    "\n",
    "```\n",
    "from rouge import Rouge\n",
    "rouge_scorer = Rouge()\n",
    "\n",
    "scores = rouge_scorer.get_scores(r['answer_llm'], r['answer_orig'])[0]\n",
    "```\n",
    "\n",
    "There are three scores: `rouge-1`, `rouge-2` and `rouge-l`, and precision, recall and F1 score for each.\n",
    "\n",
    "* `rouge-1` - the overlap of unigrams,\n",
    "* `rouge-2` - bigrams,\n",
    "* `rouge-l` - the longest common subsequence\n",
    "\n",
    "What's the F score for `rouge-1`?"
   ],
   "id": "85dc4d44870f187a"
  },
  {
   "metadata": {
    "ExecuteTime": {
     "end_time": "2024-07-25T14:25:18.335290Z",
     "start_time": "2024-07-25T14:25:17.919768Z"
    }
   },
   "cell_type": "code",
   "source": [
    "rouge_scorer = Rouge()\n",
    "score = rouge_scorer.get_scores(df['answer_llm'], df['answer_orig'])[10]\n",
    "print(f\"The F score for 'rouge-1' is {score['rouge-1']['f']}\")"
   ],
   "id": "f2205c4215d1d091",
   "outputs": [
    {
     "name": "stdout",
     "output_type": "stream",
     "text": [
      "The F score for 'rouge-1' is 0.45454544954545456\n"
     ]
    }
   ],
   "execution_count": 6
  },
  {
   "metadata": {},
   "cell_type": "markdown",
   "source": [
    "## Q5. Average rouge score\n",
    "\n",
    "Let's compute the average F-score between `rouge-1`, `rouge-2` and `rouge-l` for the same record from Q4"
   ],
   "id": "876527007d688375"
  },
  {
   "metadata": {
    "ExecuteTime": {
     "end_time": "2024-07-25T14:25:18.338967Z",
     "start_time": "2024-07-25T14:25:18.336086Z"
    }
   },
   "cell_type": "code",
   "source": [
    "avg_score = np.mean([score[\"rouge-1\"][\"f\"], score[\"rouge-2\"][\"f\"], score[\"rouge-l\"][\"f\"]])\n",
    "print(f\"The average between rouge-1, rouge-2 and rouge-l for the same record from Q4 is {avg_score}\")"
   ],
   "id": "e544766e1ef3df2c",
   "outputs": [
    {
     "name": "stdout",
     "output_type": "stream",
     "text": [
      "The average between rouge-1, rouge-2 and rouge-l for the same record from Q4 is 0.35490034990035496\n"
     ]
    }
   ],
   "execution_count": 7
  },
  {
   "metadata": {},
   "cell_type": "markdown",
   "source": [
    "## Q6. Average rouge score for all the data points\n",
    "\n",
    "Now let's compute the F-score for all the records and create a dataframe from them.\n",
    "\n",
    "What's the average F-score in `rouge_2` across all the records?"
   ],
   "id": "5683dc12946bfd7e"
  },
  {
   "metadata": {
    "ExecuteTime": {
     "end_time": "2024-07-25T14:25:18.766395Z",
     "start_time": "2024-07-25T14:25:18.339700Z"
    }
   },
   "cell_type": "code",
   "source": [
    "scores = rouge_scorer.get_scores(df['answer_llm'], df['answer_orig'])\n",
    "rouge_2 = [score[\"rouge-2\"][\"f\"] for score in scores]\n",
    "print(f\"The average rouge_2 across all the records is {np.mean(rouge_2)}\")"
   ],
   "id": "e93975d6ef5307b3",
   "outputs": [
    {
     "name": "stdout",
     "output_type": "stream",
     "text": [
      "The average rouge_2 across all the records is 0.20696501983423318\n"
     ]
    }
   ],
   "execution_count": 8
  },
  {
   "metadata": {},
   "cell_type": "markdown",
   "source": [
    "## Submit the results\n",
    "\n",
    "* Submit your results here: https://courses.datatalks.club/llm-zoomcamp-2024/homework/hw4\n",
    "* It's possible that your answers won't match exactly. If it's the case, select the closest one."
   ],
   "id": "3b50458b64706d26"
  }
 ],
 "metadata": {
  "kernelspec": {
   "display_name": "Python 3",
   "language": "python",
   "name": "python3"
  },
  "language_info": {
   "codemirror_mode": {
    "name": "ipython",
    "version": 2
   },
   "file_extension": ".py",
   "mimetype": "text/x-python",
   "name": "python",
   "nbconvert_exporter": "python",
   "pygments_lexer": "ipython2",
   "version": "2.7.6"
  }
 },
 "nbformat": 4,
 "nbformat_minor": 5
}
