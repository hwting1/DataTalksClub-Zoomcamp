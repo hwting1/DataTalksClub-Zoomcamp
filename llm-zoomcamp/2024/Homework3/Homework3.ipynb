{
 "cells": [
  {
   "metadata": {},
   "cell_type": "markdown",
   "source": [
    "## Homework: Vector Search\n",
    "\n",
    "In this homework, we'll experiemnt with vector with and without Elasticsearch\n",
    "\n",
    "> It's possible that your answers won't match exactly. If it's the case, select the closest one."
   ],
   "id": "40fb2b1d9c7aab"
  },
  {
   "metadata": {
    "ExecuteTime": {
     "end_time": "2024-07-18T15:22:12.223328Z",
     "start_time": "2024-07-18T15:22:10.341372Z"
    }
   },
   "cell_type": "code",
   "source": [
    "import json\n",
    "from tqdm import tqdm\n",
    "import numpy as np\n",
    "import pandas as pd\n",
    "from elasticsearch import Elasticsearch\n",
    "from sentence_transformers import SentenceTransformer"
   ],
   "id": "initial_id",
   "outputs": [],
   "execution_count": 1
  },
  {
   "metadata": {},
   "cell_type": "markdown",
   "source": [
    "## Q1. Getting the embeddings model\n",
    "\n",
    "First, we will get the embeddings model `multi-qa-distilbert-cos-v1` from\n",
    "[the Sentence Transformer library](https://www.sbert.net/docs/sentence_transformer/pretrained_models.html#model-overview)\n",
    "\n",
    "```bash\n",
    "from sentence_transformers import SentenceTransformer\n",
    "embedding_model = SentenceTransformer(model_name)\n",
    "```\n",
    "\n",
    "Create the embedding for this user question:\n",
    "\n",
    "```python\n",
    "user_question = \"I just discovered the course. Can I still join it?\"\n",
    "```\n",
    "\n",
    "What's the first value of the resulting vector?"
   ],
   "id": "57a7a322e1213b6b"
  },
  {
   "metadata": {
    "ExecuteTime": {
     "end_time": "2024-07-18T15:22:15.512181Z",
     "start_time": "2024-07-18T15:22:12.224494Z"
    }
   },
   "cell_type": "code",
   "source": [
    "model_name = \"multi-qa-distilbert-cos-v1\"\n",
    "embedding_model = SentenceTransformer(model_name, device=\"cuda\")\n",
    "user_question = \"I just discovered the course. Can I still join it?\"\n",
    "v = embedding_model.encode(user_question)\n",
    "print(f\"The first value of the resulting vector is {v[0]}\")"
   ],
   "id": "6a672522fd5612f6",
   "outputs": [
    {
     "name": "stderr",
     "output_type": "stream",
     "text": [
      "/home/hwting/anaconda3/envs/rapids/lib/python3.11/site-packages/huggingface_hub/file_download.py:1132: FutureWarning: `resume_download` is deprecated and will be removed in version 1.0.0. Downloads always resume when possible. If you want to force a new download, use `force_download=True`.\n",
      "  warnings.warn(\n"
     ]
    },
    {
     "name": "stdout",
     "output_type": "stream",
     "text": [
      "The first value of the resulting vector is 0.07822262495756149\n"
     ]
    }
   ],
   "execution_count": 2
  },
  {
   "metadata": {},
   "cell_type": "markdown",
   "source": [
    "## Prepare the documents\n",
    "\n",
    "Now we will create the embeddings for the documents.\n",
    "\n",
    "Load the documents with ids that we prepared in the module:\n",
    "\n",
    "```python\n",
    "import requests \n",
    "\n",
    "base_url = 'https://github.com/DataTalksClub/llm-zoomcamp/blob/main'\n",
    "relative_url = '03-vector-search/eval/documents-with-ids.json'\n",
    "docs_url = f'{base_url}/{relative_url}?raw=1'\n",
    "docs_response = requests.get(docs_url)\n",
    "documents = docs_response.json()\n",
    "```\n",
    "\n",
    "We will use only a subset of the questions - the questions\n",
    "for `\"machine-learning-zoomcamp\"`. After filtering, you should\n",
    "have only 375 documents"
   ],
   "id": "e0e980f1be955b00"
  },
  {
   "metadata": {
    "ExecuteTime": {
     "end_time": "2024-07-18T15:22:15.519094Z",
     "start_time": "2024-07-18T15:22:15.514186Z"
    }
   },
   "cell_type": "code",
   "source": [
    "with open('documents-with-ids.json', 'rt') as f_in:\n",
    "    docs = json.load(f_in)\n",
    "documents = [doc for doc in docs if doc[\"course\"] == \"machine-learning-zoomcamp\"]"
   ],
   "id": "c76d953386030263",
   "outputs": [],
   "execution_count": 3
  },
  {
   "metadata": {},
   "cell_type": "markdown",
   "source": [
    "## Q2. Creating the embeddings\n",
    "\n",
    "Now for each document, we will create an embedding for both question and answer fields.\n",
    "\n",
    "We want to put all of them into a single matrix `X`:\n",
    "\n",
    "- Create a list `embeddings` \n",
    "- Iterate over each document \n",
    "- `qa_text = f'{question} {text}'`\n",
    "- compute the embedding for `qa_text`, append to `embeddings`\n",
    "- At the end, let `X = np.array(embeddings)` (`import numpy as np`) \n",
    "\n",
    "What's the shape of X? (`X.shape`). Include the parantheses. "
   ],
   "id": "dbc6741cc36a4b49"
  },
  {
   "metadata": {
    "ExecuteTime": {
     "end_time": "2024-07-18T15:22:17.111052Z",
     "start_time": "2024-07-18T15:22:15.519897Z"
    }
   },
   "cell_type": "code",
   "source": [
    "embeddings = []\n",
    "for doc in tqdm(documents):\n",
    "    qa_text = f\"{doc['question']} {doc['text']}\"\n",
    "    embed = embedding_model.encode(qa_text)\n",
    "    doc[\"question_text_vector\"] = embed.tolist()\n",
    "    embeddings.append(embed)\n",
    "\n",
    "X = np.array(embeddings)\n",
    "print(f\"The shape of X is {X.shape}\")"
   ],
   "id": "431b93bd4c0f8243",
   "outputs": [
    {
     "name": "stderr",
     "output_type": "stream",
     "text": [
      "100%|██████████| 375/375 [00:01<00:00, 238.94it/s]"
     ]
    },
    {
     "name": "stdout",
     "output_type": "stream",
     "text": [
      "The shape of X is (375, 768)\n"
     ]
    },
    {
     "name": "stderr",
     "output_type": "stream",
     "text": [
      "\n"
     ]
    }
   ],
   "execution_count": 4
  },
  {
   "metadata": {},
   "cell_type": "markdown",
   "source": [
    "## Q3. Search\n",
    "\n",
    "We have the embeddings and the query vector. Now let's compute the \n",
    "cosine similarity between the vector from Q1 (let's call it `v`) and the matrix from Q2. \n",
    "\n",
    "The vectors returned from the embedding model are already\n",
    "normalized (you can check it by computing a dot product of a vector\n",
    "with itself - it should return something very close to 1.0). This means that in order\n",
    "to compute the coside similarity, it's sufficient to \n",
    "multiply the matrix `X` by the vector `v`:\n",
    "\n",
    "\n",
    "```python\n",
    "scores = X.dot(v)\n",
    "```\n",
    "\n",
    "What's the highest score in the results?"
   ],
   "id": "4c26df102cfdac82"
  },
  {
   "metadata": {
    "ExecuteTime": {
     "end_time": "2024-07-18T15:22:17.118334Z",
     "start_time": "2024-07-18T15:22:17.112560Z"
    }
   },
   "cell_type": "code",
   "source": [
    "scores = X @ v\n",
    "print(f\"The highest score in the results is {scores.max()}\")"
   ],
   "id": "d025f7f26a3e8f5a",
   "outputs": [
    {
     "name": "stdout",
     "output_type": "stream",
     "text": [
      "The highest score in the results is 0.6506574153900146\n"
     ]
    }
   ],
   "execution_count": 5
  },
  {
   "metadata": {},
   "cell_type": "markdown",
   "source": [
    "## Vector search\n",
    "\n",
    "We can now compute the similarity between a query vector and all the embeddings.\n",
    "\n",
    "Let's use this to implement our own vector search\n",
    "\n",
    "```python\n",
    "class VectorSearchEngine():\n",
    "    def __init__(self, documents, embeddings):\n",
    "        self.documents = documents\n",
    "        self.embeddings = embeddings\n",
    "\n",
    "    def search(self, v_query, num_results=10):\n",
    "        scores = self.embeddings.dot(v_query)\n",
    "        idx = np.argsort(-scores)[:num_results]\n",
    "        return [self.documents[i] for i in idx]\n",
    "\n",
    "search_engine = VectorSearchEngine(documents=documents, embeddings=X)\n",
    "search_engine.search(v, num_results=5)\n",
    "```\n",
    "\n",
    "If you don't understand how the `search` function work:\n",
    "\n",
    "* Ask ChatGTP or any other LLM of your choice to explain the code\n",
    "* Check our pre-course workshop about implementing a search engine [here](https://github.com/alexeygrigorev/build-your-own-search-engine)\n",
    "\n",
    "(Note: you can replace `argsort` with `argpartition` to make it a lot faster)"
   ],
   "id": "c0fb61eee480f1c7"
  },
  {
   "metadata": {
    "ExecuteTime": {
     "end_time": "2024-07-18T15:22:17.136627Z",
     "start_time": "2024-07-18T15:22:17.118991Z"
    }
   },
   "cell_type": "code",
   "source": [
    "class VectorSearchEngine():\n",
    "    def __init__(self, documents, embeddings):\n",
    "        self.documents = documents\n",
    "        self.embeddings = embeddings\n",
    "\n",
    "    def search(self, v_query, num_results=10):\n",
    "        scores = self.embeddings @ v_query\n",
    "        idx = np.argsort(-scores)[:num_results]\n",
    "        return [self.documents[i] for i in idx]\n",
    "\n",
    "search_engine = VectorSearchEngine(documents=documents, embeddings=X)"
   ],
   "id": "6cd28264b28bd3ad",
   "outputs": [],
   "execution_count": 6
  },
  {
   "metadata": {},
   "cell_type": "markdown",
   "source": [
    "## Q4. Hit-rate for our search engine\n",
    "\n",
    "Let's evaluate the performance of our own search engine. We will\n",
    "use the hitrate metric for evaluation.\n",
    "\n",
    "First, load the ground truth dataset:\n",
    "\n",
    "```python\n",
    "import pandas as pd\n",
    "\n",
    "base_url = 'https://github.com/DataTalksClub/llm-zoomcamp/blob/main'\n",
    "relative_url = '03-vector-search/eval/ground-truth-data.csv'\n",
    "ground_truth_url = f'{base_url}/{relative_url}?raw=1'\n",
    "\n",
    "df_ground_truth = pd.read_csv(ground_truth_url)\n",
    "df_ground_truth = df_ground_truth[df_ground_truth.course == 'machine-learning-zoomcamp']\n",
    "ground_truth = df_ground_truth.to_dict(orient='records')\n",
    "```\n",
    "\n",
    "Now use the code from the module to calculate the hitrate of\n",
    "`VectorSearchEngine` with `num_results=5`.\n",
    "\n",
    "What did you get?"
   ],
   "id": "c034e4559b8c1ed7"
  },
  {
   "metadata": {
    "ExecuteTime": {
     "end_time": "2024-07-18T15:22:17.161999Z",
     "start_time": "2024-07-18T15:22:17.137423Z"
    }
   },
   "cell_type": "code",
   "source": [
    "df_ground_truth = pd.read_csv(\"ground-truth-data.csv\")\n",
    "df_ground_truth = df_ground_truth[df_ground_truth[\"course\"] == 'machine-learning-zoomcamp']\n",
    "ground_truth = df_ground_truth.to_dict(orient='records')"
   ],
   "id": "6579eac4c064218e",
   "outputs": [],
   "execution_count": 7
  },
  {
   "metadata": {
    "ExecuteTime": {
     "end_time": "2024-07-18T15:22:28.227087Z",
     "start_time": "2024-07-18T15:22:17.162829Z"
    }
   },
   "cell_type": "code",
   "source": [
    "def hit_rate(relevance_total):\n",
    "    cnt = 0\n",
    "    for line in relevance_total:\n",
    "        if True in line:\n",
    "            cnt += 1\n",
    "            \n",
    "    return cnt / len(relevance_total)\n",
    "\n",
    "def vector_search(q, k):\n",
    "    v_query = embedding_model.encode(q[\"question\"])\n",
    "    return search_engine.search(v_query, num_results=k)\n",
    "\n",
    "def evaluate(ground_truth, search_function, k=5):\n",
    "    relevance_total = []\n",
    "    for q in tqdm(ground_truth):\n",
    "        doc_id = q['document']\n",
    "        results = search_function(q, k)\n",
    "        relevance = [d['id'] == doc_id for d in results]\n",
    "        relevance_total.append(relevance)\n",
    "\n",
    "    return {\"hit_rate\": hit_rate(relevance_total)}\n",
    "\n",
    "metrics = evaluate(ground_truth, vector_search, k=5)\n",
    "print(f\"The hit rate of VectorSearchEngine with num_results=5 is {metrics['hit_rate']}\")"
   ],
   "id": "285f59c2db856d28",
   "outputs": [
    {
     "name": "stderr",
     "output_type": "stream",
     "text": [
      "100%|██████████| 1830/1830 [00:11<00:00, 165.51it/s]"
     ]
    },
    {
     "name": "stdout",
     "output_type": "stream",
     "text": [
      "The hit rate of VectorSearchEngine with num_results=5 is 0.9398907103825137\n"
     ]
    },
    {
     "name": "stderr",
     "output_type": "stream",
     "text": [
      "\n"
     ]
    }
   ],
   "execution_count": 8
  },
  {
   "metadata": {},
   "cell_type": "markdown",
   "source": [
    "## Q5. Indexing with Elasticsearch\n",
    "\n",
    "Now let's index these documents with elasticsearch\n",
    "\n",
    "* Create the index with the same settings as in the module (but change the dimensions)\n",
    "* Index the embeddings (note: you've already computed them)\n",
    "\n",
    "After indexing, let's perform the search of the same query from Q1.\n",
    "\n",
    "What's the ID of the document with the highest score?"
   ],
   "id": "db2fc02de99b3207"
  },
  {
   "metadata": {
    "ExecuteTime": {
     "end_time": "2024-07-18T15:22:33.609779Z",
     "start_time": "2024-07-18T15:22:28.228165Z"
    }
   },
   "cell_type": "code",
   "source": [
    "es_client = Elasticsearch('http://localhost:9200')\n",
    "\n",
    "index_settings = {\n",
    "    \"settings\": {\n",
    "        \"number_of_shards\": 1,\n",
    "        \"number_of_replicas\": 0\n",
    "    },\n",
    "    \"mappings\": {\n",
    "        \"properties\": {\n",
    "            \"text\": {\"type\": \"text\"},\n",
    "            \"section\": {\"type\": \"text\"},\n",
    "            \"question\": {\"type\": \"text\"},\n",
    "            \"course\": {\"type\": \"keyword\"},\n",
    "            \"id\": {\"type\": \"keyword\"},\n",
    "            \"question_text_vector\": {\n",
    "                \"type\": \"dense_vector\",\n",
    "                \"dims\": 768,\n",
    "                \"index\": True,\n",
    "                \"similarity\": \"cosine\"\n",
    "            },\n",
    "        }\n",
    "    }\n",
    "}\n",
    "\n",
    "index_name = \"course-questions\"\n",
    "es_client.indices.delete(index=index_name, ignore_unavailable=True)\n",
    "es_client.indices.create(index=index_name, body=index_settings)\n",
    "for doc in tqdm(documents):\n",
    "    es_client.index(index=index_name, document=doc)"
   ],
   "id": "d119cca39287532f",
   "outputs": [
    {
     "name": "stderr",
     "output_type": "stream",
     "text": [
      "100%|██████████| 375/375 [00:05<00:00, 74.83it/s]\n"
     ]
    }
   ],
   "execution_count": 9
  },
  {
   "metadata": {
    "ExecuteTime": {
     "end_time": "2024-07-18T15:22:33.625074Z",
     "start_time": "2024-07-18T15:22:33.611920Z"
    }
   },
   "cell_type": "code",
   "source": [
    "def elastic_search_knn(vector, k):\n",
    "    knn = {\n",
    "        \"field\": \"question_text_vector\",\n",
    "        \"query_vector\": vector,\n",
    "        \"k\": k,\n",
    "        \"num_candidates\": 10000\n",
    "    }\n",
    "\n",
    "    search_query = {\n",
    "        \"knn\": knn,\n",
    "        \"_source\": [\"text\", \"section\", \"question\", \"course\", \"id\"]\n",
    "    }\n",
    "\n",
    "    es_results = es_client.search(\n",
    "        index=index_name,\n",
    "        body=search_query\n",
    "    )\n",
    "\n",
    "    result_docs = []\n",
    "\n",
    "    for hit in es_results['hits']['hits']:\n",
    "        result_docs.append(hit['_source'])\n",
    "\n",
    "    return result_docs\n",
    "\n",
    "result_docs = elastic_search_knn(v, k=5)\n",
    "print(f\"The ID of the document with the highest score is {result_docs[0]['id']}\")"
   ],
   "id": "2430e3e119386a1f",
   "outputs": [
    {
     "name": "stdout",
     "output_type": "stream",
     "text": [
      "The ID of the document with the highest score is ee58a693\n"
     ]
    }
   ],
   "execution_count": 10
  },
  {
   "metadata": {},
   "cell_type": "markdown",
   "source": [
    "## Q6. Hit-rate for Elasticsearch\n",
    "\n",
    "The search engine we used in Q4 computed the similarity between\n",
    "the query and ALL the vectors in our database. Usually this is \n",
    "not practical, as we may have a lot of data.\n",
    "\n",
    "Elasticsearch uses approximate techniques to make it faster. \n",
    "\n",
    "Let's evaluate how worse the results are when we switch from\n",
    "exact search (as in Q4) to approximate search with Elastic.\n",
    "\n",
    "What's hitrate for our dataset for Elastic?"
   ],
   "id": "b6def4ef776402d7"
  },
  {
   "metadata": {
    "ExecuteTime": {
     "end_time": "2024-07-18T15:22:57.589785Z",
     "start_time": "2024-07-18T15:22:33.625806Z"
    }
   },
   "cell_type": "code",
   "source": [
    "def question_vector_knn(q, k):\n",
    "    question = q['question']\n",
    "    v_q = embedding_model.encode(question)\n",
    "    return elastic_search_knn(v_q, k=k)\n",
    "\n",
    "metrics = evaluate(ground_truth, question_vector_knn, k=5)\n",
    "print(f\"The hit rate for our dataset for Elastic is {metrics['hit_rate']}\")"
   ],
   "id": "c96ecc93ce13a0e2",
   "outputs": [
    {
     "name": "stderr",
     "output_type": "stream",
     "text": [
      "100%|██████████| 1830/1830 [00:23<00:00, 76.42it/s]"
     ]
    },
    {
     "name": "stdout",
     "output_type": "stream",
     "text": [
      "The hit rate for our dataset for Elastic is 0.9398907103825137\n"
     ]
    },
    {
     "name": "stderr",
     "output_type": "stream",
     "text": [
      "\n"
     ]
    }
   ],
   "execution_count": 11
  },
  {
   "metadata": {},
   "cell_type": "markdown",
   "source": [
    "## Submit the results\n",
    "\n",
    "* Submit your results here: https://courses.datatalks.club/llm-zoomcamp-2024/homework/hw3\n",
    "* It's possible that your answers won't match exactly. If it's the case, select the closest one."
   ],
   "id": "ebbc6345619eae01"
  }
 ],
 "metadata": {
  "kernelspec": {
   "display_name": "Python 3",
   "language": "python",
   "name": "python3"
  },
  "language_info": {
   "codemirror_mode": {
    "name": "ipython",
    "version": 2
   },
   "file_extension": ".py",
   "mimetype": "text/x-python",
   "name": "python",
   "nbconvert_exporter": "python",
   "pygments_lexer": "ipython2",
   "version": "2.7.6"
  }
 },
 "nbformat": 4,
 "nbformat_minor": 5
}
